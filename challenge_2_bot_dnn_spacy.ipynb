{
  "nbformat": 4,
  "nbformat_minor": 0,
  "metadata": {
    "colab": {
      "name": "challenge-2-bot_dnn_spacy.ipynb",
      "provenance": [],
      "authorship_tag": "ABX9TyOcmI6wBjYJzAUDGip0tPtW",
      "include_colab_link": true
    },
    "kernelspec": {
      "name": "python3",
      "display_name": "Python 3"
    },
    "language_info": {
      "name": "python"
    },
    "widgets": {
      "application/vnd.jupyter.widget-state+json": {
        "87b4ca05668746c18846173a3a17f3ca": {
          "model_module": "@jupyter-widgets/controls",
          "model_name": "HBoxModel",
          "model_module_version": "1.5.0",
          "state": {
            "_view_name": "HBoxView",
            "_dom_classes": [],
            "_model_name": "HBoxModel",
            "_view_module": "@jupyter-widgets/controls",
            "_model_module_version": "1.5.0",
            "_view_count": null,
            "_view_module_version": "1.5.0",
            "box_style": "",
            "layout": "IPY_MODEL_8811119dafc84f9db408d2018957dc9d",
            "_model_module": "@jupyter-widgets/controls",
            "children": [
              "IPY_MODEL_fd32073386b74e3f896dfa3ab5c37fc7",
              "IPY_MODEL_6b492fe42cd84e2087e932a6f6e1bb88",
              "IPY_MODEL_1eb221c4eeb6470688c5a3e8b7ba8cd2"
            ]
          }
        },
        "8811119dafc84f9db408d2018957dc9d": {
          "model_module": "@jupyter-widgets/base",
          "model_name": "LayoutModel",
          "model_module_version": "1.2.0",
          "state": {
            "_view_name": "LayoutView",
            "grid_template_rows": null,
            "right": null,
            "justify_content": null,
            "_view_module": "@jupyter-widgets/base",
            "overflow": null,
            "_model_module_version": "1.2.0",
            "_view_count": null,
            "flex_flow": null,
            "width": null,
            "min_width": null,
            "border": null,
            "align_items": null,
            "bottom": null,
            "_model_module": "@jupyter-widgets/base",
            "top": null,
            "grid_column": null,
            "overflow_y": null,
            "overflow_x": null,
            "grid_auto_flow": null,
            "grid_area": null,
            "grid_template_columns": null,
            "flex": null,
            "_model_name": "LayoutModel",
            "justify_items": null,
            "grid_row": null,
            "max_height": null,
            "align_content": null,
            "visibility": null,
            "align_self": null,
            "height": null,
            "min_height": null,
            "padding": null,
            "grid_auto_rows": null,
            "grid_gap": null,
            "max_width": null,
            "order": null,
            "_view_module_version": "1.2.0",
            "grid_template_areas": null,
            "object_position": null,
            "object_fit": null,
            "grid_auto_columns": null,
            "margin": null,
            "display": null,
            "left": null
          }
        },
        "fd32073386b74e3f896dfa3ab5c37fc7": {
          "model_module": "@jupyter-widgets/controls",
          "model_name": "HTMLModel",
          "model_module_version": "1.5.0",
          "state": {
            "_view_name": "HTMLView",
            "style": "IPY_MODEL_4fe2fbd001f642bbabac1c68b735c94f",
            "_dom_classes": [],
            "description": "",
            "_model_name": "HTMLModel",
            "placeholder": "​",
            "_view_module": "@jupyter-widgets/controls",
            "_model_module_version": "1.5.0",
            "value": "Downloading https://raw.githubusercontent.com/stanfordnlp/stanza-resources/main/resources_1.2.2.json: ",
            "_view_count": null,
            "_view_module_version": "1.5.0",
            "description_tooltip": null,
            "_model_module": "@jupyter-widgets/controls",
            "layout": "IPY_MODEL_8b5ddde4e1404392b1658278f41a7d86"
          }
        },
        "6b492fe42cd84e2087e932a6f6e1bb88": {
          "model_module": "@jupyter-widgets/controls",
          "model_name": "FloatProgressModel",
          "model_module_version": "1.5.0",
          "state": {
            "_view_name": "ProgressView",
            "style": "IPY_MODEL_d141752785a94e988fb83d56e244dd26",
            "_dom_classes": [],
            "description": "",
            "_model_name": "FloatProgressModel",
            "bar_style": "success",
            "max": 24144,
            "_view_module": "@jupyter-widgets/controls",
            "_model_module_version": "1.5.0",
            "value": 24144,
            "_view_count": null,
            "_view_module_version": "1.5.0",
            "orientation": "horizontal",
            "min": 0,
            "description_tooltip": null,
            "_model_module": "@jupyter-widgets/controls",
            "layout": "IPY_MODEL_c5751ae4f6e64945a4f805bb87186cb8"
          }
        },
        "1eb221c4eeb6470688c5a3e8b7ba8cd2": {
          "model_module": "@jupyter-widgets/controls",
          "model_name": "HTMLModel",
          "model_module_version": "1.5.0",
          "state": {
            "_view_name": "HTMLView",
            "style": "IPY_MODEL_5a0f09d3678746688f5fe07fae762b00",
            "_dom_classes": [],
            "description": "",
            "_model_name": "HTMLModel",
            "placeholder": "​",
            "_view_module": "@jupyter-widgets/controls",
            "_model_module_version": "1.5.0",
            "value": " 140k/? [00:00&lt;00:00, 2.95MB/s]",
            "_view_count": null,
            "_view_module_version": "1.5.0",
            "description_tooltip": null,
            "_model_module": "@jupyter-widgets/controls",
            "layout": "IPY_MODEL_089097e218c34613b93705b918df355a"
          }
        },
        "4fe2fbd001f642bbabac1c68b735c94f": {
          "model_module": "@jupyter-widgets/controls",
          "model_name": "DescriptionStyleModel",
          "model_module_version": "1.5.0",
          "state": {
            "_view_name": "StyleView",
            "_model_name": "DescriptionStyleModel",
            "description_width": "",
            "_view_module": "@jupyter-widgets/base",
            "_model_module_version": "1.5.0",
            "_view_count": null,
            "_view_module_version": "1.2.0",
            "_model_module": "@jupyter-widgets/controls"
          }
        },
        "8b5ddde4e1404392b1658278f41a7d86": {
          "model_module": "@jupyter-widgets/base",
          "model_name": "LayoutModel",
          "model_module_version": "1.2.0",
          "state": {
            "_view_name": "LayoutView",
            "grid_template_rows": null,
            "right": null,
            "justify_content": null,
            "_view_module": "@jupyter-widgets/base",
            "overflow": null,
            "_model_module_version": "1.2.0",
            "_view_count": null,
            "flex_flow": null,
            "width": null,
            "min_width": null,
            "border": null,
            "align_items": null,
            "bottom": null,
            "_model_module": "@jupyter-widgets/base",
            "top": null,
            "grid_column": null,
            "overflow_y": null,
            "overflow_x": null,
            "grid_auto_flow": null,
            "grid_area": null,
            "grid_template_columns": null,
            "flex": null,
            "_model_name": "LayoutModel",
            "justify_items": null,
            "grid_row": null,
            "max_height": null,
            "align_content": null,
            "visibility": null,
            "align_self": null,
            "height": null,
            "min_height": null,
            "padding": null,
            "grid_auto_rows": null,
            "grid_gap": null,
            "max_width": null,
            "order": null,
            "_view_module_version": "1.2.0",
            "grid_template_areas": null,
            "object_position": null,
            "object_fit": null,
            "grid_auto_columns": null,
            "margin": null,
            "display": null,
            "left": null
          }
        },
        "d141752785a94e988fb83d56e244dd26": {
          "model_module": "@jupyter-widgets/controls",
          "model_name": "ProgressStyleModel",
          "model_module_version": "1.5.0",
          "state": {
            "_view_name": "StyleView",
            "_model_name": "ProgressStyleModel",
            "description_width": "",
            "_view_module": "@jupyter-widgets/base",
            "_model_module_version": "1.5.0",
            "_view_count": null,
            "_view_module_version": "1.2.0",
            "bar_color": null,
            "_model_module": "@jupyter-widgets/controls"
          }
        },
        "c5751ae4f6e64945a4f805bb87186cb8": {
          "model_module": "@jupyter-widgets/base",
          "model_name": "LayoutModel",
          "model_module_version": "1.2.0",
          "state": {
            "_view_name": "LayoutView",
            "grid_template_rows": null,
            "right": null,
            "justify_content": null,
            "_view_module": "@jupyter-widgets/base",
            "overflow": null,
            "_model_module_version": "1.2.0",
            "_view_count": null,
            "flex_flow": null,
            "width": null,
            "min_width": null,
            "border": null,
            "align_items": null,
            "bottom": null,
            "_model_module": "@jupyter-widgets/base",
            "top": null,
            "grid_column": null,
            "overflow_y": null,
            "overflow_x": null,
            "grid_auto_flow": null,
            "grid_area": null,
            "grid_template_columns": null,
            "flex": null,
            "_model_name": "LayoutModel",
            "justify_items": null,
            "grid_row": null,
            "max_height": null,
            "align_content": null,
            "visibility": null,
            "align_self": null,
            "height": null,
            "min_height": null,
            "padding": null,
            "grid_auto_rows": null,
            "grid_gap": null,
            "max_width": null,
            "order": null,
            "_view_module_version": "1.2.0",
            "grid_template_areas": null,
            "object_position": null,
            "object_fit": null,
            "grid_auto_columns": null,
            "margin": null,
            "display": null,
            "left": null
          }
        },
        "5a0f09d3678746688f5fe07fae762b00": {
          "model_module": "@jupyter-widgets/controls",
          "model_name": "DescriptionStyleModel",
          "model_module_version": "1.5.0",
          "state": {
            "_view_name": "StyleView",
            "_model_name": "DescriptionStyleModel",
            "description_width": "",
            "_view_module": "@jupyter-widgets/base",
            "_model_module_version": "1.5.0",
            "_view_count": null,
            "_view_module_version": "1.2.0",
            "_model_module": "@jupyter-widgets/controls"
          }
        },
        "089097e218c34613b93705b918df355a": {
          "model_module": "@jupyter-widgets/base",
          "model_name": "LayoutModel",
          "model_module_version": "1.2.0",
          "state": {
            "_view_name": "LayoutView",
            "grid_template_rows": null,
            "right": null,
            "justify_content": null,
            "_view_module": "@jupyter-widgets/base",
            "overflow": null,
            "_model_module_version": "1.2.0",
            "_view_count": null,
            "flex_flow": null,
            "width": null,
            "min_width": null,
            "border": null,
            "align_items": null,
            "bottom": null,
            "_model_module": "@jupyter-widgets/base",
            "top": null,
            "grid_column": null,
            "overflow_y": null,
            "overflow_x": null,
            "grid_auto_flow": null,
            "grid_area": null,
            "grid_template_columns": null,
            "flex": null,
            "_model_name": "LayoutModel",
            "justify_items": null,
            "grid_row": null,
            "max_height": null,
            "align_content": null,
            "visibility": null,
            "align_self": null,
            "height": null,
            "min_height": null,
            "padding": null,
            "grid_auto_rows": null,
            "grid_gap": null,
            "max_width": null,
            "order": null,
            "_view_module_version": "1.2.0",
            "grid_template_areas": null,
            "object_position": null,
            "object_fit": null,
            "grid_auto_columns": null,
            "margin": null,
            "display": null,
            "left": null
          }
        },
        "d1438474dd8242df987a72fded700ad1": {
          "model_module": "@jupyter-widgets/controls",
          "model_name": "HBoxModel",
          "model_module_version": "1.5.0",
          "state": {
            "_view_name": "HBoxView",
            "_dom_classes": [],
            "_model_name": "HBoxModel",
            "_view_module": "@jupyter-widgets/controls",
            "_model_module_version": "1.5.0",
            "_view_count": null,
            "_view_module_version": "1.5.0",
            "box_style": "",
            "layout": "IPY_MODEL_acdcc368a8504f1aadae067731759e52",
            "_model_module": "@jupyter-widgets/controls",
            "children": [
              "IPY_MODEL_3bca8571408c4dd2afe72231208d2128",
              "IPY_MODEL_1f35c184d01e4dc09d8cf81dd4dd59a5",
              "IPY_MODEL_f30db777ff794a168c842658ae160d51"
            ]
          }
        },
        "acdcc368a8504f1aadae067731759e52": {
          "model_module": "@jupyter-widgets/base",
          "model_name": "LayoutModel",
          "model_module_version": "1.2.0",
          "state": {
            "_view_name": "LayoutView",
            "grid_template_rows": null,
            "right": null,
            "justify_content": null,
            "_view_module": "@jupyter-widgets/base",
            "overflow": null,
            "_model_module_version": "1.2.0",
            "_view_count": null,
            "flex_flow": null,
            "width": null,
            "min_width": null,
            "border": null,
            "align_items": null,
            "bottom": null,
            "_model_module": "@jupyter-widgets/base",
            "top": null,
            "grid_column": null,
            "overflow_y": null,
            "overflow_x": null,
            "grid_auto_flow": null,
            "grid_area": null,
            "grid_template_columns": null,
            "flex": null,
            "_model_name": "LayoutModel",
            "justify_items": null,
            "grid_row": null,
            "max_height": null,
            "align_content": null,
            "visibility": null,
            "align_self": null,
            "height": null,
            "min_height": null,
            "padding": null,
            "grid_auto_rows": null,
            "grid_gap": null,
            "max_width": null,
            "order": null,
            "_view_module_version": "1.2.0",
            "grid_template_areas": null,
            "object_position": null,
            "object_fit": null,
            "grid_auto_columns": null,
            "margin": null,
            "display": null,
            "left": null
          }
        },
        "3bca8571408c4dd2afe72231208d2128": {
          "model_module": "@jupyter-widgets/controls",
          "model_name": "HTMLModel",
          "model_module_version": "1.5.0",
          "state": {
            "_view_name": "HTMLView",
            "style": "IPY_MODEL_01920a104c5f4fa08e3a2d33ed97197b",
            "_dom_classes": [],
            "description": "",
            "_model_name": "HTMLModel",
            "placeholder": "​",
            "_view_module": "@jupyter-widgets/controls",
            "_model_module_version": "1.5.0",
            "value": "Downloading http://nlp.stanford.edu/software/stanza/1.2.2/es/default.zip: 100%",
            "_view_count": null,
            "_view_module_version": "1.5.0",
            "description_tooltip": null,
            "_model_module": "@jupyter-widgets/controls",
            "layout": "IPY_MODEL_f4d80959cc4249c4a0e4471ed3fa5513"
          }
        },
        "1f35c184d01e4dc09d8cf81dd4dd59a5": {
          "model_module": "@jupyter-widgets/controls",
          "model_name": "FloatProgressModel",
          "model_module_version": "1.5.0",
          "state": {
            "_view_name": "ProgressView",
            "style": "IPY_MODEL_a2491afe74504dfeb0f7ec6467f3ed01",
            "_dom_classes": [],
            "description": "",
            "_model_name": "FloatProgressModel",
            "bar_style": "success",
            "max": 565553347,
            "_view_module": "@jupyter-widgets/controls",
            "_model_module_version": "1.5.0",
            "value": 565553347,
            "_view_count": null,
            "_view_module_version": "1.5.0",
            "orientation": "horizontal",
            "min": 0,
            "description_tooltip": null,
            "_model_module": "@jupyter-widgets/controls",
            "layout": "IPY_MODEL_88e9d19c2c024471aade0ead5bafd4e9"
          }
        },
        "f30db777ff794a168c842658ae160d51": {
          "model_module": "@jupyter-widgets/controls",
          "model_name": "HTMLModel",
          "model_module_version": "1.5.0",
          "state": {
            "_view_name": "HTMLView",
            "style": "IPY_MODEL_2a77a2d8aecd4581bfe15ce0ab1e1fdd",
            "_dom_classes": [],
            "description": "",
            "_model_name": "HTMLModel",
            "placeholder": "​",
            "_view_module": "@jupyter-widgets/controls",
            "_model_module_version": "1.5.0",
            "value": " 566M/566M [01:43&lt;00:00, 5.30MB/s]",
            "_view_count": null,
            "_view_module_version": "1.5.0",
            "description_tooltip": null,
            "_model_module": "@jupyter-widgets/controls",
            "layout": "IPY_MODEL_110aaf8d92d745daaf527e67d9369037"
          }
        },
        "01920a104c5f4fa08e3a2d33ed97197b": {
          "model_module": "@jupyter-widgets/controls",
          "model_name": "DescriptionStyleModel",
          "model_module_version": "1.5.0",
          "state": {
            "_view_name": "StyleView",
            "_model_name": "DescriptionStyleModel",
            "description_width": "",
            "_view_module": "@jupyter-widgets/base",
            "_model_module_version": "1.5.0",
            "_view_count": null,
            "_view_module_version": "1.2.0",
            "_model_module": "@jupyter-widgets/controls"
          }
        },
        "f4d80959cc4249c4a0e4471ed3fa5513": {
          "model_module": "@jupyter-widgets/base",
          "model_name": "LayoutModel",
          "model_module_version": "1.2.0",
          "state": {
            "_view_name": "LayoutView",
            "grid_template_rows": null,
            "right": null,
            "justify_content": null,
            "_view_module": "@jupyter-widgets/base",
            "overflow": null,
            "_model_module_version": "1.2.0",
            "_view_count": null,
            "flex_flow": null,
            "width": null,
            "min_width": null,
            "border": null,
            "align_items": null,
            "bottom": null,
            "_model_module": "@jupyter-widgets/base",
            "top": null,
            "grid_column": null,
            "overflow_y": null,
            "overflow_x": null,
            "grid_auto_flow": null,
            "grid_area": null,
            "grid_template_columns": null,
            "flex": null,
            "_model_name": "LayoutModel",
            "justify_items": null,
            "grid_row": null,
            "max_height": null,
            "align_content": null,
            "visibility": null,
            "align_self": null,
            "height": null,
            "min_height": null,
            "padding": null,
            "grid_auto_rows": null,
            "grid_gap": null,
            "max_width": null,
            "order": null,
            "_view_module_version": "1.2.0",
            "grid_template_areas": null,
            "object_position": null,
            "object_fit": null,
            "grid_auto_columns": null,
            "margin": null,
            "display": null,
            "left": null
          }
        },
        "a2491afe74504dfeb0f7ec6467f3ed01": {
          "model_module": "@jupyter-widgets/controls",
          "model_name": "ProgressStyleModel",
          "model_module_version": "1.5.0",
          "state": {
            "_view_name": "StyleView",
            "_model_name": "ProgressStyleModel",
            "description_width": "",
            "_view_module": "@jupyter-widgets/base",
            "_model_module_version": "1.5.0",
            "_view_count": null,
            "_view_module_version": "1.2.0",
            "bar_color": null,
            "_model_module": "@jupyter-widgets/controls"
          }
        },
        "88e9d19c2c024471aade0ead5bafd4e9": {
          "model_module": "@jupyter-widgets/base",
          "model_name": "LayoutModel",
          "model_module_version": "1.2.0",
          "state": {
            "_view_name": "LayoutView",
            "grid_template_rows": null,
            "right": null,
            "justify_content": null,
            "_view_module": "@jupyter-widgets/base",
            "overflow": null,
            "_model_module_version": "1.2.0",
            "_view_count": null,
            "flex_flow": null,
            "width": null,
            "min_width": null,
            "border": null,
            "align_items": null,
            "bottom": null,
            "_model_module": "@jupyter-widgets/base",
            "top": null,
            "grid_column": null,
            "overflow_y": null,
            "overflow_x": null,
            "grid_auto_flow": null,
            "grid_area": null,
            "grid_template_columns": null,
            "flex": null,
            "_model_name": "LayoutModel",
            "justify_items": null,
            "grid_row": null,
            "max_height": null,
            "align_content": null,
            "visibility": null,
            "align_self": null,
            "height": null,
            "min_height": null,
            "padding": null,
            "grid_auto_rows": null,
            "grid_gap": null,
            "max_width": null,
            "order": null,
            "_view_module_version": "1.2.0",
            "grid_template_areas": null,
            "object_position": null,
            "object_fit": null,
            "grid_auto_columns": null,
            "margin": null,
            "display": null,
            "left": null
          }
        },
        "2a77a2d8aecd4581bfe15ce0ab1e1fdd": {
          "model_module": "@jupyter-widgets/controls",
          "model_name": "DescriptionStyleModel",
          "model_module_version": "1.5.0",
          "state": {
            "_view_name": "StyleView",
            "_model_name": "DescriptionStyleModel",
            "description_width": "",
            "_view_module": "@jupyter-widgets/base",
            "_model_module_version": "1.5.0",
            "_view_count": null,
            "_view_module_version": "1.2.0",
            "_model_module": "@jupyter-widgets/controls"
          }
        },
        "110aaf8d92d745daaf527e67d9369037": {
          "model_module": "@jupyter-widgets/base",
          "model_name": "LayoutModel",
          "model_module_version": "1.2.0",
          "state": {
            "_view_name": "LayoutView",
            "grid_template_rows": null,
            "right": null,
            "justify_content": null,
            "_view_module": "@jupyter-widgets/base",
            "overflow": null,
            "_model_module_version": "1.2.0",
            "_view_count": null,
            "flex_flow": null,
            "width": null,
            "min_width": null,
            "border": null,
            "align_items": null,
            "bottom": null,
            "_model_module": "@jupyter-widgets/base",
            "top": null,
            "grid_column": null,
            "overflow_y": null,
            "overflow_x": null,
            "grid_auto_flow": null,
            "grid_area": null,
            "grid_template_columns": null,
            "flex": null,
            "_model_name": "LayoutModel",
            "justify_items": null,
            "grid_row": null,
            "max_height": null,
            "align_content": null,
            "visibility": null,
            "align_self": null,
            "height": null,
            "min_height": null,
            "padding": null,
            "grid_auto_rows": null,
            "grid_gap": null,
            "max_width": null,
            "order": null,
            "_view_module_version": "1.2.0",
            "grid_template_areas": null,
            "object_position": null,
            "object_fit": null,
            "grid_auto_columns": null,
            "margin": null,
            "display": null,
            "left": null
          }
        }
      }
    }
  },
  "cells": [
    {
      "cell_type": "markdown",
      "metadata": {
        "id": "view-in-github",
        "colab_type": "text"
      },
      "source": [
        "<a href=\"https://colab.research.google.com/github/franz6ko/natural-lenguage-processing/blob/master/challenge_2_bot_dnn_spacy.ipynb\" target=\"_parent\"><img src=\"https://colab.research.google.com/assets/colab-badge.svg\" alt=\"Open In Colab\"/></a>"
      ]
    },
    {
      "cell_type": "markdown",
      "metadata": {
        "id": "M9S4Inq5Vcj5"
      },
      "source": [
        "## Bot basado en reglas con DNN + Spacy"
      ]
    },
    {
      "cell_type": "markdown",
      "metadata": {
        "id": "oCVZakCzAjGN"
      },
      "source": [
        "### 1 - Dependencias\n",
        "Para poder utilizar Spacy en castellano es necesario agregar la librería \"spacy-stanza\" para lematizar palabras en español."
      ]
    },
    {
      "cell_type": "code",
      "metadata": {
        "id": "Zd8NLa4gsSmT",
        "colab": {
          "base_uri": "https://localhost:8080/"
        },
        "outputId": "0049f29c-cb3d-45dd-8faf-8227efa9180d"
      },
      "source": [
        "# La última versión de spacy-stanza (>1.0) es compatible solo con spacy >=3.0\n",
        "# Nota: spacy 3.0 incorpora al pepiline nlp transformers\n",
        "!pip install -U spacy==3.1 --quiet\n",
        "!pip install -U spacy-stanza==1.0.0 --quiet"
      ],
      "execution_count": 1,
      "outputs": [
        {
          "output_type": "stream",
          "name": "stdout",
          "text": [
            "\u001b[K     |████████████████████████████████| 6.4 MB 8.2 MB/s \n",
            "\u001b[K     |████████████████████████████████| 456 kB 56.1 MB/s \n",
            "\u001b[K     |████████████████████████████████| 42 kB 1.3 MB/s \n",
            "\u001b[K     |████████████████████████████████| 10.1 MB 32.9 MB/s \n",
            "\u001b[K     |████████████████████████████████| 623 kB 69.7 MB/s \n",
            "\u001b[K     |████████████████████████████████| 342 kB 7.0 MB/s \n",
            "\u001b[?25h"
          ]
        }
      ]
    },
    {
      "cell_type": "code",
      "metadata": {
        "id": "kzao7XO9NJAq"
      },
      "source": [
        "import json\n",
        "import string\n",
        "import random \n",
        "import numpy as np\n",
        "\n",
        "import tensorflow as tf \n",
        "from tensorflow.keras import Sequential \n",
        "from tensorflow.keras.layers import Dense, Dropout"
      ],
      "execution_count": 2,
      "outputs": []
    },
    {
      "cell_type": "code",
      "metadata": {
        "id": "Z_ExOb8uvjqK",
        "colab": {
          "base_uri": "https://localhost:8080/",
          "height": 483,
          "referenced_widgets": [
            "87b4ca05668746c18846173a3a17f3ca",
            "8811119dafc84f9db408d2018957dc9d",
            "fd32073386b74e3f896dfa3ab5c37fc7",
            "6b492fe42cd84e2087e932a6f6e1bb88",
            "1eb221c4eeb6470688c5a3e8b7ba8cd2",
            "4fe2fbd001f642bbabac1c68b735c94f",
            "8b5ddde4e1404392b1658278f41a7d86",
            "d141752785a94e988fb83d56e244dd26",
            "c5751ae4f6e64945a4f805bb87186cb8",
            "5a0f09d3678746688f5fe07fae762b00",
            "089097e218c34613b93705b918df355a",
            "d1438474dd8242df987a72fded700ad1",
            "acdcc368a8504f1aadae067731759e52",
            "3bca8571408c4dd2afe72231208d2128",
            "1f35c184d01e4dc09d8cf81dd4dd59a5",
            "f30db777ff794a168c842658ae160d51",
            "01920a104c5f4fa08e3a2d33ed97197b",
            "f4d80959cc4249c4a0e4471ed3fa5513",
            "a2491afe74504dfeb0f7ec6467f3ed01",
            "88e9d19c2c024471aade0ead5bafd4e9",
            "2a77a2d8aecd4581bfe15ce0ab1e1fdd",
            "110aaf8d92d745daaf527e67d9369037"
          ]
        },
        "outputId": "d3dd1ebb-b56d-4afb-ed69-9e971af5b3bf"
      },
      "source": [
        "import stanza\n",
        "import spacy_stanza\n",
        "\n",
        "# Descargar el diccionario en español y armar el pipeline de NLP con spacy\n",
        "stanza.download(\"es\")\n",
        "nlp = spacy_stanza.load_pipeline(\"es\")"
      ],
      "execution_count": 3,
      "outputs": [
        {
          "output_type": "display_data",
          "data": {
            "application/vnd.jupyter.widget-view+json": {
              "model_id": "87b4ca05668746c18846173a3a17f3ca",
              "version_minor": 0,
              "version_major": 2
            },
            "text/plain": [
              "Downloading https://raw.githubusercontent.com/stanfordnlp/stanza-resources/main/resources_1.2.2.json:   0%|   …"
            ]
          },
          "metadata": {}
        },
        {
          "output_type": "stream",
          "name": "stderr",
          "text": [
            "2021-09-27 13:00:15 INFO: Downloading default packages for language: es (Spanish)...\n"
          ]
        },
        {
          "output_type": "display_data",
          "data": {
            "application/vnd.jupyter.widget-view+json": {
              "model_id": "d1438474dd8242df987a72fded700ad1",
              "version_minor": 0,
              "version_major": 2
            },
            "text/plain": [
              "Downloading http://nlp.stanford.edu/software/stanza/1.2.2/es/default.zip:   0%|          | 0.00/566M [00:00<?,…"
            ]
          },
          "metadata": {}
        },
        {
          "output_type": "stream",
          "name": "stderr",
          "text": [
            "2021-09-27 13:02:07 INFO: Finished downloading models and saved to /root/stanza_resources.\n",
            "2021-09-27 13:02:07 INFO: Loading these models for language: es (Spanish):\n",
            "=======================\n",
            "| Processor | Package |\n",
            "-----------------------\n",
            "| tokenize  | ancora  |\n",
            "| mwt       | ancora  |\n",
            "| pos       | ancora  |\n",
            "| lemma     | ancora  |\n",
            "| depparse  | ancora  |\n",
            "| ner       | conll02 |\n",
            "=======================\n",
            "\n",
            "2021-09-27 13:02:07 INFO: Use device: cpu\n",
            "2021-09-27 13:02:07 INFO: Loading: tokenize\n",
            "2021-09-27 13:02:07 INFO: Loading: mwt\n",
            "2021-09-27 13:02:07 INFO: Loading: pos\n",
            "2021-09-27 13:02:07 INFO: Loading: lemma\n",
            "2021-09-27 13:02:07 INFO: Loading: depparse\n",
            "2021-09-27 13:02:08 INFO: Loading: ner\n",
            "2021-09-27 13:02:09 INFO: Done loading processors!\n"
          ]
        }
      ]
    },
    {
      "cell_type": "markdown",
      "metadata": {
        "id": "Z4H9VJAfV25W"
      },
      "source": [
        "### 2 - Preprocesamiento de texto"
      ]
    },
    {
      "cell_type": "code",
      "metadata": {
        "id": "o5uLK4ZBV2Oj"
      },
      "source": [
        "import re\n",
        "import unicodedata\n",
        "\n",
        "def preprocess_clean_text(text):    \n",
        "    # sacar tildes de las palabras\n",
        "    text = unicodedata.normalize('NFKD', text).encode('ascii', 'ignore').decode('utf-8', 'ignore')\n",
        "    # quitar caracteres especiales\n",
        "    pattern = r'[^a-zA-z0-9.,!?/:;\\\"\\'\\s]' \n",
        "    text = re.sub(pattern, '', text)\n",
        "    # quitar caracteres de puntiación\n",
        "    text = ''.join([c for c in text if c not in string.punctuation])\n",
        "    return text"
      ],
      "execution_count": 4,
      "outputs": []
    },
    {
      "cell_type": "markdown",
      "metadata": {
        "id": "siefbvvwWM52"
      },
      "source": [
        "### 3 - Diccionario de entrada"
      ]
    },
    {
      "cell_type": "code",
      "metadata": {
        "id": "msNgol9PWPHx"
      },
      "source": [
        "dataset = {\"intents\": [\n",
        "             {\"tag\": \"bienvenida\",\n",
        "              \"patterns\": [\"Hola\", \"Buenos días\", \"Buenas tardes\"],\n",
        "              \"responses\": [\"Hola, ¿En qué podemos asistirlo?\"],\n",
        "             },\n",
        "            {\"tag\": \"contacto\",\n",
        "              \"patterns\": [\"contacto\", \"número de contacto\", \"número de teléfono\", \"número de whatsapp\", \"whatsapp\", \"celular\", \"llamar\", \"comunicar\", \"hablar\"],\n",
        "              \"responses\": [\"Puede comunicarse con nosotros vía telefónica o Whatsapp al 261-XXX-XXXX\"]\n",
        "             },\n",
        "            {\"tag\": \"presupuesto\",\n",
        "              \"patterns\": [\"Quisiera presupuestar un trabajo\", \"¿Podrían presupuestarme un trabajo?\", \"Necesito un presupuesto\", \"Cuánto me saldría hacer este trabajo\", \"Cuánto cuesta hacer esto\"],\n",
        "              \"responses\": [\"Para presupuestos, comunicarse vía mail a xxx@gmail.com\"]\n",
        "             },\n",
        "            {\"tag\": \"estado de trabajo\",\n",
        "              \"patterns\": [\"Quisiera saber si mi trabajo está listo\", \"Cuándo va a estar listo mi trabajo\", \"Cuándo puedo retirar mi trabajo\", \"estado\"],\n",
        "              \"responses\": [\"Para consultar sobre el estado de un trabajo, ingrese a continuación en número de trabajo y el apellido de la persona que lo encargó\"]\n",
        "             },\n",
        "            {\"tag\": \"pagos\",\n",
        "              \"patterns\": [\"medios de pago\", \"tarjeta de crédito\", \"tarjetas\", \"cuotas\", \"pagar\"],\n",
        "              \"responses\": [\"En el siguiente link podrás encontrar los beneficios y formas de pago vigentes\"]\n",
        "             },\n",
        "            {\"tag\": \"agradecimientos\",\n",
        "              \"patterns\": [ \"Muchas gracias\", \"Gracias\"],\n",
        "              \"responses\": [\"Gracias por confiar en nosotros, estamos atentos a cualquier otra consulta\"]\n",
        "             }\n",
        "]}"
      ],
      "execution_count": 31,
      "outputs": []
    },
    {
      "cell_type": "markdown",
      "metadata": {
        "id": "SEss58y_YN0E"
      },
      "source": [
        "### 4 - Preprocesamiento y armado del dataset"
      ]
    },
    {
      "cell_type": "markdown",
      "metadata": {
        "id": "lZKcq2n_Ze4T"
      },
      "source": [
        "#### Armo mi conjunto de tokens (words) y conjunto de entradas-salidas (pattern-tag)"
      ]
    },
    {
      "cell_type": "code",
      "metadata": {
        "id": "yPkQy7v6YIjw"
      },
      "source": [
        "words = []\n",
        "classes = []\n",
        "doc_X = []\n",
        "doc_y = []\n",
        "\n",
        "for intent in dataset[\"intents\"]:\n",
        "    for pattern in intent[\"patterns\"]:\n",
        "        # trasformar el patron a tokens\n",
        "        tokens = nlp(preprocess_clean_text(pattern.lower()))\n",
        "        # lematizar los tokens\n",
        "        for token in tokens:            \n",
        "            words.append(token.lemma_)\n",
        "        \n",
        "        doc_X.append(pattern)\n",
        "        doc_y.append(intent[\"tag\"])\n",
        "    \n",
        "    # Agregar el tag a las clases\n",
        "    if intent[\"tag\"] not in classes:\n",
        "        classes.append(intent[\"tag\"])\n",
        "\n",
        "# Elminar duplicados con \"set\" y ordenar el vocubulario y las clases por orden alfabético\n",
        "words = sorted(set(words))\n",
        "classes = sorted(set(classes))"
      ],
      "execution_count": 32,
      "outputs": []
    },
    {
      "cell_type": "markdown",
      "metadata": {
        "id": "EkqIGmPyZvwr"
      },
      "source": [
        "#### Usando mi conjunto de tokens (words), aplico OHE a mis entradas. También aplico OHE a mis salidas para obtener un vector de clases"
      ]
    },
    {
      "cell_type": "code",
      "metadata": {
        "id": "vpbJ0guPN2Uq",
        "colab": {
          "base_uri": "https://localhost:8080/"
        },
        "outputId": "b34366cc-7bcb-4ba5-c548-597da6e25e45"
      },
      "source": [
        "# Transformar doc_X en bag of words por oneHotEncoding\n",
        "# Transformar doc_Y en un vector de clases multicategórico con oneHotEncoding\n",
        "\n",
        "training = []\n",
        "out_empty = [0] * len(classes)\n",
        "\n",
        "for idx, doc in enumerate(doc_X):\n",
        "    # Transformar la pregunta (input) en tokens y lematizar\n",
        "    text = []\n",
        "    tokens = nlp(preprocess_clean_text(doc.lower()))\n",
        "    for token in tokens:\n",
        "        text.append(token.lemma_)\n",
        "\n",
        "    # Transformar los tokens en \"Bag of words\" (arrays de 1 y 0)\n",
        "    bow = []\n",
        "    for word in words:\n",
        "        bow.append(1) if word in text else bow.append(0)\n",
        "    \n",
        "    # Crear el array de salida (class output) correspondiente\n",
        "    output_row = list(out_empty)\n",
        "    output_row[classes.index(doc_y[idx])] = 1\n",
        "\n",
        "    print(\"X:\", bow, \"y:\", output_row)\n",
        "    training.append([bow, output_row])\n",
        "\n",
        "# Mezclar los datos\n",
        "random.shuffle(training)\n",
        "training = np.array(training, dtype=object)\n",
        "# Dividir en datos de entrada y salida\n",
        "train_X = np.array(list(training[:, 0]))\n",
        "train_y = np.array(list(training[:, 1]))"
      ],
      "execution_count": 33,
      "outputs": [
        {
          "output_type": "stream",
          "name": "stdout",
          "text": [
            "X: [0, 0, 0, 0, 0, 0, 0, 0, 0, 0, 0, 0, 0, 0, 0, 0, 0, 0, 1, 0, 0, 0, 0, 0, 0, 0, 0, 0, 0, 0, 0, 0, 0, 0, 0, 0, 0, 0, 0, 0, 0, 0, 0, 0] y: [0, 1, 0, 0, 0, 0]\n",
            "X: [0, 1, 0, 0, 0, 0, 0, 0, 0, 0, 0, 1, 0, 0, 0, 0, 0, 0, 0, 0, 0, 0, 0, 0, 0, 0, 0, 0, 0, 0, 0, 0, 0, 0, 0, 0, 0, 0, 0, 0, 0, 0, 0, 0] y: [0, 1, 0, 0, 0, 0]\n",
            "X: [0, 1, 0, 0, 0, 0, 0, 0, 0, 0, 0, 0, 0, 0, 0, 0, 0, 0, 0, 0, 0, 0, 0, 0, 0, 0, 0, 0, 0, 0, 0, 0, 0, 0, 0, 0, 0, 1, 0, 0, 0, 0, 0, 0] y: [0, 1, 0, 0, 0, 0]\n",
            "X: [0, 0, 0, 0, 1, 0, 0, 0, 0, 0, 0, 0, 0, 0, 0, 0, 0, 0, 0, 0, 0, 0, 0, 0, 0, 0, 0, 0, 0, 0, 0, 0, 0, 0, 0, 0, 0, 0, 0, 0, 0, 0, 0, 0] y: [0, 0, 1, 0, 0, 0]\n",
            "X: [0, 0, 0, 0, 1, 0, 0, 0, 0, 0, 1, 0, 0, 0, 0, 0, 0, 0, 0, 0, 0, 0, 0, 0, 0, 0, 1, 0, 0, 0, 0, 0, 0, 0, 0, 0, 0, 0, 0, 0, 0, 0, 0, 0] y: [0, 0, 1, 0, 0, 0]\n",
            "X: [0, 0, 0, 0, 0, 0, 0, 0, 0, 0, 1, 0, 0, 0, 0, 0, 0, 0, 0, 0, 0, 0, 0, 0, 0, 0, 1, 0, 0, 0, 0, 0, 0, 0, 0, 0, 0, 0, 0, 1, 0, 0, 0, 0] y: [0, 0, 1, 0, 0, 0]\n",
            "X: [0, 0, 0, 0, 0, 0, 0, 0, 0, 0, 1, 0, 0, 0, 0, 0, 0, 0, 0, 0, 0, 0, 0, 0, 0, 0, 1, 0, 0, 0, 0, 0, 0, 0, 0, 0, 0, 0, 0, 0, 0, 0, 1, 0] y: [0, 0, 1, 0, 0, 0]\n",
            "X: [0, 0, 0, 0, 0, 0, 0, 0, 0, 0, 0, 0, 0, 0, 0, 0, 0, 0, 0, 0, 0, 0, 0, 0, 0, 0, 0, 0, 0, 0, 0, 0, 0, 0, 0, 0, 0, 0, 0, 0, 0, 0, 1, 0] y: [0, 0, 1, 0, 0, 0]\n",
            "X: [0, 0, 1, 0, 0, 0, 0, 0, 0, 0, 0, 0, 0, 0, 0, 0, 0, 0, 0, 0, 0, 0, 0, 0, 0, 0, 0, 0, 0, 0, 0, 0, 0, 0, 0, 0, 0, 0, 0, 0, 0, 0, 0, 0] y: [0, 0, 1, 0, 0, 0]\n",
            "X: [0, 0, 0, 0, 0, 0, 0, 0, 0, 0, 0, 0, 0, 0, 0, 0, 0, 0, 0, 0, 0, 1, 0, 0, 0, 0, 0, 0, 0, 0, 0, 0, 0, 0, 0, 0, 0, 0, 0, 0, 0, 0, 0, 0] y: [0, 0, 1, 0, 0, 0]\n",
            "X: [0, 0, 0, 1, 0, 0, 0, 0, 0, 0, 0, 0, 0, 0, 0, 0, 0, 0, 0, 0, 0, 0, 0, 0, 0, 0, 0, 0, 0, 0, 0, 0, 0, 0, 0, 0, 0, 0, 0, 0, 0, 0, 0, 0] y: [0, 0, 1, 0, 0, 0]\n",
            "X: [0, 0, 0, 0, 0, 0, 0, 0, 0, 0, 0, 0, 0, 0, 0, 0, 1, 0, 0, 0, 0, 0, 0, 0, 0, 0, 0, 0, 0, 0, 0, 0, 0, 0, 0, 0, 0, 0, 0, 0, 0, 0, 0, 0] y: [0, 0, 1, 0, 0, 0]\n",
            "X: [0, 0, 0, 0, 0, 0, 0, 0, 0, 0, 0, 0, 0, 0, 0, 0, 0, 0, 0, 0, 0, 0, 0, 0, 0, 0, 0, 0, 0, 0, 1, 0, 1, 0, 0, 0, 0, 0, 0, 0, 1, 1, 0, 0] y: [0, 0, 0, 0, 0, 1]\n",
            "X: [0, 0, 0, 0, 0, 0, 0, 0, 0, 0, 0, 0, 0, 0, 0, 0, 0, 0, 0, 0, 0, 0, 0, 0, 0, 0, 0, 0, 0, 1, 1, 0, 0, 0, 0, 0, 0, 0, 0, 0, 1, 1, 0, 1] y: [0, 0, 0, 0, 0, 1]\n",
            "X: [0, 0, 0, 0, 0, 0, 0, 0, 0, 0, 0, 0, 0, 0, 0, 0, 0, 0, 0, 0, 0, 0, 0, 0, 0, 1, 0, 0, 0, 0, 0, 1, 0, 0, 0, 0, 0, 0, 0, 0, 0, 1, 0, 0] y: [0, 0, 0, 0, 0, 1]\n",
            "X: [0, 0, 0, 0, 0, 0, 0, 0, 1, 0, 0, 0, 0, 0, 1, 0, 0, 1, 0, 0, 0, 0, 0, 0, 0, 0, 0, 0, 0, 0, 0, 0, 0, 0, 0, 1, 0, 0, 0, 0, 1, 0, 0, 1] y: [0, 0, 0, 0, 0, 1]\n",
            "X: [0, 0, 0, 0, 0, 1, 0, 0, 1, 0, 0, 0, 0, 0, 1, 0, 0, 1, 0, 0, 0, 0, 0, 0, 0, 0, 0, 0, 0, 0, 0, 0, 0, 0, 0, 0, 0, 0, 0, 0, 0, 0, 0, 0] y: [0, 0, 0, 0, 0, 1]\n",
            "X: [0, 0, 0, 0, 0, 0, 0, 0, 0, 0, 0, 0, 0, 0, 1, 0, 0, 0, 0, 0, 1, 0, 0, 1, 0, 0, 0, 0, 0, 0, 0, 0, 1, 0, 1, 0, 1, 0, 0, 0, 1, 0, 0, 0] y: [0, 0, 0, 1, 0, 0]\n",
            "X: [1, 0, 0, 0, 0, 0, 0, 1, 0, 0, 0, 0, 0, 1, 0, 0, 0, 0, 0, 1, 1, 0, 0, 1, 0, 0, 0, 0, 0, 0, 0, 0, 0, 0, 0, 0, 0, 0, 0, 0, 1, 0, 0, 0] y: [0, 0, 0, 1, 0, 0]\n",
            "X: [0, 0, 0, 0, 0, 0, 0, 1, 0, 0, 0, 0, 0, 0, 0, 0, 0, 0, 0, 0, 0, 0, 0, 1, 0, 0, 0, 0, 0, 1, 0, 0, 0, 1, 0, 0, 0, 0, 0, 0, 1, 0, 0, 0] y: [0, 0, 0, 1, 0, 0]\n",
            "X: [0, 0, 0, 0, 0, 0, 0, 0, 0, 0, 0, 0, 1, 0, 0, 0, 0, 0, 0, 0, 0, 0, 0, 0, 0, 0, 0, 0, 0, 0, 0, 0, 0, 0, 0, 0, 0, 0, 0, 0, 0, 0, 0, 0] y: [0, 0, 0, 1, 0, 0]\n",
            "X: [0, 0, 0, 0, 0, 0, 0, 0, 0, 0, 1, 0, 0, 0, 0, 0, 0, 0, 0, 0, 0, 0, 1, 0, 0, 0, 0, 0, 1, 0, 0, 0, 0, 0, 0, 0, 0, 0, 0, 0, 0, 0, 0, 0] y: [0, 0, 0, 0, 1, 0]\n",
            "X: [0, 0, 0, 0, 0, 0, 1, 0, 0, 0, 1, 0, 0, 0, 0, 0, 0, 0, 0, 0, 0, 0, 0, 0, 0, 0, 0, 0, 0, 0, 0, 0, 0, 0, 0, 0, 0, 0, 1, 0, 0, 0, 0, 0] y: [0, 0, 0, 0, 1, 0]\n",
            "X: [0, 0, 0, 0, 0, 0, 0, 0, 0, 0, 0, 0, 0, 0, 0, 0, 0, 0, 0, 0, 0, 0, 0, 0, 0, 0, 0, 0, 0, 0, 0, 0, 0, 0, 0, 0, 0, 0, 1, 0, 0, 0, 0, 0] y: [0, 0, 0, 0, 1, 0]\n",
            "X: [0, 0, 0, 0, 0, 0, 0, 0, 0, 1, 0, 0, 0, 0, 0, 0, 0, 0, 0, 0, 0, 0, 0, 0, 0, 0, 0, 0, 0, 0, 0, 0, 0, 0, 0, 0, 0, 0, 0, 0, 0, 0, 0, 0] y: [0, 0, 0, 0, 1, 0]\n",
            "X: [0, 0, 0, 0, 0, 0, 0, 0, 0, 0, 0, 0, 0, 0, 0, 0, 0, 0, 0, 0, 0, 0, 0, 0, 0, 0, 0, 1, 0, 0, 0, 0, 0, 0, 0, 0, 0, 0, 0, 0, 0, 0, 0, 0] y: [0, 0, 0, 0, 1, 0]\n",
            "X: [0, 0, 0, 0, 0, 0, 0, 0, 0, 0, 0, 0, 0, 0, 0, 1, 0, 0, 0, 0, 0, 0, 0, 0, 1, 0, 0, 0, 0, 0, 0, 0, 0, 0, 0, 0, 0, 0, 0, 0, 0, 0, 0, 0] y: [1, 0, 0, 0, 0, 0]\n",
            "X: [0, 0, 0, 0, 0, 0, 0, 0, 0, 0, 0, 0, 0, 0, 0, 1, 0, 0, 0, 0, 0, 0, 0, 0, 0, 0, 0, 0, 0, 0, 0, 0, 0, 0, 0, 0, 0, 0, 0, 0, 0, 0, 0, 0] y: [1, 0, 0, 0, 0, 0]\n"
          ]
        }
      ]
    },
    {
      "cell_type": "markdown",
      "metadata": {
        "id": "PzbCvL-lauWr"
      },
      "source": [
        "### 5 - Entrenamiento del modelo"
      ]
    },
    {
      "cell_type": "code",
      "metadata": {
        "colab": {
          "base_uri": "https://localhost:8080/"
        },
        "id": "w_8-rIiwaqmc",
        "outputId": "d29367ec-b966-4e64-e34c-a17114761a3e"
      },
      "source": [
        "model = Sequential()\n",
        "model.add(Dense(128, input_shape=(train_X.shape[1],), activation=\"relu\"))\n",
        "model.add(Dropout(0.5))\n",
        "model.add(Dense(64, activation=\"relu\"))\n",
        "model.add(Dropout(0.5))\n",
        "model.add(Dense(train_y.shape[1], activation = \"softmax\"))\n",
        "\n",
        "model.compile(loss='categorical_crossentropy',\n",
        "              optimizer=\"Adam\",\n",
        "              metrics=[\"accuracy\"])\n",
        "print(model.summary())"
      ],
      "execution_count": 34,
      "outputs": [
        {
          "output_type": "stream",
          "name": "stdout",
          "text": [
            "Model: \"sequential_8\"\n",
            "_________________________________________________________________\n",
            "Layer (type)                 Output Shape              Param #   \n",
            "=================================================================\n",
            "dense_12 (Dense)             (None, 128)               5760      \n",
            "_________________________________________________________________\n",
            "dropout_8 (Dropout)          (None, 128)               0         \n",
            "_________________________________________________________________\n",
            "dense_13 (Dense)             (None, 64)                8256      \n",
            "_________________________________________________________________\n",
            "dropout_9 (Dropout)          (None, 64)                0         \n",
            "_________________________________________________________________\n",
            "dense_14 (Dense)             (None, 6)                 390       \n",
            "=================================================================\n",
            "Total params: 14,406\n",
            "Trainable params: 14,406\n",
            "Non-trainable params: 0\n",
            "_________________________________________________________________\n",
            "None\n"
          ]
        }
      ]
    },
    {
      "cell_type": "code",
      "metadata": {
        "colab": {
          "base_uri": "https://localhost:8080/"
        },
        "id": "ux3WXGMBa1H0",
        "outputId": "1f42c80e-7085-4622-de0b-92cfeddb6695"
      },
      "source": [
        "hist = model.fit(x=train_X, y=train_y, epochs=200)"
      ],
      "execution_count": 35,
      "outputs": [
        {
          "output_type": "stream",
          "name": "stdout",
          "text": [
            "Epoch 1/200\n",
            "1/1 [==============================] - 1s 950ms/step - loss: 1.8696 - accuracy: 0.1071\n",
            "Epoch 2/200\n",
            "1/1 [==============================] - 0s 8ms/step - loss: 1.8299 - accuracy: 0.2500\n",
            "Epoch 3/200\n",
            "1/1 [==============================] - 0s 5ms/step - loss: 1.7737 - accuracy: 0.3214\n",
            "Epoch 4/200\n",
            "1/1 [==============================] - 0s 5ms/step - loss: 1.7891 - accuracy: 0.2857\n",
            "Epoch 5/200\n",
            "1/1 [==============================] - 0s 4ms/step - loss: 1.8178 - accuracy: 0.2500\n",
            "Epoch 6/200\n",
            "1/1 [==============================] - 0s 5ms/step - loss: 1.7591 - accuracy: 0.2500\n",
            "Epoch 7/200\n",
            "1/1 [==============================] - 0s 7ms/step - loss: 1.7442 - accuracy: 0.1786\n",
            "Epoch 8/200\n",
            "1/1 [==============================] - 0s 7ms/step - loss: 1.7010 - accuracy: 0.3214\n",
            "Epoch 9/200\n",
            "1/1 [==============================] - 0s 8ms/step - loss: 1.7349 - accuracy: 0.2857\n",
            "Epoch 10/200\n",
            "1/1 [==============================] - 0s 8ms/step - loss: 1.6790 - accuracy: 0.3571\n",
            "Epoch 11/200\n",
            "1/1 [==============================] - 0s 6ms/step - loss: 1.6578 - accuracy: 0.3929\n",
            "Epoch 12/200\n",
            "1/1 [==============================] - 0s 6ms/step - loss: 1.6427 - accuracy: 0.3929\n",
            "Epoch 13/200\n",
            "1/1 [==============================] - 0s 5ms/step - loss: 1.6502 - accuracy: 0.4643\n",
            "Epoch 14/200\n",
            "1/1 [==============================] - 0s 6ms/step - loss: 1.6246 - accuracy: 0.3571\n",
            "Epoch 15/200\n",
            "1/1 [==============================] - 0s 11ms/step - loss: 1.5854 - accuracy: 0.4643\n",
            "Epoch 16/200\n",
            "1/1 [==============================] - 0s 10ms/step - loss: 1.6438 - accuracy: 0.3929\n",
            "Epoch 17/200\n",
            "1/1 [==============================] - 0s 8ms/step - loss: 1.5870 - accuracy: 0.4286\n",
            "Epoch 18/200\n",
            "1/1 [==============================] - 0s 12ms/step - loss: 1.5959 - accuracy: 0.3929\n",
            "Epoch 19/200\n",
            "1/1 [==============================] - 0s 11ms/step - loss: 1.6099 - accuracy: 0.3929\n",
            "Epoch 20/200\n",
            "1/1 [==============================] - 0s 9ms/step - loss: 1.6145 - accuracy: 0.3571\n",
            "Epoch 21/200\n",
            "1/1 [==============================] - 0s 5ms/step - loss: 1.5022 - accuracy: 0.5357\n",
            "Epoch 22/200\n",
            "1/1 [==============================] - 0s 8ms/step - loss: 1.5273 - accuracy: 0.5714\n",
            "Epoch 23/200\n",
            "1/1 [==============================] - 0s 9ms/step - loss: 1.5105 - accuracy: 0.4643\n",
            "Epoch 24/200\n",
            "1/1 [==============================] - 0s 14ms/step - loss: 1.5082 - accuracy: 0.4643\n",
            "Epoch 25/200\n",
            "1/1 [==============================] - 0s 7ms/step - loss: 1.5454 - accuracy: 0.4286\n",
            "Epoch 26/200\n",
            "1/1 [==============================] - 0s 11ms/step - loss: 1.4679 - accuracy: 0.5357\n",
            "Epoch 27/200\n",
            "1/1 [==============================] - 0s 7ms/step - loss: 1.5431 - accuracy: 0.4286\n",
            "Epoch 28/200\n",
            "1/1 [==============================] - 0s 7ms/step - loss: 1.4556 - accuracy: 0.5000\n",
            "Epoch 29/200\n",
            "1/1 [==============================] - 0s 7ms/step - loss: 1.4550 - accuracy: 0.4286\n",
            "Epoch 30/200\n",
            "1/1 [==============================] - 0s 6ms/step - loss: 1.4736 - accuracy: 0.5000\n",
            "Epoch 31/200\n",
            "1/1 [==============================] - 0s 8ms/step - loss: 1.4154 - accuracy: 0.5000\n",
            "Epoch 32/200\n",
            "1/1 [==============================] - 0s 9ms/step - loss: 1.4010 - accuracy: 0.5714\n",
            "Epoch 33/200\n",
            "1/1 [==============================] - 0s 7ms/step - loss: 1.4543 - accuracy: 0.5714\n",
            "Epoch 34/200\n",
            "1/1 [==============================] - 0s 7ms/step - loss: 1.4233 - accuracy: 0.5000\n",
            "Epoch 35/200\n",
            "1/1 [==============================] - 0s 10ms/step - loss: 1.3696 - accuracy: 0.4643\n",
            "Epoch 36/200\n",
            "1/1 [==============================] - 0s 11ms/step - loss: 1.4290 - accuracy: 0.5357\n",
            "Epoch 37/200\n",
            "1/1 [==============================] - 0s 9ms/step - loss: 1.3708 - accuracy: 0.6429\n",
            "Epoch 38/200\n",
            "1/1 [==============================] - 0s 7ms/step - loss: 1.4593 - accuracy: 0.4286\n",
            "Epoch 39/200\n",
            "1/1 [==============================] - 0s 9ms/step - loss: 1.3240 - accuracy: 0.5357\n",
            "Epoch 40/200\n",
            "1/1 [==============================] - 0s 8ms/step - loss: 1.4027 - accuracy: 0.5000\n",
            "Epoch 41/200\n",
            "1/1 [==============================] - 0s 10ms/step - loss: 1.3099 - accuracy: 0.6071\n",
            "Epoch 42/200\n",
            "1/1 [==============================] - 0s 9ms/step - loss: 1.3691 - accuracy: 0.5000\n",
            "Epoch 43/200\n",
            "1/1 [==============================] - 0s 11ms/step - loss: 1.3282 - accuracy: 0.5357\n",
            "Epoch 44/200\n",
            "1/1 [==============================] - 0s 4ms/step - loss: 1.2595 - accuracy: 0.6429\n",
            "Epoch 45/200\n",
            "1/1 [==============================] - 0s 7ms/step - loss: 1.2691 - accuracy: 0.7143\n",
            "Epoch 46/200\n",
            "1/1 [==============================] - 0s 6ms/step - loss: 1.2112 - accuracy: 0.6071\n",
            "Epoch 47/200\n",
            "1/1 [==============================] - 0s 8ms/step - loss: 1.2673 - accuracy: 0.5000\n",
            "Epoch 48/200\n",
            "1/1 [==============================] - 0s 8ms/step - loss: 1.1997 - accuracy: 0.7143\n",
            "Epoch 49/200\n",
            "1/1 [==============================] - 0s 8ms/step - loss: 1.2537 - accuracy: 0.6786\n",
            "Epoch 50/200\n",
            "1/1 [==============================] - 0s 8ms/step - loss: 1.2513 - accuracy: 0.5714\n",
            "Epoch 51/200\n",
            "1/1 [==============================] - 0s 5ms/step - loss: 1.0869 - accuracy: 0.7143\n",
            "Epoch 52/200\n",
            "1/1 [==============================] - 0s 7ms/step - loss: 1.2063 - accuracy: 0.6429\n",
            "Epoch 53/200\n",
            "1/1 [==============================] - 0s 6ms/step - loss: 1.2009 - accuracy: 0.6429\n",
            "Epoch 54/200\n",
            "1/1 [==============================] - 0s 7ms/step - loss: 1.1850 - accuracy: 0.7857\n",
            "Epoch 55/200\n",
            "1/1 [==============================] - 0s 7ms/step - loss: 1.1102 - accuracy: 0.6429\n",
            "Epoch 56/200\n",
            "1/1 [==============================] - 0s 8ms/step - loss: 1.1206 - accuracy: 0.6429\n",
            "Epoch 57/200\n",
            "1/1 [==============================] - 0s 6ms/step - loss: 1.0783 - accuracy: 0.7143\n",
            "Epoch 58/200\n",
            "1/1 [==============================] - 0s 8ms/step - loss: 1.1076 - accuracy: 0.7143\n",
            "Epoch 59/200\n",
            "1/1 [==============================] - 0s 8ms/step - loss: 1.0992 - accuracy: 0.7857\n",
            "Epoch 60/200\n",
            "1/1 [==============================] - 0s 14ms/step - loss: 1.0337 - accuracy: 0.7857\n",
            "Epoch 61/200\n",
            "1/1 [==============================] - 0s 10ms/step - loss: 1.1305 - accuracy: 0.6786\n",
            "Epoch 62/200\n",
            "1/1 [==============================] - 0s 7ms/step - loss: 1.0720 - accuracy: 0.6786\n",
            "Epoch 63/200\n",
            "1/1 [==============================] - 0s 10ms/step - loss: 1.0044 - accuracy: 0.7857\n",
            "Epoch 64/200\n",
            "1/1 [==============================] - 0s 9ms/step - loss: 1.0300 - accuracy: 0.6786\n",
            "Epoch 65/200\n",
            "1/1 [==============================] - 0s 4ms/step - loss: 0.9579 - accuracy: 0.7143\n",
            "Epoch 66/200\n",
            "1/1 [==============================] - 0s 4ms/step - loss: 1.0416 - accuracy: 0.6071\n",
            "Epoch 67/200\n",
            "1/1 [==============================] - 0s 7ms/step - loss: 0.9507 - accuracy: 0.7500\n",
            "Epoch 68/200\n",
            "1/1 [==============================] - 0s 7ms/step - loss: 0.9616 - accuracy: 0.7143\n",
            "Epoch 69/200\n",
            "1/1 [==============================] - 0s 6ms/step - loss: 0.9796 - accuracy: 0.7143\n",
            "Epoch 70/200\n",
            "1/1 [==============================] - 0s 20ms/step - loss: 0.9689 - accuracy: 0.7500\n",
            "Epoch 71/200\n",
            "1/1 [==============================] - 0s 5ms/step - loss: 0.8860 - accuracy: 0.8571\n",
            "Epoch 72/200\n",
            "1/1 [==============================] - 0s 8ms/step - loss: 0.9298 - accuracy: 0.8214\n",
            "Epoch 73/200\n",
            "1/1 [==============================] - 0s 7ms/step - loss: 0.9620 - accuracy: 0.8214\n",
            "Epoch 74/200\n",
            "1/1 [==============================] - 0s 9ms/step - loss: 0.8454 - accuracy: 0.7857\n",
            "Epoch 75/200\n",
            "1/1 [==============================] - 0s 5ms/step - loss: 0.8691 - accuracy: 0.8571\n",
            "Epoch 76/200\n",
            "1/1 [==============================] - 0s 16ms/step - loss: 0.7799 - accuracy: 0.8571\n",
            "Epoch 77/200\n",
            "1/1 [==============================] - 0s 4ms/step - loss: 0.8015 - accuracy: 0.8571\n",
            "Epoch 78/200\n",
            "1/1 [==============================] - 0s 5ms/step - loss: 0.8948 - accuracy: 0.8214\n",
            "Epoch 79/200\n",
            "1/1 [==============================] - 0s 9ms/step - loss: 0.7914 - accuracy: 0.8214\n",
            "Epoch 80/200\n",
            "1/1 [==============================] - 0s 4ms/step - loss: 0.7388 - accuracy: 0.8929\n",
            "Epoch 81/200\n",
            "1/1 [==============================] - 0s 9ms/step - loss: 0.7863 - accuracy: 0.7857\n",
            "Epoch 82/200\n",
            "1/1 [==============================] - 0s 15ms/step - loss: 0.8526 - accuracy: 0.8571\n",
            "Epoch 83/200\n",
            "1/1 [==============================] - 0s 11ms/step - loss: 0.9168 - accuracy: 0.7143\n",
            "Epoch 84/200\n",
            "1/1 [==============================] - 0s 7ms/step - loss: 0.8434 - accuracy: 0.8571\n",
            "Epoch 85/200\n",
            "1/1 [==============================] - 0s 8ms/step - loss: 0.7314 - accuracy: 0.8214\n",
            "Epoch 86/200\n",
            "1/1 [==============================] - 0s 6ms/step - loss: 0.7455 - accuracy: 0.7857\n",
            "Epoch 87/200\n",
            "1/1 [==============================] - 0s 10ms/step - loss: 0.6539 - accuracy: 0.8929\n",
            "Epoch 88/200\n",
            "1/1 [==============================] - 0s 6ms/step - loss: 0.8034 - accuracy: 0.8214\n",
            "Epoch 89/200\n",
            "1/1 [==============================] - 0s 9ms/step - loss: 0.6947 - accuracy: 0.8214\n",
            "Epoch 90/200\n",
            "1/1 [==============================] - 0s 7ms/step - loss: 0.5642 - accuracy: 0.9286\n",
            "Epoch 91/200\n",
            "1/1 [==============================] - 0s 10ms/step - loss: 0.6926 - accuracy: 0.8929\n",
            "Epoch 92/200\n",
            "1/1 [==============================] - 0s 6ms/step - loss: 0.5899 - accuracy: 1.0000\n",
            "Epoch 93/200\n",
            "1/1 [==============================] - 0s 8ms/step - loss: 0.5495 - accuracy: 0.9643\n",
            "Epoch 94/200\n",
            "1/1 [==============================] - 0s 7ms/step - loss: 0.6506 - accuracy: 0.8929\n",
            "Epoch 95/200\n",
            "1/1 [==============================] - 0s 7ms/step - loss: 0.6505 - accuracy: 0.8571\n",
            "Epoch 96/200\n",
            "1/1 [==============================] - 0s 10ms/step - loss: 0.6327 - accuracy: 0.8571\n",
            "Epoch 97/200\n",
            "1/1 [==============================] - 0s 6ms/step - loss: 0.7519 - accuracy: 0.8214\n",
            "Epoch 98/200\n",
            "1/1 [==============================] - 0s 8ms/step - loss: 0.6357 - accuracy: 0.8571\n",
            "Epoch 99/200\n",
            "1/1 [==============================] - 0s 8ms/step - loss: 0.5949 - accuracy: 0.9286\n",
            "Epoch 100/200\n",
            "1/1 [==============================] - 0s 8ms/step - loss: 0.4728 - accuracy: 0.9643\n",
            "Epoch 101/200\n",
            "1/1 [==============================] - 0s 9ms/step - loss: 0.5002 - accuracy: 0.9643\n",
            "Epoch 102/200\n",
            "1/1 [==============================] - 0s 8ms/step - loss: 0.5682 - accuracy: 0.9286\n",
            "Epoch 103/200\n",
            "1/1 [==============================] - 0s 7ms/step - loss: 0.5420 - accuracy: 0.8929\n",
            "Epoch 104/200\n",
            "1/1 [==============================] - 0s 9ms/step - loss: 0.5011 - accuracy: 0.9286\n",
            "Epoch 105/200\n",
            "1/1 [==============================] - 0s 12ms/step - loss: 0.4681 - accuracy: 1.0000\n",
            "Epoch 106/200\n",
            "1/1 [==============================] - 0s 8ms/step - loss: 0.5022 - accuracy: 0.9643\n",
            "Epoch 107/200\n",
            "1/1 [==============================] - 0s 8ms/step - loss: 0.4450 - accuracy: 0.9643\n",
            "Epoch 108/200\n",
            "1/1 [==============================] - 0s 8ms/step - loss: 0.5099 - accuracy: 0.9286\n",
            "Epoch 109/200\n",
            "1/1 [==============================] - 0s 5ms/step - loss: 0.4927 - accuracy: 0.9286\n",
            "Epoch 110/200\n",
            "1/1 [==============================] - 0s 6ms/step - loss: 0.3649 - accuracy: 0.9643\n",
            "Epoch 111/200\n",
            "1/1 [==============================] - 0s 19ms/step - loss: 0.4785 - accuracy: 0.9286\n",
            "Epoch 112/200\n",
            "1/1 [==============================] - 0s 7ms/step - loss: 0.4245 - accuracy: 0.8929\n",
            "Epoch 113/200\n",
            "1/1 [==============================] - 0s 8ms/step - loss: 0.4648 - accuracy: 0.8571\n",
            "Epoch 114/200\n",
            "1/1 [==============================] - 0s 6ms/step - loss: 0.4839 - accuracy: 0.9286\n",
            "Epoch 115/200\n",
            "1/1 [==============================] - 0s 7ms/step - loss: 0.5326 - accuracy: 0.8571\n",
            "Epoch 116/200\n",
            "1/1 [==============================] - 0s 7ms/step - loss: 0.4052 - accuracy: 0.9286\n",
            "Epoch 117/200\n",
            "1/1 [==============================] - 0s 5ms/step - loss: 0.3683 - accuracy: 0.9643\n",
            "Epoch 118/200\n",
            "1/1 [==============================] - 0s 5ms/step - loss: 0.4275 - accuracy: 0.9286\n",
            "Epoch 119/200\n",
            "1/1 [==============================] - 0s 7ms/step - loss: 0.4072 - accuracy: 0.9286\n",
            "Epoch 120/200\n",
            "1/1 [==============================] - 0s 5ms/step - loss: 0.4626 - accuracy: 0.9643\n",
            "Epoch 121/200\n",
            "1/1 [==============================] - 0s 5ms/step - loss: 0.4026 - accuracy: 1.0000\n",
            "Epoch 122/200\n",
            "1/1 [==============================] - 0s 6ms/step - loss: 0.3632 - accuracy: 0.9643\n",
            "Epoch 123/200\n",
            "1/1 [==============================] - 0s 6ms/step - loss: 0.3927 - accuracy: 0.9286\n",
            "Epoch 124/200\n",
            "1/1 [==============================] - 0s 5ms/step - loss: 0.4305 - accuracy: 0.9643\n",
            "Epoch 125/200\n",
            "1/1 [==============================] - 0s 8ms/step - loss: 0.3727 - accuracy: 1.0000\n",
            "Epoch 126/200\n",
            "1/1 [==============================] - 0s 5ms/step - loss: 0.4300 - accuracy: 0.8929\n",
            "Epoch 127/200\n",
            "1/1 [==============================] - 0s 11ms/step - loss: 0.3298 - accuracy: 0.8929\n",
            "Epoch 128/200\n",
            "1/1 [==============================] - 0s 6ms/step - loss: 0.3063 - accuracy: 1.0000\n",
            "Epoch 129/200\n",
            "1/1 [==============================] - 0s 6ms/step - loss: 0.3168 - accuracy: 1.0000\n",
            "Epoch 130/200\n",
            "1/1 [==============================] - 0s 7ms/step - loss: 0.2886 - accuracy: 1.0000\n",
            "Epoch 131/200\n",
            "1/1 [==============================] - 0s 12ms/step - loss: 0.2621 - accuracy: 1.0000\n",
            "Epoch 132/200\n",
            "1/1 [==============================] - 0s 8ms/step - loss: 0.3461 - accuracy: 0.9643\n",
            "Epoch 133/200\n",
            "1/1 [==============================] - 0s 6ms/step - loss: 0.3023 - accuracy: 0.9643\n",
            "Epoch 134/200\n",
            "1/1 [==============================] - 0s 5ms/step - loss: 0.2990 - accuracy: 0.9643\n",
            "Epoch 135/200\n",
            "1/1 [==============================] - 0s 5ms/step - loss: 0.3170 - accuracy: 0.9643\n",
            "Epoch 136/200\n",
            "1/1 [==============================] - 0s 9ms/step - loss: 0.3308 - accuracy: 0.9643\n",
            "Epoch 137/200\n",
            "1/1 [==============================] - 0s 7ms/step - loss: 0.2115 - accuracy: 1.0000\n",
            "Epoch 138/200\n",
            "1/1 [==============================] - 0s 28ms/step - loss: 0.3628 - accuracy: 0.9643\n",
            "Epoch 139/200\n",
            "1/1 [==============================] - 0s 12ms/step - loss: 0.2549 - accuracy: 1.0000\n",
            "Epoch 140/200\n",
            "1/1 [==============================] - 0s 7ms/step - loss: 0.2531 - accuracy: 0.9643\n",
            "Epoch 141/200\n",
            "1/1 [==============================] - 0s 8ms/step - loss: 0.3500 - accuracy: 1.0000\n",
            "Epoch 142/200\n",
            "1/1 [==============================] - 0s 12ms/step - loss: 0.2944 - accuracy: 1.0000\n",
            "Epoch 143/200\n",
            "1/1 [==============================] - 0s 7ms/step - loss: 0.2567 - accuracy: 1.0000\n",
            "Epoch 144/200\n",
            "1/1 [==============================] - 0s 7ms/step - loss: 0.2907 - accuracy: 0.9643\n",
            "Epoch 145/200\n",
            "1/1 [==============================] - 0s 6ms/step - loss: 0.1845 - accuracy: 0.9643\n",
            "Epoch 146/200\n",
            "1/1 [==============================] - 0s 5ms/step - loss: 0.1556 - accuracy: 1.0000\n",
            "Epoch 147/200\n",
            "1/1 [==============================] - 0s 5ms/step - loss: 0.2172 - accuracy: 1.0000\n",
            "Epoch 148/200\n",
            "1/1 [==============================] - 0s 22ms/step - loss: 0.1944 - accuracy: 1.0000\n",
            "Epoch 149/200\n",
            "1/1 [==============================] - 0s 8ms/step - loss: 0.3349 - accuracy: 0.9286\n",
            "Epoch 150/200\n",
            "1/1 [==============================] - 0s 10ms/step - loss: 0.2583 - accuracy: 0.9643\n",
            "Epoch 151/200\n",
            "1/1 [==============================] - 0s 7ms/step - loss: 0.3374 - accuracy: 0.8929\n",
            "Epoch 152/200\n",
            "1/1 [==============================] - 0s 9ms/step - loss: 0.3213 - accuracy: 1.0000\n",
            "Epoch 153/200\n",
            "1/1 [==============================] - 0s 6ms/step - loss: 0.2113 - accuracy: 1.0000\n",
            "Epoch 154/200\n",
            "1/1 [==============================] - 0s 12ms/step - loss: 0.1778 - accuracy: 1.0000\n",
            "Epoch 155/200\n",
            "1/1 [==============================] - 0s 8ms/step - loss: 0.1634 - accuracy: 1.0000\n",
            "Epoch 156/200\n",
            "1/1 [==============================] - 0s 10ms/step - loss: 0.2118 - accuracy: 1.0000\n",
            "Epoch 157/200\n",
            "1/1 [==============================] - 0s 4ms/step - loss: 0.1962 - accuracy: 1.0000\n",
            "Epoch 158/200\n",
            "1/1 [==============================] - 0s 8ms/step - loss: 0.2149 - accuracy: 1.0000\n",
            "Epoch 159/200\n",
            "1/1 [==============================] - 0s 6ms/step - loss: 0.2129 - accuracy: 1.0000\n",
            "Epoch 160/200\n",
            "1/1 [==============================] - 0s 8ms/step - loss: 0.2361 - accuracy: 1.0000\n",
            "Epoch 161/200\n",
            "1/1 [==============================] - 0s 9ms/step - loss: 0.2010 - accuracy: 1.0000\n",
            "Epoch 162/200\n",
            "1/1 [==============================] - 0s 5ms/step - loss: 0.2400 - accuracy: 1.0000\n",
            "Epoch 163/200\n",
            "1/1 [==============================] - 0s 7ms/step - loss: 0.1526 - accuracy: 1.0000\n",
            "Epoch 164/200\n",
            "1/1 [==============================] - 0s 12ms/step - loss: 0.1672 - accuracy: 1.0000\n",
            "Epoch 165/200\n",
            "1/1 [==============================] - 0s 11ms/step - loss: 0.1672 - accuracy: 1.0000\n",
            "Epoch 166/200\n",
            "1/1 [==============================] - 0s 8ms/step - loss: 0.1544 - accuracy: 1.0000\n",
            "Epoch 167/200\n",
            "1/1 [==============================] - 0s 7ms/step - loss: 0.1012 - accuracy: 1.0000\n",
            "Epoch 168/200\n",
            "1/1 [==============================] - 0s 6ms/step - loss: 0.1928 - accuracy: 0.9643\n",
            "Epoch 169/200\n",
            "1/1 [==============================] - 0s 6ms/step - loss: 0.2191 - accuracy: 0.9643\n",
            "Epoch 170/200\n",
            "1/1 [==============================] - 0s 10ms/step - loss: 0.1636 - accuracy: 1.0000\n",
            "Epoch 171/200\n",
            "1/1 [==============================] - 0s 6ms/step - loss: 0.1277 - accuracy: 1.0000\n",
            "Epoch 172/200\n",
            "1/1 [==============================] - 0s 7ms/step - loss: 0.1305 - accuracy: 1.0000\n",
            "Epoch 173/200\n",
            "1/1 [==============================] - 0s 10ms/step - loss: 0.1561 - accuracy: 1.0000\n",
            "Epoch 174/200\n",
            "1/1 [==============================] - 0s 8ms/step - loss: 0.1762 - accuracy: 1.0000\n",
            "Epoch 175/200\n",
            "1/1 [==============================] - 0s 12ms/step - loss: 0.0733 - accuracy: 1.0000\n",
            "Epoch 176/200\n",
            "1/1 [==============================] - 0s 6ms/step - loss: 0.1868 - accuracy: 0.9643\n",
            "Epoch 177/200\n",
            "1/1 [==============================] - 0s 6ms/step - loss: 0.1966 - accuracy: 1.0000\n",
            "Epoch 178/200\n",
            "1/1 [==============================] - 0s 23ms/step - loss: 0.1269 - accuracy: 1.0000\n",
            "Epoch 179/200\n",
            "1/1 [==============================] - 0s 9ms/step - loss: 0.1491 - accuracy: 0.9643\n",
            "Epoch 180/200\n",
            "1/1 [==============================] - 0s 8ms/step - loss: 0.1387 - accuracy: 1.0000\n",
            "Epoch 181/200\n",
            "1/1 [==============================] - 0s 7ms/step - loss: 0.1273 - accuracy: 1.0000\n",
            "Epoch 182/200\n",
            "1/1 [==============================] - 0s 18ms/step - loss: 0.1657 - accuracy: 0.9643\n",
            "Epoch 183/200\n",
            "1/1 [==============================] - 0s 5ms/step - loss: 0.1156 - accuracy: 1.0000\n",
            "Epoch 184/200\n",
            "1/1 [==============================] - 0s 9ms/step - loss: 0.0858 - accuracy: 1.0000\n",
            "Epoch 185/200\n",
            "1/1 [==============================] - 0s 5ms/step - loss: 0.1089 - accuracy: 1.0000\n",
            "Epoch 186/200\n",
            "1/1 [==============================] - 0s 7ms/step - loss: 0.0983 - accuracy: 1.0000\n",
            "Epoch 187/200\n",
            "1/1 [==============================] - 0s 6ms/step - loss: 0.1747 - accuracy: 1.0000\n",
            "Epoch 188/200\n",
            "1/1 [==============================] - 0s 5ms/step - loss: 0.1816 - accuracy: 1.0000\n",
            "Epoch 189/200\n",
            "1/1 [==============================] - 0s 4ms/step - loss: 0.1508 - accuracy: 0.9643\n",
            "Epoch 190/200\n",
            "1/1 [==============================] - 0s 4ms/step - loss: 0.1359 - accuracy: 1.0000\n",
            "Epoch 191/200\n",
            "1/1 [==============================] - 0s 5ms/step - loss: 0.1413 - accuracy: 1.0000\n",
            "Epoch 192/200\n",
            "1/1 [==============================] - 0s 5ms/step - loss: 0.1044 - accuracy: 1.0000\n",
            "Epoch 193/200\n",
            "1/1 [==============================] - 0s 8ms/step - loss: 0.1155 - accuracy: 1.0000\n",
            "Epoch 194/200\n",
            "1/1 [==============================] - 0s 5ms/step - loss: 0.0714 - accuracy: 1.0000\n",
            "Epoch 195/200\n",
            "1/1 [==============================] - 0s 12ms/step - loss: 0.0803 - accuracy: 1.0000\n",
            "Epoch 196/200\n",
            "1/1 [==============================] - 0s 6ms/step - loss: 0.0758 - accuracy: 1.0000\n",
            "Epoch 197/200\n",
            "1/1 [==============================] - 0s 5ms/step - loss: 0.1456 - accuracy: 0.9643\n",
            "Epoch 198/200\n",
            "1/1 [==============================] - 0s 6ms/step - loss: 0.1401 - accuracy: 0.9643\n",
            "Epoch 199/200\n",
            "1/1 [==============================] - 0s 14ms/step - loss: 0.1852 - accuracy: 0.9643\n",
            "Epoch 200/200\n",
            "1/1 [==============================] - 0s 16ms/step - loss: 0.1534 - accuracy: 1.0000\n"
          ]
        }
      ]
    },
    {
      "cell_type": "code",
      "metadata": {
        "colab": {
          "base_uri": "https://localhost:8080/",
          "height": 265
        },
        "id": "0PNsnYqIa_iM",
        "outputId": "81f38377-96b4-4670-e01d-a5f1ec471f96"
      },
      "source": [
        "import matplotlib.pyplot as plt\n",
        "import seaborn as sns\n",
        "epoch_count = range(1, len(hist.history['accuracy']) + 1)\n",
        "sns.lineplot(x=epoch_count,  y=hist.history['accuracy'], label='train')\n",
        "plt.show()"
      ],
      "execution_count": 36,
      "outputs": [
        {
          "output_type": "display_data",
          "data": {
            "image/png": "[encoded data removed]",
            "text/plain": [
              "<Figure size 432x288 with 1 Axes>"
            ]
          },
          "metadata": {
            "needs_background": "light"
          }
        }
      ]
    },
    {
      "cell_type": "markdown",
      "metadata": {
        "id": "4DtymeGcbjtV"
      },
      "source": [
        "#### Guardar modelo para producción"
      ]
    },
    {
      "cell_type": "code",
      "metadata": {
        "id": "yjLMj1EEbffz"
      },
      "source": [
        "import pickle\n",
        "pickle.dump(words, open('words.pkl','wb'))\n",
        "pickle.dump(classes, open('classes.pkl','wb'))\n",
        "model.save('chatbot_model.h5')"
      ],
      "execution_count": 37,
      "outputs": []
    },
    {
      "cell_type": "markdown",
      "metadata": {
        "id": "TnD1WvhBfVYR"
      },
      "source": [
        "### 6 - Testing y validación"
      ]
    },
    {
      "cell_type": "code",
      "metadata": {
        "id": "kqBdSGt8Orkm"
      },
      "source": [
        "def text_to_tokens(text): \n",
        "    lemma_tokens = []\n",
        "    tokens = nlp(preprocess_clean_text(text.lower()))\n",
        "    for token in tokens:\n",
        "        lemma_tokens.append(token.lemma_)\n",
        "    return lemma_tokens\n",
        "\n",
        "def bag_of_words(text, vocab): \n",
        "    tokens = text_to_tokens(text)\n",
        "    bow = [0] * len(vocab)\n",
        "    for w in tokens: \n",
        "        for idx, word in enumerate(vocab):\n",
        "            if word == w: \n",
        "                bow[idx] = 1\n",
        "    return np.array(bow)\n",
        "\n",
        "def pred_class(text, vocab, labels): \n",
        "    bow = bag_of_words(text, vocab)\n",
        "    words_recognized = sum(bow)\n",
        "\n",
        "    return_list = []\n",
        "    if words_recognized > 0:\n",
        "        result = model.predict(np.array([bow]))[0]\n",
        "        thresh = 0.2\n",
        "        y_pred = [[idx, res] for idx, res in enumerate(result) if res > thresh]\n",
        "        y_pred.sort(key=lambda x: x[1], reverse=True)\n",
        "    \n",
        "        for r in y_pred:\n",
        "            return_list.append(labels[r[0]])\n",
        "    return return_list\n",
        "\n",
        "def get_response(intents_list, intents_json):\n",
        "    tag = intents_list[0]\n",
        "    list_of_intents = intents_json[\"intents\"]\n",
        "    for i in list_of_intents: \n",
        "        if i[\"tag\"] == tag:\n",
        "            result = \"BOT: \" + random.choice(i[\"responses\"])\n",
        "            break\n",
        "    return result"
      ],
      "execution_count": 38,
      "outputs": []
    },
    {
      "cell_type": "code",
      "metadata": {
        "id": "Xp1vXQwdOvl7",
        "colab": {
          "base_uri": "https://localhost:8080/"
        },
        "outputId": "8b8ebd41-6460-4315-8168-0bd5b600b52c"
      },
      "source": [
        "while True:\n",
        "    message = input(\"\")\n",
        "    if message == \"\":\n",
        "      break\n",
        "    intents = pred_class(message, words, classes)\n",
        "    if len(intents) > 0:\n",
        "        result = get_response(intents, dataset)\n",
        "        print(result)\n",
        "    else:\n",
        "        print(\"Perdón, no comprendo la pregunta.\")"
      ],
      "execution_count": 43,
      "outputs": [
        {
          "name": "stdout",
          "output_type": "stream",
          "text": [
            "Buenos días\n",
            "BOT: Hola, ¿En qué podemos asistirlo?\n",
            "Quisiera saber cuanto me costaría hacer unas planchetas\n",
            "BOT: Para presupuestos, comunicarse vía mail a xxx@gmail.com\n",
            "Quiero saber si puedo retirar el trabajo que encargué ayer\n",
            "BOT: Para consultar sobre el estado de un trabajo, ingrese a continuación en número de trabajo y el apellido de la persona que lo encargó\n",
            "Quisiera hablar con alguien de la oficina\n",
            "BOT: Puede comunicarse con nosotros vía telefónica o Whatsapp al 261-XXX-XXXX\n",
            "Aceptan cuotas?\n",
            "BOT: En el siguiente link podrás encontrar los beneficios y formas de pago vigentes\n",
            "Muchas gracias, mañana voy entonces\n",
            "BOT: Gracias por confiar en nosotros, estamos atentos a cualquier otra consulta\n",
            "\n"
          ]
        }
      ]
    },
    {
      "cell_type": "markdown",
      "metadata": {
        "id": "beGoQ0hwfdDm"
      },
      "source": [
        "#### Test con gradio"
      ]
    },
    {
      "cell_type": "code",
      "metadata": {
        "colab": {
          "base_uri": "https://localhost:8080/"
        },
        "id": "3YHy5vaifcol",
        "outputId": "31df2f52-47cd-4549-a9ab-409a0dcbf1ce"
      },
      "source": [
        "import sys\n",
        "!{sys.executable} -m pip install gradio --quiet"
      ],
      "execution_count": 44,
      "outputs": [
        {
          "output_type": "stream",
          "name": "stdout",
          "text": [
            "\u001b[K     |████████████████████████████████| 3.4 MB 8.0 MB/s \n",
            "\u001b[K     |████████████████████████████████| 206 kB 58.2 MB/s \n",
            "\u001b[K     |████████████████████████████████| 1.9 MB 51.8 MB/s \n",
            "\u001b[K     |████████████████████████████████| 3.0 MB 59.4 MB/s \n",
            "\u001b[K     |████████████████████████████████| 961 kB 54.3 MB/s \n",
            "\u001b[K     |████████████████████████████████| 63 kB 2.1 MB/s \n",
            "\u001b[?25h  Building wheel for ffmpy (setup.py) ... \u001b[?25l\u001b[?25hdone\n",
            "  Building wheel for flask-cachebuster (setup.py) ... \u001b[?25l\u001b[?25hdone\n"
          ]
        }
      ]
    },
    {
      "cell_type": "code",
      "metadata": {
        "colab": {
          "base_uri": "https://localhost:8080/",
          "height": 1000
        },
        "id": "JIdaJq4VffH6",
        "outputId": "482df105-3e43-4906-afa6-dce60dee7065"
      },
      "source": [
        "import gradio as gr\n",
        "\n",
        "def bot_response(human_text):\n",
        "    print(human_text)\n",
        "    intents = pred_class(human_text.lower(), words, classes)\n",
        "    if len(intents) > 0:\n",
        "        result = get_response(intents, dataset)\n",
        "    else:\n",
        "        result = \"Perdón, no comprendo la pregunta.\"\n",
        "    print(result)\n",
        "    return result\n",
        "\n",
        "iface = gr.Interface(\n",
        "    fn=bot_response,\n",
        "    inputs=[\"textbox\"],\n",
        "    outputs=\"text\",\n",
        "    layout=\"vertical\")\n",
        "\n",
        "iface.launch(debug=True)"
      ],
      "execution_count": 49,
      "outputs": [
        {
          "output_type": "stream",
          "name": "stdout",
          "text": [
            "Colab notebook detected. This cell will run indefinitely so that you can see errors and logs. To turn off, set debug=False in launch().\n",
            "This share link will expire in 72 hours. If you need a permanent link, visit: https://gradio.app/introducing-hosted\n",
            "Running on External URL: https://37755.gradio.app\n",
            "Interface loading below...\n"
          ]
        },
        {
          "output_type": "display_data",
          "data": {
            "text/html": [
              "\n",
              "        <iframe\n",
              "            width=\"900\"\n",
              "            height=\"500\"\n",
              "            src=\"https://37755.gradio.app\"\n",
              "            frameborder=\"0\"\n",
              "            allowfullscreen\n",
              "        ></iframe>\n",
              "        "
            ],
            "text/plain": [
              "<IPython.lib.display.IFrame at 0x7f5f420d9290>"
            ]
          },
          "metadata": {}
        },
        {
          "output_type": "stream",
          "name": "stdout",
          "text": [
            "Hola\n",
            "BOT: Hola, ¿En qué podemos asistirlo?\n",
            "Necesito que me presupuesten unas campanas de metal\n",
            "BOT: Para presupuestos, comunicarse vía mail a xxx@gmail.com\n",
            "Gracias\n",
            "BOT: Gracias por confiar en nosotros, estamos atentos a cualquier otra consulta\n"
          ]
        },
        {
          "output_type": "error",
          "ename": "KeyboardInterrupt",
          "evalue": "ignored",
          "traceback": [
            "\u001b[0;31m---------------------------------------------------------------------------\u001b[0m",
            "\u001b[0;31mKeyboardInterrupt\u001b[0m                         Traceback (most recent call last)",
            "\u001b[0;32m<ipython-input-49-6c8e0921ffe6>\u001b[0m in \u001b[0;36m<module>\u001b[0;34m()\u001b[0m\n\u001b[1;32m     17\u001b[0m     layout=\"vertical\")\n\u001b[1;32m     18\u001b[0m \u001b[0;34m\u001b[0m\u001b[0m\n\u001b[0;32m---> 19\u001b[0;31m \u001b[0miface\u001b[0m\u001b[0;34m.\u001b[0m\u001b[0mlaunch\u001b[0m\u001b[0;34m(\u001b[0m\u001b[0mdebug\u001b[0m\u001b[0;34m=\u001b[0m\u001b[0;32mTrue\u001b[0m\u001b[0;34m)\u001b[0m\u001b[0;34m\u001b[0m\u001b[0;34m\u001b[0m\u001b[0m\n\u001b[0m",
            "\u001b[0;32m/usr/local/lib/python3.7/dist-packages/gradio/interface.py\u001b[0m in \u001b[0;36mlaunch\u001b[0;34m(self, inline, inbrowser, share, debug, auth, auth_message, private_endpoint, prevent_thread_lock)\u001b[0m\n\u001b[1;32m    585\u001b[0m             \u001b[0;32mwhile\u001b[0m \u001b[0;32mTrue\u001b[0m\u001b[0;34m:\u001b[0m\u001b[0;34m\u001b[0m\u001b[0;34m\u001b[0m\u001b[0m\n\u001b[1;32m    586\u001b[0m                 \u001b[0msys\u001b[0m\u001b[0;34m.\u001b[0m\u001b[0mstdout\u001b[0m\u001b[0;34m.\u001b[0m\u001b[0mflush\u001b[0m\u001b[0;34m(\u001b[0m\u001b[0;34m)\u001b[0m\u001b[0;34m\u001b[0m\u001b[0;34m\u001b[0m\u001b[0m\n\u001b[0;32m--> 587\u001b[0;31m                 \u001b[0mtime\u001b[0m\u001b[0;34m.\u001b[0m\u001b[0msleep\u001b[0m\u001b[0;34m(\u001b[0m\u001b[0;36m0.1\u001b[0m\u001b[0;34m)\u001b[0m\u001b[0;34m\u001b[0m\u001b[0;34m\u001b[0m\u001b[0m\n\u001b[0m\u001b[1;32m    588\u001b[0m         \u001b[0mis_in_interactive_mode\u001b[0m \u001b[0;34m=\u001b[0m \u001b[0mbool\u001b[0m\u001b[0;34m(\u001b[0m\u001b[0mgetattr\u001b[0m\u001b[0;34m(\u001b[0m\u001b[0msys\u001b[0m\u001b[0;34m,\u001b[0m \u001b[0;34m'ps1'\u001b[0m\u001b[0;34m,\u001b[0m \u001b[0msys\u001b[0m\u001b[0;34m.\u001b[0m\u001b[0mflags\u001b[0m\u001b[0;34m.\u001b[0m\u001b[0minteractive\u001b[0m\u001b[0;34m)\u001b[0m\u001b[0;34m)\u001b[0m\u001b[0;34m\u001b[0m\u001b[0;34m\u001b[0m\u001b[0m\n\u001b[1;32m    589\u001b[0m         \u001b[0;32mif\u001b[0m \u001b[0;32mnot\u001b[0m \u001b[0mprevent_thread_lock\u001b[0m \u001b[0;32mand\u001b[0m \u001b[0;32mnot\u001b[0m \u001b[0mis_in_interactive_mode\u001b[0m\u001b[0;34m:\u001b[0m\u001b[0;34m\u001b[0m\u001b[0;34m\u001b[0m\u001b[0m\n",
            "\u001b[0;31mKeyboardInterrupt\u001b[0m: "
          ]
        }
      ]
    },
    {
      "cell_type": "code",
      "metadata": {
        "id": "JHSFtIcegMCm"
      },
      "source": [
        ""
      ],
      "execution_count": null,
      "outputs": []
    }
  ]
}