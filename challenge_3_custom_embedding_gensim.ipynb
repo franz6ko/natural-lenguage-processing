{
  "nbformat": 4,
  "nbformat_minor": 0,
  "metadata": {
    "colab": {
      "name": "challenge-3-custom-embedding-gensim.ipynb",
      "provenance": [],
      "toc_visible": true,
      "authorship_tag": "ABX9TyOti321zh3AHcay0URaeIAK",
      "include_colab_link": true
    },
    "kernelspec": {
      "name": "python3",
      "display_name": "Python 3"
    },
    "language_info": {
      "name": "python"
    }
  },
  "cells": [
    {
      "cell_type": "markdown",
      "metadata": {
        "id": "view-in-github",
        "colab_type": "text"
      },
      "source": [
        "<a href=\"https://colab.research.google.com/github/franz6ko/natural-lenguage-processing/blob/master/challenge_3_custom_embedding_gensim.ipynb\" target=\"_parent\"><img src=\"https://colab.research.google.com/assets/colab-badge.svg\" alt=\"Open In Colab\"/></a>"
      ]
    },
    {
      "cell_type": "markdown",
      "metadata": {
        "id": "yqcYvcXw05qV"
      },
      "source": [
        "El siguiente trabajo consiste en el entrenamiento de embeddings customizados para el análisis de las canciones escritas por diferentes artistas.\n",
        "\n",
        "En primer lugar, se realzia el análsis para un artista en particular (Radiohead) y luego se realiza el ańalisis para varios artistas y se compara con qué relaciona cada uno el concepto de amor en sus canciones.\n",
        "\n",
        "Para ello, se utiliza la biblioteca Gensim."
      ]
    },
    {
      "cell_type": "markdown",
      "metadata": {
        "id": "ool2OMXOIQTm"
      },
      "source": [
        "### Dependencias"
      ]
    },
    {
      "cell_type": "code",
      "metadata": {
        "id": "lFToQs5FK5uZ"
      },
      "source": [
        "import pandas as pd\n",
        "import matplotlib.pyplot as plt\n",
        "import seaborn as sns\n",
        "import numpy as np\n",
        "import os\n",
        "import gdown\n",
        "import multiprocessing\n",
        "\n",
        "from keras.preprocessing.text import text_to_word_sequence\n",
        "from gensim.models import Word2Vec\n",
        "from gensim.models.callbacks import CallbackAny2Vec\n",
        "\n",
        "import plotly.graph_objects as go\n",
        "import plotly.express as px\n",
        "\n",
        "from sklearn.decomposition import IncrementalPCA    \n",
        "from sklearn.manifold import TSNE                                                  "
      ],
      "execution_count": 1,
      "outputs": []
    },
    {
      "cell_type": "markdown",
      "metadata": {
        "id": "i_81CtE2ItD8"
      },
      "source": [
        "### Dataset"
      ]
    },
    {
      "cell_type": "code",
      "metadata": {
        "colab": {
          "base_uri": "https://localhost:8080/"
        },
        "id": "QWIhPx8pIsTp",
        "outputId": "8d69696f-12f4-474a-dcf7-c81bec5b6f7e"
      },
      "source": [
        "# Descarga del dataset de bandas\n",
        "if os.access('./songs_dataset', os.F_OK) is False:\n",
        "    if os.access('simpsons_dataset.zip', os.F_OK) is False:\n",
        "        url = 'https://drive.google.com/uc?id=1VLVgb3fD02XrF2V5OruKvQTOT91juXcs&export=download'\n",
        "        output = 'songs_dataset.zip'\n",
        "        gdown.download(url, output, quiet=False)\n",
        "    !unzip -q songs_dataset.zip   \n",
        "else:\n",
        "    print(\"El dataset ya se encuentra descargado\")"
      ],
      "execution_count": 2,
      "outputs": [
        {
          "output_type": "stream",
          "name": "stderr",
          "text": [
            "Downloading...\n",
            "From: https://drive.google.com/uc?id=1VLVgb3fD02XrF2V5OruKvQTOT91juXcs&export=download\n",
            "To: /content/songs_dataset.zip\n",
            "100%|██████████| 2.09M/2.09M [00:00<00:00, 100MB/s]\n"
          ]
        }
      ]
    },
    {
      "cell_type": "code",
      "metadata": {
        "colab": {
          "base_uri": "https://localhost:8080/"
        },
        "id": "Y9azew4iHDqy",
        "outputId": "2ef57b09-1915-4e47-e5fd-53f33b1e3b55"
      },
      "source": [
        "# Posibles bandas\n",
        "os.listdir(\"./songs_dataset/\")"
      ],
      "execution_count": 3,
      "outputs": [
        {
          "output_type": "execute_result",
          "data": {
            "text/plain": [
              "['janisjoplin.txt',\n",
              " 'johnny-cash.txt',\n",
              " 'al-green.txt',\n",
              " 'patti-smith.txt',\n",
              " 'lorde.txt',\n",
              " 'britney-spears.txt',\n",
              " 'michael-jackson.txt',\n",
              " 'bruce-springsteen.txt',\n",
              " 'bjork.txt',\n",
              " 'bob-dylan.txt',\n",
              " 'amy-winehouse.txt',\n",
              " 'notorious_big.txt',\n",
              " 'prince.txt',\n",
              " 'bruno-mars.txt',\n",
              " 'blink-182.txt',\n",
              " 'bieber.txt',\n",
              " 'paul-simon.txt',\n",
              " 'eminem.txt',\n",
              " 'Kanye_West.txt',\n",
              " 'ludacris.txt',\n",
              " 'adele.txt',\n",
              " 'drake.txt',\n",
              " 'kanye.txt',\n",
              " 'radiohead.txt',\n",
              " 'nicki-minaj.txt',\n",
              " 'nirvana.txt',\n",
              " 'cake.txt',\n",
              " 'beatles.txt',\n",
              " 'dr-seuss.txt',\n",
              " 'notorious-big.txt',\n",
              " 'dj-khaled.txt',\n",
              " 'lin-manuel-miranda.txt',\n",
              " 'missy-elliott.txt',\n",
              " 'kanye-west.txt',\n",
              " 'alicia-keys.txt',\n",
              " 'nickelback.txt',\n",
              " 'leonard-cohen.txt',\n",
              " 'Lil_Wayne.txt',\n",
              " 'dickinson.txt',\n",
              " 'nursery_rhymes.txt',\n",
              " 'jimi-hendrix.txt',\n",
              " 'bob-marley.txt',\n",
              " 'lady-gaga.txt',\n",
              " 'rihanna.txt',\n",
              " 'r-kelly.txt',\n",
              " 'joni-mitchell.txt',\n",
              " 'disney.txt',\n",
              " 'dolly-parton.txt',\n",
              " 'lil-wayne.txt']"
            ]
          },
          "metadata": {},
          "execution_count": 3
        }
      ]
    },
    {
      "cell_type": "code",
      "metadata": {
        "colab": {
          "base_uri": "https://localhost:8080/",
          "height": 206
        },
        "id": "wt7aMJRXI-d3",
        "outputId": "86f37c53-93bc-4ee9-c2ed-5f29fbf952b6"
      },
      "source": [
        "# Selección de banda y armado del dataset utilizando salto de línea para separar las oraciones/docs\n",
        "df = pd.read_csv('songs_dataset/radiohead.txt', sep='/n', header=None, engine='python')\n",
        "df.head()"
      ],
      "execution_count": 163,
      "outputs": [
        {
          "output_type": "execute_result",
          "data": {
            "text/html": [
              "<div>\n",
              "<style scoped>\n",
              "    .dataframe tbody tr th:only-of-type {\n",
              "        vertical-align: middle;\n",
              "    }\n",
              "\n",
              "    .dataframe tbody tr th {\n",
              "        vertical-align: top;\n",
              "    }\n",
              "\n",
              "    .dataframe thead th {\n",
              "        text-align: right;\n",
              "    }\n",
              "</style>\n",
              "<table border=\"1\" class=\"dataframe\">\n",
              "  <thead>\n",
              "    <tr style=\"text-align: right;\">\n",
              "      <th></th>\n",
              "      <th>0</th>\n",
              "    </tr>\n",
              "  </thead>\n",
              "  <tbody>\n",
              "    <tr>\n",
              "      <th>0</th>\n",
              "      <td>Come on, come on</td>\n",
              "    </tr>\n",
              "    <tr>\n",
              "      <th>1</th>\n",
              "      <td>You think you drive me crazy</td>\n",
              "    </tr>\n",
              "    <tr>\n",
              "      <th>2</th>\n",
              "      <td>Come on, come on</td>\n",
              "    </tr>\n",
              "    <tr>\n",
              "      <th>3</th>\n",
              "      <td>You and whose army?</td>\n",
              "    </tr>\n",
              "    <tr>\n",
              "      <th>4</th>\n",
              "      <td>You and your cronies</td>\n",
              "    </tr>\n",
              "  </tbody>\n",
              "</table>\n",
              "</div>"
            ],
            "text/plain": [
              "                              0\n",
              "0              Come on, come on\n",
              "1  You think you drive me crazy\n",
              "2              Come on, come on\n",
              "3           You and whose army?\n",
              "4          You and your cronies"
            ]
          },
          "metadata": {},
          "execution_count": 163
        }
      ]
    },
    {
      "cell_type": "markdown",
      "metadata": {
        "id": "ab94qaFlrA1G"
      },
      "source": [
        "### Tokenización"
      ]
    },
    {
      "cell_type": "code",
      "metadata": {
        "id": "rIsmMWmjrDHd"
      },
      "source": [
        "sentence_tokens = []\n",
        "\n",
        "for _, row in df[:None].iterrows():\n",
        "    sentence_tokens.append(text_to_word_sequence(row[0]))"
      ],
      "execution_count": 164,
      "outputs": []
    },
    {
      "cell_type": "markdown",
      "metadata": {
        "id": "BaXV6nlHr5Aa"
      },
      "source": [
        "### Definición del modelo"
      ]
    },
    {
      "cell_type": "code",
      "metadata": {
        "id": "i0wnDdv9sJ47",
        "colab": {
          "base_uri": "https://localhost:8080/"
        },
        "outputId": "c85f25ca-c829-427b-bc28-bb793b6dd2f0"
      },
      "source": [
        "w2v_model = Word2Vec(min_count=5,    # frecuencia mínima de palabra para incluirla en el vocabulario\n",
        "                     window=2,       # cant de palabras antes y desp de la predicha\n",
        "                     size=500,       # dimensionalidad de los vectores \n",
        "                     negative=20,    # cantidad de negative samples... 0 es no se usa\n",
        "                     workers=1,      # si tienen más cores pueden cambiar este valor\n",
        "                     sg=1)           # modelo 0:CBOW  1:skipgram\n",
        "\n",
        "w2v_model.build_vocab(sentence_tokens)\n",
        "\n",
        "print(\"Cantidad de docs en el corpus:\", w2v_model.corpus_count)\n",
        "print(\"Cantidad de words distintas en el corpus:\", len(w2v_model.wv.vocab))"
      ],
      "execution_count": 173,
      "outputs": [
        {
          "output_type": "stream",
          "name": "stdout",
          "text": [
            "Cantidad de docs en el corpus: 2343\n",
            "Cantidad de words distintas en el corpus: 383\n"
          ]
        }
      ]
    },
    {
      "cell_type": "markdown",
      "metadata": {
        "id": "fC9mZ8DPk-UC"
      },
      "source": [
        "### Entrenamiento del modelo"
      ]
    },
    {
      "cell_type": "markdown",
      "metadata": {
        "id": "oCzqAsdUQrV_"
      },
      "source": [
        "##### Callback para entrenamiento"
      ]
    },
    {
      "cell_type": "code",
      "metadata": {
        "id": "VyDSr1xrQo6G"
      },
      "source": [
        "# Durante el entrenamiento gensim por defecto no informa el \"loss\" en cada época\n",
        "# Sobracargamos el callback para poder tener esta información\n",
        "class callback(CallbackAny2Vec):\n",
        "    \"\"\"\n",
        "    Callback to print loss after each epoch\n",
        "    \"\"\"\n",
        "    def __init__(self):\n",
        "        self.epoch = 0\n",
        "\n",
        "    def on_epoch_end(self, model):\n",
        "        loss = model.get_latest_training_loss()\n",
        "        if self.epoch == 0:\n",
        "            print('Loss after epoch {}: {}'.format(self.epoch, loss))\n",
        "        else:\n",
        "            print('Loss after epoch {}: {}'.format(self.epoch, loss- self.loss_previous_step))\n",
        "        self.epoch += 1\n",
        "        self.loss_previous_step = loss"
      ],
      "execution_count": 166,
      "outputs": []
    },
    {
      "cell_type": "markdown",
      "metadata": {
        "id": "CaTu5bd-Qv5F"
      },
      "source": [
        "##### Entrenamiento"
      ]
    },
    {
      "cell_type": "code",
      "metadata": {
        "id": "QSp-x0PAsq56",
        "colab": {
          "base_uri": "https://localhost:8080/"
        },
        "outputId": "c8165f1a-c34a-42d0-a33d-d0fe1131a9ff"
      },
      "source": [
        "w2v_model.train(sentence_tokens,\n",
        "                 total_examples=w2v_model.corpus_count,\n",
        "                 epochs=50,\n",
        "                 compute_loss = True,\n",
        "                 callbacks=[callback()])"
      ],
      "execution_count": 174,
      "outputs": [
        {
          "output_type": "stream",
          "name": "stdout",
          "text": [
            "Loss after epoch 0: 94211.28125\n",
            "Loss after epoch 1: 40945.046875\n",
            "Loss after epoch 2: 38683.5\n",
            "Loss after epoch 3: 37783.421875\n",
            "Loss after epoch 4: 37884.015625\n",
            "Loss after epoch 5: 37650.328125\n",
            "Loss after epoch 6: 37409.15625\n",
            "Loss after epoch 7: 37720.59375\n",
            "Loss after epoch 8: 36621.875\n",
            "Loss after epoch 9: 36807.46875\n",
            "Loss after epoch 10: 36907.5\n",
            "Loss after epoch 11: 35892.03125\n",
            "Loss after epoch 12: 34883.96875\n",
            "Loss after epoch 13: 34886.1875\n",
            "Loss after epoch 14: 33710.5\n",
            "Loss after epoch 15: 33604.5625\n",
            "Loss after epoch 16: 32046.5\n",
            "Loss after epoch 17: 31435.0625\n",
            "Loss after epoch 18: 31102.375\n",
            "Loss after epoch 19: 30024.9375\n",
            "Loss after epoch 20: 29634.375\n",
            "Loss after epoch 21: 29246.9375\n",
            "Loss after epoch 22: 28999.6875\n",
            "Loss after epoch 23: 27968.5625\n",
            "Loss after epoch 24: 27699.9375\n",
            "Loss after epoch 25: 26688.9375\n",
            "Loss after epoch 26: 27023.25\n",
            "Loss after epoch 27: 26490.0625\n",
            "Loss after epoch 28: 25981.0625\n",
            "Loss after epoch 29: 26654.3125\n",
            "Loss after epoch 30: 23419.6875\n",
            "Loss after epoch 31: 23022.5\n",
            "Loss after epoch 32: 23901.625\n",
            "Loss after epoch 33: 23260.5\n",
            "Loss after epoch 34: 22769.5\n",
            "Loss after epoch 35: 23095.25\n",
            "Loss after epoch 36: 21890.5\n",
            "Loss after epoch 37: 22676.125\n",
            "Loss after epoch 38: 22327.125\n",
            "Loss after epoch 39: 22002.25\n",
            "Loss after epoch 40: 22279.75\n",
            "Loss after epoch 41: 22073.125\n",
            "Loss after epoch 42: 21869.5\n",
            "Loss after epoch 43: 21514.0\n",
            "Loss after epoch 44: 21588.625\n",
            "Loss after epoch 45: 21392.875\n",
            "Loss after epoch 46: 21683.5\n",
            "Loss after epoch 47: 22134.125\n",
            "Loss after epoch 48: 21885.75\n",
            "Loss after epoch 49: 20940.5\n"
          ]
        },
        {
          "output_type": "execute_result",
          "data": {
            "text/plain": [
              "(292489, 590150)"
            ]
          },
          "metadata": {},
          "execution_count": 174
        }
      ]
    },
    {
      "cell_type": "markdown",
      "metadata": {
        "id": "ddT9NVuNlCAe"
      },
      "source": [
        "### Ensayar"
      ]
    },
    {
      "cell_type": "code",
      "metadata": {
        "id": "6cHN9xGLuPEm",
        "colab": {
          "base_uri": "https://localhost:8080/"
        },
        "outputId": "a952cd16-cea8-4182-f6ac-59d5ecf7a526"
      },
      "source": [
        "# Palabras que MÁS se relacionan con...:\n",
        "w2v_model.wv.most_similar(positive=[\"high\"], topn=10)"
      ],
      "execution_count": 175,
      "outputs": [
        {
          "output_type": "execute_result",
          "data": {
            "text/plain": [
              "[('dry', 0.9795689582824707),\n",
              " ('leave', 0.9164912104606628),\n",
              " ('through', 0.9103859663009644),\n",
              " (\"don't\", 0.847144603729248),\n",
              " ('arms', 0.8279566764831543),\n",
              " ('blow', 0.8195592164993286),\n",
              " ('bit', 0.8118125200271606),\n",
              " ('hurt', 0.8114244937896729),\n",
              " ('reach', 0.793999969959259),\n",
              " ('listen', 0.7932729721069336)]"
            ]
          },
          "metadata": {},
          "execution_count": 175
        }
      ]
    },
    {
      "cell_type": "code",
      "metadata": {
        "id": "47HiU5gdkdMq",
        "colab": {
          "base_uri": "https://localhost:8080/"
        },
        "outputId": "c942ffe4-3346-43d3-e27f-f7e1026b790f"
      },
      "source": [
        "# Palabras que MAS se relacionan con...:\n",
        "w2v_model.wv.most_similar(positive=[\"creep\"], topn=10)"
      ],
      "execution_count": 176,
      "outputs": [
        {
          "output_type": "execute_result",
          "data": {
            "text/plain": [
              "[('weirdo', 0.9912425875663757),\n",
              " ('ready', 0.932835578918457),\n",
              " ('stuffed', 0.8118536472320557),\n",
              " ('hole', 0.7754425406455994),\n",
              " ('but', 0.7732406854629517),\n",
              " ('such', 0.7507467269897461),\n",
              " (\"i'm\", 0.7470439672470093),\n",
              " ('bunker', 0.7422137260437012),\n",
              " ('not', 0.7373446226119995),\n",
              " (\"who's\", 0.7308545708656311)]"
            ]
          },
          "metadata": {},
          "execution_count": 176
        }
      ]
    },
    {
      "cell_type": "markdown",
      "metadata": {
        "id": "_g8UVWe6lFmh"
      },
      "source": [
        "### Visualizar agrupación de vectores"
      ]
    },
    {
      "cell_type": "markdown",
      "metadata": {
        "id": "V0Y_Rw1suTJc"
      },
      "source": [
        "#### Reducción de dimensionalidad con TSNE"
      ]
    },
    {
      "cell_type": "code",
      "metadata": {
        "id": "pDxEVXAivjr9"
      },
      "source": [
        "def reduce_dimensions(model):\n",
        "    num_dimensions = 2  \n",
        "\n",
        "    vectors = np.asarray(model.wv.vectors)\n",
        "    labels = np.asarray(model.wv.index2word)  \n",
        "\n",
        "    tsne = TSNE(n_components=num_dimensions, random_state=0)\n",
        "    vectors = tsne.fit_transform(vectors)\n",
        "\n",
        "    x_vals = [v[0] for v in vectors]\n",
        "    y_vals = [v[1] for v in vectors]\n",
        "    return x_vals, y_vals, labels"
      ],
      "execution_count": 177,
      "outputs": []
    },
    {
      "cell_type": "markdown",
      "metadata": {
        "id": "K89CoISMubcb"
      },
      "source": [
        "#### Gráfico"
      ]
    },
    {
      "cell_type": "code",
      "metadata": {
        "id": "NCCXtDpcugmd",
        "colab": {
          "base_uri": "https://localhost:8080/",
          "height": 542
        },
        "outputId": "6ae46a50-0565-4928-cb7e-c2af94c5d0a1"
      },
      "source": [
        "# Graficar los embedddings en 2D\n",
        "x_vals, y_vals, labels = reduce_dimensions(w2v_model)\n",
        "\n",
        "MAX_WORDS=200\n",
        "fig = px.scatter(x=x_vals[:MAX_WORDS], y=y_vals[:MAX_WORDS], text=labels[:MAX_WORDS])\n",
        "fig.show(renderer=\"colab\") # esto para plotly en colab"
      ],
      "execution_count": 178,
      "outputs": [
        {
          "output_type": "display_data",
          "data": {
            "text/html": [
              "<html>\n",
              "<head><meta charset=\"utf-8\" /></head>\n",
              "<body>\n",
              "    <div>\n",
              "            <script src=\"https://cdnjs.cloudflare.com/ajax/libs/mathjax/2.7.5/MathJax.js?config=TeX-AMS-MML_SVG\"></script><script type=\"text/javascript\">if (window.MathJax) {MathJax.Hub.Config({SVG: {font: \"STIX-Web\"}});}</script>\n",
              "                <script type=\"text/javascript\">window.PlotlyConfig = {MathJaxConfig: 'local'};</script>\n",
              "        <script src=\"https://cdn.plot.ly/plotly-latest.min.js\"></script>    \n",
              "            <div id=\"5d448679-d960-4388-87e1-06cf4484a4dc\" class=\"plotly-graph-div\" style=\"height:525px; width:100%;\"></div>\n",
              "            <script type=\"text/javascript\">\n",
              "                \n",
              "                    window.PLOTLYENV=window.PLOTLYENV || {};\n",
              "                    \n",
              "                if (document.getElementById(\"5d448679-d960-4388-87e1-06cf4484a4dc\")) {\n",
              "                    Plotly.newPlot(\n",
              "                        '5d448679-d960-4388-87e1-06cf4484a4dc',\n",
              "                        [{\"hoverlabel\": {\"namelength\": 0}, \"hovertemplate\": \"x=%{x}<br>y=%{y}<br>text=%{text}\", \"legendgroup\": \"\", \"marker\": {\"color\": \"#636efa\", \"symbol\": \"circle\"}, \"mode\": \"markers+text\", \"name\": \"\", \"showlegend\": false, \"text\": [\"the\", \"you\", \"i\", \"and\", \"a\", \"to\", \"me\", \"in\", \"your\", \"it\", \"don't\", \"all\", \"on\", \"is\", \"i'm\", \"of\", \"up\", \"out\", \"no\", \"be\", \"my\", \"we\", \"what\", \"will\", \"it's\", \"not\", \"just\", \"can\", \"this\", \"down\", \"that\", \"are\", \"want\", \"do\", \"get\", \"know\", \"with\", \"so\", \"but\", \"where\", \"like\", \"if\", \"for\", \"alive\", \"come\", \"one\", \"now\", \"they\", \"back\", \"here\", \"take\", \"oh\", \"off\", \"you're\", \"there\", \"i'll\", \"see\", \"again\", \"hurt\", \"from\", \"am\", \"eat\", \"should\", \"when\", \"around\", \"more\", \"got\", \"really\", \"at\", \"let\", \"lies\", \"have\", \"love\", \"as\", \"rain\", \"good\", \"us\", \"go\", \"there's\", \"there'll\", \"yourself\", \"think\", \"too\", \"into\", \"by\", \"everything\", \"arms\", \"wish\", \"leave\", \"best\", \"feel\", \"coming\", \"little\", \"can't\", \"eyes\", \"broken\", \"mess\", \"day\", \"an\", \"run\", \"time\", \"or\", \"make\", \"lost\", \"nothing\", \"head\", \"enough\", \"children\", \"been\", \"truth\", \"light\", \"away\", \"hearts\", \"i've\", \"try\", \"ah\", \"was\", \"wrong\", \"over\", \"gonna\", \"never\", \"could\", \"still\", \"dream\", \"end\", \"before\", \"why\", \"'cause\", \"home\", \"attention\", \"efil\", \"ym\", \"fo\", \"flah\", \"moon\", \"how\", \"you'll\", \"you've\", \"these\", \"inside\", \"myself\", \"first\", \"messed\", \"uptight\", \"right\", \"place\", \"falling\", \"free\", \"face\", \"put\", \"way\", \"yeah\", \"things\", \"keep\", \"who\", \"such\", \"about\", \"its\", \"upon\", \"nice\", \"look\", \"world\", \"special\", \"belong\", \"heart\", \"that's\", \"had\", \"set\", \"then\", \"wears\", \"say\", \"times\", \"fade\", \"ready\", \"ringing\", \"man\", \"him\", \"soul\", \"won't\", \"we're\", \"comes\", \"else\", \"bit\", \"would\", \"believe\", \"dead\", \"happen\", \"left\", \"hell\", \"need\", \"because\", \"two\", \"dry\", \"mine\", \"i'd\", \"walls\", \"always\", \"blame\", \"he\", \"hanging\"], \"type\": \"scatter\", \"x\": [7.5995965003967285, 4.484969139099121, 10.092907905578613, 13.41746711730957, -4.976192474365234, 10.519681930541992, -8.938263893127441, -10.639697074890137, -10.697310447692871, -1.6037352085113525, -9.864583015441895, 4.687935829162598, -0.5666979551315308, 11.337167739868164, -13.139463424682617, 6.666816711425781, 8.450753211975098, 17.7132625579834, -5.9101996421813965, 6.6744232177734375, -6.523748397827148, 7.494786739349365, -9.114237785339355, 7.294153213500977, 2.8759377002716064, 4.980795383453369, -2.757075786590576, 12.94278621673584, 8.186907768249512, 4.147279739379883, 6.081193923950195, 1.249621868133545, 8.998978614807129, 11.953590393066406, 2.6185295581817627, 8.81924819946289, 0.5388467907905579, -4.742891311645508, 1.4144102334976196, 15.151965141296387, 18.061702728271484, 7.14061164855957, 0.2342168539762497, 7.162931442260742, 15.068503379821777, -5.6026177406311035, -1.087141990661621, -5.814089298248291, 14.033286094665527, 12.013307571411133, 10.811655044555664, 19.688053131103516, -16.19173812866211, -6.102409362792969, 0.21887531876564026, -2.6582791805267334, 6.925686836242676, 17.334716796875, -11.681628227233887, -0.8212720155715942, 13.74783992767334, 7.844370365142822, -6.8576459884643555, 7.049953937530518, 2.3860933780670166, -6.6005988121032715, 9.865874290466309, 9.056291580200195, 3.278993844985962, 0.3803386688232422, -7.249617576599121, 8.873859405517578, 3.7383298873901367, 14.980888366699219, -19.149856567382812, 11.681117057800293, 1.2705100774765015, 11.821707725524902, 12.395054817199707, -6.952226161956787, 12.038849830627441, 12.666940689086914, 1.5982497930526733, -12.802176475524902, -7.481448173522949, 10.962272644042969, -11.941582679748535, -1.9933505058288574, -11.381440162658691, 13.837889671325684, 3.099853754043579, -0.642476499080658, -6.504486083984375, 5.250097274780273, -16.193510055541992, -18.52420425415039, 9.517059326171875, -4.8619771003723145, -14.032451629638672, -13.511346817016602, 11.242635726928711, -6.520857810974121, -18.872364044189453, -9.0335693359375, 0.13458140194416046, -8.580904006958008, 12.492483139038086, 8.511207580566406, 4.982184886932373, 9.389540672302246, 8.765406608581543, -14.189044952392578, -19.19059181213379, 2.452174186706543, 13.39537239074707, 19.67715835571289, -2.1594345569610596, 4.010510444641113, -0.3832939565181732, 6.685783386230469, 9.719109535217285, 7.606809616088867, 2.5084543228149414, 2.5489912033081055, 16.27482795715332, -0.6685905456542969, -7.340682506561279, 8.476542472839355, 3.2739603519439697, -15.547454833984375, -18.940845489501953, -18.736345291137695, -18.76266098022461, -18.92871856689453, 18.940959930419922, 15.141887664794922, 8.684871673583984, 4.133915424346924, -7.320641040802002, -13.54150676727295, -8.932443618774414, 8.527717590332031, 10.068506240844727, 6.749802112579346, -18.529706954956055, -18.518592834472656, -14.64637279510498, 3.9553728103637695, -11.482926368713379, -9.676064491271973, 12.013344764709473, 10.366252899169922, -7.450333118438721, -8.367240905761719, 6.611037254333496, -3.224133253097534, -11.244926452636719, -18.479135513305664, 18.928586959838867, 2.1449520587921143, -5.7671332359313965, -1.210755705833435, -3.478123664855957, 10.407347679138184, -12.678922653198242, 6.054035663604736, 11.856330871582031, 3.9468910694122314, -0.8616217970848083, -2.1373326778411865, 11.116987228393555, 11.830641746520996, 17.401350021362305, -12.860614776611328, -6.318196773529053, -0.8506647348403931, -2.921766757965088, -9.027335166931152, 2.670668601989746, -5.539248466491699, 1.4183685779571533, -0.4016713500022888, -11.140488624572754, 8.766895294189453, -8.287084579467773, -1.0250414609909058, 6.76434850692749, 0.8264342546463013, 12.85595417022705, 9.191376686096191, 4.928552150726318, 1.863991618156433, -10.554035186767578, -2.6435229778289795, 2.4378254413604736, 6.921446800231934, 2.6738510131835938, -1.2848607301712036, 3.5325229167938232, 0.7352196574211121], \"xaxis\": \"x\", \"y\": [10.800540924072266, -12.295434951782227, 4.248678207397461, 3.98482608795166, 0.5163034796714783, -1.646462082862854, -7.555852890014648, -1.1592129468917847, -1.9858663082122803, -10.31089973449707, -9.496416091918945, 9.187714576721191, -6.523965358734131, 2.5569779872894287, 11.402261734008789, 12.522562026977539, -12.232278823852539, -10.39409065246582, 18.428525924682617, 4.102756500244141, 0.7308109998703003, -1.8253024816513062, 10.818942070007324, -16.26830291748047, 10.16801929473877, 7.536004066467285, -13.36241340637207, 12.1961030960083, -10.034761428833008, -9.773234367370605, -3.0669829845428467, 4.743144989013672, -0.022873155772686005, 0.47745978832244873, -0.8461229801177979, -1.1068686246871948, -4.434658050537109, -18.266605377197266, 8.390810012817383, -0.7001412510871887, -2.109940528869629, 0.7783941030502319, 5.950362682342529, -16.44463348388672, 2.1779181957244873, 14.254264831542969, 4.120604515075684, -11.593003273010254, -3.2862820625305176, -6.4268646240234375, 17.662092208862305, -4.948617458343506, -6.895391464233398, -17.4816837310791, -12.669478416442871, 8.216241836547852, -4.663076877593994, -8.197826385498047, -8.048742294311523, 17.107030868530273, -5.851761341094971, -17.343589782714844, -11.37724494934082, -6.888066291809082, -8.359375953674316, 20.114850997924805, 7.674328327178955, -11.344048500061035, 8.04460620880127, -8.935672760009766, 19.458757400512695, 1.7420315742492676, -4.236419677734375, 7.082487106323242, 9.534725189208984, -14.915822982788086, -2.2278833389282227, -3.5212790966033936, 6.465031623840332, 19.65168571472168, -0.5599425435066223, -8.851888656616211, 10.939574241638184, 1.8089510202407837, 8.37394905090332, -11.228221893310547, -8.077089309692383, -17.7305908203125, -9.058045387268066, 11.032735824584961, -14.18974781036377, 10.230705261230469, 8.326202392578125, -5.822114944458008, -5.432891368865967, 9.35896110534668, -15.40832233428955, 12.312203407287598, -0.8739807605743408, -14.349828720092773, -11.293525695800781, 6.690629959106445, 9.346663475036621, -13.755953788757324, -15.155476570129395, -3.5903265476226807, -14.628432273864746, 13.783785820007324, 15.414706230163574, -15.497747421264648, 9.804827690124512, -12.23802661895752, 9.288749694824219, 13.938153266906738, 10.52970027923584, -4.972977638244629, -17.5329532623291, 11.976037979125977, -2.709064245223999, 6.390263557434082, -3.4871137142181396, 2.4950497150421143, -4.482454299926758, 18.11200714111328, 0.43865397572517395, 12.488571166992188, -7.932563781738281, -5.33326530456543, -5.8881940841674805, 6.055478096008301, 2.8409783840179443, 2.798187494277954, 2.805452823638916, 2.838312864303589, 5.689797878265381, 0.6008376479148865, -3.3373000621795654, 13.235686302185059, 13.386992454528809, -2.2776527404785156, -13.680875778198242, 13.795910835266113, -10.614242553710938, 8.439138412475586, -2.8359105587005615, -2.817751884460449, -5.594315528869629, -18.660627365112305, -5.146174907684326, -5.838491916656494, 6.0294928550720215, 0.33687445521354675, 13.422171592712402, 2.889302968978882, 2.8252336978912354, 13.3889741897583, 4.425923824310303, -2.9208521842956543, 5.694873809814453, 17.25238609313965, -6.488467693328857, 5.716235637664795, -17.99002456665039, -7.319764614105225, -2.4800755977630615, -11.350774765014648, 10.28227424621582, -18.67013931274414, 2.906271457672119, -8.97668170928955, -0.17323927581310272, -14.797989845275879, -8.507349014282227, 10.141950607299805, -11.671976089477539, -4.409339904785156, -8.149142265319824, -1.3373370170593262, -6.559572219848633, 4.556318759918213, -3.5115015506744385, 7.457772254943848, -10.643834114074707, 4.233027458190918, -13.066619873046875, -2.4549310207366943, 5.524062633514404, -5.8534255027771, -5.660327434539795, 3.616936683654785, -4.047812461853027, 5.400658130645752, -9.270065307617188, 8.819869995117188, -10.753602981567383, -8.13072681427002, 6.19749116897583, -6.561781883239746, -2.993283987045288, -9.057698249816895], \"yaxis\": \"y\"}],\n",
              "                        {\"legend\": {\"tracegroupgap\": 0}, \"margin\": {\"t\": 60}, \"template\": {\"data\": {\"bar\": [{\"error_x\": {\"color\": \"#2a3f5f\"}, \"error_y\": {\"color\": \"#2a3f5f\"}, \"marker\": {\"line\": {\"color\": \"#E5ECF6\", \"width\": 0.5}}, \"type\": \"bar\"}], \"barpolar\": [{\"marker\": {\"line\": {\"color\": \"#E5ECF6\", \"width\": 0.5}}, \"type\": \"barpolar\"}], \"carpet\": [{\"aaxis\": {\"endlinecolor\": \"#2a3f5f\", \"gridcolor\": \"white\", \"linecolor\": \"white\", \"minorgridcolor\": \"white\", \"startlinecolor\": \"#2a3f5f\"}, \"baxis\": {\"endlinecolor\": \"#2a3f5f\", \"gridcolor\": \"white\", \"linecolor\": \"white\", \"minorgridcolor\": \"white\", \"startlinecolor\": \"#2a3f5f\"}, \"type\": \"carpet\"}], \"choropleth\": [{\"colorbar\": {\"outlinewidth\": 0, \"ticks\": \"\"}, \"type\": \"choropleth\"}], \"contour\": [{\"colorbar\": {\"outlinewidth\": 0, \"ticks\": \"\"}, \"colorscale\": [[0.0, \"#0d0887\"], [0.1111111111111111, \"#46039f\"], [0.2222222222222222, \"#7201a8\"], [0.3333333333333333, \"#9c179e\"], [0.4444444444444444, \"#bd3786\"], [0.5555555555555556, \"#d8576b\"], [0.6666666666666666, \"#ed7953\"], [0.7777777777777778, \"#fb9f3a\"], [0.8888888888888888, \"#fdca26\"], [1.0, \"#f0f921\"]], \"type\": \"contour\"}], \"contourcarpet\": [{\"colorbar\": {\"outlinewidth\": 0, \"ticks\": \"\"}, \"type\": \"contourcarpet\"}], \"heatmap\": [{\"colorbar\": {\"outlinewidth\": 0, \"ticks\": \"\"}, \"colorscale\": [[0.0, \"#0d0887\"], [0.1111111111111111, \"#46039f\"], [0.2222222222222222, \"#7201a8\"], [0.3333333333333333, \"#9c179e\"], [0.4444444444444444, \"#bd3786\"], [0.5555555555555556, \"#d8576b\"], [0.6666666666666666, \"#ed7953\"], [0.7777777777777778, \"#fb9f3a\"], [0.8888888888888888, \"#fdca26\"], [1.0, \"#f0f921\"]], \"type\": \"heatmap\"}], \"heatmapgl\": [{\"colorbar\": {\"outlinewidth\": 0, \"ticks\": \"\"}, \"colorscale\": [[0.0, \"#0d0887\"], [0.1111111111111111, \"#46039f\"], [0.2222222222222222, \"#7201a8\"], [0.3333333333333333, \"#9c179e\"], [0.4444444444444444, \"#bd3786\"], [0.5555555555555556, \"#d8576b\"], [0.6666666666666666, \"#ed7953\"], [0.7777777777777778, \"#fb9f3a\"], [0.8888888888888888, \"#fdca26\"], [1.0, \"#f0f921\"]], \"type\": \"heatmapgl\"}], \"histogram\": [{\"marker\": {\"colorbar\": {\"outlinewidth\": 0, \"ticks\": \"\"}}, \"type\": \"histogram\"}], \"histogram2d\": [{\"colorbar\": {\"outlinewidth\": 0, \"ticks\": \"\"}, \"colorscale\": [[0.0, \"#0d0887\"], [0.1111111111111111, \"#46039f\"], [0.2222222222222222, \"#7201a8\"], [0.3333333333333333, \"#9c179e\"], [0.4444444444444444, \"#bd3786\"], [0.5555555555555556, \"#d8576b\"], [0.6666666666666666, \"#ed7953\"], [0.7777777777777778, \"#fb9f3a\"], [0.8888888888888888, \"#fdca26\"], [1.0, \"#f0f921\"]], \"type\": \"histogram2d\"}], \"histogram2dcontour\": [{\"colorbar\": {\"outlinewidth\": 0, \"ticks\": \"\"}, \"colorscale\": [[0.0, \"#0d0887\"], [0.1111111111111111, \"#46039f\"], [0.2222222222222222, \"#7201a8\"], [0.3333333333333333, \"#9c179e\"], [0.4444444444444444, \"#bd3786\"], [0.5555555555555556, \"#d8576b\"], [0.6666666666666666, \"#ed7953\"], [0.7777777777777778, \"#fb9f3a\"], [0.8888888888888888, \"#fdca26\"], [1.0, \"#f0f921\"]], \"type\": \"histogram2dcontour\"}], \"mesh3d\": [{\"colorbar\": {\"outlinewidth\": 0, \"ticks\": \"\"}, \"type\": \"mesh3d\"}], \"parcoords\": [{\"line\": {\"colorbar\": {\"outlinewidth\": 0, \"ticks\": \"\"}}, \"type\": \"parcoords\"}], \"pie\": [{\"automargin\": true, \"type\": \"pie\"}], \"scatter\": [{\"marker\": {\"colorbar\": {\"outlinewidth\": 0, \"ticks\": \"\"}}, \"type\": \"scatter\"}], \"scatter3d\": [{\"line\": {\"colorbar\": {\"outlinewidth\": 0, \"ticks\": \"\"}}, \"marker\": {\"colorbar\": {\"outlinewidth\": 0, \"ticks\": \"\"}}, \"type\": \"scatter3d\"}], \"scattercarpet\": [{\"marker\": {\"colorbar\": {\"outlinewidth\": 0, \"ticks\": \"\"}}, \"type\": \"scattercarpet\"}], \"scattergeo\": [{\"marker\": {\"colorbar\": {\"outlinewidth\": 0, \"ticks\": \"\"}}, \"type\": \"scattergeo\"}], \"scattergl\": [{\"marker\": {\"colorbar\": {\"outlinewidth\": 0, \"ticks\": \"\"}}, \"type\": \"scattergl\"}], \"scattermapbox\": [{\"marker\": {\"colorbar\": {\"outlinewidth\": 0, \"ticks\": \"\"}}, \"type\": \"scattermapbox\"}], \"scatterpolar\": [{\"marker\": {\"colorbar\": {\"outlinewidth\": 0, \"ticks\": \"\"}}, \"type\": \"scatterpolar\"}], \"scatterpolargl\": [{\"marker\": {\"colorbar\": {\"outlinewidth\": 0, \"ticks\": \"\"}}, \"type\": \"scatterpolargl\"}], \"scatterternary\": [{\"marker\": {\"colorbar\": {\"outlinewidth\": 0, \"ticks\": \"\"}}, \"type\": \"scatterternary\"}], \"surface\": [{\"colorbar\": {\"outlinewidth\": 0, \"ticks\": \"\"}, \"colorscale\": [[0.0, \"#0d0887\"], [0.1111111111111111, \"#46039f\"], [0.2222222222222222, \"#7201a8\"], [0.3333333333333333, \"#9c179e\"], [0.4444444444444444, \"#bd3786\"], [0.5555555555555556, \"#d8576b\"], [0.6666666666666666, \"#ed7953\"], [0.7777777777777778, \"#fb9f3a\"], [0.8888888888888888, \"#fdca26\"], [1.0, \"#f0f921\"]], \"type\": \"surface\"}], \"table\": [{\"cells\": {\"fill\": {\"color\": \"#EBF0F8\"}, \"line\": {\"color\": \"white\"}}, \"header\": {\"fill\": {\"color\": \"#C8D4E3\"}, \"line\": {\"color\": \"white\"}}, \"type\": \"table\"}]}, \"layout\": {\"annotationdefaults\": {\"arrowcolor\": \"#2a3f5f\", \"arrowhead\": 0, \"arrowwidth\": 1}, \"coloraxis\": {\"colorbar\": {\"outlinewidth\": 0, \"ticks\": \"\"}}, \"colorscale\": {\"diverging\": [[0, \"#8e0152\"], [0.1, \"#c51b7d\"], [0.2, \"#de77ae\"], [0.3, \"#f1b6da\"], [0.4, \"#fde0ef\"], [0.5, \"#f7f7f7\"], [0.6, \"#e6f5d0\"], [0.7, \"#b8e186\"], [0.8, \"#7fbc41\"], [0.9, \"#4d9221\"], [1, \"#276419\"]], \"sequential\": [[0.0, \"#0d0887\"], [0.1111111111111111, \"#46039f\"], [0.2222222222222222, \"#7201a8\"], [0.3333333333333333, \"#9c179e\"], [0.4444444444444444, \"#bd3786\"], [0.5555555555555556, \"#d8576b\"], [0.6666666666666666, \"#ed7953\"], [0.7777777777777778, \"#fb9f3a\"], [0.8888888888888888, \"#fdca26\"], [1.0, \"#f0f921\"]], \"sequentialminus\": [[0.0, \"#0d0887\"], [0.1111111111111111, \"#46039f\"], [0.2222222222222222, \"#7201a8\"], [0.3333333333333333, \"#9c179e\"], [0.4444444444444444, \"#bd3786\"], [0.5555555555555556, \"#d8576b\"], [0.6666666666666666, \"#ed7953\"], [0.7777777777777778, \"#fb9f3a\"], [0.8888888888888888, \"#fdca26\"], [1.0, \"#f0f921\"]]}, \"colorway\": [\"#636efa\", \"#EF553B\", \"#00cc96\", \"#ab63fa\", \"#FFA15A\", \"#19d3f3\", \"#FF6692\", \"#B6E880\", \"#FF97FF\", \"#FECB52\"], \"font\": {\"color\": \"#2a3f5f\"}, \"geo\": {\"bgcolor\": \"white\", \"lakecolor\": \"white\", \"landcolor\": \"#E5ECF6\", \"showlakes\": true, \"showland\": true, \"subunitcolor\": \"white\"}, \"hoverlabel\": {\"align\": \"left\"}, \"hovermode\": \"closest\", \"mapbox\": {\"style\": \"light\"}, \"paper_bgcolor\": \"white\", \"plot_bgcolor\": \"#E5ECF6\", \"polar\": {\"angularaxis\": {\"gridcolor\": \"white\", \"linecolor\": \"white\", \"ticks\": \"\"}, \"bgcolor\": \"#E5ECF6\", \"radialaxis\": {\"gridcolor\": \"white\", \"linecolor\": \"white\", \"ticks\": \"\"}}, \"scene\": {\"xaxis\": {\"backgroundcolor\": \"#E5ECF6\", \"gridcolor\": \"white\", \"gridwidth\": 2, \"linecolor\": \"white\", \"showbackground\": true, \"ticks\": \"\", \"zerolinecolor\": \"white\"}, \"yaxis\": {\"backgroundcolor\": \"#E5ECF6\", \"gridcolor\": \"white\", \"gridwidth\": 2, \"linecolor\": \"white\", \"showbackground\": true, \"ticks\": \"\", \"zerolinecolor\": \"white\"}, \"zaxis\": {\"backgroundcolor\": \"#E5ECF6\", \"gridcolor\": \"white\", \"gridwidth\": 2, \"linecolor\": \"white\", \"showbackground\": true, \"ticks\": \"\", \"zerolinecolor\": \"white\"}}, \"shapedefaults\": {\"line\": {\"color\": \"#2a3f5f\"}}, \"ternary\": {\"aaxis\": {\"gridcolor\": \"white\", \"linecolor\": \"white\", \"ticks\": \"\"}, \"baxis\": {\"gridcolor\": \"white\", \"linecolor\": \"white\", \"ticks\": \"\"}, \"bgcolor\": \"#E5ECF6\", \"caxis\": {\"gridcolor\": \"white\", \"linecolor\": \"white\", \"ticks\": \"\"}}, \"title\": {\"x\": 0.05}, \"xaxis\": {\"automargin\": true, \"gridcolor\": \"white\", \"linecolor\": \"white\", \"ticks\": \"\", \"title\": {\"standoff\": 15}, \"zerolinecolor\": \"white\", \"zerolinewidth\": 2}, \"yaxis\": {\"automargin\": true, \"gridcolor\": \"white\", \"linecolor\": \"white\", \"ticks\": \"\", \"title\": {\"standoff\": 15}, \"zerolinecolor\": \"white\", \"zerolinewidth\": 2}}}, \"xaxis\": {\"anchor\": \"y\", \"domain\": [0.0, 1.0], \"title\": {\"text\": \"x\"}}, \"yaxis\": {\"anchor\": \"x\", \"domain\": [0.0, 1.0], \"title\": {\"text\": \"y\"}}},\n",
              "                        {\"responsive\": true}\n",
              "                    ).then(function(){\n",
              "                            \n",
              "var gd = document.getElementById('5d448679-d960-4388-87e1-06cf4484a4dc');\n",
              "var x = new MutationObserver(function (mutations, observer) {{\n",
              "        var display = window.getComputedStyle(gd).display;\n",
              "        if (!display || display === 'none') {{\n",
              "            console.log([gd, 'removed!']);\n",
              "            Plotly.purge(gd);\n",
              "            observer.disconnect();\n",
              "        }}\n",
              "}});\n",
              "\n",
              "// Listen for the removal of the full notebook cells\n",
              "var notebookContainer = gd.closest('#notebook-container');\n",
              "if (notebookContainer) {{\n",
              "    x.observe(notebookContainer, {childList: true});\n",
              "}}\n",
              "\n",
              "// Listen for the clearing of the current output cell\n",
              "var outputEl = gd.closest('.output');\n",
              "if (outputEl) {{\n",
              "    x.observe(outputEl, {childList: true});\n",
              "}}\n",
              "\n",
              "                        })\n",
              "                };\n",
              "                \n",
              "            </script>\n",
              "        </div>\n",
              "</body>\n",
              "</html>"
            ]
          },
          "metadata": {}
        }
      ]
    },
    {
      "cell_type": "markdown",
      "metadata": {
        "id": "YPm0dMNGuLVB"
      },
      "source": [
        "### Análisis"
      ]
    },
    {
      "cell_type": "markdown",
      "metadata": {
        "id": "gEHCq9Vbuepl"
      },
      "source": [
        "En el apartado de ensayos se puede apreciar la cercanía en el espacio de embeddings entre las palabras \"High\" y \"Dry\" (de la famosa canción titulada \"High and Dry\") y la cercanía entre las palabras \"Creep\" y \"Weirdo\" (de la famosa canción \"Creep\" cuyo verso canta \"But I'm a creep, I'm a weirdo...\")\n",
        "\n",
        "Del gráfico podemos sacar varias conclusiones interesantes:\n",
        "\n",
        "Las palabras \"broken\", \"hearts\" y \"rain\" están curiosamente muy muy próximas con lo cuál puede sospecharse que Radiohead asocia la lluvia con corazones rotos.\n",
        "\n",
        "Las palabras \"really\", \"messed\", \"up\" estan muy juntas también. Parecería ser un tema recurrente en sus letras."
      ]
    },
    {
      "cell_type": "markdown",
      "metadata": {
        "id": "3YGSB1ZLXH9I"
      },
      "source": [
        "### Comparación entre artistas"
      ]
    },
    {
      "cell_type": "markdown",
      "metadata": {
        "id": "vv19jAHby8DR"
      },
      "source": [
        "#### Pipeline"
      ]
    },
    {
      "cell_type": "code",
      "metadata": {
        "id": "9uOyYzy3wmxo"
      },
      "source": [
        "artists = [\"amy-winehouse\", \"bruno-mars\", \"eminem\", \"adele\", \"blink-182\"]\n",
        "\n",
        "models = dict()\n",
        "\n",
        "for artist in artists:\n",
        "  dfx = pd.read_csv('songs_dataset/' + artist + '.txt', sep='/n', header=None, engine='python')\n",
        "\n",
        "  sentence_tokensx = []\n",
        "  for _, row in dfx[:None].iterrows():\n",
        "      sentence_tokensx.append(text_to_word_sequence(row[0]))\n",
        "\n",
        "  w2v_modelx = Word2Vec(min_count=5,    # frecuencia mínima de palabra para incluirla en el vocabulario\n",
        "                      window=2,       # cant de palabras antes y desp de la predicha\n",
        "                      size=600,       # dimensionalidad de los vectores \n",
        "                      negative=20,    # cantidad de negative samples... 0 es no se usa\n",
        "                      workers=1,      # si tienen más cores pueden cambiar este valor\n",
        "                      sg=1)           # modelo 0:CBOW  1:skipgram\n",
        "\n",
        "  w2v_modelx.build_vocab(sentence_tokensx)\n",
        "\n",
        "  w2v_modelx.train(sentence_tokensx,\n",
        "                  total_examples=w2v_modelx.corpus_count,\n",
        "                  epochs=30)\n",
        "  \n",
        "  models[artist] = w2v_modelx"
      ],
      "execution_count": 185,
      "outputs": []
    },
    {
      "cell_type": "markdown",
      "metadata": {
        "id": "36N1L8U_y-a1"
      },
      "source": [
        "#### Ensayos"
      ]
    },
    {
      "cell_type": "code",
      "metadata": {
        "colab": {
          "base_uri": "https://localhost:8080/"
        },
        "id": "MWk1_ooQtiAd",
        "outputId": "59c6c2c6-9488-472c-f986-2a4e55a3c446"
      },
      "source": [
        "models['amy-winehouse'].wv.most_similar(positive=[\"love\"], topn=10)"
      ],
      "execution_count": 183,
      "outputs": [
        {
          "output_type": "execute_result",
          "data": {
            "text/plain": [
              "[('tomorrow', 0.8980942964553833),\n",
              " ('tonight', 0.8919981718063354),\n",
              " ('losing', 0.8649455308914185),\n",
              " ('still', 0.853580117225647),\n",
              " ('is', 0.815991997718811),\n",
              " ('sure', 0.8095980882644653),\n",
              " ('safe', 0.7633935213088989),\n",
              " ('let', 0.7545422911643982),\n",
              " ('made', 0.7448526620864868),\n",
              " ('music', 0.7437902092933655)]"
            ]
          },
          "metadata": {},
          "execution_count": 183
        }
      ]
    },
    {
      "cell_type": "code",
      "metadata": {
        "colab": {
          "base_uri": "https://localhost:8080/"
        },
        "id": "Kifeoe1Ux1f2",
        "outputId": "c3155c9d-9a0d-41b0-ecc1-e78c72ec8e8f"
      },
      "source": [
        "models['bruno-mars'].wv.most_similar(positive=[\"love\"], topn=10)"
      ],
      "execution_count": 184,
      "outputs": [
        {
          "output_type": "execute_result",
          "data": {
            "text/plain": [
              "[('gorillas', 0.6104142665863037),\n",
              " ('makes', 0.5742641687393188),\n",
              " ('madly', 0.5632285475730896),\n",
              " ('yes', 0.5507463216781616),\n",
              " ('had', 0.5363439917564392),\n",
              " ('faith', 0.5293291807174683),\n",
              " ('seems', 0.5271198153495789),\n",
              " ('sing', 0.5255814790725708),\n",
              " ('promise', 0.522048830986023),\n",
              " ('making', 0.5112415552139282)]"
            ]
          },
          "metadata": {},
          "execution_count": 184
        }
      ]
    },
    {
      "cell_type": "code",
      "metadata": {
        "colab": {
          "base_uri": "https://localhost:8080/"
        },
        "id": "Se4HxXslx50q",
        "outputId": "d54d1d4e-82f9-4482-a9fd-94e4381c19c3"
      },
      "source": [
        "models['eminem'].wv.most_similar(positive=[\"love\"], topn=10)"
      ],
      "execution_count": 186,
      "outputs": [
        {
          "output_type": "execute_result",
          "data": {
            "text/plain": [
              "[('ladies', 0.6239629983901978),\n",
              " ('hate', 0.5897095203399658),\n",
              " ('showed', 0.5820305347442627),\n",
              " ('em', 0.5795252323150635),\n",
              " ('toe', 0.5684994459152222),\n",
              " ('crying', 0.5592947602272034),\n",
              " ('dreams', 0.5585983395576477),\n",
              " ('because', 0.557192325592041),\n",
              " ('nick', 0.5526882410049438),\n",
              " ('favors', 0.548558235168457)]"
            ]
          },
          "metadata": {},
          "execution_count": 186
        }
      ]
    },
    {
      "cell_type": "code",
      "metadata": {
        "colab": {
          "base_uri": "https://localhost:8080/"
        },
        "id": "Z4wtT9AoyeFJ",
        "outputId": "1ae54498-88f0-47d1-ca14-69b07d80d0f0"
      },
      "source": [
        "models['adele'].wv.most_similar(positive=[\"love\"], topn=10)"
      ],
      "execution_count": 187,
      "outputs": [
        {
          "output_type": "execute_result",
          "data": {
            "text/plain": [
              "[(\"that's\", 0.7391064167022705),\n",
              " ('forgive', 0.7234510779380798),\n",
              " ('cry', 0.683314323425293),\n",
              " ('until', 0.6710277795791626),\n",
              " ('first', 0.6708269119262695),\n",
              " ('lover', 0.6638697981834412),\n",
              " ('crazy', 0.6452536582946777),\n",
              " ('send', 0.6396065950393677),\n",
              " ('god', 0.6391588449478149),\n",
              " ('thing', 0.6374861001968384)]"
            ]
          },
          "metadata": {},
          "execution_count": 187
        }
      ]
    },
    {
      "cell_type": "code",
      "metadata": {
        "colab": {
          "base_uri": "https://localhost:8080/"
        },
        "id": "lBlGomdAygoZ",
        "outputId": "90a1a101-10f6-4de1-b36e-161d268adc65"
      },
      "source": [
        "models['blink-182'].wv.most_similar(positive=[\"love\"], topn=10)"
      ],
      "execution_count": 188,
      "outputs": [
        {
          "output_type": "execute_result",
          "data": {
            "text/plain": [
              "[('falls', 0.8442625999450684),\n",
              " ('rain', 0.7714488506317139),\n",
              " ('fell', 0.7648094892501831),\n",
              " ('deep', 0.7317363619804382),\n",
              " ('sneak', 0.7312573194503784),\n",
              " ('those', 0.7291802167892456),\n",
              " ('background', 0.7224054336547852),\n",
              " ('house', 0.6976962089538574),\n",
              " ('radio', 0.6943206787109375),\n",
              " ('guy', 0.6940866708755493)]"
            ]
          },
          "metadata": {},
          "execution_count": 188
        }
      ]
    },
    {
      "cell_type": "markdown",
      "metadata": {
        "id": "wG1v3AHpymVP"
      },
      "source": [
        "### Análisis comparativo"
      ]
    },
    {
      "cell_type": "markdown",
      "metadata": {
        "id": "0yf8gPTfyrfy"
      },
      "source": [
        "Analizando las celdas anteriores, podemos darnos una idea del concepto de amor que tienen los artistas elegidos y con qué lo suelen relacionar.\n",
        "\n",
        "\n",
        "\n",
        "*   Amy parece relacionar el amor con seguridad (sure, safe) y con algo constante de todos los días (still, tonight, tomorrow)\n",
        "*   Bruno parece tener una mirada del amor más orientada al deseo y lo sexual (makes/making love, madly). Como dice su canción \"we'll be making love like gorillaz)\n",
        "*   Eminem en sus letras lo asocia con dolor y con mujeres (ladies, crying, hate)\n",
        "*   Adele, con muchas emociones diferentes (forgive, cry, crazy)\n",
        "*   Blink habla sobre enamorarse (falls/fell in love) y lo asocia con algo profundo y con la lluvia\n",
        "\n"
      ]
    }
  ]
}