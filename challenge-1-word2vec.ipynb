{
  "nbformat": 4,
  "nbformat_minor": 0,
  "metadata": {
    "colab": {
      "name": "1 - word2vec.ipynb",
      "provenance": [],
      "collapsed_sections": [],
      "include_colab_link": true
    },
    "kernelspec": {
      "name": "python3",
      "display_name": "Python 3"
    },
    "language_info": {
      "name": "python"
    }
  },
  "cells": [
    {
      "cell_type": "markdown",
      "metadata": {
        "id": "view-in-github",
        "colab_type": "text"
      },
      "source": [
        "<a href=\"https://colab.research.google.com/github/franz6ko/natural-lenguage-processing/blob/master/challenge-1-word2vec.ipynb\" target=\"_parent\"><img src=\"https://colab.research.google.com/assets/colab-badge.svg\" alt=\"Open In Colab\"/></a>"
      ]
    },
    {
      "cell_type": "markdown",
      "metadata": {
        "id": "Ue5hxxkdAQJg"
      },
      "source": [
        "<a href=\"https://www.inove.com.ar\"><img src=\"https://github.com/hernancontigiani/ceia_memorias_especializacion/raw/master/Figures/logoFIUBA.jpg\" width=\"500\" align=\"center\"></a>\n",
        "\n",
        "\n",
        "# Procesamiento de lenguaje natural\n",
        "## Word2vect\n"
      ]
    },
    {
      "cell_type": "code",
      "metadata": {
        "id": "kCED1hh-Ioyf"
      },
      "source": [
        "import numpy as np"
      ],
      "execution_count": 1,
      "outputs": []
    },
    {
      "cell_type": "code",
      "metadata": {
        "id": "PUbfVnzIIoMj"
      },
      "source": [
        "def cosine_similarity(a, b):\n",
        "    return np.dot(a, b) / (np.linalg.norm(a) * (np.linalg.norm(b)))"
      ],
      "execution_count": 2,
      "outputs": []
    },
    {
      "cell_type": "markdown",
      "metadata": {
        "id": "DMOa4JPSCJ29"
      },
      "source": [
        "### Datos"
      ]
    },
    {
      "cell_type": "code",
      "metadata": {
        "id": "RIO7b8GjAC17"
      },
      "source": [
        "corpus = np.array(['que dia es hoy', 'martes el dia de hoy es martes', 'martes muchas gracias'])"
      ],
      "execution_count": 3,
      "outputs": []
    },
    {
      "cell_type": "markdown",
      "metadata": {
        "id": "FVHxBRNzCMOS"
      },
      "source": [
        "### 1 - Obtener el vocabulario del corpus (los términos utilizados)\n",
        "- Cada documento transformarlo en una lista de términos\n",
        "- Armar un vector de términos no repetidos de todos los documentos"
      ]
    },
    {
      "cell_type": "code",
      "metadata": {
        "id": "3ZqTOZzDI7uv",
        "outputId": "e7dd9204-a909-4811-fc91-1ad40d4bfba0",
        "colab": {
          "base_uri": "https://localhost:8080/"
        }
      },
      "source": [
        "corpus_list = [ doc.split(' ') for doc in corpus ]\n",
        "print(\"Docs como listas de terminos:\")\n",
        "print(corpus_list)\n",
        "\n",
        "vocab = set()\n",
        "for doc in corpus:\n",
        "  vocab.update(doc.split(' '))\n",
        "print(\"Vocabulario:\")\n",
        "print(vocab)"
      ],
      "execution_count": 12,
      "outputs": [
        {
          "output_type": "stream",
          "name": "stdout",
          "text": [
            "Docs como listas de terminos:\n",
            "[['que', 'dia', 'es', 'hoy'], ['martes', 'el', 'dia', 'de', 'hoy', 'es', 'martes'], ['martes', 'muchas', 'gracias']]\n",
            "Vocabulario:\n",
            "{'martes', 'el', 'gracias', 'que', 'hoy', 'dia', 'es', 'muchas', 'de'}\n"
          ]
        }
      ]
    },
    {
      "cell_type": "markdown",
      "metadata": {
        "id": "RUhH983FI7It"
      },
      "source": [
        "### 2- OneHot encoding\n",
        "Dada una lista de textos, devolver una matriz con la representación oneHotEncoding de estos"
      ]
    },
    {
      "cell_type": "code",
      "metadata": {
        "id": "Os0AAQo6I6Z1",
        "outputId": "12716eac-cda6-403a-a66e-dac15c9417b6",
        "colab": {
          "base_uri": "https://localhost:8080/"
        }
      },
      "source": [
        "ohe = np.zeros((len(corpus_list), len(vocab)))\n",
        "\n",
        "for i, doc in enumerate(corpus_list):\n",
        "  for j, term in enumerate(vocab):\n",
        "    ohe[i,j] = term in doc\n",
        "\n",
        "print(ohe)"
      ],
      "execution_count": 16,
      "outputs": [
        {
          "output_type": "stream",
          "name": "stdout",
          "text": [
            "[[0. 0. 0. 1. 1. 1. 1. 0. 0.]\n",
            " [1. 1. 0. 0. 1. 1. 1. 0. 1.]\n",
            " [1. 0. 1. 0. 0. 0. 0. 1. 0.]]\n"
          ]
        }
      ]
    },
    {
      "cell_type": "markdown",
      "metadata": {
        "id": "IIyWGmCpJVQL"
      },
      "source": [
        "### 3- Vectores de frecuencia\n",
        "Dada una lista de textos, devolver una matriz con la representación de frecuencia de estos"
      ]
    },
    {
      "cell_type": "code",
      "metadata": {
        "id": "yqij_7eHJbUi",
        "outputId": "e137c981-2bc7-4351-f71c-e0b8f3ac1876",
        "colab": {
          "base_uri": "https://localhost:8080/"
        }
      },
      "source": [
        "tf = np.zeros((len(corpus_list), len(vocab)))\n",
        "\n",
        "for i, doc in enumerate(corpus_list):\n",
        "  for j, term in enumerate(vocab):\n",
        "    tf[i,j] = doc.count(term)\n",
        "\n",
        "print(tf)"
      ],
      "execution_count": 18,
      "outputs": [
        {
          "output_type": "stream",
          "name": "stdout",
          "text": [
            "[[0. 0. 0. 1. 1. 1. 1. 0. 0.]\n",
            " [2. 1. 0. 0. 1. 1. 1. 0. 1.]\n",
            " [1. 0. 1. 0. 0. 0. 0. 1. 0.]]\n"
          ]
        }
      ]
    },
    {
      "cell_type": "markdown",
      "metadata": {
        "id": "z_Ot8HvWJcBu"
      },
      "source": [
        "### 4- TF-IDF\n",
        "Dada una lista de textos, devolver una matriz con la representacion TFIDF"
      ]
    },
    {
      "cell_type": "code",
      "metadata": {
        "id": "waG_oWtpJjRw",
        "outputId": "6a69eba8-013a-407c-8e0f-4caaa2e98c34",
        "colab": {
          "base_uri": "https://localhost:8080/"
        }
      },
      "source": [
        "df = ohe.sum(axis=0)\n",
        "n = len(corpus_list)\n",
        "idf = np.log10(n/df)\n",
        "tf_idf = (tf * idf).round(decimals=2)\n",
        "print(tf_idf)"
      ],
      "execution_count": 28,
      "outputs": [
        {
          "output_type": "stream",
          "name": "stdout",
          "text": [
            "[[0.   0.   0.   0.48 0.18 0.18 0.18 0.   0.  ]\n",
            " [0.35 0.48 0.   0.   0.18 0.18 0.18 0.   0.48]\n",
            " [0.18 0.   0.48 0.   0.   0.   0.   0.48 0.  ]]\n"
          ]
        }
      ]
    },
    {
      "cell_type": "markdown",
      "metadata": {
        "id": "xMcsfndWJjm_"
      },
      "source": [
        "### 5 - Comparación de documentos\n",
        "Realizar una funcion que reciba el corpus y el índice de un documento y devuelva los documentos ordenados por la similitud coseno"
      ]
    },
    {
      "cell_type": "code",
      "metadata": {
        "id": "CZdiop6IJpZN",
        "outputId": "916b7084-296c-487d-955d-0f8b9728da0b",
        "colab": {
          "base_uri": "https://localhost:8080/"
        }
      },
      "source": [
        "comp = np.zeros((n, n))\n",
        "\n",
        "for i in range(n):\n",
        "  for j in range(n):\n",
        "    comp[i,j] = cosine_similarity(tf_idf[i], tf_idf[j])\n",
        "\n",
        "print(comp)"
      ],
      "execution_count": 104,
      "outputs": [
        {
          "output_type": "stream",
          "name": "stdout",
          "text": [
            "[[1.         0.20586393 0.        ]\n",
            " [0.20586393 1.         0.10874642]\n",
            " [0.         0.10874642 1.        ]]\n"
          ]
        }
      ]
    },
    {
      "cell_type": "code",
      "metadata": {
        "id": "TDAkvFr5YYfz",
        "outputId": "8563110c-9957-471b-aba0-a53458dcc7bd",
        "colab": {
          "base_uri": "https://localhost:8080/"
        }
      },
      "source": [
        "comp_up = np.triu(comp + 1e-15, k=1)\n",
        "print(comp_up.round(decimals=4))"
      ],
      "execution_count": 113,
      "outputs": [
        {
          "output_type": "stream",
          "name": "stdout",
          "text": [
            "[[0.     0.2059 0.    ]\n",
            " [0.     0.     0.1087]\n",
            " [0.     0.     0.    ]]\n"
          ]
        }
      ]
    },
    {
      "cell_type": "code",
      "metadata": {
        "id": "3T5EZgeIcsay",
        "outputId": "e1831ccf-1edd-4ddc-92da-4c47ae4f926d",
        "colab": {
          "base_uri": "https://localhost:8080/"
        }
      },
      "source": [
        "lim = int(n*(n-1)/2)\n",
        "order = np.array(np.unravel_index(np.argsort(comp_up.flatten() * -1), comp_up.shape))[:, :lim]\n",
        "print(order)"
      ],
      "execution_count": 114,
      "outputs": [
        {
          "output_type": "stream",
          "name": "stdout",
          "text": [
            "[[0 1 0]\n",
            " [1 2 2]]\n"
          ]
        }
      ]
    },
    {
      "cell_type": "code",
      "metadata": {
        "id": "pHp9NufAgfB7",
        "outputId": "06d3bc06-f868-4aab-d25a-78206206880f",
        "colab": {
          "base_uri": "https://localhost:8080/"
        }
      },
      "source": [
        "for i in range(lim):\n",
        "  print(\"Cosine similarity: \" + str(comp[order[0, i]][order[1, i]].round(decimals=4)) + \" | \" + corpus[order[0, i]] + \" <-> \" + corpus[order[1, i]])"
      ],
      "execution_count": 115,
      "outputs": [
        {
          "output_type": "stream",
          "name": "stdout",
          "text": [
            "Cosine similarity: 0.2059 | que dia es hoy <-> martes el dia de hoy es martes\n",
            "Cosine similarity: 0.1087 | martes el dia de hoy es martes <-> martes muchas gracias\n",
            "Cosine similarity: 0.0 | que dia es hoy <-> martes muchas gracias\n"
          ]
        }
      ]
    }
  ]
}