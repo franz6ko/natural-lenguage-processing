{
  "nbformat": 4,
  "nbformat_minor": 0,
  "metadata": {
    "colab": {
      "name": "4d - predicción_palabra.ipynb",
      "provenance": [],
      "collapsed_sections": [],
      "include_colab_link": true
    },
    "kernelspec": {
      "name": "python3",
      "display_name": "Python 3"
    },
    "language_info": {
      "name": "python"
    },
    "accelerator": "GPU"
  },
  "cells": [
    {
      "cell_type": "markdown",
      "metadata": {
        "id": "view-in-github",
        "colab_type": "text"
      },
      "source": [
        "<a href=\"https://colab.research.google.com/github/franz6ko/natural-lenguage-processing/blob/master/challenge_4_word_prediction.ipynb\" target=\"_parent\"><img src=\"https://colab.research.google.com/assets/colab-badge.svg\" alt=\"Open In Colab\"/></a>"
      ]
    },
    {
      "cell_type": "markdown",
      "metadata": {
        "id": "g3yeJGnCYxuF"
      },
      "source": [
        "<a href=\"https://www.inove.com.ar\"><img src=\"https://github.com/hernancontigiani/ceia_memorias_especializacion/raw/master/Figures/logoFIUBA.jpg\" width=\"500\" align=\"center\"></a>\n",
        "\n",
        "\n",
        "# Procesamiento de lenguaje natural\n",
        "## Predicción de próxima palabra"
      ]
    },
    {
      "cell_type": "markdown",
      "metadata": {
        "id": "Iv5PEwGzZA9-"
      },
      "source": [
        "### Objetivo\n",
        "El objetivo es utilizar documentos / corpus para crear embeddings de palabras basado en ese contexto utilizando la layer Embedding de Keras. Se utilizará esos embeddings junto con layers LSTM para predeccir la próxima posible palabra."
      ]
    },
    {
      "cell_type": "code",
      "metadata": {
        "id": "Y-QdFbHZYj7C"
      },
      "source": [
        "import random\n",
        "import io\n",
        "import pickle\n",
        "\n",
        "import numpy as np\n",
        "import pandas as pd\n",
        "\n",
        "from tensorflow import keras\n",
        "from tensorflow.keras import layers\n",
        "from keras.utils.np_utils import to_categorical\n",
        "from keras.models import Sequential\n",
        "from keras.layers import Dense, LSTM, Embedding, Dropout, CuDNNLSTM"
      ],
      "execution_count": null,
      "outputs": []
    },
    {
      "cell_type": "markdown",
      "metadata": {
        "id": "xTvXlEKQZdqx"
      },
      "source": [
        "### Datos\n",
        "Utilizaremos como dataset los diálogos de varias películas de Marvel."
      ]
    },
    {
      "cell_type": "code",
      "metadata": {
        "id": "IkdPfrQJZdB5",
        "colab": {
          "base_uri": "https://localhost:8080/"
        },
        "outputId": "1fff34b6-7513-425d-9e87-44653f55fe62"
      },
      "source": [
        "# Descargar la carpeta de dataset\n",
        "import os\n",
        "import gdown\n",
        "if os.access('./Marvel Datasets', os.F_OK) is False:\n",
        "    if os.access('marvel_dataset.zip', os.F_OK) is False:\n",
        "        url = 'https://drive.google.com/uc?id=1BsAIgNChI16FiV5rBVCTEoavEP5gdnLL&authuser=0&export=download'\n",
        "        output = 'marvel_dataset.zip'\n",
        "        gdown.download(url, output, quiet=False)\n",
        "    !unzip -q marvel_dataset.zip\n",
        "else:\n",
        "    print(\"El dataset ya se encuentra descargado\")"
      ],
      "execution_count": null,
      "outputs": [
        {
          "output_type": "stream",
          "name": "stdout",
          "text": [
            "El dataset ya se encuentra descargado\n"
          ]
        }
      ]
    },
    {
      "cell_type": "code",
      "metadata": {
        "id": "6j-3nQ4lZjfb",
        "colab": {
          "base_uri": "https://localhost:8080/"
        },
        "outputId": "413b938c-52f9-4836-e5e6-8632548282d7"
      },
      "source": [
        "# Peliculas incluidas\n",
        "import glob\n",
        "all_files = glob.glob(\"./Marvel Datasets/*\")\n",
        "\n",
        "print(\"Nº total de peliculas\", len(all_files))\n",
        "\n",
        "n = 4\n",
        "print(\"Usando\", n, \"peliculas\")\n",
        "\n",
        "all_files = all_files[:n]\n",
        "all_files"
      ],
      "execution_count": null,
      "outputs": [
        {
          "output_type": "stream",
          "name": "stdout",
          "text": [
            "Nº total de peliculas 23\n",
            "Usando 4 peliculas\n"
          ]
        },
        {
          "output_type": "execute_result",
          "data": {
            "text/plain": [
              "['./Marvel Datasets/Spider-Man.Far.From.Home.txt',\n",
              " './Marvel Datasets/Guardians.of.the.Galaxy.Vol. 2.txt',\n",
              " './Marvel Datasets/Spider-Man.Homecoming.txt',\n",
              " './Marvel Datasets/Captain.America.Civil.War.txt']"
            ]
          },
          "metadata": {},
          "execution_count": 2
        }
      ]
    },
    {
      "cell_type": "code",
      "metadata": {
        "id": "Gb39v3PaZmRH",
        "colab": {
          "base_uri": "https://localhost:8080/",
          "height": 206
        },
        "outputId": "2a618ab2-cdcd-4265-bc44-f4a1866075fe"
      },
      "source": [
        "# Armar el dataset utilizando salto de línea para separar las oraciones/docs\n",
        "li = []\n",
        "\n",
        "for filename in all_files:\n",
        "    df = pd.read_csv(filename, sep='/n', header=None, engine=\"python\")\n",
        "    li.append(df)\n",
        "\n",
        "df = pd.concat(li, axis=0, ignore_index=True)\n",
        "df.head()"
      ],
      "execution_count": null,
      "outputs": [
        {
          "output_type": "execute_result",
          "data": {
            "text/html": [
              "<div>\n",
              "<style scoped>\n",
              "    .dataframe tbody tr th:only-of-type {\n",
              "        vertical-align: middle;\n",
              "    }\n",
              "\n",
              "    .dataframe tbody tr th {\n",
              "        vertical-align: top;\n",
              "    }\n",
              "\n",
              "    .dataframe thead th {\n",
              "        text-align: right;\n",
              "    }\n",
              "</style>\n",
              "<table border=\"1\" class=\"dataframe\">\n",
              "  <thead>\n",
              "    <tr style=\"text-align: right;\">\n",
              "      <th></th>\n",
              "      <th>0</th>\n",
              "    </tr>\n",
              "  </thead>\n",
              "  <tbody>\n",
              "    <tr>\n",
              "      <th>0</th>\n",
              "      <td>Nick, this was a tragedy, but it's not why we'...</td>\n",
              "    </tr>\n",
              "    <tr>\n",
              "      <th>1</th>\n",
              "      <td>What, are we fighting the weather now?</td>\n",
              "    </tr>\n",
              "    <tr>\n",
              "      <th>2</th>\n",
              "      <td>Locals say the cyclone had a face.</td>\n",
              "    </tr>\n",
              "    <tr>\n",
              "      <th>3</th>\n",
              "      <td>People see things when they're under stress.</td>\n",
              "    </tr>\n",
              "    <tr>\n",
              "      <th>4</th>\n",
              "      <td>That does not mean that this is the start to s...</td>\n",
              "    </tr>\n",
              "  </tbody>\n",
              "</table>\n",
              "</div>"
            ],
            "text/plain": [
              "                                                   0\n",
              "0  Nick, this was a tragedy, but it's not why we'...\n",
              "1             What, are we fighting the weather now?\n",
              "2                 Locals say the cyclone had a face.\n",
              "3       People see things when they're under stress.\n",
              "4  That does not mean that this is the start to s..."
            ]
          },
          "metadata": {},
          "execution_count": 3
        }
      ]
    },
    {
      "cell_type": "code",
      "metadata": {
        "id": "riT898QlZnmF",
        "colab": {
          "base_uri": "https://localhost:8080/"
        },
        "outputId": "3c9abfce-db60-40ef-d382-af89a87bf55a"
      },
      "source": [
        "print(\"Cantidad de documentos:\", df.shape[0])"
      ],
      "execution_count": null,
      "outputs": [
        {
          "output_type": "stream",
          "name": "stdout",
          "text": [
            "Cantidad de documentos: 7518\n"
          ]
        }
      ]
    },
    {
      "cell_type": "markdown",
      "metadata": {
        "id": "RDoouHp7Zp6D"
      },
      "source": [
        "### 1 - Ejemplo de Preprocesamiento\n",
        "- Hay que transformar las oraciones en tokens.\n",
        "- Dichas oraciones hay que ajustarlas al tamaño fijo de nuestra sentencia de entrada al modelo.\n",
        "- Hay que separar las palabras objetivos (target) que el modelo debe predecir en cada sentencia armada."
      ]
    },
    {
      "cell_type": "code",
      "metadata": {
        "id": "m5FeTaGvbDbw"
      },
      "source": [
        "from keras.preprocessing.text import Tokenizer # equivalente a ltokenizer de nltk\n",
        "from keras.preprocessing.text import text_to_word_sequence # equivalente a word_teokenize de nltk\n",
        "from keras.preprocessing.sequence import pad_sequences # se utilizará para padding\n",
        "\n",
        "# largo de la secuencia, incluye seq input + word output\n",
        "train_len = 4"
      ],
      "execution_count": null,
      "outputs": []
    },
    {
      "cell_type": "markdown",
      "metadata": {
        "id": "ohS5Tao1d2KB"
      },
      "source": [
        "### 2 - Preprocesamiento completo\n",
        "Debemos realizar los mismos pasos que en el ejemplo anterior, pero antes de eso debemos transformar ese dataset de filas de oraciones en un texto completo continuo para poder extraer el vocabulario."
      ]
    },
    {
      "cell_type": "code",
      "metadata": {
        "id": "63Z2-Se2t27r",
        "colab": {
          "base_uri": "https://localhost:8080/"
        },
        "outputId": "7f222240-c7c2-493d-de63-3501cf47bae1"
      },
      "source": [
        "# Vistazo a las primeras filas\n",
        "df.loc[:15,0]"
      ],
      "execution_count": null,
      "outputs": [
        {
          "output_type": "execute_result",
          "data": {
            "text/plain": [
              "0     Nick, this was a tragedy, but it's not why we'...\n",
              "1                What, are we fighting the weather now?\n",
              "2                    Locals say the cyclone had a face.\n",
              "3          People see things when they're under stress.\n",
              "4     That does not mean that this is the start to s...\n",
              "5                                          Who are you?\n",
              "6                      You don't want any part of this.\n",
              "7                               Gone but not forgotten.\n",
              "8           Thanks to Kenneth Lim and Vihaan Ramamurthy\n",
              "9      for their help with that touching video tribute.\n",
              "10    This year has been nothing short of ***. It is...\n",
              "11                                         Jason. What?\n",
              "12                                         No swearing.\n",
              "13             It's the last day of school. We're good.\n",
              "14                                            Historic.\n",
              "15    Over five years ago, half of all life in the u...\n",
              "Name: 0, dtype: object"
            ]
          },
          "metadata": {},
          "execution_count": 6
        }
      ]
    },
    {
      "cell_type": "code",
      "metadata": {
        "id": "kILsSoxTuHEr",
        "colab": {
          "base_uri": "https://localhost:8080/",
          "height": 145
        },
        "outputId": "78004649-7cb4-4089-ba39-5831fc6e9c0a"
      },
      "source": [
        "# Concatenamos todos los rows en un solo valor\n",
        "corpus = df.apply(lambda row: ' '.join(row.values.astype(str)), axis=0)[0]\n",
        "corpus"
      ],
      "execution_count": null,
      "outputs": [
        {
          "output_type": "execute_result",
          "data": {
            "application/vnd.google.colaboratory.intrinsic+json": {
              "type": "string"
            },
            "text/plain": [
              "'Nick, this was a tragedy, but it\\'s not why we\\'re here. What, are we fighting the weather now? Locals say the cyclone had a face. People see things when they\\'re under stress. That does not mean that this is the start to some other big world-ending Who are you? You don\\'t want any part of this. Gone but not forgotten. Thanks to Kenneth Lim and Vihaan Ramamurthy for their help with that touching video tribute. This year has been nothing short of ***. It is crazy. It\\'s insane. Jason. What? No swearing. It\\'s the last day of school. We\\'re good. Historic. Over five years ago, half of all life in the universe, including our own Midtown High, was wiped from existence. Then eight months ago, a band of brave heroes brought us back. They called it \"the Blip.\" Those of us who Blipped away came back the same age But our classmates that didn\\'t Blip had grown five years older. My little brother is now older than me. Yeah, it\\'s math. Even though we had Blipped away halfway through the school year and had already taken midterms, the school made us start the whole year over from the beginning. It\\'s totally unfair. It\\'s not right. Tigers, it\\'s been a long, dramatic, somewhat confusing road. As we draw this year to a close, it\\'s time to move on to a new phase of our lives. Pray nothing crazy happens again because are the Avengers even a thing anymore? Does anyone even have a plan? I have a plan. Okay, first, I\\'m gonna sit next to MJ on the flight. Second, I\\'m gonna buy a dual-headphone adapter and watch movies with her the whole time. Okay. Three, when we go to Venice Venice is famous for making stuff out of glass, right? True. So I\\'m gonna buy her a black dahlia necklace because her favorite flower is the black dahlia because of, well The murder. The murder. Four, when we go to Paris, I\\'m gonna take her to the top of the Eiffel Tower, give her the necklace. Then, five, I\\'m gonna tell her how I feel. Then, six, hopefully she tells me she feels the same way. Oh, don\\'t forget step seven. Step seven? Don\\'t do any of that. Why? We\\'re gonna be bachelors in Europe. Ned. Look, I may not know much, but I do know this: Europeans love Americans. Really? More than half of them are women. Okay. Sure. But I really like MJ, man, okay? She\\'s awesome, she\\'s super funny in a kind of dark way. Sometimes I catch her looking at me, I feel like I\\'ve stood up She\\'s coming. Don\\'t say anything. What up, dorks? Excited about the science trip? Hey, we\\'re talking about the trip. Yeah, and Peter\\'s plan. You have a plan? I don\\'t I don\\'t have a plan. No, he\\'s just gonna collect tiny spoons when we\\'re traveling to other countries. Like a grandmother? I\\'m not collecting tiny spoons. He\\'s collecting tiny spoons. Oh, okay, well that was a real roller coaster. By the way, travel tip: You should download a VPN on your phone, so the government can\\'t track you while we\\'re abroad. Smart. Will do. Dude, I think that went really great. When I Blipped back to my apartment, the family that was living there was very confused. The wife thought that I was a mistress. The grandma thought that I was a ghost. It was It was really a mess. Thank you for coming out to support those who have been displaced by the Blip. And, of course, thanks to our very own Spider-Man! Thank you, Miss Parker, for having me. And thank you, you guys, for having me. And thank you, Spider-Man. He\\'ll be right back out to take photos and videos. Thank you! That was amazing. That was great. That was so cool. I was so nervous. I was a little stiff. I wasn\\'t in the pocket. I thought you did great. You were a little stiff. Yeah, I felt that too. I felt that too. It\\'s fine, it\\'s fine. Okay. Did you get your passport? Yeah. Mini toothpaste? Yeah, I did. Hey, sorry I\\'m late. Happy. Hey. Oh, you look lovely. Thanks. You too. Thank you. New dress? Yeah, yes, it is. It\\'s a new beard. It\\'s my My Blip beard. I grew it in the Blip. It\\'s a Blip beard. I see. Yeah. The reason I\\'m late is because this was misplaced at the office. Can you believe it? Because it\\'s enormous. Not the amount, the size. The amount\\'s nice too. They\\'re generous. Pepper said, sorry she couldn\\'t be here. Yeah. Thank you. I think I\\'m gonna go change the Sterno under the vegan lasagna. Spider-Man, go shake hands. Will do. What just happened? Heads up, Nick Fury\\'s calling you. Fury\\'s gonna call me? Why? Yeah. Why? He probably has hero stuff for you to do. You\\'re a superhero. He calls superheroes. If it was that important, he\\'d probably call someone else, not me. Apparently not. No caller ID. That\\'s him. I don\\'t wanna talk to Fury. Answer the phone. Why? If you don\\'t talk to him, I have to, and I don\\'t want to. Why not? Because I\\'m scared. Answer the phone. You sent Nick Fury to voicemail? Yeah. You don\\'t send Fury to voicemail. Hear that? They\\'re calling me. I gotta go. You gotta talk to him. I\\'m gonna call him. I promise you, I\\'m gonna call him. I will. You do not ghost Nick Fury. I promise you, I\\'ll call him. After my trip. Hey! Yeah, hi No, no, he\\'s not ghosting you. Okay, one question at a time. Are you the head Avenger? Are you the head Avenger now? No, I\\'m not. If the aliens come back, what are you gonna do? If the aliens come back, what will you do? Does anyone have any neighborhood questions? Sean Winford, Queens Tribune. What it is like to take over from Tony Stark? Those are some big shoes to fill. I\\'m I\\'m gonna go. Thanks so much, everyone, for coming. Okay. Hungry? So sorry. I thought you could sense that with your Peter-tingle. Please do not start calling it my Peter-tingle. What\\'s up? You can dodge bullets but not bananas? No, I just really need this vacation. I need a break. You deserve it. Yeah. You know what? You should pack your suit, just in case. I have a tingle about it. Please stop saying \"tingle,\" May. No. No. No, I\\'m not. Yeah! Can you help me get my stuff up here? Oh, sorry, that\\'s mine. No worries. Middle seat gets both armrests. Give me a tablet. Do you want the first shift or the second? I could take either. Give me the third shift. I took an Ambien. I can\\'t chaperone these kids alone. Yo, Parker. This is called an airplane. It\\'s like the buses you\\'re used to, except it flies over the poor neighborhoods instead of driving through them. Ma\\'am? He Blipped, so technically, he\\'s 16, not 21. I\\'ll take that. She\\'s lying. I don\\'t even know this girl. Classic MJ, right? Did you know Brad was coming? It It\\'s so weird. One day, he\\'s that kid who cried and got nosebleeds all the time, and suddenly, we Blip back, and he\\'s totally ripped and super nice and all these girls are after him. Not all the girls are after him. No, man, they\\'re all after him. Yeah. Here. Anyway, on to more important things. It\\'s a nine-hour flight. We can play Beast Slayers the whole time. Are you excited? I need your help to sit next to MJ. Seriously? Yes, seriously. What about our plan? American bachelors in Europe. That\\'s your plan. That\\'s a solo plan. Come on, this is my plan. Please. Hey, guys. There\\'s an old lady in front of us wearing a crazy amount of perfume, and it\\'s kind of setting off Peter\\'s allergies. Betty, if you could switch seats with him, that would be He\\'s allergic to perfume? Yeah, yeah, because it It makes his eyes water, and he can\\'t really Peter has a perfume allergy? From experience, perfume allergies are no joke. I can feel hives breaking out already. MJ, stand up. Ned, take MJ\\'s spot. MJ, you take my spot. Peter, let\\'s get you out of there. Sorry. Zach and Sebastian, you take Ned and Peter\\'s seats. That\\'s all right. Ned, thanks for bringing this to my attention. Your safety is my responsibility. And Mr. Dell\\'s, but he\\'s I got it for now. Let\\'s go, Peter! Let\\'s go! Yeah, I have a small bladder, so I took the aisle. So did you want to play Beast Slayer? Nope. Have you ever played any kind of PC game or? No. Got it. Did I tell you how my wife pretended to Blip out? Turns out, she ran off with a guy in her hiking group. We had a fake funeral for her. Well, the funeral was real because I thought she was really dead. Wanna see the video? Oh, I got a dual-headphone adapter if you want to watch a movie. Only if it\\'s depressing. Or hilarious. Oh, you have a dual-headphone adapter. We can watch together. Good afternoon, this is your captain speaking. Our flight time will be eight hours, 49 minutes to Venice, Italy. Nice picture. Hey, did you see Brad and MJ on the plane? They were watching movies and laughing the entire time. Dude, don\\'t worry, okay? I\\'m sure that\\'s nothing. Hey, babe. Can you hold this? Yeah, of course. Thanks. What was that? Well, we got to talking on the plane, and it turns out, we have a lot in common. So we\\'re boyfriend and girlfriend now. Whatever happened to being an American bachelor in Europe? Peter, those were the words of a boy. And that boy met a woman. A very strong and powerful woman. And now that boy\\'s a man. Babe? Coming, babe. There\\'s nothing in there. I swear. These, no. Sorry. Sorry. I\\'m here. Mr. Harrington. Wait, wait, wait. I\\'m here, I\\'m here. Oh, thank goodness. Looks like we\\'re here. They\\'re doing renovations to the place. Getting some upgrades. Oh, this is trash. That must be the concierge. Okay. Come on, man. Everyone, here we are. Tell me we\\'re not staying here. Come on in. This place is sinking. You mean, \"charming.\" It stinks. Okay, everybody, drop your bags off. We\\'re gonna meet at the da Vinci Museum at 3. Let\\'s go! ¡Vamonos! It\\'s \"andiamo.\" Andiamo! There you go. When in Rome, do as the Romans do. When you\\'re in Venice, your socks get wet. What\\'s up, Flash Mob? How you guys doing? I\\'m here in St. Marco Polo\\'s This is so much fun. Yeah? Three, two, one. Say \"pizza.\" Pizza! Pizza time! Hi. I\\'m looking for a It\\'s perfect. What? The most perfect word. Italians created it, I just discovered it. What does it mean? It can mean a million things. \"I don\\'t know.\" \"Get out of my face.\" \"I don\\'t know\" and \"Get out of my face.\" It\\'s the best thing Italy created, except for, maybe, espresso. Oh, so you\\'ve been drinking espresso. Hey. German? American. A rose for you. \"Boh\" is my new superpower. It\\'s like the anti-\"aloha.\" I was born to say this word. So, what\\'s in the bag? Nice. Whoa, cool. What was that? Betty! You okay? Yeah. Oh, my God! Come on. Guys, we gotta go! What is that? I don\\'t know. What\\'ll you do? Left my suit in the hotel. Why? I\\'m on vacation, Ned! Everyone will see my face. Get them out of here. Go! Just go! Get out of here. Go! Oh, my God. Come on. Oh, no, you don\\'t. You okay? Get out of here. Go! Excuse me, sir! I I can help. Let me help. I\\'m really strong, and I\\'m sticky. I need to lead it away from the canals. The da Vinci Museum. This is why we\\'re here in Venice. Oh, this is it. It\\'s closed. What do you mean? Till when? November. You didn\\'t check the website? Oh, that\\'s a good idea. Oh, come on. Stay low, kids. We\\'ll be safe here. Who is that guy? I don\\'t know, but he\\'s kicking that water\\'s ass. Yeah! Yeah! It\\'s aliens. It has to be. BuzzFeed says there\\'s a sailor named Morris Bench who was exposed to an experimental underwater generator and got hydro powers. Yeah, you should definitely believe everything you read on the Internet. Spider-Man could take him. What do you think it is? Being a man of science witches. No, no, no. We wanna stay. Good thing I packed your suit. I can\\'t believe you forgot it. Yeah. So who was that guy that you were with? Was that Mr. Strange? Doctor Strange, May. Doctor Strange. And, no, I don\\'t know who that was. It was a new guy. I was trying to help him Happy, that\\'s my lunch. Don\\'t eat that one. Happy\\'s there? Yeah, it\\'s Happy. He\\'s here. He came by to volunteer. And he\\'s hanging around the office. And he wants to say hi. I don\\'t want Hi, Peter. Hey, Happy. Sorry, I\\'m working hard here. I gotta do a A leaflet drop. What are you doing? Glad you\\'re having a good time. Don\\'t worry, I\\'m really taking care of your aunt. So how\\'s the plan going? There\\'s been setbacks, for sure. Don\\'t overthink it. Trust your instincts and you\\'ll be fine. I know. Love you. Bye. Who is that guy? He\\'s like Iron Man and Thor rolled into one. He\\'s all right. He\\'s no Spider-Man. What is it with you and Spider-Man? What? He\\'s just awesome, okay? He protects the neighborhood and he\\'s inspiring. He inspires me to be a better man. What\\'s up, dickwad? Thought you drowned. Sounds like his name\\'s Mysterio. \"L\\'uomo del misterio\" is Italian for \"man of mystery.\" They don\\'t actually know who he is. Mysterio. Cool name. Cool name. Babe. Babe. So how much of that did you see? Not much. I was running. Right. Me too. I was also running away. So Paris tomorrow. Go to the Eiffel Tower. Should be great. Yeah, I read it was secretly built as a mind-control antenna to create an army of the insane. Which is why it\\'s my favorite destination on the whole trip. What are you gonna do about the water monster? Nothing. It\\'s dead. Besides, that Mysterio guy\\'s all over it. I just wanna spend some time with MJ. We were talking about Paris, and I think she really likes me. That\\'s nice. Reminds me of when Betty and I first fell in love. I had just finished my fruit cobbler, right, and You\\'re a very difficult person to contact, Spider-Man. You\\'re Nick Fury. And you just shot Ned. It\\'s a mild tranquilizer. He\\'ll be all right. So good to finally meet you. I saw you at the funeral, but I didn\\'t think that was a good time to exchange numbers. That would\\'ve been inappropriate. That\\'s what I just said. Right. The important thing is, you\\'re here. I tried to bring you here. You avoided me, and now you\\'re here. What a coincidence. Wait. Was this a coincidence? I used to know everything. Then I come back five years later, and now I know nothing. No intel, no team. And a high school kid is dodging my calls. Here\\'s what I do know: A week ago, a village in Mexico was wiped out by a cyclone. Witnesses say that cyclone had a face. Three days later, a similar event in Morocco. A village was Just making the rounds. See if anyone needs any counseling after today\\'s traumatic events. No, we\\'ll be okay. We\\'re fine. Thank you. Great because I\\'m I\\'m not qualified to actually Oh, he\\'s passed out. I\\'m not qualified to do it anyway, so good night. That was my teacher. Sorry about that. You were saying? A village was destroyed by what may well be another world-threatening Babe, you still awake? You\\'re not answering any of my texts. He\\'s asleep, Betty. Oh, already? Yeah. Okay. That\\'s why it\\'s imperative Hey, boys. So that canal water today was filled with dangerous bacteria Another person touches that door, we are going to attend another funeral. Suit up. Let me know if you develop vomiting. Stark left these for you. Really? \"Uneasy lies the head that wears the crown.\" Stark said you wouldn\\'t get that because it\\'s not a Star Wars reference. You can lose the mask. Everyone here has seen you without it. You\\'d be feigning anonymity and breathing through spandex for no good reason. Come on. Yeah. Over there, we have Maria Hill. That is Dimitri. And this is Mr. Beck. Mysterio? What? Doesn\\'t matter. It\\'s just what my friends have been calling you. Well, you can call me Quentin. You handled yourself well out there today. I saw what you did with the tower. We could use someone like you on my world. Thanks. I\\'m sorry. Your world? Mr. Beck is from Earth. Just not yours. There are multiple realities. This is Earth Dimension 616. I\\'m from Earth 833. Sorry, you\\'re saying there\\'s a multiverse? I thought that was theoretical. That changes how we understand the initial singularity. We\\'re talking about an eternal inflation system. How does that even work with all the quantum? It\\'s insane. Sorry. It\\'s really cool. Don\\'t ever apologize for being the smartest one in the room. Anyway They were born in stable orbits within black holes. Creatures formed from the primary elements: Air, water, fire, earth. The Science Division had a technical name. We just called them Elementals. Versions of them exist across our mythologies. Turns out, the myths are real. Like Thor. Thor was a myth, now I study him in my physics class. These myths are threats. They first materialized on my Earth many years ago. We mobilized and fought them, but with each battle, they grew, got stronger. I was part of the last battalion left trying to stop them. All we did was delay the inevitable. The Elementals are here now, attacking the same coordinates. Our satellites confirm it. Thank Mr. Beck for destroying the other three. There\\'s only one left: fire. The strongest of them all. The one that destroyed my Earth. It\\'s the one that took my family. I\\'m sorry. And it will be in Prague in approximately 48 hours. We have one mission: kill it. And you\\'re coming with us. I\\'m sorry, did you say Prague? Mr. Fury, this all seems like bigtime, you know, huge superhero kind of stuff. And I\\'m just a friendly neighborhood Spider-Man, sir. Bitch, please. You\\'ve been to space. I know, but that was an accident. There\\'s gotta be someone else you can use. What about Thor? Off-world. Okay, Doctor Strange. Unavailable. Captain Marvel. Don\\'t invoke her name. Sir, look, I wanna help. I do. But if my aunt finds out I left my class trip, she\\'ll kill me. And if I\\'m seen in Europe after the Washington Monument, my class will figure out who I am, then Then the whole world will figure out who I am, and then I\\'m done. Okay. I understand. I\\'m sorry, what? Why don\\'t you get back before your teachers miss you and become suspicious. Dimitri. Take him back to the hotel, please. Yes. Thank you, Mr. Fury. And good luck. See you, kid. Yeah, see you. Bye, ma\\'am. Yeah. Drink lots of water. I\\'m gonna get you a vitamin C pill. You cannot get sick, okay? Okay. Thanks, baby. Hey, are you sure you\\'re good? Oh, dude, I\\'m fine. Okay. Nice. Don\\'t worry. Getting tranq\\'d in the neck by Nick Fury, probably the coolest thing to ever happen to me. It is pretty awesome. Yeah. I\\'m happy I don\\'t have to go to Prague. Seriously. Good news. We\\'re going to Prague. What? Prague? Yeah. Tour company called. They upgraded us. You should\\'ve heard me on the phone with them. I really gave them hell. All I heard was crying. Look at our upgraded ride. Whoa, bro, you see that? It\\'s pretty sick. I\\'m impressed, Mr. Harrington. Oh, come on. Peter, what? What\\'s going on? I think Nick Furyjust hijacked our summer vacation. I\\'m Mr. Harrington to the kids Oh, all right. Okay. Awesome. Yeah. Awesome. Yo, what\\'s up, Flash Mob? It\\'s your boy, the Big F, cruising through the Alps with my private driver, Dimitri. \"For the next Tony Stark, I trust you. Say EDITH.\" Stand by for retinal and biometric scan. Retinal and biometric scan accepted. Hello? Hello, Peter. I am EDITH, Tony Stark\\'s augmented-reality security and defense system. So he made you for me? No. But you have access to all of Tony\\'s protocols. Cool. Would you like to see what I can do? EDITH stands for \"Even dead, I\\'m the hero.\" Tony loved his acronyms. Yeah, he did. I have access to the entire Stark Global Security network, including multiple defense satellites, as well as back doors to all major telecommunication networks. Is MJ texting? No. Don\\'t look at it. Don\\'t look at it. That\\'s wrong. That\\'s wrong. Petrol and toilets. Ten minutes! Flash Mob, this is what we doing out here Toilet, toilet, toilet. Which way to the toilet? Ten minutes, everyone. Dimitri, where exactly are we? Okay. I\\'ll figure it out. Oh, my gosh, it\\'s so sick. It\\'s beautiful. What? Hello. Close the door. I\\'m Peter Parker. Take off your clothes. Excuse me? You told Fury Spider-Man cannot be seen in Europe. So I made you this, another suit. Oh, thank you. I\\'m sure it fits fine. I don\\'t need to try Take off your clothes. Okay. Sure. It\\'s a little embarrassing. Now. Hurry up. This is weird. No, no, no. Don\\'t Sorry. I thought this was the bathroom. This is not what it looks like. Just Yeah. What are you doing? I\\'ll leave you alone. Oh, my God. Don\\'t shoot anybody. Brad? It\\'s not what it looks like, buddy. Hey, man, look, that\\'s Look, Peter, I\\'m not here to judge your life choices, dude. If you want to hook up with some random European chick, that\\'s on you. That\\'s not what that was. I can\\'t pretend I didn\\'t see what I saw. I know you\\'re trying to get with MJ. It\\'s obvious. But I like her too. Wait a minute. Hey, hey. You cannot show her that photo, dude. I\\'m sorry, man. I have to. She deserves the truth. Okay, put your one foot in front of the other, and, everybody, back on the bus. It\\'s been 10 minutes. Let\\'s go! What\\'s up, Flash Mob? It\\'s your boy, Big F EDITH? Hello, Peter. How can I help you? Hey. There\\'s this guy in my class who\\'s gonna ruin everything with MJ Peter, I\\'m having difficulty hearing you. Can you please speak up? Brad Davis. He has a photo of me. Brad Davis. Is he a target? Is Brad a target? Yeah. He\\'s a target. He\\'s a target. Copy that. Target is Brad Davis. Initiating strike. Initiating what, now? Intercept point determined. Releasing kill vehicle. EDITH. Oh, my God. Dope glasses, Parker. How\\'d you pay for these? Flash, give them back. I\\'m really paying you a compliment. Please give me I\\'m so sorry. EDITH, don\\'t kill Brad. Do you want me to cancel the drone strike on Brad Davis? Did you punch Flash? No. Firing. Oh, look out! Hey, this is not the autobahn! EDITH. Harrington! Is this the autobahn? Appears to be. Commencing second strike. Peter. Plant your fanny and buckle up now. Look at the baby mountain goats! Baby mountain goats? I see them. I don\\'t see any mountain goats. You missed them. I know you think none of us have noticed, Peter What? but your new look, I love it. Right, babe? Thanks. Yeah. Sophisticated, classy, very European. Oh, man. Let\\'s try that again. This is so weird. It was right here on my phone. I Yeah. Weird. Whoa, freaking beautiful. This is amazing. Wow, this place is so classy. Yeah, so why are we here? Speak for yourself. I\\'m home. What can I say? The squeaky wheel gets the upgrade grease. Everyone get settled, rest up because tonight, big surprise, is Prague\\'s annual Carnival of Lights. Yeah! Hello? Parker, it\\'s Hill. There\\'s an earpiece with your suit. Put it on and await further instructions. Understood? Yes, ma\\'am. Yeah. Hey, man. Hey. Look, I am so sorry if I seem like I\\'m preoccupied with my relationship. I\\'m still your guy in the chair. No, it\\'s all good. Don\\'t worry about it. Okay. Great, great. It\\'s fine. So, what\\'s the status on the Elemental thing? Where\\'s it gonna happen? Here in the city. We\\'re here. I know. It\\'s not good. I\\'m figuring it out. You have to do something, please. We\\'re counting on you. Ned. Yeah. Yeah, babe. The good news is, we\\'ve all got our own rooms. It\\'s about time. Serious? Parker? Parker! Yes, sir. That thing is going to be here in a few hours. Are we boring you? He\\'s not bored. He\\'s thinking about how you kidnapped him. He had obstacles. I removed them. They still won\\'t evacuate the city. Idiots. So, what\\'s the plan, Parker? I will be in the cathedral tower, keeping watch for the fire monster. When that shows up, I will radio you guys, and then Mr. Beck and I will My name is Mysterio. That\\'s when Mysterio and I will move in. Peter, listen to me. The best hope you have, the only hope, is to stop it here now, no matter what the cost. Maneuver it away from civilians if you can, but most important, keep it away from metal. If it gets too big, it\\'ll draw power from the Earth\\'s core. After that, there\\'s no way to stop it. Hey, my friends are here. I can\\'t help but think we\\'re putting them in danger. You\\'re worried about us hurting your friends? You, who called a drone strike on your own school tour bus? Stark gave you a multibillion-dollar A.R. tactical intelligence system, and the first thing you do with it is try and blow up your friends. It\\'s clear to me that you were not ready for this. Fury asked me to come up here and see how you were doing. He just He felt bad about snapping at you. Really? You guys do have sarcasm on this Earth, right? How you feeling? I didn\\'t think I was gonna have to save the world this summer. I know that makes me sound like such a jerk. I just I had this plan with this girl that I really like and now it\\'s all ruined. You\\'re not a jerk for wanting a normal life, kid. It\\'s a hard path. You see things. You do things. You make choices. People look up to you and even if you win a battle, sometimes they die. I like you, Peter. You\\'re a good kid. There\\'s a part of me that wants me to tell you, just turn around, run away from all this. Then there\\'s another part of me that knows what we\\'re about to fight, what\\'s at stake, and I\\'m glad you\\'re here. Me too. But you\\'re worried about your friends. Yeah. Just always feel like I\\'m putting them in danger. Look, just get them inside and keep them in a safe place for just a few hours. They\\'ll be all right. It\\'s really nice to have somebody to talk to about superhero stuff, you know? Anytime. And, hey, we survive this, you\\'ll have all summer to kill Brad. See you out there. All right. Sorry, that\\'s Italian. Okay. EDITH? Oh, come on. Hello, Peter. Hey. I need a way to keep my friends inside the next few hours. Let\\'s see what we can do. Good news. We\\'re going to the opera! You\\'re kidding me. The opera? Don\\'t look at me. What happened to the carnival? This is upgrade living. Come on. The tour company just gave us these tickets. For free! Do you have any idea how much opera tickets cost? No, because none of us have ever wanted to go to the opera, ever. I think this is gonna be culturally enriching for us. Thank you, Ned. Everyone, this is gonna be, maybe, the best four hours of our whole trip. Four hours? Guys, I think this is gonna be really fun. Seriously. I bet now you\\'re all happy I had you pack a nice outfit. Yeah, because we\\'d much rather go to a four-hour opera instead of the biggest party in the world. Again, don\\'t look at me. Parker, do you copy? Comm check, one, two. Okay, here we are. Beat the rush. Yeah, the rush out. Lucky for us, we got the best seats in the house. Let\\'s go. Hey. I\\'ll save you a seat. You look really pretty. And therefore, I have value? No, that\\'s not what I meant at all. I was just I\\'m messing with you. Thank you. You\\'re welcome. You look pretty too. Thank you. Oh, my gosh! Opera glasses! So cute. Can I? Yeah. Want to go in on a pair? You mean, sit next to each other? Yeah. Are you in position? No. Okay. No Why the hell not? Parker? you don\\'t want to sit next to me, or, no, you just don\\'t want the glasses? I didn\\'t mean that. If you go ahead, I\\'ll go grab us a pair. I\\'ll save you a seat next to me. A lot of seats, so I\\'ll be up there. Awesome. Okay. Parker. No, I\\'m coming. I\\'m Hey, I gotta go. Could you tell MJ that I\\'m sick or something? Okay. Be careful. And whatever you do, please steer the monster away from the opera house. Yeah, Ned, I know. Okay. Okay? Yeah. Gotta go. Parker! You better be on your way. Coming. Where do you think she\\'s going? To the carnival? Oh, I I don\\'t We should go. Yes, we should go. Come on, let\\'s go. Come on. All right. I\\'m in position. As soon as I see something, Beck, I\\'ll I\\'ll let you know. Roger that. How\\'s the suit? The suit\\'s great. It\\'s awesome. It\\'s a little tight around the old web-shooter. Parker! Okay, I\\'ll shut up. Oh, my God, babe, isn\\'t this beautiful? Yeah, it\\'s real beautiful, babe. What\\'s wrong? You know, honestly, I just I don\\'t do well with big crowds, so maybe we should I have the perfect thing. Come on. Don\\'t worry, babe. We\\'ll get away from the crowds, get some fresh air. You\\'ll feel a thousand times better. Energy spiking. We have seismic activity. Okay, he\\'s here! Beck, you ready? You know what to do. On your lead, Spider-Man. No, come back! Come back and help us! You\\'re up, kid. Wait, wait. Is that? Do you think that\\'s Spider-Man? No, no, no. It\\'s a European rip-off version of him. I actually read about him. It\\'s not him. No, Beck! He\\'s got the carousel! He\\'s getting bigger! What\\'s his name? What\\'s his name? It\\'s Night Night Monkey. Night Monkey? Yeah. Yeah. Night Monkey! Yeah. Night Monkey. Night Monkey, help! Save us! Night Monkey, we\\'re stuck! What? Oh, no, no. Help us! Help! Are you okay? On to Plan B? Yeah! We gotta hit him with something he can\\'t absorb! I go left, you go right! Now! Okay, shoot him! Yeah! That hurt him. Keep it coming. Spider-Man, keep your distance. I\\'m trying! Can\\'t let him get near the Ferris wheel. Okay. I\\'m on it! Whoa, what is that?! Betty! Betty! That\\'s it! Nice! Nice! You got him! No, no, no. It\\'s too late. Whatever happens I\\'m glad we met. Beck, what are you doing? What I should have done last time. Beck, don\\'t do it! Beck! Mr. Beck? Oh, thank God. I would kiss you, but I think I threw up in my mouth a little. I might have a mint. So it\\'s over? That was the last of them. But not the last threat we\\'ll ever face. We need to stay vigilant. There\\'s a void in this world for someone like you. Hill and I are going to Europol headquarters in Berlin tomorrow. You should join us. Thank you. I just might take you up on that. You got gifts, Parker, but you didn\\'t wanna be here. Mr. Fury, I I\\'d love to have you in Berlin too. But you got to decide whether you\\'re going to step up or not. Stark chose you. He made you an Avenger. I need that. The world needs that. Maybe Stark was wrong. Was he? The choice is yours. Let\\'s get a drink. I\\'m not 21. Hey. You gotta celebrate. We did something good tonight. Yeah. Fury was right. Tony did a lot for me so I owe it to him, to everybody. Do you? Yeah. I mean Mr. Stark gave me the chance to be more. He wanted me to be better than him. And Fury wants me to live up to that. What do you want? What do you mean? What do you want? I don\\'t know. What do you want? Peter Parker. Now. I know you\\'re thinking about it. I wanna go on my trip. I want to go back on my trip with my friends. And go to the top of the Eiffel Tower with the girl who I really like and tell her how I feel and give her a kiss. Shut up, man. You\\'re not gonna do that, are you? No, I can\\'t. Why not? Because I have too much of a responsibility. My God. Thank you so much. What are those? Are those the? EDITH glasses, yeah. They were just on the floor? Try them on. Let\\'s see how they look on you. Yeah? Yeah. I actually really like them. Can I be completely honest with you? Please. They look really stupid. But maybe they have a contact-lens version. You try them on. No, come on. Try them on. I don\\'t wanna try them on. Just put them on. What do you think, kid? \"Next Tony Stark, I trust you.\" \"For the next Tony Stark, I trust you.\" What? Stark left me a message with those glasses: \"For the next Tony Stark, I trust you.\" I\\'m still not following. How many lemonades have you had? He knew every mistake I ever made. He must\\'ve known I wasn\\'t ready for something like this. Why give it to you? Maybe he didn\\'t trust me to have EDITH, he just trusted me to pick who should. It makes much more sense. He knew I\\'d do what\\'s right. And he\\'s not gonna give them to Fury because Fury would give himself EDITH. You\\'re probably right. Right, so the world needs the next Iron Man. And it\\'s not me. I\\'m a 16-year-old kid from Queens. It needs to be an adult with some experience and that\\'s good like Tony Stark, like you. No. Peter, come on. No. EDITH? Hello, Peter. Hi. Yeah I\\'d like to transfer your control over to Quentin Beck. Peter, what are you doing? Doing the right thing. Any transfer will require confirmation. Stark gave you the glasses. Stark gave me a choice. It\\'s my choice to make, okay? And I\\'m gonna make it. You\\'re a soldier, a leader. You stopped the Elementals. You saved my life. You saved the world, okay? He\\'d want you to have them. Waiting for confirmation. Confirm. Welcome to the Avengers. They look good on you. Thank you. It\\'s an honor. Yeah. Mr. Stark would\\'ve really liked you. Where you headed? I\\'m gonna go find MJ. Good luck, kid. I\\'ll give you a fifty-fifty chance. You\\'re pretty awkward. Yeah. See you later, man. See you. See? That wasn\\'t so hard. Yes! Somebody get this stupid costume off me! Okay, we got EDITH. Get these connected to our system. Toast! Toast! Toast! No, this is a big win, but we still got a lot of work to do. Toast! Toast! Toast! Yeah! Okay, toasts! Give me that, Doug. To the man who brought us all together, our former boss, Tony Stark. The jester king. Literally wrapped in wealth and technology that he was unfit to wield. Like the holographic system I designed. A revolutionary breakthrough with limitless applications that Tony turned into a self-therapy machine and renamed Binarily Augmented Retro-Framing, or BARF. Oh, $611 million for my little therapeutic experiment. He renamed my life\\'s work \"BARF.\" I told him it was a mistake, that my technology could change the world. And then he fired me. Said I was unstable. To Tony. To Tony! Next, to William. William! Tony Stark was able to build this in a cave! With a box of scraps! The integration of my illusion tech with your weaponized drones was brilliant. Powerful illusions, real damage, worked like a charm. And it\\'s just the beginning. Thank you, brother. To Guterman. Guterman! To Guterman! The story you created of a soldier from another Earth named Quentin fighting space monsters in Europe is totally ridiculous and apparently the kind of thing people will believe right now. I mean, everybody bought it. Gutes! Guterman! To Victoria. To Victoria! Staging electromagnetic pulses at each attack site so Fury\\'s own satellites would confirm our lies. Inspired idea. To Janice. Janice! After Tony died, she was the one who discovered that EDITH was being handed over not to us, not to the Defense Department, but to a child. Thank you. To Janice! And to the rest of you, Tony Stark is gone. There is a window of opportunity, and someone will step up. But these days, you can be the smartest guy in the room, the most qualified, and no one cares. Unless you\\'re flying around with a cape or shooting lasers from your hands, no one will even listen. Well, I\\'ve got a cape and lasers. With our technology and with EDITH, Mysterio will be the greatest hero on Earth! Yeah! Then everyone will listen! Not to a boozy man-child. No! Not to a hormonal teenager. No! To me and to my very wealthy crew. To us. To us. To Mysterio! To Mysterio! To Peter Parker. To Peter Parker! Poor kid. Let\\'s get to work. Peter, oh, my God. Hey. Hey. We almost died. It\\'s fine. It\\'s fine. Hey, I\\'m done with the mission. Dude, the trip\\'s over. What? There\\'s monsters coming out of the ground. Of course our parents want us home. Don\\'t put me on hold. Peter, you\\'re not dead. Oh, my God. Yes, good. Stay here. Don\\'t Put some clothes on. We\\'re booking flights. We came for science, we\\'re leaving because of witches. Welcome to the new Dark Ages. What is going on? We\\'re going home in the morning. No, no. All the Elementals are gone. Ned. Coming, sweetie. Hey, can you guys keep it down? I\\'m live-streaming. Yeah. Hey. Hey. Where were you? I got lost. We were worried about you. Good thing you\\'re back. Yeah. So much for Paris. It would\\'ve been fun. Yeah. Night. Night. You look ni Okay. Hey. Hey. Look I\\'m not ready for this trip to be over yet, and I kind of want to do something fun that\\'s not on the itinerary or planned or with Mr. Harrington. Yes. \"Yes,\" like you wanna go? Yes. Awesome. I\\'ll see you outside in 10 minutes. Meet me outside in five minutes. Five is good. Okay. Okay, bye. Bye. Night Monkey, help us! Help! Night Monkey! Hey. Hey. Where do you wanna go? Who cares? Awesome. Okay. Let\\'s go. I\\'m glad we\\'re doing this. Yeah, me too. To see the city a bit. They used to execute people on this bridge. They would put them in a basket, and they would drown in the water. Sorry. It\\'s okay. There\\'s this thing I\\'ve been wanting to talk to you about for a while. Yeah? It\\'s our last night in Europe, and I had this plan that I wanted to tell you. I\\'m just gonna tell you. MJ, I \"I\\'m Spider-Man.\" What? That\\'s what you were gonna say. That you\\'re Spider-Man. No. I\\'m not Spider-Man. I\\'ve been watching you for a while now. It\\'s kind of obvious. I\\'m not Spider-Man. What would make you think that I was Spider-Man? Peter, Washington? Yeah? The fact that you disappear out of nowhere for no reason. No, I was sick. Remember? I had my The tummy? Susan Yang thinks you\\'re a male escort. What? Of course I\\'m not a male escort. Then you\\'re Spider-Man. I\\'m not Spider-Man at all. What about tonight? You snuck off, and you fought that thing. I saw you. You can\\'t have seen me because I\\'m not Spider-Man. Also, on the news, it was the Night Monkey. The Night Monkey? Yeah. That\\'s what it said on the news, and the news never lies. Night Monkey. Okay. What are you doing? Well, do the Night Monkey and Spider-Man use the same webs? I mean, maybe. Maybe he\\'s a Spider Monkey. Who knows? Were you only watching me because you thought I was Spider-Man? Yeah. Why else would I be watching you? Doesn\\'t matter. Just thought that maybe What the hell was that? I don\\'t know. What is it, some kind of projector or something? Yeah, but it\\'s really advanced. It It looked so real. It Yeah, really real. Wait, does that mean that? The Elementals are fake? That doesn\\'t make any sense because we were there, right? There was fire and destruction, and Who would do something like that? Mysterio. I am Spider-Man. And I\\'ve really messed up. Wait. You\\'re being serious? You\\'re 100 percent serious? Because it\\'s not funny. No, I\\'m not joking. Because I was I was only like 67 percent sure. MJ So why are you here? Why are you on this school trip? I know you have a lot of questions, but we have to get out of here, okay? Okay. Okay. I can\\'t believe I figured it out! You took everything from me! This is for my family! Pause. Pause. Sorry. Yeah, can you just fast-forward to the end? Yep. Stand by. All right, fly, fly, fly, zap, zap, zap. Pause. I\\'m not in love with this choreography, but it\\'ll do. Kill image. De-cloak drones. All right, weapons. You want to weaponize? Yep. Weapons only. Stand by. Nice. Stop. Something. I don\\'t know what it is. It\\'s something Just dou You know what? Double the damage and then run it again. You want me to double it up? Yeah. All right. Cover your ears. That is good! That\\'s good. We on schedule? Oh, yeah. Uploading software hack to EDITH network. With her drones, we\\'ll create an event big enough to cover an entire city. All right, well done. Make sure every drone is weapons-hot. We need maximum damage. That is gonna cause a lot of casualties. Oh, yeah. More casualties, more coverage. I gotta cut through the static. London is a beautiful city, and it will suffer, but they can rebuild. If I\\'m the next Iron Man, I need to save the world from an Avengers-level threat. But when its new savior descends, all those casualties will be forgotten. Janice, you\\'ll be in position with my quick-change armor for the victory lap? Of course. Do you wanna try? No, no, that\\'s What\\'s going on with my hand? Why is that happening? Oh, one of the drones that came back from the plaza was missing a projector. It\\'s fine. Wait, and you\\'re? You\\'re telling me this now? It\\'s It\\'s one drone. The image will be perfect, I promise. That projector is evidence. It\\'s going to tell people what we\\'re doing and how we\\'re doing it. I am trying to fool 7 billion people here, including Nick Fury, who happens to be the most paranoid and most dangerous person on the planet. If he catches on before I\\'ve killed him, he will put a bullet in my head. And nobody wants a bullet in their head, right? Right? William, can you look at me? Pull up EDITH. Hello, Quentin. Hi, honey. I need a level-five search, full-resource protocol for this device. Magnifying. There. Search everything going in and out of that building. Located. Shit. You know, William, one day, after I\\'ve had to kill Peter Parker because of this, I hope you remember that his blood is on your hands! I can\\'t believe I gave Beck those glasses. How could I be that stupid? He\\'s probably spying on me right now or sending a drone to come and kill me. You had access to killer drones? Yeah, I didn\\'t really want them, especially after I almost killed Brad. You almost killed Brad? Look, I have to call Mr. Fury and tell him that Beck\\'s a fraud but I think he tapped my phone. So, what are you gonna do? I need my suit, and I have to go to Berlin and talk to Mr. Fury in person. Just Oh, Ned, perfect. The costume looks great for the costume party at the prince\\'s castle. She knows. I told her. He didn\\'t tell me. I figured it out. That\\'s cool. Like, a long time ago. Look, Mysterio is a fraud. But he saved me and Betty\\'s lives. He\\'s been faking the whole thing with illusion tech. Yeah, he\\'s using these, like, hologram projectors. That\\'s crazy. Yeah. So you guys were working the case together or what? It\\'s been mostly me. Ned, I need you to call May, get her to call Mr. Harrington, say she wanted me to stay with family in Berlin, okay? Got it. Easy. Wow, you guys lie with such ease. I gotta go. Wait, wait, wait. The projector. You\\'re gonna need this. Don\\'t tell anyone about this, okay? Anyone who knows is in danger. So you know too. It\\'s cool. I\\'ve known first, and I\\'ve known longer, but it\\'s not a competition. Excuse me. Do you know where? Nacht Monkey! No, wait, I didn\\'t Oh, man. Get in. Mr. Fury You\\'ve got a lot of explaining to do. No, no, no, listen. Wait until we\\'re secure. Okay. Right. So is there anything you want to tell us about your girlfriend? He\\'s talking about EDITH. I know I made a mistake, and I\\'m sorry, but he is not who you think he is. Beck is a liar. Mysterio, the Elementals, it\\'s all fake. He has some sort of illusion tech. That\\'s how he tricked you and tricked me into giving him EDITH. It\\'s a projector. I pulled it off the fire monster in Prague. So all that death and destruction we witnessed was created by this? No, not just this. I think he\\'s using drones. Well, if this is true, then Beck\\'s very dangerous and we need to be smart. Who else did you tell about this? Parker? Parker! What\\'s wrong? It\\'s Beck. He\\'s here. What? Hill? No, it\\'s just an illu Fury! Wow, Peter, wow. I thought we were close. Fury always had to die, but not you. Stop hiding, Beck! I tried to help you walk away. Now you\\'re making me do this. You told me, you were just a kid. You told me, you wanted to run after that girl. Help me! MJ! Oh, God! Peter, what\\'s going on? I know this isn\\'t real. Do you, though? MJ! MJ! I don\\'t think you know what\\'s real, Peter. You need to wake up! I mean, look at yourself. You are just a scared little kid in a sweat suit. I created Mysterio to give the world someone to believe in. I control the truth. Mysterio is the truth. If you were good enough, maybe Tony would still be alive. Deep down, you know I\\'m right. You made your choice. And all you had to do was step aside. And now you have Fury. Beck\\'s people are trying to find everyone who could expose him. Who\\'d you tell? I know you told someone, so just tell me. Okay. Who did you tell? Who else did you tell?! Just Ned and MJ from my class. Maybe Ned told his girlfriend Betty, but that\\'s it. What? You are so gullible. What? You\\'re smart as a whip. Just a sucker. And now all your friends have to die. Oh, my God. It\\'s easy to fool people when they\\'re already fooling themselves. But for what it\\'s worth, Peter, I really am sorry. EDITH. Yes, Quentin. Access files to Peter Parker\\'s class trip. I need them to fly home from London. Hi. Where am I? Municipal holding facility. They said they found you unconscious at the train yard. Very dangerous. And we gave you the shirt because you seemed a bit cold. Thanks. You guys are nice. You speak really good English. Welcome to the Netherlands. I\\'m in the Netherlands right now? Yep. Bye. Guard! The guard is on a break. Probably talking to his wife. Yeah, she\\'s pregnant. Oh, yeah? Yeah. Yeah. Yeah. Night Monkey. Yeah. You guys okay? Excuse me, sir? Yeah? Could I borrow your phone? Yeah. Everyone is so nice here. Okay. Okay. Pick up, pick up, pick up. Hey, hey I messed up. I need a I need a ride. Where am I? Where am I, sir? It\\'s Broek op Langedijk. Hang on. Could you say that into there? Hi. It\\'s Broek op Langedijk here. Yeah, no problem. Thanks. Did you get that? Peter? Are you okay? Happy, is that you? Yeah, of course it\\'s me. Stop! Tell me something only you would know. Only I would know Remember when we went to Germany? You pay-per-viewed a video in your room? They didn\\'t list the titles, but I could tell by the price it was an adult film. And you didn\\'t know how I knew Okay, fine! It\\'s you. Stop. It\\'s so good to see you. You\\'ll have to tell me what the hell is going on here. Okay, hold still. There we go. Ouch. I thought you had super strength. It still hurts. Happy, come on. All right, relax. Just a few more. There we go. Oh, my God, Happy. Relax. Don\\'t tell me to relax, Happy! How can I relax when I messed up so bad? I trusted Beck. Right? I thought he was my friend. I gave him the only thing Mr. Stark left for me, and now he\\'s gonna kill my friends and half of Europe, so please do not tell me to relax. I\\'m sorry, Happy. I\\'m sorry. I shouldn\\'t shout. I just really miss him. Yeah, I miss him too. Everywhere I go I see his face. And the whole world is asking who\\'s gonna be the next Iron Man and I don\\'t know if that\\'s me, Happy. I\\'m not Iron Man. You\\'re not Iron Man. You\\'re never gonna be Iron Man. Nobody could live up to Tony. Not even Tony. Tony was my best friend. And he was a mess. He second-guessed everything he did. He was all over the place. The one thing that he did that he didn\\'t second-guess was picking you. I don\\'t think Tony would have done what he did if he didn\\'t know that you were gonna be here after he was gone. Now, your friends are in trouble, you\\'re all alone, your tech is missing. What are you gonna do about it? I\\'m gonna kick his ass. But I mean, right now. Specifically, what are we gonna do? Because we\\'ve been hovering over a tulip field for the last 15 minutes. Right. I can\\'t call my friends because he\\'s tracking their phones. Give me your phone. My cell phone? Yeah. Okay. Here. What\\'s your password? \"Password.\" No, what is your password? \"Password,\" spelled out. Head of security, and your password is \"password\"? I don\\'t feel good about it either. Hello, governor. Cup of tea for you? I\\'m gonna be in London soon. They\\'re in London. London, okay. Yeah, I need a suit. Suit? Okay bring up everything you have on Spider-Man. Yeah, open that. Okay, no, no, no. What? Nothing. You take care of the suit. I\\'ll take care of the music. Oh, I love Led Zeppelin. Okay, can you pull up my web-shooters? Isolate the Taser webs, and reconfigure and boost the voltage to a factor of 25 percent, and give me complete manual control over detonation. I thought Kree having sleeper cells was top secret information. Nick, satellites are picking up an EM pulse. I thought that was over. It\\'s the biggest one yet. Where? London. Okay, the company set up a city tour, and then we\\'ll grab a bite and head to the airport. Is no one else going to acknowledge how crazy this is? Oh, yeah, I get it. There\\'s been nothing scientific about this science tour at all. No, I\\'m talking about Peter. Has no one noticed how shady he is? Because I saw him in the back room of a rest stop with some woman in his underwear, and he\\'s always sneaking away, like back at the opera, huh? Now he\\'s suddenly off the trip, with his family in Berlin? Is no one else interested in the truth? \"The very concept of objective truth is fading out of the world.\" George Orwell. Thank you, MJ. Yeah. Well, since Peter\\'s not really here to tell his truth, what about you, Brad? Why take pictures of people in the bathroom? Yeah, what\\'s that about? No, no, no, it wasn\\'t like that. It was I was trying to take a Let\\'s just put all this craziness behind us and have a nice, peaceful afternoon. \"Sounds great, Mr. Harrington,\" said the class. Okay. I\\'m gonna be a cool teacher right now. You gotta stop doing that. It is weird. No more photos in the bathroom. Urinal or stalls. Okay? Look at this, guys. Mr. Harrington, this is your bus. We got a bus all to ourselves. Nice to see you all. Come along. I\\'ll get this, yeah? Why not? Thank you. Yeah. Thank you, brother. All right. I have the kids. I got here as fast as I could. I did a full perimeter sweep. Nothing. Damn it. Pulse is spiking. I\\'ll take another look. Soon as you see something, report. You\\'re all we\\'ve got, Beck. If this is what I fear, then God help us, Fury. God help us all. Okay, people, no Avengers coming. Good to go. William, launch the drones. Copy that, brother. Drones are entering the atmosphere weapons-hot. Excellent. Janice? Working on the cape. Get those wrinkles out. I could be shaking hands with the queen. Guterman? Almost in position. Okay. Hit it, Victoria. Increasing pulse. Whatever this thing is, it\\'s 100 times bigger than the previous ones. EDITH? Yes, Quentin. Show me my loose ends. Once the show\\'s going, execute the kill order on my command. Copy. All right. Start the show. Let\\'s save the world, people. I don\\'t like this. Something\\'s definitely up. You\\'re an FOS now. \"Friend of Spider-Man.\" And you have to remember, just stay calm. That doesn\\'t look good. But it\\'s fake, there\\'s nothing to worry about. And the kids are in the kill zone. Great work, Guterman. What? Happy Hogan here. I know. What do you want? Over at Mr. Stark\\'s, going through his belongings. There was a surfboard you left behind. What? People there said they didn\\'t think Nick Fury was a surfer, but I said: \"Appearances can be deceiving.\" It\\'s not mine. And don\\'t ever call again. Fury\\'s got the coded message. Your friends are at the Tower Bridge. Your boy called it London Bridge, but I figured it out. I\\'ll scoop them up, okay? Yeah. We\\'re close. We\\'re close. How\\'s the suit? Almost done. Good. Wait, wait, whoa, whoa. Before you go if something happens to me, could you please give this to MJ? You\\'ll make it back. You\\'ll give it to her yourself. Okay? You got this. I got this. Walk me through it. I know it\\'s illusion tech. All I have to do is get inside the illusion, then I can take it down, find him, and he\\'s just a guy, so I can take EDITH right back. Right, but last time, you got hit by a train. True, but this time How do I explain this? I have a sixth sense. The Peter-tingle. That\\'s what you\\'re talking about, right? It\\'s not working, though. I heard it wasn\\'t working right now. Is it? It is working. I don\\'t know if it\\'s working So you got the Peter-tingle. That\\'s the plan. I\\'m gonna go get your friends. You get that Peter-tingle back online. I got this. Cue the lightning. Cuing lightning. Sir, is it still safe on the top, or should we all come down? Oh, my. What did the bus driver say? Bus driver\\'s gone. What?! Where?! It\\'s okay. Mr. Dell and I have it under control! Oh, no. Don\\'t drag me into this, Roger. I\\'m doing my best, Julius! Look Oh, the witches are back. Oh, my God, get off the bus! Okay. Okay, follow me, kids. Come on, let\\'s go! Now, that is an Avengers-level threat. This way. This way! Okay. Okay. Oh, my God! Flash! Follow that cursed hand. This way, kids. Follow me. It\\'s not real, it\\'s not real! It looks real to me! Follow me, kids! Earth, wind, fire, water. Oh, no. Theyjoined forces like the Power Rangers. You\\'re thinking of Voltron. Who? Voltron! You\\'re thinking of Voltron! Hey, look, it\\'s Mysterio! He\\'s gonna save us! If Mysterio knows we know Then we\\'re in danger. Yeah, and so are they. We should go. Kill that witch! This is for my family! Get somewhere safe, Fury. I don\\'t see this ending well. I appreciate your concern, but I never leave my men behind. All right, comms check. Can you hear me, kid? I can. It\\'s a little loud out here. I like the new suit. Thanks. Whoa, Peter, you sure that\\'s not real? Yeah, it\\'s just 100 times bigger than I expected. Still the play? We need to get high enough so Beck doesn\\'t see me coming. Copy. Stay sticky. Hey, Happy. Yeah, kid. What is it? We need to have a serious conversation about you and my aunt! Beck, report! Guterman, I need a response. Something quick and decisive. \"It\\'s all the Elementals. They\\'re merged into something\" into something else. Something more powerful. It\\'s drawing energy from the Earth\\'s core. See, now, that\\'s some bullshit. Is that? Be ready for anything. Yeah. It\\'s not real, it\\'s not real, it\\'s not real! That\\'s awesome. William, I\\'ve got drones breaking formation. Maybe they hit a flock of birds. You\\'re fine. I wanna see what\\'s happening Taking manual control. Do you see anything? Yeah. And I\\'m gonna kill him. I hope this works. You got me? I got you. Boss, the illusion is coming apart. I see you. EDITH, give me protection. Copy. Just kill the illusion. Kill it. I\\'m not gonna kill it. They\\'ll see. They\\'ll see what I want them to see! Do you still need the cape? Yes, Janice. I still need the cape. Done. William, render my illusion suit. All right, hang on. The monster was full of drones! It\\'s crazy! There you are. Easy. Who the hell is that? Ned! Happy! I gotta get you guys out of here! Get on the jet! Who are you? I work with Spider-Man, okay? Get on that jet. You work for Spider-Man? I work with Spider-Man, not for Spider-Man. New plan. Into the Tower. What? Happy, are you okay? We\\'re okay. Just get Beck. EDITH, target Spider-Man. Copy. I\\'ll just kill the kids myself. There you are. Into the Crown Jewels vault! Yeah, go, go, go! Come on. Go! Into the vault! The walls are 8 feet thick. Go into the vault! What? Into the vault. Go! Take cover! Okay. Yeah? No. No. I see you. Get that thing out Go! How does Cap do that?! Happy, say something, to let me know you\\'re alive! I\\'m here. I\\'m here. Happy, thank God. I bought us some time. But not much. I\\'m trying to get to Beck, but I can\\'t shake these drones! Gotcha. Going up! Finally. Hey, William, how we doing? Illusion almost back up. I don\\'t know how you\\'re gonna spin this. Oh, great. No webs. Are we gonna die? Nobody dies on my watch. I wasted my life playing video games, and we\\'re gonna die. I have a fake ID, and I\\'ve never even used it. I post stupid videos daily for people to like me. Hey, if it wasn\\'t for those stupid videos, Spider-Man would\\'ve never found you. Spider-Man? Spider-Man follows me? I saved us, guys. If you saved us, why are we about to die? MJ! Stop it! I\\'m sorry, okay? I\\'m obsessed with telling the truth even if it hurts people\\'s feelings. I\\'m in love with Spider-Man\\'s aunt. We\\'re sharing, right? Your lies are over, Beck. This certainly isn\\'t ideal, but I have contingencies. EDITH? Just give me the glasses. You want these? Come and get them. Come on, Peter-tingle. Why aren\\'t these drones firing? You\\'re in the strike zone. The chance of getting hit is No, fire all the drones now! Beck! Beck. You lied to me. I trusted you. I know. That\\'s the most disappointing part. You\\'re a good person, Peter. Such a weakness. Stark was right. You do deserve them. You can\\'t trick me anymore. EDITH, turn off the drones. Biometric scan complete. Welcome back, Peter. Execute all cancellation protocols? Just do it. Execute them all. Confirmed. Give me the spear. That\\'s a halberd. Thank you. How could you do all of this? You\\'ll see, Peter. People, they need to believe. And nowadays they\\'ll believe anything. Is he? Is this real? All illusions are down, Peter. Yeah! Hey, where you going? MJ. Hey. Hey. Hey. Are you okay? I\\'m okay. Are you okay? Yeah. Yeah. Is everybody else okay? Yeah, everyone\\'s okay. What happened? There was just the drones, and they were following us, and then theyjust stopped. Was that you? Yeah. Did you get him? Yeah. Well, I brought that. In case you needed some help. Thanks. Anyway, there was this sweaty guy in the tower with us. I think he works for you or something. He He gave me this. No. No. Oh, MJ, I\\'m so sorry. I had this stupid plan. Peter. I wrote it down, I was gonna buy you this and give it to you in Paris at the top And you kissed me. What? What? Yeah. I don\\'t really have much luck when it comes to getting close to people. So I lied. I wasn\\'t just watching you because I thought you were Spider-Man. That\\'s great. Black dahlia, like the murder. The murder. Good. Yeah. Sorry it\\'s broken. I actually like it better broken. I really like you. I really like you too. Okay. I should I should probably get back to the class. I\\'ll go and Yeah. I don\\'t know. Okay. Just in case. Yeah, no. No, May, you\\'re right. He did great. He was strong. Yeah. I\\'m glad he stayed too. I gotta go. I\\'m glad you\\'re alive. I guess the coded message worked. \"Appearances can be deceiving.\" I\\'m surprised you didn\\'t just wink in the camera. It worked. Only because I had serious doubts about Beck from the beginning. Not true. He had zero doubts. Where\\'s Parker? He\\'s with a girl. I need to speak with him. He\\'ll call you. He\\'ll? Okay. Great. Well, he better. Or it\\'s your ass. And don\\'t even think about ghosting me. Are you sure no one else has figured it out? Yeah, it\\'s not like anybody really pays attention to you. Ouch. Except for me. Thanks. Don\\'t be late. I won\\'t. See you later. You guys are so cute. Thanks. I was thinking we should all go on a double date or something. Oh, we broke up. Oh, we broke up. No. What? Why? Men and women grow apart, but the journey they share together will always be a part of them. You are so wise. Thank you. Hello, Gerald. Could Mother not make it? May! I promise you Oh, he\\'s here. Don\\'t give me a ticket. I\\'m so glad you\\'re okay. No, for real, I\\'m good. I\\'m actually really fine. Let\\'s go. Where are your bags? Oh, right. They got blown up. Yeah. I got you some hot buttered bagels. Thank you so much. I know my boy. I kept my identity pretty guarded this past couple years. I faced a lot of deception. And I\\'m tired of the lies. So it\\'s time for the truth to be out there. Are you dating? Yes. Not really. What? Well I think Summer fling. Yes, that evolves and grows like any other. I still don\\'t know where it\\'s going to go. Open to wherever it might lead. Anywhere. On or off. To share it with people We\\'ll always be friends, no matter what. I\\'m gonna go because I\\'ve got a date. because we all are interconnected. Bye. We are. Sorry! Hey. Sorry I\\'m late. Hey. It\\'s fine. You ready? Yeah. You\\'re gonna love this. Okay! Okay! Okay. Okay. You ready? Yeah. I\\'m just not gonna watch. I\\'m not gonna watch. I should stop looking. I\\'m gonna stop looking! Okay. You can put me down now! You can put me down now! You okay? Yeah. Yeah, I\\'m okay. Let\\'s just Never, never doing that again. I\\'m never doing that again. Okay. I should probably get out of here. Be safe. See you later. This is breaking news. We come to you with revelations about last week\\'s attack in London. An anonymous source provided this video. It shows Quentin Beck, aka Mysterio, moments before his death. A warning, you may find this video disturbing. I managed to send the Elemental through the rift, but I don\\'t think I\\'m gonna make it. Spider-Man attacked me for some reason. He has an army of weaponized drones, Stark technology. He\\'s saying he\\'s the only one who\\'s gonna be the new Iron Man, no one else. Are you sure you want to commence the drone attack? There will be significant casualties. Do it. Execute them all. This shocking video was released earlier today on the controversial news website TheDailyBugle.net. There you have it, folks, conclusive proof that Spider-Man was responsible for the murder of Mysterio, an interdimensional warrior who gave his life to protect our planet and who will no doubt go down in history as the greatest superhero of all time. But that\\'s not all, folks. Here\\'s the real blockbuster. Brace yourselves. Spider-Man\\'s real Spider-Man\\'s real name is Spider-Man\\'s name is Peter Parker. What the fu? You gotta tell him. It was fine. The little boy handled it. We helped. Talos. Come off it. How was I supposed to know that the whole thing was fake? I mean, that was all very convincing. The performances, the illusion, that costume, the craftsmanship in that. This is just embarrassing for a shape-shifter. Fine. Hey there. I hope your mission is going well. We gave the glasses to Parker about a week ago, like you said. And it was very touching, you know? Really, really quite touching. Talos. And, you know, shortly after that, it really kind of went off the rails, and so we need you to come back because everyone kept asking where the Avengers are, I don\\'t know what to say to that, so you\\'re lucky that Spider-Man won Everybody back to work! Who\\'s got my shoes? There\\'s a girl in this harbor town And she works layin\\' whiskey down They say, \"Brandy, fetch another round\" And she serves them whiskey and wine The sailors say \"Brandy, you\\'re a fine girl\" \"What a good wife you would be\" - Come on! - Slow down! This way, my river lily! Come on! Where are you taking me? Come on, come on. Look. Look! Oh, it\\'s beautiful! I was afraid it wouldn\\'t take to the soil... but it rooted quickly. And soon, it\\'ll be everywhere. All across the universe. Well, I don\\'t know what you\\'re talking about... but I like the way you say it. My heart is yours... Meredith Quill. I can\\'t believe I fell in love with a spaceman. Showtime, a-holes! It will be here any minute. Which will be its loss. I thought your thing was a sword? We\\'ve been hired to stop an interdimensional beast... from feeding on those batteries, and I\\'m gonna stop it with a sword? It\\'s just, swords were your thing and guns were mine. But I guess we\\'re both doing guns now. I just didn\\'t know that. Drax, why aren\\'t you wearing one of Rocket\\'s aero-rigs? It hurts. It hurts? I have sensitive nipples. \"My nipples hurt! Oh, goodness me!\" What about him? What\\'s he doing? I\\'m finishing this so we can listen to tunes while we work. How is that a priority? Blame Quill. He\\'s the one who loves music so much. No, I actually agree with Drax on this. That\\'s hardly important right now. Oh, okay. Sure, Quill. No, seriously, I side with Drax. No, I understand that. You\\'re being very serious right now. I can clearly see you winking. Damn it. I\\'m using my left eye? I am Groot. They were not looking at you funny. Well, that\\'s intense. Groot! Groot, get out of the way! You\\'re gonna get hurt! Hi. No! Spit it out! Come on! Disgusting! The beast\\'s hide is too thick to be pierced from the outside. I must cut through it from the inside. Huh? No, no! Drax, wait a minute! Drax! What is he doing? He said the skin is too thick to be pierced from the outside, so he... - That doesn\\'t make any sense! - I tried telling him that! Skin is the same level of thickness from the inside as from the outside! I realize that. There is a cut on its neck. Rocket, get it to look up. Hey, you giant Sea-Monkey! Up here! Watch it, Quill! Yes! I have single-handedly... vanquished the beast! What? What are they called again? Anulax batteries. Harbulary batteries. That\\'s nothing like what I just said. But they\\'re worth thousands of units apiece... which is why the Sovereign hired us to protect them. Careful what you say around these folks. They\\'re easily offended. The cost of transgression is death. We thank you, Guardians, for putting your lives on the line. We could not risk the lives of our own Sovereign citizens. Every citizen is born exactly as designed by the community. Impeccable, both physically and mentally. We control the DNA of our progeny... germinating them in birthing pods. I guess I prefer to make people the old-fashioned way. Perhaps someday, you could give me a history lesson... in the archaic ways of our ancestors. For academic purposes. I would be honored, yes. In the name of research... I think that could be pretty, uh... repulsive. I\\'m not into that kind of casual... Oh, please. Your people promised something in exchange for our services. Bring it... and we shall gladly be on our way. Family reunion. Yay. I understand she is your sister. She\\'s worth no more to me than the bounty due for her on Xandar. Our soldiers apprehended her attempting to steal the batteries. Do with her as you please. We thank you, High Priestess Ayesha. What is your heritage, Mr. Quill? My mother is from Earth. And your father? He ain\\'t from Missouri. That\\'s all I know. I see it within you. An unorthodox genealogy. A hybrid that seems particularly... reckless. You know, they told me you people were conceited douchebags... but that isn\\'t true at all. Oh, shit. I\\'m using my wrong eye again, aren\\'t I? I\\'m sorry. That was meant to be behind your back. Count yourself blessed they didn\\'t kill you. You\\'re telling me. You wanna buy some batteries? All right, let\\'s get baldy to Xandar and collect that bounty. That stuff about my father... Who does she think she is? I know you\\'re sensitive about that. I\\'m not sensitive about it. I just don\\'t know who he is. Sorry if it seemed like I was flirting with the High Priestess. I wasn\\'t. I don\\'t care if you were. Well, I feel like you do care. That\\'s why I\\'m apologizing. So, sorry! Gamora is not the one for you, Quill. Damn shadow. There are two types of beings in the universe... those who dance, and those who do not. Mmm-hmm. I first met my beloved at a war rally. Oh, God. Everyone in the village flailed about, dancing. Except one woman. My Ovette. I knew immediately she was the one for me. The most melodic song in the world could be playing. She wouldn\\'t even tap her foot. Wouldn\\'t move a muscle. One might assume she was dead. That does sound pretty hot. It would make my nether regions engorge. Okay. I get it, yes. I\\'m a dancer, Gamora is not. You just need to find a woman who is pathetic... like you. Mmm. I\\'m hungry. Hand me some of that yaro root. No. It\\'s not ripe yet... and I hate you. You hate me? You left me there while you stole that stone for yourself. And yet here you stand, a hero. I will be free of these shackles soon enough, and I will kill you. I swear. No. You\\'re gonna live out the rest of your days in a prison on Xandar... wishing you could. This is weird. We\\'ve got a Sovereign fleet approaching from the rear. Why would they do that? Probably because Rocket stole some of their batteries. Dude! Right. He didn\\'t steal some of those. I don\\'t know why they\\'re after us. What a mystery this is. What were you thinking? Dude, they were really easy to steal! - That\\'s your defense? - Come on! You saw how that High Priestess talked down to us. Now I\\'m teaching her a lesson! Oh, I didn\\'t realize your motivation was altruism. It\\'s really a shame the Sovereign have mistaken your intentions... - and they\\'re trying to kill us. - Exactly! I was being sarcastic! Oh, no! You\\'re supposed to use a sarcastic voice! Now I look foolish! Can we put the bickering on hold... until after we survive this massive space battle? - More incoming! - Good! I wanna kill some guys! You\\'re not killing anyone. All those ships are remotely piloted. Damn it! What is the delay, Admiral? High Priestess, the batteries, they are exceptionally combustible... and could destroy the entire fleet. Our concern is their slight against our people. We hired them and they steal from us. It is heresy of the highest order. All command modules... fire with the intent to kill. What\\'s the nearest habitable planet? It\\'s called Berhert. - How many jumps? - Only one. But the access point is 47 clicks away. And you have to go through that quantum asteroid field. Quill, to make it through that... you\\'d have to be the greatest pilot in the universe. Lucky for us, I... I am. What are you doing? I\\'ve been flying this rig since I was 10 years old. I was cybernetically engineered to pilot a spacecraft. You were cybernetically engineered to be a douchebag! Stop it. Later on tonight, you\\'re gonna be laying down in your bed... and there\\'s gonna be something squishy in your pillow case. And you\\'re gonna be like, \"What\\'s this?\" And it\\'s gonna be because I put a turd in there! You put your turd in my bed, I shave you. Oh, it won\\'t be my turd. It will be Drax\\'s. I have famously huge turds. We\\'re about to die, and this is what we\\'re discussing? Son of a... Dude! Seriously! Hey! Let me... Idiots! Well, that\\'s what you get when Quill flies. Ow! We still have a Sovereign craft behind us. Our weapons are down. 20 clicks to the jump! Hold on. It\\'s not ripe. Come on, Zylak. You can do this. Yes! 15 clicks to the jump! Come on! Keep going! 10 clicks! Die, spaceship! You suck, Zylak. Typical. Five clicks! Son of a... They went around the field! Someone destroyed all our ships! What? Who? One click! - What is that? - Who cares? That\\'s the jump point! Go! It\\'s a guy. Oh, my God. He\\'s still out there? Groot, put your seatbelt on! Prepare for a really bad landing! That was awesome! Yes! Look at this! Where is the other half of our ship? My ship. Either one of you could have gotten us through that field... had you flown with what\\'s between your ears instead of what\\'s between your legs! If what\\'s between my legs had a hand on it... I guarantee I could have landed this ship with it. Peter, we almost died because of your arrogance. More like because he stole... the Anulax batteries! They\\'re called Harbulary batteries. No, they\\'re not! Do you know why I did it, Star-Munch? Hmm? I\\'m not gonna answer to \"Star-Munch.\" I did it because I wanted to! Dick. What are we even talking about this for? We just had a little man save us by blowing up 50 ships! How little? Well, I don\\'t know, like this? A little one-inch man saved us? Well, if he got closer, I\\'m sure he would be much larger. That\\'s how eyesight works, you stupid raccoon. Don\\'t call me a raccoon! I\\'m sorry. I took it too far. I meant trash panda. Is that better? I don\\'t know. It\\'s worse. It\\'s so much worse. You son of a... Hey! - I\\'ve had it with you! - No! Back up! Someone followed you through the jump point. Set me free, you\\'ll need my help. I\\'m not a fool, Nebula. You are a fool if you deprive yourself a hand in combat. You\\'ll attack me the moment I let you go. No, I won\\'t. You\\'d think an evil supervillain would learn how to properly lie. I bet it\\'s the one-inch man. After all these years, I\\'ve found you. And who the hell are you? I figured my rugged good looks would make that obvious. My name is Ego... and I\\'m your dad, Peter. You know what they say... \"You\\'re out of luck until you\\'ve gone duck.\" Yondu! Come on down! After going around years in circles... with this woman I end up marrying. I said, \"Aleta, I love you, girl... \"but you\\'re losing your mind!\" Then again, she\\'s always been that way. I could never trust her. You know? Stakar. It\\'s been some time. It seems like this establishment is the wrong kind of disreputable. - Sir! - Stakar! There\\'s a hundred Ravager factions. You lost the business of 99 of them by serving one. Please, sir. Please! Get away from me. You can go to hell then! I don\\'t give a damn what you think of me! So what are you following us for? Because you\\'re gonna listen to what I gotta say! I don\\'t gotta listen to nothing! You betrayed the code! Ravagers don\\'t deal in kids. I told you before! I didn\\'t know what was going on! You didn\\'t know because you didn\\'t want to know because it made you rich. I demand a seat at the table! I wear these flames, same as you. You may dress like us... but you\\'ll never hear the Horns of Freedom when you die, Yondu. And the Colors of Ogord... will never flash over your grave. If you think... I take pleasure in exiling you... you\\'re wrong. You broke all our hearts. Ah, pathetic. First, Quill betrays us... and Yondu just lets him go scot-free. We followed him because he was the one... who wasn\\'t afraid to do what needed to be done. Seems he\\'s goin\\' soft. If he\\'s so soft, why are you whispering? You know I\\'m right, Kraglin. You best be very careful what you say about our captain. Who the hell is that? Yondu Udonta... I have a proposition for you. I hired Yondu to pick you up... when your mother passed away. But instead of returning you... Yondu kept you. I have no clue as to why. Well, I\\'ll tell you why. Because I was a skinny little kid who could squeeze into places adults couldn\\'t. It made it easier for thievin\\'. Well, I\\'ve been trying to track you down ever since. I thought Yondu was your father. What? We\\'ve been together this whole time... and you thought Yondu was my actual blood relative? You look exactly alike. One\\'s blue! No, he\\'s not my father! Yondu was the guy who abducted me... kicked the crap out of me so I could learn to fight... and kept me in terror by threatening to eat me. - Eat you? - Yeah. Oh, that son of a bitch. How\\'d you locate us now? Well, even where I reside, out past the edge of what\\'s known... we\\'ve heard tell about the man they call Star-Lord. What say we head out there right now? Your associates are welcome. Even that triangle-faced monkey there. I promise you... it\\'s unlike any other place you\\'ve ever seen. And there... I can explain your very special heritage. Finally get to be... the father I\\'ve always wanted to be. Excuse me. I\\'ve gotta take a whiz. I\\'m not buying it. Let\\'s go take a walk. I am Mantis. What are you doing? Smiling. I hear it is the thing to do to make people like you. Not if you do it like that. Oh... I was raised alone on Ego\\'s planet. I do not understand the intricacies of social interaction. Can I pet your puppy? It is adorable. Yes. That is called a practical joke! I liked it very much! I just made it up! Give me a break! After all this time, you\\'re gonna show up, and all of a sudden... - you wanna be my dad? - I hear you. And by the way, this could be a trap. The Kree purists, the Ravagers... - they all want us dead. - I know, but... But what? What was that story you told me about Zardu Hasselfrau? Who? He owned a magic boat? David Hasselhoff? Right. Not a magic boat. A talking car. Why did he talk again? To help him fight crime, and to be supportive. As a child, you would carry his picture in your pocket... and you would tell all the other children... that he was your father, but that he was out of town. Shooting Knight Rider or touring with his band in Germany. I told you that when I was drunk. Why are you bringing that up now? I love that story. I hate that story. It\\'s so sad! As a kid, I used to see all the other kids off playing catch with their dad. And I wanted that, more than anything in the world! That\\'s my point, Peter. What if this man is your Hasselhoff? If he ends up being evil... we will just kill him. You\\'re leaving me with that fox? He\\'s not a fox. Shoot her if she does anything suspicious. - Or if you feel like it. - Okay. It\\'ll be just a couple of days. We\\'ll be back before Rocket\\'s finished fixing the ship. What if the Sovereign come? There\\'s no way for them to know we\\'re here. Let\\'s go. I\\'m uncertain about parting ways. God, you\\'re like an old woman. Because I\\'m wise? Why do you have so much luggage? I don\\'t want Groot playing with my things. I hope Daddy isn\\'t as big of a dick as you, orphan boy. What is your goal here? To get everybody to hate you? Because it\\'s working. And if you don\\'t love me now You will never love me again I can still hear you saying You would never break the chain And if you don\\'t love me now You will never love me again I can still hear you saying You would never break the chain And if you don\\'t love me now You will never love me again I can still hear you saying You would never break the chain Hey, can I ask you a personal question? Oh... No one has ever asked me a personal question. Your antennae, what are they for? Their purpose? Yes. Quill and I have a bet. Dude. You\\'re not supposed to say that! I say... if you are about to go through a doorway that is too low... your antennae will feel this, and keep you from being decapitated. Right. And if it\\'s anything other than... you specifically not being decapitated by a doorway, I win. They are not for feeling doorways. I think... they have something to do with my empathic abilities. What are those? If I touch someone, I can feel their feelings. - You read minds? - No. Telepaths know thoughts. Empaths feel feelings. Emotions. May I? All right. You feel love. Yeah. I guess I feel a general, unselfish love for just about everybody. No! Romantic, sexual love. No, I don\\'t. - For her! - No! Okay. She just told everyone your deepest, darkest secret! Dude, I think you\\'re overreacting a little bit! You must be so embarrassed! Do me! Do me! I have never felt such humor! So unbelievably uncool. Oh, Quill. Touch me, and the only thing you\\'re gonna feel is a broken jaw. I can also alter emotions to some extent. Yeah, like what? If I touch someone who is sad... I can ease them into contentment for a short while. I can make a stubborn person compliant. But I mostly use it to help my master sleep. He lies awake at night thinking about his progeny. Do one of those on me. Sleep. I love this song. Huh? There! Ah... Ain\\'t so tough now without all your toys... are you? Move! Crap. Hey there, rat! How\\'s it going, you blue idiot? Not so bad. We got ourselves a pretty good little gig here. This golden gal with quite a high opinion of herself... has offered us a large sum to deliver you and your pals over to her... because she wants to kill y\\'all. Your friend... There\\'s too many of them. He needs my help. If you care about him... you need to get me out of these bonds. They are going to kill him! I tell you, it was pretty easy to find you. I put a tracer on your ship back there... during the war over Xandar. Give me your word you won\\'t hurt Groot... and I\\'ll tell you where the batteries are. Lucky for you, my word don\\'t mean squat. Otherwise, I\\'d actually hand you over. Otherwise, you\\'d what? We\\'ll take them batteries. They\\'re worth what? A quarter mill on the open market? That Priestess offered us a million. A quarter is only one third of that! A quarter ain\\'t a third. A quarter is 25. No. We can\\'t even buy a pair of boots with 25 units. Enough! The point is, we ain\\'t stupid enough to help kill the Guardians of the Galaxy! The whole dang Nova Corps would be on us. That ain\\'t right! I just gotta say it this one time, Captain. No matter how many times Quill betrays you... you protect him like none of the rest of us much matter! Yeah! I\\'m the one what sticks up for you! Take it easy, Kraglin. Damn straight, lad. He\\'s gone soft. Suppose it\\'s time for a change in leadership. Put your damn guns down! Whoa! Whoa! There must be some kind of peaceful resolution to this, fellas. Or even a violent one where I\\'m standing over there. Well, hello, boys. It\\'s not ripe. Welcome, everyone, to my world. Wow. You have your own planet? Come on. No larger than your Earth\\'s Moon. Humility. I like it. I, too, am extraordinarily humble. You own a planet and can destroy two dozen spaceships without a suit. What are you exactly? I\\'m what\\'s called a Celestial, sweetheart. A Celestial, like a god? Mmm, small \"g,\" son. At least on the days I\\'m feeling humble as Drax. Whoa! I don\\'t know where I came from exactly. First thing I remember is flickering... adrift in the cosmos utterly... and entirely alone. Over millions of years... I learned to control the molecules around me. I grew smarter and stronger. And I continued building from there... layer by layer... the very planet you walk on now. Whoa. But I wanted more. I desired... meaning. \"There must be some life out there in the universe... \"besides just me,\" I thought. And so, I set myself the task of finding it. I created... what I imagined biological life to be like... down to the most minute detail. Did you make a penis? Dude! What is wrong with you? If he is a planet, how could he make a baby with your mother? He would smush her! I don\\'t need to hear how my parents... Why? My father would tell the story of impregnating my mother every winter solstice. That\\'s disgusting. It was beautiful. You Earthers have hang-ups. Yes, Drax, I got a penis. Ha! Thank you! It\\'s not half bad. - Oh. - Ugh. I\\'ve also got pain receptors, and a digestive system... and all the accompanying junk. I wanted to experience what it truly meant to be human... as I set out amongst the stars... until I found... what I sought. Life. I was not alone in the universe after all. When did you meet my mother? Not long after. It was with Meredith that I first experienced love. I called her my river lily. And from that love, Peter... you. I have searched for you for so long. And when I heard of a man from Earth... who held an Infinity Stone in his hand without dying... I knew you must be the son of the woman I loved. If you loved her, why did you leave her? This is mutiny! This is mutiny! You\\'re scum! Oh! Captain! Help me! Please! Captain! You\\'re the one what killed those men... by leading them down the wrong path. Because you\\'re weak. And stupid! It\\'s time for the Ravagers... to rise once again to glory with a new captain... Taserface! I\\'m sorry. Your name is... It\\'s Taserface? That\\'s right. Do you shoot tasers out of your face? It\\'s metaphorical! Yeah! For what? For it is a name what strikes fear... into the hearts of anyone what hears it. Okay. Okay... whatever you say. You shut up. You\\'re next. Udonta, I have waited a long time to do... What? I\\'m sorry. I am so sorry! I just keep imagining you waking up in the morning, sir... looking in the mirror and then in all seriousness saying to yourself... \"You know what would be a really kick-ass name? \"Taserface!\" That\\'s how I hear you in my head! What was your second choice? Scrotum Hat? New plan. We\\'re killing you first. Well, dying is certainly better than having to live an entire life... as a moronic shitbag who thinks Taserface is a cool name. That\\'s enough killing for today. She\\'s the daughter of Thanos. I thought you were the biggest sadist in the galaxy. That was when Daddy was paying my bills. The Priestess wants to kill the fox herself. And he has bounties on his head in at least 12 Kree provinces. I assure you... I am not as easy a mark as an old man without his magic stick... or a talking woodland beast. I want 10% of the take... and a couple more things. We got a whole box of hands... - if that one don\\'t work out. - It is fine. You think them Kree is gonna execute the captain? The Kree consider themselves merciful. It will be painless. Well, here it is. It\\'s the best ship we got. Location of Ego\\'s planet in the nav. We\\'ll wire you the 10% once we\\'s paid. What are you gonna do with your share? As a child, my father would have Gamora and me battle one another in training. Every time my sister prevailed... my father would replace a piece of me with machinery... claiming he wanted me to be her equal. But she won... again and again, and again, never once refraining. So after I murder my sister... I will buy a warship with every conceivable instrument of death. I will hunt my father like a dog, and I will tear him apart slowly... piece by piece... until he knows some semblance of the profound and unceasing pain... I know every single day. Yeah. I was talking about, like, a pretty necklace. Or a nice hat. Something to make the other girls go, \"Ooh, that\\'s nice!\" Anyways, happy trails. My mother told everyone my father was from the stars. She had brain cancer, so everyone thought she was delusional. Peter... Listen, I\\'d love to believe all of this, I really would. But you left... the most wonderful woman ever... to die alone. I didn\\'t want to leave your mother, Peter. If I don\\'t return regularly to my planet... and the light within it... this form will wither and perish. So why didn\\'t you come back? Why did you send Yondu? A criminal, of all people, to come and fetch me? I loved your mother, Peter! I couldn\\'t stand to set foot on an Earth... where she wasn\\'t living! You can\\'t imagine what that\\'s like! I know exactly what that feels like! I had to watch her die! Over the millions and millions of years of my existence... I\\'ve made many mistakes, Peter. But you\\'re not one of them. Please give me the chance to be the father she would want me to be. There\\'s so much that I need to teach you about this planet... and the light within. They are a part of you, Peter. What do you mean? Give me your hands, son. Here. Hold them like that. Now, close your eyes and concentrate. Take your brain to the center of this planet. Yes! Whoa! Yes! It\\'s okay. Just relax. Concentrate. You can do it. Bring it back. Yes! Yes, now shape it. Feel that energy. Yes. You\\'re home. Peter... How did you get to this weird, dumb planet? Ego found me in my larva state. Orphaned on my homeworld. He raised me by hand, and kept me as his own. So you\\'re a pet? I suppose. People usually want cute pets. Why would Ego want such a hideous one? I am hideous? You are horrifying to look at. Yes. But that\\'s a good thing. Oh? When you\\'re ugly, and someone loves you... you know they love you for who you are. Beautiful people never know who to trust. Well, then I\\'m certainly grateful to be ugly. Those pools, they remind me of a time... when I took my daughter to the forgotten lakes of my homeworld. She was like you. Disgusting? Innocent. Drax? There\\'s something I must tell you. What\\'s going on? This gross bug lady is my new friend. I\\'m learning many things, like I\\'m a pet and ugly. You\\'re not ugly. Drax! What are you talking about? Mantis... can you show us where we\\'ll be staying? Why are there no other beings on this planet? The planet is Ego. A dog would not invite a flea to live on his back. And you\\'re not a flea? I\\'m a flea with a purpose. I help him sleep. What were you about to say to Drax before I walked out? Nothing. Your quarters are this way. We deliver you to the Kree in the morning. Neither one of you will last much longer after that. Okay, Taserface. Hey, tell the other guys we said... \"Hi,\" Taserface! What about this little plant? Can I smash it with a rock? No, Gef. It\\'s too adorable to kill. Take it to the tailor. No offense, but your employees are a bunch of jerks. I was a Kree battle slave for 20 years when Stakar freed me. He offered me a place with the Ravagers. He said all I needed to do was adhere to the code. But I was young... and greedy, and stupid. Like you stealing those batteries. That was mostly Drax. Me and Stakar and the other captains... we weren\\'t so different from you and your friends. The only family I ever had. When I broke the code... they exiled me. This is what I deserve. Slow down, drama queen. You might deserve this, but I don\\'t. We gotta get outta here. Where\\'s Quill? He went off with his old man. - Ego? - Yeah. It\\'s a day for dumbass names. You\\'re smiling. And for a second, I got a warm feeling. But then it was ruined by those disgusting-ass teeth. You like a professional asshole or what? Pretty much a pro. Why didn\\'t you deliver Quill to Ego like you promised? He was skinny. Could fit into places we couldn\\'t. Good for thievin\\'. Uh-huh. I got an idea on how to get outta here. But we\\'re gonna need your little friend. Mascot, mascot, mascot... Little fellow\\'s all worked up! He needs a drink! Look how cute it is when it\\'s all riled up. He\\'s goddang precious! Psst! Hey, twig! Come here. Come on. Aw, man... what did they do to you? Hey, you wanna help us get outta here? There\\'s something I need you to get, and bring back to me. In the captain\\'s quarters, there\\'s a prototype fin... the thing I wore on my head. There\\'s a drawer next to the bunk. It\\'s in that. It\\'s red. You got it? That\\'s my underwears. Yeah, I was pretty sure he didn\\'t know what you were talkin\\' about. You have to explain it more careful. It\\'s a prototype fin. That\\'s an orloni. It\\'s a fin, Groot. You explain it this time. All right. That\\'s Vorker\\'s eye. He takes it out when he sleeps. Go. Look again. But leave the eye here. Why? He\\'s gonna wake up tomorrow... and he\\'s not gonna know... where his eye is! That\\'s a desk. We told you it was this big. Tell me you guys have a refrigerator somewhere... with a bunch of severed human toes. Okay. Then let\\'s just agree to never discuss this. The drawer you wanna open has this symbol on it. Okay? What? No! He thinks you want him to wear it as a hat. That\\'s not what I said! I am Groot. He\\'s relieved you don\\'t want him to. - I am Groot. - He hates hats. I am Groot. On anyone, not just himself. I am Groot. One minute you think someone has a weird-shaped head... the next minute it\\'s just because you realize part of that head is the hat. That\\'s why you don\\'t like hats? This is an important conversation right now? That ain\\'t it. I didn\\'t mean to do a mutiny. They killed all my friends. Get the third quadrant ready for release. One more thing. You got any clones of Quill\\'s old music on the ship? Ah. He\\'s got it! Yondu\\'s got the fin! Go! Down there! Oh! You maniac. The whole ship\\'s gonna blow. Not the whole ship. Who is this? I am sending you the coordinates for Yondu\\'s ship. - Release the quadrant! - Aye, Captain! I only ask one thing. That your High Priestess... tell him the name of the man what sealed his fate. Taserface! Where to, Captain? Ego. No, boy! It ain\\'t healthy for a mammalian body to hop more than 50 jumps at a time. I know that. We are about to do 700! So I guess this could all be mine someday. Rocket? Rocket, are you there? What are you doing, Peter? Dance with me. I\\'m not going to dance with you. This is Sam Cooke... one of the greatest Earth singers of all time. Drax thinks you\\'re not a dancer. If you ever tell anyone about this... I will kill you. When are we gonna do something about this unspoken thing between us? What unspoken thing? This... Cheers, Sam and Diane... a guy and a girl on a TV show who dig each other... but never say it because if they do, the ratings would go down... sort of thing. There\\'s no unspoken thing. Well, it\\'s a catch-22, because if you said it, then it would be spoken... and you would be a liar. So, by not saying it... you are telling the truth, and admitting that there is. No, that\\'s not what I... What we should be discussing right now is something about this place. It doesn\\'t feel right. What are you talking about? You\\'re the one who wanted me to come here! That girl Mantis... she\\'s afraid of something. Why are you trying to take this away from me? I\\'m not trying... He\\'s my father. He\\'s blood. You have blood on Earth and you never wanted to return there. Again, you made me come here! And Earth is the place where my mother died in front of me. No, it\\'s because that place is real, and this is a fantasy. This is real! I\\'m only half human, remember? That\\'s the half I\\'m worried about. Oh, I get it. You\\'re jealous... because I\\'m part-god, and you like when I\\'m the weak one. You were insufferable to begin with. I haven\\'t been able to reach Rocket. I\\'m gonna go outside, and I\\'m gonna try and get a signal. You know what? This is not Cheers after all! This is whatever the show is where one person is willing... to open themselves up to new possibility, and the other person is a jerk... who doesn\\'t trust anybody! It\\'s a show that doesn\\'t exist. That\\'s why it would get zero ratings! I don\\'t know what Cheers is! I finally found my family. Don\\'t you understand that? I thought you already had. Damn it. Psychopath! Are you kidding me? I win. I win. I bested you in combat. No. I saved your life. Well, you were stupid enough to let me live. You let me live! I don\\'t need you always trying to beat me! I\\'m not the one that just flew across the universe just because I wanted to win. Do not tell me what I want. I don\\'t need to tell you what you want! It\\'s obvious! You were the one who wanted to win. And I just wanted a sister! You were all I had. But you were the one who needed to win. Thanos pulled my eye from my head... and my brain from my skull... and my arm from my body... because of you. You all right, son? I saw your girl stomp off a little earlier in quite a huff. Yeah. It\\'s fortuitous... you listening to this song. - You know... - Brandy? By Looking Glass? A favorite of your mom\\'s. Yeah, it was. One of Earth\\'s greatest musical compositions. Perhaps its very greatest. Yes! Peter, you and I, we\\'re the sailor in that song. He came on a summer\\'s day Bringing gifts from far away Like the child I put in your mother... or the freedom you brought Gamora. Brandy, you\\'re a fine girl What a good wife you would be My life, my love My lady is the sea The sea calls the sailor back. He loves the girl, but that\\'s not his place. The sea calls upon him as history calls upon great men. And sometimes we are deprived the pleasures of mortals. Well, you may not be mortal, but me... No, Peter... death will remain a stranger to both of us... as long as the light burns within the planet. I\\'m immortal? Mmm-hmm. Really? Yes! As long as the light exists. And I can use the light to build cool things... like how you made this whole planet? It might take you a few million years of practice... before you get really good at it. But, yes! What! Get ready for an 800-foot statue of Pac-Man with Skeletor... and Heather Locklear. You can do anything you want. I\\'m gonna make some weird shit. But you know, Peter, it is a tremendous responsibility. Only we can remake the universe. Only we can take the bridle of the cosmos... and lead it to where it needs to go. How? Come with me. Drax, Drax. Drax! Drax! We need to talk. I\\'m sorry. But I like a woman with some meat on her bones. What? I tried to let you down easily by telling you I found you disgusting. No, that\\'s not what I... What are you doing? I\\'m imagining being with you physically. Drax... I don\\'t like you like that. I don\\'t even like the type of thing you are. Hey! There\\'s no need to get personal. Listen! Ego\\'s gotten exactly what he wanted. I should have told you earlier. I\\'m stupid. You are in danger. What is that? Now, you need to readjust the way you process life. Everything around us, including the girl... Everything is temporary. We are forever. Doesn\\'t eternity get boring? Not if you have a purpose, Peter... which is why you\\'re here. I told you how all those years ago... I had an unceasing impulse to find life. But what I did not tell you was how, when I finally did find it... it was all so... disappointing. And that is when I came... to a profound realization. My innate desire to seek out other life... was not so that I could walk among that life. Peter... I have found meaning. I see it. Eternity! Oh, my God. We need to get off this planet. Oh, man. Anyway, before I was so rudely interrupted... At that time, I was a Federal Express man. What the hell you doing, boy? I could tell by how you talked about him... this Ego is bad news. We\\'re here to save Quill. For what? Huh? For honor? For love? No. I don\\'t care about those things. I wanna save Quill so I can prove I\\'m better than him! I can lord this over him forever. What are you laughing at me for? You can fool yourself and everyone else, but you can\\'t fool me. I know who you are. You don\\'t know anything about me, loser. I know everything about you. I know you play like you\\'re the meanest and the hardest... but, actually, you\\'re the most scared of all. Shut up! I know you steal batteries you don\\'t need... and you push away anyone who\\'s willing to put up with you... because just a little bit of love... reminds you how big and empty that hole inside you actually is. I said shut up! I know them scientists what made you, never gave a rat\\'s ass about you. I\\'m serious, dude! Just like my own damn parents who sold me... their own little baby, into slavery. I know who you are, boy. Because you\\'re me. What kind of a pair are we? The kind that\\'s about to go fight a planet, I reckon. All right, okay! Good. Wait. Fight a what? Who are you people? What is this place? Gamora, let her go! The bodies in the caverns... Who are they? You are scared. I call it the Expansion. It is my purpose... and now it is yours as well. It\\'s beautiful. Over thousands of years... I implanted thousands of extensions of myself... on thousands of worlds. I need to fulfill life\\'s one true purpose... To grow and spread... covering all that exists... until everything is... Me! What did she do to me? She already told me everything. I only had one problem. A single Celestial doesn\\'t have enough power for such an enterprise. But two Celestials... Well, now, that just might do. The bodies... are his children. Out of all my labors... the most beguiling was... attempting to graft my DNA with that of another species. I hoped the result of such a coupling would be enough... to power the Expansion. I had Yondu deliver some of them to me. It broke the Ravager code, but I compensated him generously... and to ease his conscience, I said I\\'d never hurt them. I mean, that was true. They never felt a thing. But one after the other, they failed me. Not one of them carried the Celestial genes. Until you, Peter. Out of all my spawn... only you carried the connection to the light. We need to find Peter now, and get off this damn planet. Ego will have won him to his side by now. - Then we just go. - No! - He\\'s our friend. - All any of you do... is yell at each other. You are not friends. You\\'re right. We\\'re family. We leave no one behind. Except maybe you. Oh, my God. For the first time in my existence... I am truly not alone! What is it, son? My friends. You see, that\\'s the mortal in you, Peter. Yes. We are beyond such things. Yes. - Now... - But my mother... You said you loved my mother. And that I did. My river lily who knew all the words to every song that came over the radio. I returned to Earth to see her three times. And I knew if I returned a fourth... I\\'d never leave. The Expansion... the reason for my very existence, would be over. So, I did what I had to do. But it broke my heart to put that tumor in her head. What? Now, all right... I know that sounds bad. Who in the hell do you think you are? You killed my mother! I tried... so hard... to find the form... that best suited you... and this is the thanks I get? You really need to grow up. I wanted to do this together... but I suppose you\\'ll have to learn by spending the next thousand years as a battery! Finally! Rocket? Keep that transmitter nearby, so I can find you. We\\'re in an old piece of construction equipment Yondu once used... to slice open the Bank of A \\'askavaria. Ego\\'s unhinged. I know. Get ready. Drop her, Kraglin. No. My life, my love My lady is the sea Peter... this is the sea. Oh... Hey, there, jackass! What is that thing? Out of the way, dumber, smaller Groot! I told you something didn\\'t feel right. \"I told you so.\" Just what I need to hear right now. Well, I came back, didn\\'t I? Because there\\'s an unspoken thing. There is no unspoken thing. What are you doing? You could\\'ve killed us all! Uh... \"Thank you, Rocket\"? We had it under control. We did not. That is only an extension... of his true self. He will be back soon. What\\'s Smurfette doing here? Whatever I need to do to get a damn ride home. She tried to murder me! I saved you, you stupid fox! He\\'s not a fox. - I am Groot. - I\\'m not a raboon, either. I am Groot. \"Raccoon.\" Whatever. How do we kill a Celestial? There\\'s a center to him. His brain, his soul, whatever it is... Some sort of protective shell. It\\'s in the caverns... below the surface. Yondu? Thrusters are out. Guess I should be glad I was a skinny kid. Otherwise, you\\'d have delivered me to this maniac. You still reckon that\\'s the reason I kept you around, you idiot? That\\'s what you told me, you old doofus. Once I figured out what happened to them other kids... I wasn\\'t just gonna hand you over. You said you were gonna eat me. That was being funny! Not to me! You people have issues. Of course I have issues. That\\'s my freakin\\' father! Thrusters are back up. - We should be going up! - We can\\'t! Ego wants to eradicate the universe as we know it. We have to kill him. Rocket! Got it! Whoo-hoo! So, we\\'re saving the galaxy again? I guess. Awesome! We\\'re really gonna be able to jack up our prices... if we\\'re two-time galaxy savers. I seriously can\\'t believe that\\'s where your mind goes. It was just a random thought, man. I thought we were friends. Of course, I care about the planets, and the buildings... and all the animals on the planets. And the people. Meh. The crabby puppy is so cute. He makes me wanna die! Pilots... release envoy units. Our sensors detect the batteries are below the surface of the planet. Dive! Um... Captain? Captain? Tell me why Ego wants you here? He needs my genetic connection to the light... to help destroy the universe. He tried to teach me how to control the power. So, could you? A little. I made a ball. A ball? I thought as hard as I could. It was all that I could come up with. You \"thought\"? You think when I make this arrow fly... I use my head? Whoa. There. That\\'s Ego\\'s core. That ore is thick, Rocket. I got it covered. We must hurry. It will not take Ego long to find us. Keep it steady. We drill into the center, we kill him! Captain? What is it, Kraglin? Hey, remember that Ayesha chick? - Yeah, why? - Uh... Oh, hell! Why aren\\'t you firing the lasers? They blew out the generator. I think I packed a small detonator. A detonator is worthless without explosives. Well, we got these. Is that thing strong enough to kill Ego? If it is, it\\'ll cause a chain reaction... throughout his entire nervous system. Meaning what? The entire planet will explode. We\\'ll have to get out of here fast. I rigged a timer. Go! He\\'s coming. Didn\\'t you say you could make him sleep? When he wants. He\\'s too powerful. I can\\'t! You don\\'t have to believe in yourself... because I believe in you. Sleep! I never thought she\\'d be able to do it... with as weak and skinny as she appears to be. I don\\'t know how long I can hold him. The metal\\'s too thick. For the bomb to work, we\\'d actually need to place it on Ego\\'s core. And our fat butts ain\\'t gonna fit through those tiny holes. Well... That\\'s a terrible idea. Which is the only kind of idea we have left. Unbelievable. \"Rocket, do this. Rocket, do that.\" What a day. All right, first you flick this switch, then this switch. That activates it. Then you push this button... which will give you five minutes to get out of there. Now, whatever you do... don\\'t push this button... because that will set off the bomb immediately and we\\'ll all be dead. Now, repeat back what I just said. - I am Groot. - Uh-huh. - I am Groot. - That\\'s right. - I am Groot. - No! No, that\\'s the button that will kill everyone! Try again. Hmm... - I am Groot. - Mmm-hmm. - I am Groot. - Uh-huh. I am Groot. No! That\\'s exactly what you just said! How is that even possible? Which button is the button you\\'re supposed to push? Point to it. No! Hey, you\\'re making him nervous! Shut up and get me some tape! Does anybody have any tape out there? I wanna put some tape over the death button. I don\\'t have any tape. Let me check. Yo, Yondu... Ow! Do you have any tape? Gamora? Do you have any tape? Tape! Never mind. Ow! Drax, do you have any tape? Yes, Scotch tape would work. Then why did you ask me if Scotch tape would work, if you don\\'t have any? Nobody has any tape! Not a single person has tape? Nope! Did you ask Nebula? Yes! Are you sure? I asked Yondu... - and she was sitting next to him. - I knew you were lying! You have priceless batteries and an atomic bomb in your bag. If anybody\\'s gonna have tape, it\\'s you! That\\'s exactly my point! I have to do everything! You are wasting a lot of time here! Whee! We\\'re all gonna die. Rear thrusters are out again! We\\'re done for without that generator! Guardians... perhaps it will provide you solace... that your deaths are not without purpose. They will serve as a warning... to all of those tempted with betraying us. Don\\'t screw with the Sovereign. This is gonna hurt. Promises, promises. Hey! No! No! No! No! We\\'re gonna blow! Peter! No! What? You look like Mary Poppins. Is he cool? Hell, yeah, he\\'s cool. I\\'m Mary Poppins, y\\'all! Mantis, look out! She\\'s just unconscious. How long until the bomb goes off? In the unlikely event that Groot doesn\\'t kill us all... about six minutes. Kraglin, we need the quadrant for an extraction. T-minus five minutes. Aye, Captain. Somebody\\'s gotta be up top when Kraglin arrives. Drax, take Mantis. Ow! My nipples! Gamora! Peter! Get over it. Come now, Peter. I know this isn\\'t what you want. What kind of father would I be to let you make this choice? Yeah! Soon, Peter, we will be all there is. So stop pissing me off! We have to get up to the extraction point! Go! I told you... I don\\'t want to do this alone. You cannot deny... the purpose the universe has bestowed upon you. Everyone, I need you to stay back! What is that? It doesn\\'t need to be like this, Peter. Why are you destroying our chance? Stop pretending you aren\\'t what you are. One in billions. Trillions. Even more. What greater meaning can life possibly have to offer? I don\\'t use my head to fly the arrow, boy! I use my heart... You shouldn\\'t have killed my mom, and squished my Walkman. And if you don\\'t love me now You will never love me again I can still hear you saying You would never break the chain And if you don\\'t love me now You will never love me again I can still hear you saying You would never break the chain And if you don\\'t love me now You will never love me again I can still hear you saying You would never break the chain Groot? If you can hear me, hurry up! I\\'m not sure how long Quill can keep him distracted! Groot, hurry! Yondu, we\\'re about to blow! Get to the ship! Not without Quill! You need to take care of the twig! Not without you! I ain\\'t done nothin\\' right my whole damn life, rat. You need to give me this. Uh... A spacesuit and an aero-rig. I only have one of each. I am Groot. What\\'s that? He says, \"Welcome to the frickin\\' Guardians of the Galaxy.\" Only he didn\\'t use \"frickin\\'.\" Bye, twig. We\\'re gonna need to have a real discussion about your language. Where\\'s Peter? Rocket, where is he? Rocket. Rocket, look at me! Where is he? Mmm... No. I\\'m not leaving without him. I\\'m sorry. I can only afford to lose one friend today. Kraglin, go! Wait... Is Quill back? Rocket, where\\'s Quill? Rocket, where\\'s Quill? Rocket! Where\\'s Quill? Where\\'s Quill? No, we need to stop it. Stop. Stop. Listen to me! You are a god. If you kill me... you\\'ll be just like everybody else. What\\'s so wrong with that? No! He may have been your father, boy, but he wasn\\'t your daddy. I\\'m sorry I didn\\'t do none of it right. I\\'m damn lucky you\\'re my boy. What? Yondu, what are you doing? You can\\'t. Yondu! No! No! Oh! Aww... No! No! Oh, no! I told Gamora... how when I was a kid I used to pretend David Hasselhoff was my dad. He\\'s a singer and actor from Earth, really famous guy. Earlier, it struck me... Yondu didn\\'t have a talking car, but he did have a flying arrow. He didn\\'t have the beautiful voice of an angel... but he did have the whistle of one. Both Yondu and David Hasselhoff went on kick-ass adventures... and hooked up with hot women... and fought robots. I guess David Hasselhoff did kind of end up being my dad after all. Only it was you, Yondu. I had a pretty cool dad. What I\\'m trying to say here is... sometimes that thing you\\'re searching for your whole life... it\\'s right there by your side all along. You don\\'t even know it. I am Groot. He did call you twig. Nebula... I was a child like you. I was concerned with staying alive until the next day, every day. And I never considered what Thanos was doing to you. I\\'m trying to make it right. There are little girls like you... across the universe who are in danger. You can stay with us and help them. I will help them by killing Thanos. I don\\'t know if that\\'s possible. You will always be my sister. Pete! Captain found this for you in a junker shop. Said you\\'d come back to the fold someday. What is it? It\\'s called a Zune. It\\'s what everybody\\'s listening to on Earth nowadays. It\\'s got 300 songs on it. 300 songs? Wait. Rocket grabbed the pieces, and reassembled them. I think Yondu would want you to have it. Thanks... Captain. It\\'s not time to make a change Just relax, take it easy You\\'re still young, that\\'s your fault There\\'s so much you have to know Find a girl, settle down If you want you can marry Look at me, I am old, but I\\'m happy They came. What is it? I sent word to Yondu\\'s old Ravager buddies, and told them what he did. It\\'s a Ravager funeral. Yeah! Yeah! He didn\\'t let us down after all, Captain. No, he did not, son. He did not. Fare thee well, old friend. Yondu Udonta, I will see you in the stars. He didn\\'t chase them away. No. Even though he yelled at them. And was always mean. And he stole batteries he didn\\'t need. Well, of course not. What? It\\'s just... some unspoken thing. It\\'s beautiful. It is. And so are you. On the inside. Now there\\'s a way And I know that I have to go away I know I have to go You know, it\\'s a shame... that it took the tragedy of losing Yondu to bring us all together again. But I think he\\'d be proud knowing that we are back as a team. I\\'m in. Dope. I miss you guys so much! Hell, yes. What say we steal some shit? High Priestess, the Council is waiting. They are perturbed I\\'ve wasted our resources. When they see what I have created here... their wrath will dissipate. It\\'s a new type of birthing pod, ma\\'am? That, my child... is the next step in our evolution. More powerful, more beautiful... more capable of destroying the Guardians of the Galaxy. I think I shall call him... Adam. Ugh, dude. Seriously? You gotta clean up your room. It\\'s a complete mess. I am Groot. I am not boring. You\\'re boring. You know what\\'s boring? Sitting there, playing that mind-numbing game. What\\'s boring is me tripping over your vines every day! I\\'m not boring! I am Groot. And now I know how Yondu felt. In these times of hardship... just remember... We. Are. Groot. Hey, fellas. Wait, where are you going? You were supposed to be my lift home. How will I get out of here? Hey! Aw, gee... I\\'ve got so many more stories to tell. Aw, guys. Oh, gee... Things are never gonna be the same now. I mean, look at this. You got aliens. You got big green guys tearing down buildings. When I was a kid, I used to draw cowboys and Indians. Actually, it\\'s native American, but whatever. Yeah. Tell you what, though. It ain\\'t bad, is it? No. Yeah. Kid\\'s got a future. Yeah, well, we\\'ll see, I guess. No, hey! Ah! You can\\'t saw through that stuff. These alien bastards are tough. You gotta use the stuff they use. See? All right. All right. Oh, hey! Glad you could join us. Afternoon. Yeah. My alarm didn\\'t go off. Yeah, your alarm. Look, just go stack that armor plating like I asked you. This is a huge deal for us. Attention, please! In accordance with executive order 396b, all post-battle cleanup operations are now under our jurisdiction. Thank you for your service. We\\'ll take it from here. Who the hell are you? Qualified personnel. Look, I have a city contract to salvage all this, okay, with the city, so... I apologize, Mr. toomes, but all salvage operations are now under our jurisdiction. Please turn over any and all exotic materials that you\\'ve collected or you will be prosecuted. Ma\\'am, what am...? Please. Come here. Hey, lady, come on. Look... I bought trucks for this job. I brought in a whole new crew. These guys have a family. I have a family. I\\'m all in on this. I could lose my house. I\\'m sorry, sir. There\\'s nothing I can do. Maybe next time, don\\'t overextend yourself. What\\'d you say? Yeah. He\\'s right. I overextended myself. - Hey, hey, hey. - Don\\'t do it. Ah-ah-ah-ah. Put \\'em down. If you have a grievance, you may take it up with my superiors. Your superiors. Who the hell are they? A joint venture between stark industries and the federal government, the department of damage control, will oversee the collection and storage of alien and other exotic materials. Now the assholes who made this mess are paid to clean it up. Yeah, it\\'s all rigged. Experts estimate there are over 1500 tons of exotic material scattered throughout the tri-state area. Hey, chief! We still have another load from yesterday. We\\'re supposed to turn this in, right? I ain\\'t hauling it. It\\'s too bad. We could have made some cool stuff from all that alien junk. I tell you what. Let\\'s keep it. The world\\'s changing. It\\'s time we change too. There you go, Mason. Yeah! Business is good. - New York. Queens. - It\\'s a rough borough, - but, hey, it\\'s home. - Who you talking to? No one. Just making a little video of the trip. - You can\\'t show it to anyone. - Yeah, I know. Then why are you narrating in that voice? Uh, because it\\'s fun. Fun. So why do they call you happy? Come on. I\\'m not carrying your bags. Let\\'s go. Hey, should I go to the bathroom before? There\\'s a bathroom on it. Whoa. No pilot? That\\'s awesome. Is that where you\\'re gonna sit? Yeah. This is your first time on a private plane? My first time on any plane. Should it...? Should it be...? Should it be making that noise? Shh, shh, shh. No one has actually told me why I\\'m in Berlin or what I\\'m doing. Something about captain America going crazy. - This is you. - Oh, we\\'re neighbors? We\\'re not roommates. Suit up. Okay, Peter, you got this. What the hell are you wearing? It\\'s my suit. Where\\'s the case? What case? What? I thought that was a closet. - This is still my room? - Go. Please. My room is way bigger than... There. - I found the case. - I found the case. \"A minor upgrade\"? Whoa. Oh, my god. Put it on. What the...? This is the coolest thing I\\'ve ever seen... Let\\'s go. But I don\\'t understand. Is it for me? Happy. Happy, wait. This is insane. Insane. Look at this thing. Look. Look at the eyes. The greatest day of my life. Let\\'s go. Come on. - Okay, there\\'s captain America, - iron man, black widow. - Whoa. Who\\'s that new guy? - Underoos! Oh, that\\'s me. I gotta go. I gotta go. Hey, everyone. Okay, so the craziest thing just happened. I just had a fight with captain America. I stole his shield. I threw it at him... What the hell? He\\'s big now. I gotta go. Hang on. It was the most amazing thing! Mr. stark was like, \"hey, underoos!\" I flipped in and stole cap\\'s shield. I was like, \"what\\'s up, everybody?\" And then... hey, just a second! Coming! Hey. We have thin walls here. What are you doing, a little video diary? - Yeah. - It\\'s all right. - I\\'d do the same thing. - I told him not to. He was filming. I\\'m gonna wipe the chip. Okay. Hey. You know what? We should make an alibi video for your aunt anyway. You ready? An alibi? Sure. Okay. We rolling? Get in the frame. Hey, may. How you doing? What are you wearing? Something skimpy, I hope. Peter, that\\'s inappropriate. Let\\'s start over. You can edit it. Three, two, one. Hey, may. My gosh, I wanted to tell you what an incredible job your nephew did this weekend at the stark internship retreat. Everyone was impressed. - Come on! - It\\'s a freaking merge. Sorry. Because you\\'re not on queens boulevard. See, happy is hoping to get bumped up to asset management. He was forehead of security, before that he was a driver. That was a private conversation. I don\\'t like joking about this. It was hard to talk about that. No, seriously, was he snoring a bunch? - Here we are. End of the line. - Whoops. Can you give us a moment? Want me to leave the car? Grab Peter\\'s case out of the trunk. I can keep the suit? Yes, we were just talking about it. Do me a favor, though. Happy\\'s kind of your point guy on this. Don\\'t stress him out. Don\\'t do anything stupid. I\\'ve seen his cardiogram. All right? Yes. Don\\'t do anything I would do, and don\\'t do anything i wouldn\\'t do. There\\'s a little gray area in there. Where you operate. Wait, does that mean I\\'m an avenger? No. - This it? - Seventh floor. I can take that. You don\\'t have to. You\\'ll take it? Yeah, I can take that. Thank you. So when\\'s our next...? When\\'s our next \"retreat,\" you know? What, next mission? Yeah, the mission. The missions. We\\'ll call you. Do you have my numbers? No, I mean, we\\'ll call you. Like, someone will call you. All right? From your team. Okay. All right. That\\'s not a hug. I\\'m just grabbing the door for you. We\\'re not there yet. Bye. They\\'re gonna call me. What\\'s up, penis Parker? Rise and shine, midtown science and technology. Students, don\\'t forget about your homecoming tickets. Do you have a date for homecoming? Thanks, Jason, but I already have a date. Okay. Yeah. Damn it. You, in my office right now. Join me, and together we\\'ll build my new lego death star. - What? - So lame. No way. That\\'s awesome. How many pieces? Three thousand eight hundred and three. That\\'s insane. I know. You want to build it tonight? No, I can\\'t tonight. I\\'ve got the stark... Mm-hm. Stark internship. Yeah, exactly. Always got that internship. Yeah, well, hopefully, soon it\\'ll lead to a real job with them. That would be so sweet. Right? He\\'d be all, \"good job on those spreadsheets, Peter. Here\\'s a gold coin.\" I don\\'t know how jobs work. That\\'s exactly how they work. I\\'ll knock out the basic bones of the death star at my place. I\\'ll come by afterwards. For the most part, the difficult thing is the base of it. The top half we can knock out in two hours, tops. That\\'d be great. I\\'m gonna be late! Okay, so how do we calculate linear acceleration between points a and b? Flash. It\\'s the product of sine of the angle and gravity divided by the mass. Nope. Peter. You still with us? Uh, uh, yeah, yeah. Uh... Mass cancels out, so it\\'s just gravity times sine. Right. See, flash, being the fastest isn\\'t always the best if you are wrong. You\\'re dead. Today we\\'re talking about Danish physicist niels bohr, but trust me, there\\'s nothing bohr-ing about his discoveries regarding quantum theory. - Did Liz get a new top? - No. We\\'ve seen that before, but never with that skirt. - Liz, hey. That looks so good. - Hi! We should probably stop staring before it gets creepy. Too late. You guys are losers. Well, then why do you sit with us? Because I don\\'t have any friends. Let\\'s move to the next question. What is the heaviest naturally-occurring element? Hydrogen\\'s the lightest. That\\'s not the question. Okay. Yeah. Uranium. That is correct. Thank you, Abraham. Yes. Open your books to page 10. Peter, it\\'s nationals. Is there no way you could take one weekend off? I can\\'t go to Washington. If Mr. stark needs me, I have to make sure I\\'m here. You\\'ve never been in the same room as Tony stark. Wait. What\\'s happening? Peter\\'s not going to Washington. No. No, no, no. Why not? Really? Right before nationals? He already quit marching band and robotics lab. I\\'m not obsessed with him. Just very observant. Flash, you\\'re in for Peter. - I don\\'t know. - I gotta check my calendar first. I got a hot date with black widow coming up. That is false. What\\'d I tell you about using the bell for comedic purposes? Hey, what\\'s up? Hey, man. What\\'s up, Mr. delmar? Hey, Mr. Parker. Number five, right? Yeah, and with pickles, and can you smush it down real flat? Thanks. You got it, boss. How\\'s your aunt? Yeah, she\\'s all right. Ten dollars. It\\'s $5. For that comment, $10. Hey, come on. I\\'m joking. I\\'m joking. Here\\'s $5. What\\'s up, murph? How you doing, buddy? So how\\'s school? Ah, you know. It\\'s boring. Got better things to do. Stay in school, kid. Stay in school. Otherwise, you\\'re gonna end up like me. This is great. Best sandwiches in queens. Finally. - Excuse me. - What\\'s the matter with you? Could you hold this for a second? Thanks. Hey, is this anybody\\'s bike? No? - Hey, buddy, is this your bike? - I have no change. Does anyone have a pen? Do you have a pen? Everybody good? Hey! You\\'re that spider guy on YouTube, right? Call me spider-man! Okay, spider-man. Do a flip. Yeah! Not bad. Hey, buddy. Shouldn\\'t steal cars, it\\'s bad. It\\'s my car, dumbass! Hey! Shut that off! Can you tell him it\\'s my car? I was just... Yo! I work at nights. Come on. That\\'s not your car! That\\'s his car. How was I supposed to know? He put that in the window! Every day with these alarms! Turn it off! Don\\'t make me come down there. Hey, Gary! How you doing? Marjorie, how are you? How\\'s your mother? I\\'m good, I\\'m good. You have reached the voicemail box of: Happy hogan. - Hey, happy. - Here\\'s my report for tonight. I stopped a grand theft bicycle. Couldn\\'t find the owner, so I just left a note. Um... I helped this lost, old Dominican lady. She was really nice and bought me a churro. I just feel like i could be doing more. You know? Just curious when the next real mission\\'s gonna be. So, yeah, just call me back. It\\'s Peter. Parker. Why would I tell him about the churro? Oh. Unh. Hey, hey. Oh! Ah. Okay. Can\\'t wait to see this thing. Finally, something good. Yo, this high-tech stuff makes it too easy. - Told you it was worth it. - Okay, go, go, go. Oh, heh, nice. We can hit, like, five more places tonight. Ahem. What\\'s up, guys? You forget your pin number? Whoa! You\\'re the avengers. What are you guys doing here? Thor. Hulk. Good to finally meet you guys. I thought you\\'d be more handsome in person. Iron man. Hey, what are you doing robbing a bank? You\\'re a billionaire. Hey... Oh, this feels so weird. What is that thing? I\\'m starting... To think... You\\'re not... The avengers. 911. What\\'s your emergency? Uh, spider-man is fighting the avengers in a bank on 21st street. - All right, let\\'s wrap this up. - It\\'s a school night. So how do jerks like you get tech like this? No. Wait, wait, wait! Ah! Mr. delmar. Hey, Mr. delmar, you in here? Is anybody in here? Hello? Oh, come on. I gotta... Here, here. Good, yeah. Okay. Good. Yes. Yes... no. No, put that down. That\\'s worth more than you or me. Yeah? Happy, the craziest thing just happened to me. These guys were robbing an atm with high-tech weapons... Take a breath. I don\\'t have time for atm robberies yeah, but... Or the notes you leave behind. I have moving day to worry about. Everything\\'s gotta be out by next week. Wait, wait. You\\'re moving? Who\\'s moving? Yeah, don\\'t you watch the news? Tony sold avengers tower. We\\'re relocating to a new facility upstate where hopefully the cell service is much worse. But what about me? What about you? Well, what if Mr. stark needs me or something big goes down? Can I just please talk to Mr. stark? Stay away from anything dangerous. I\\'m responsible for making sure you\\'re responsible, okay? I am responsible. I... oh, crap. My backpack\\'s gone. That doesn\\'t sound responsible. I\\'ll call you back. Feel free not to. What was that? Uh, it\\'s nothing. Nothing. You\\'re the spider-man. From YouTube. I\\'m not. I\\'m not. You were on the ceiling. What are you doing in my room? May let me in. We were gonna finish the death star. You can\\'t just bust into my room! That Turkey meatloaf recipe is a disaster. Let\\'s go to dinner. Thai? Ned, you want thai? Yes. No. He\\'s got a thing. A thing to do after. Okay. Maybe put on some clothes. Oh, she doesn\\'t know? Nobody knows. Mr. stark knows because he made my suit. That\\'s it. Tony stark made you that? Are you an avenger? Yeah, basically. Oh, geez. You can\\'t tell anybody. You gotta keep it a secret. Secret? Why? You know what she\\'s like. If she finds out people try and kill me every night, she won\\'t let me do this. Come on, ned, please. Okay, okay, okay. I\\'ll level with you. I can\\'t keep this a secret. It\\'s the greatest thing that\\'s ever happened to me. Ned, may cannot know. I cannot do that to her right now. You know? I mean, everything that\\'s happened with her, i... please. Okay. Just swear it, okay? I swear. Thank you. Yeah. I can\\'t believe this is happening now. Can I try the suit on? No. How\\'s it work? Magnets? How do you shoot the strings? I\\'m gonna tell you tomorrow. Great. Okay, well, wait, then. How do you do this and the stark internship? This is the stark internship. Ohh... Just get out of here. What\\'s the matter? Thought you loved larb. It\\'s too larby? Not larby enough. How many times do I have to say \"larb\" before... You talk to me? You know I larb you. I\\'m just stressed. The internship, and I\\'m tired. A lot of work. The stark internship. I have to tell you, not a fan of that Tony stark. You\\'re distracted all the time. He\\'s got you in your head. Delmar\\'s sandwiches destroyed... What does he have you doing? You need to use your instincts. After an atm robbery was thwarted by queens\\' own crime stopper, what? The spider-man. As the spider-man attempted to foil their heist, a powerful blast was set off, slicing through the bodega across the street. Miraculously, no one was harmed. If you spot something like that happening, you turn and you run the other way. Yeah. Yeah, yeah, yeah. Of course. Six blocks away from us. I need a new backpack. What? I need a new backpack. That\\'s five. Sticky rice pudding. We didn\\'t order that. It\\'s on the house. Oh. Thanks. That\\'s nice of him. I think he larbs you. You got bit by a spider? Can it bite me? Well, it probably would\\'ve hurt, right? Whatever. Even if it did hurt, I\\'d let it bite me. Maybe. How much did it hurt? The spider\\'s dead, ned. Whoa. You were here? Yeah. You could\\'ve died. Do you lay eggs? What? No. Can you spit venom? No. Can you summon an army of spiders? No, ned. The sokovia accords were put into place... How far can you shoot your webs? It\\'s unknown. Shut up. To begin regulating... If I was you, i would stand on a building and shoot as far as I could... Shut up, ned. Hi. I\\'m captain America. Whether you\\'re in the classroom or on the battlefield... Do you know him too? Yeah, we met. I stole his shield. What? Today, my good friend, your gym teacher will be conducting the captain America fitness challenge. Thank you, captain. Pretty sure he\\'s a war criminal, but I have to show these videos. It\\'s required by the state. Let\\'s do it. Do avengers have to pay taxes? What does hulk smell like? - I bet he smells nice. - You have to shut up. Is captain America cool, or is he like a mean, old grandpa? Ned, just shh, okay? Hey, can I be your guy in the chair? What? Yeah. You know how there\\'s a guy with a headset telling the other guy where to go? If you\\'re in a burning building, i could tell you where to go. There\\'d be screens around me, and I could swivel around. I could be your guy in the chair. Ned, I don\\'t need a guy in the chair. Looking good, Parker. Now, see, for me, it would be f Thor marry iron man and kill hulk. Well, what about the spider-man? It\\'s just spider-man. See the bank security cam on YouTube? He fought off four guys. Oh, my god, she\\'s crushing on spider-man. No way. Kind of. Oh, gross. He\\'s probably, like, 30. You don\\'t know what he looks like. What if he\\'s seriously burned? I wouldn\\'t care. I\\'d love him for the person he is inside. Peter knows spider-man. No, I don\\'t. No. I... I mean... They\\'re friends. Yeah, like coach Wilson and captain America are friends. I\\'ve met him, yeah. A couple times. But it\\'s... Through the stark internship. Yeah, well, I\\'m not really supposed to talk about it. Well, that\\'s awesome. Hey, you know what? Maybe you should invite him to Liz\\'s party. Right? Yeah, um, I\\'m having people over tonight. You\\'re more than welcome to come. - Having a party? - Yeah, it\\'s gonna be dope. You should totally invite your personal friend spider-man. Um... It\\'s okay. I know Peter\\'s way too busy for parties anyway, so... Come on. He\\'ll be there. Right, Parker? What are you doing? Helping you out. Did you not hear her? Liz has a crush on you. Dude, you\\'re an avenger. If any one of us has a chance with a senior girl, it\\'s you. House party in the suburbs. Oh, I remember these. Kind of jealous. It\\'ll be a night to remember. Oh... Ned, some hats wear men. You wear that hat. Yeah, it gives me confidence. Hm. This is a mistake. Hey, let\\'s just go home. Oh, Peter. I know. I know it\\'s really hard trying to fit in with all the changes your body\\'s going through. It\\'s flowering now. He\\'s so stressed out lately. What helps with stress is a party. We should go to the party. Yeah, let\\'s do it. I\\'m gonna go. Peter... Have fun, okay? Okay. I will. Bye, may. Dude, you have the suit, right? Yeah. This is gonna change our lives. Annie, over here! Hey. Hey. Dj flash. Okay. We\\'re gonna have spider-man swing in, say you guys are tight, and I get a fist bump or one of those half bro-hugs. Can\\'t believe you\\'re at this lame party. But you\\'re here too. Am I? Oh, my gosh. Hey, guys. Cool hat, ned. Hi, Liz. Hi, Liz. I\\'m so happy you guys came. There\\'s pizza and drinks. Help yourself. What a great party. Thanks. Oh, i... My parents will kill me if anything\\'s broken. I gotta... Yeah. Have fun. - Bye. - Bye. Dude, what are you doing? She\\'s here. Spider it up. No, no, no. I can\\'t... I cannot do this. Spider-man is not a party trick, okay? Look, I\\'m just gonna be myself. Peter, no one wants that. Dude. Penis Parker, what\\'s up? So where\\'s your pal spider-man? Let me guess: In Canada with your imaginary girlfriend? That\\'s not spider-man. That\\'s just ned in a red shirt. \"Hey, what\\'s up? I\\'m spider-man. \"Just thought I\\'d swing by and say hello to my buddy Peter. \"Oh, what\\'s up, ned? Hey, where\\'s Peter, anyways? He must be around...\" God, this is stupid. What am I doing? What the hell? Whoo! This sucks. Whoo! Now, this is crafted from a reclaimed sub-ultron arm straight from sokovia. Here. You try. Man, I wanted something low-key. Why are you trying to upsell me, man? Okay, okay. I got what you need, all right? I got tons of great stuff here. One sec. Okay, I got black hole grenades, chitauri railguns... You letting off shots in public now? Hurry up. Look, times are changing. We\\'re the only ones selling these high-tech weapons. Oh, this must be where the atm robbers got their stuff. I need something to stick up somebody. I\\'m not trying to shoot them back in time. I got antigrav climbers. Yo, climbers? Okay, what the hell is that? Did you set us up? Hey, hey, man. Hey! Come on. You gonna shoot at somebody, shoot at me. All right. What was that? What...? We gotta call him. No, no, no, no. Did you just do it again? Shut up. I\\'m calling him. Toomes\\'s phone. Boss. Oh, my butt! Great. Guess I\\'m gonna have to take a shortcut. Hey, guys. Good game. Have fun. Hey, hey, buddy. Sorry, no time to play. Here, go fetch. Whoo! Now, this is more like it. Whoa! Smells really good. Great movie! Oh, hey, guys. No! No! - Hey, it\\'s Peter. - Leave a message. Peter, where are you? The hat\\'s not working. This is not cool. Almost got you. Thought you got away from me, didn\\'t you? I got you right where I want you. Surprise! What the hell? Oh, hey. And then he just, like, swooped down like a monster and picked me up, and took me up like a thousand feet and just dropped me. How\\'d you find me? Did you put a tracker in my suit? I put everything in your suit. Including this heater. Whoa. That\\'s better. Thanks. What were you thinking? The guy with wings is the source of the weapons. I gotta take him down. Take him down now, huh? Crockett, there are people who handle this sort of thing. The avengers? No, no, no. This is a little below their pay grade. Mr. stark, you didn\\'t have to come out here. I had that. I was fine. Oh, I\\'m not here. Thank god this place has Wi-Fi or you would be toast right now. Thank Ganesh while you\\'re at it. Cheers. Look, forget the flying vulture guy, please. Why? Why? Because I said so! Sorry, I\\'m talking to a teenager. Stay close to the ground. Build up your game helping the little people, like that lady that bought you the churro. Can\\'t you just be a friendly neighborhood spider-man? But I\\'m ready for more than that now. No, you\\'re not. That is not what you thought when I took on captain America. Trust me, kid. If cap wanted to lay you out, he would\\'ve. Listen to me. If you come across these weapons again, call happy. Are you driving? You know, it\\'s never too early to start thinking about college. I got some pull at mit. End call. No, I don\\'t need to go to... Mr. stark is no longer connected. That\\'s awesome. \"Stay close to the ground\"? What is he talking about? Whoa. Hey, man, what\\'s up? I\\'m on my way back. Actually, i was calling to say maybe you shouldn\\'t come. Listen to this. When I say \"penis,\" you say \"Parker.\" - Penis! - Parker! - Penis! - Parker! - Sorry, Peter. - I guess we\\'re still losers. I\\'ll see you tomorrow. I\\'ll see you tomorrow in school. Whoa. Idiots. Idiots. Idiots! Boss? Your wife keeps texting you. Something about a brake light. What\\'d I tell you about looking at my phone? Oh. Sorry. You left it out. You know I\\'m a curious person by nature. I finished designing that high-altitude vacuum seal. Huh? In case you want to, you know, go for the big one? You\\'re still on that? I told you, no. The answer\\'s no. Forget it. Ha, ha, ha! Whoo! I mean, that was badass. How many times have I told you not to fire them out in the open? You said, move the merchandise. Under the radar. Under the radar! That\\'s how we survive. If you bring damage control or the avengers down here, we\\'re through. You\\'re out there wearing that goofy thing, lighting up cars calling yourself the shocker. \"I\\'m the shocker. I shock people.\" What is this, pro wrestling? Whatever, old man. Come on. Look. Look. I know you don\\'t give a crap about anything. But I do. I built this whole place because I got people i have to look after. Yeah, yeah, yeah, yeah, yeah. You know what? I can\\'t afford your bullshit. Get out of here. What? You\\'re done. You\\'re off the crew. Yeah, all right. Heh. All right. Wonder if you can afford me out there, though, right? With everything I know. Excuse me? I\\'m just saying, maybe your wife would like to know where you really get your money from. You know what? What? You\\'re right. That work? I don\\'t know. I can\\'t afford that. W-w-wait. Damn. I thought this was the antigravity gun. What? No, that\\'s that one. Here. Now you\\'re the shocker. Go out there and find that weapon he lost. All right. Hey, thanks for bailing on me. Yeah, well, something came up. Oh, what is that? I don\\'t know. Some guy tried to vaporize me with it. Seriously? Yeah. Awesome. I mean, not awesome. Totally uncool of that guy. So scary. Yeah. Well, look, I think it\\'s a power source. Yeah, but it\\'s connected to all these microprocessors. That\\'s an inductive charging plate. That\\'s what I use to charge my toothbrush. Whoever\\'s making these weapons is combining alien tech with ours. That is literally the coolest sentence anyone has ever said. I just want to thank you for letting me be part of your journey into this amazing... Keep your fingers clear of the blades. I gotta figure out what this is and who makes it. We\\'ll go to the lab after class and run some tests. Let\\'s do it. First, we put the glowy thing in the mass spectrometer. We gotta come up with a better name than \"glowy thingy.\" You\\'re right. Crap. Come on, come on, come on. High schools creep me out. They got this funny smell, you know what I mean? Hey, that\\'s one of the guys that tried to kill me. What? Yeah. We gotta get out of here. No, no, no. I gotta follow them. They can lead me to the guy that dropped me in the lake. Someone dropped you in a lake? Yeah, it was not good. Peter... No. Stay there, ned. Peter. What are you doing? Nothing. Yeah. You good? Chess. Man, can you imagine what the boss would say if he knew where we were? It\\'s saying there was an energy pulse here. There\\'s no sign of the weapon. And even if it was here, now it\\'s gone. So are we. This is so awesome. I know, right? They\\'re in Brooklyn. Staten island. Leaving Jersey. They stopped. Huh. Maryland? What\\'s there? I don\\'t know. Evil lair? They have a lair? Dude, a gang with alien guns run by a guy with wings? Yeah, they have a lair. Badass. But how are you gonna get there if it\\'s, like, 300 miles away? It\\'s not too far from D.C. Hey, it\\'s Peter. Guys. - Peter? - Hey, buddy. Yeah, I was hoping I could rejoin the team. No, no way. You can\\'t quit on us, stroll up and be welcomed back by everyone. Hey, welcome back, Peter! Flash, you\\'re back to first alternate. What? He\\'s taking your place. Excuse me, can we go already? I was hoping to get in some light protesting in front of one of the embassies before dinner. Protesting is patriotic. Let\\'s get on the bus. Focus up, everyone. Our next topic is the moons of saturn. Second law of thermodynamics. Frank Sinatra. Fort sumter. Flash is wrong. Okay, guys, let\\'s focus. Next one. Liz, don\\'t overwork \\'em. Uh, strontium, barium, vibranium. Very good, Peter. Glad to have you back. Glad to be back. What is the current standard unit of...? Can I take this real quick? I\\'ll only be a sec. Yeah, fine. Hello? Got a blip on my screen here. You left New York? Okay, focus up, everyone. Tracker. Yeah, it\\'s just a school trip. It\\'s nothing. Look, happy, I gotta say, you tracking me without permission is a complete violation of my privacy. That\\'s different. What\\'s different? Nothing. Look, it\\'s just the academic decathlon. It\\'s no big deal. Hey, hey. I\\'ll decide if it\\'s no big deal. Sounds like it\\'s no big deal, but remember, I\\'m watching you. Everyone stick together. Yeah. You kidding me? This place is huge. I\\'ve seen bigger. There\\'s a bird in here. Hey, you brought your laptop, right? Why? Peter, why are we removing the tracker from your suit? Uh, because i gotta follow these guys to their boss before they move again and I don\\'t really want Mr. stark to know about it. So you\\'re lying to iron man now? No, I\\'m not lying. He just doesn\\'t really get what I can do yet. Oh, gotcha. All right, happy, enjoy tracking this lamp. There\\'s a ton of other subsystems in here. Hm? But they\\'re all disabled by the training wheels protocol. What? \"Training wheels protocol\"? Turn it off. I don\\'t think that\\'s a good idea. They\\'re blocked for a reason. Come on, man, i don\\'t need training wheels. I\\'m sick of him treating me like a kid all the time. It\\'s not cool. But you are a kid. Yeah, a kid who can stop a bus with his bare hands. Peter, I just don\\'t think this is a great idea. I mean, what if this is illegal? Look, please. This is my chance to prove myself. I can handle it. Ned, come on. I really don\\'t think this is a good idea. The guy in the chair. Don\\'t do that. Come on. The glowy thing, it\\'s evidence. Keep it safe, all right? Okay. Okay. They\\'re moving. Be careful. Hey, Liz. Perfect timing. We\\'re gonna go swimming. Come on, come on. What? Hey, Peter. Hi. Hey. I was... I was gonna go study in the business center. Peter, you don\\'t need to study. You\\'re, like, the smartest guy I\\'ve ever met. And besides, a rebellious group activity the day before competition is good for morale. Hm? Well, I read that in a Ted talk, so... I... I heard it in a Ted talk. And I read a coaching book. Are you really... This is really important to you. Yeah. It\\'s our future. I\\'m not gonna screw it up. Besides, we raided the minibar and these candy bars were, like, $11. So get your trunks on and come on. Come on. Come on. I\\'m coming, I\\'m coming. Let\\'s go. Good evening, Peter. Hello? Hello? Congratulations on completing the rigorous training wheels protocol and gaining access to your suit\\'s full capabilities. Ah, thank you. So, where would you like to take me tonight? I put a tracker on someone. He\\'s a bad guy. Tracker located. Plotting course to intercept target. Okay, well, as long as I make it back in time for decathlon, it\\'s fine. One hundred meters from destination and closing. Jump now. Detecting three individuals. Why is their secret lair in a gas station? That\\'s so lame. Hey, suit lady, what are they doing? Do you want to hear what they\\'re saying? I can hear what they\\'re saying? Uh, yeah. Activating enhanced reconnaissance mode. I got the gauntlet from the Lagos cleanup. The rest is my design. Whoa, that\\'s so cool. Can\\'t believe they\\'re still cleaning the triskelion mess. - I love it. - They keep making messes, - we keep getting rich. - Target inbound. Whoa, they\\'re in the middle of a heist. I could catch \\'em all red-handed. This is awesome. Okay, I\\'m gonna get a little closer so I can see what\\'s happening. Would you like me to engage enhanced combat mode? \"Enhanced combat mode\"? Yeah. Activating instant kill. No, no, no, no. I don\\'t want to kill anybody. Deactivating instant kill. Did you hear that? What the hell just happened? What was that? You jumped off the sign and landed on your face. Suit lady, what\\'s wrong with my web-shooters? Rapid-fire is the default for enhanced combat mode. Why would I need rapid-fire? Would you like to see more options? You have 576 possible web-shooter combinations. Mr. stark really overdid it. You two wait right here. Wait. You\\'re gonna want to turn on the dampers or that thing will shatter your arm. All right, where\\'s the dampers? That one. Great choice. Would you like me to set this as your new default? No, no, no. Push that in. Right here? No, the other... This one here? Yeah, push it. What was that? Taser webs. Taser webs? I don\\'t want taser webs. You seem to be unfamiliar with your web-shooter settings. Would you like to run a refresher course? No. Just... you choose. Sure thing. Six-Alpha-niner, are you running on time? Copy, central. Six-Alpha-niner on schedule. I got a visual. Green light, green light. Oh, that\\'s him. Okay. I got eyes on the convoy. Pulling in behind the caboose. Deploy anchors. Dropping down. No outgoing distress signals. You\\'re all clear. Hey. Looks like they got some good stuff here. Whoa, cool. It\\'s like some kind of matter phase shifter. All right, coming up. Hey, big bird! This doesn\\'t belong to you. Oh, god. Suit lady, what was that? You told me to choose. What? No, just set everything back to normal. Activating all systems. Oh, my head. You appear to have a mild concussion. Hey, so where am i right now? I\\'m not sure. The container walls are hindering my sensors. Wait a minute. They must have hijacked the truck and taken me to their evil lair. Okay, suit lady, we\\'re gonna have to fight our way out of this one. Three, two, one! What is this place? Suit lady, where am I? You\\'re in the most secure facility on the eastern seaboard. The damage control deep storage vault. No. Seriously? The door will most likely remain closed until morning. Morning? Hey, suit lady, i kind of feel bad calling you \"suit lady,\" you know? I think I should probably give you a name... Like Liz. No, no, no. God, that\\'s... That\\'s weird. What about Karen? You can call me Karen if you would like. Hey, Karen, what else can this suit do? What? Maybe we should run that refresher course. Ricochet web. Ricochet web. Whoa! Cool. Splitter web. Web grenade. Web grenade! Should I tell Liz that I\\'m spider-man? Who is Liz? Who\\'s Liz? She\\'s... heh. She\\'s the best. She\\'s awesome. She\\'s just a girl who goes to my school. And, uh... Yeah, I just... I really want to tell her, but it\\'s kind of weird, you know? \"Hey, I\\'m... I\\'m spider-man.\" What\\'s weird about that? What if she\\'s expecting someone like Tony stark? Imagine how disappointed she\\'d be when she sees me. Well, if I were her, I wouldn\\'t be disappointed at all. Thanks, Karen. It\\'s really nice to have somebody to talk to. Hey, how long we been here anyways? Thirty-seven minutes. What? Thirty-seven minutes? That\\'s insane. I cannot take this anymore. I got to... I gotta get out of here. There\\'s got to be something in here I can use. Okay, let\\'s see. Nope. That\\'s awesome. Ah. Hey, it\\'s like the glowy thing. That glowy thing is an explosive chitauri energy core. Whoa, whoa! You mean, we\\'ve been carrying around a bomb? It would require radiation to transform it into an explosive state. No, no, no, no, no. Hey! Please! Please, somebody, let me out! Hey! Karen, you have to help me override that time lock. Okay, Karen, lower the voltage and run it. Trial unsuccessful. Okay, we\\'re just gonna have to try every sequence. Ned, Peter, we\\'re gonna be late. Come on, let\\'s go. Okay. Hold on, hold on. Initiating trial 247. It worked. It works! Please be sure all cell phones are turned off. Thank you. Karen, get me to the decathlon as fast as possible. Sure thing. Just tell me where it is. Across from the Washington monument. It\\'s ned. Leave a message. Ned, call me back! The glowy thing\\'s a bomb! There\\'s a vehicle approaching on your right. We have now entered sudden death. The next correct answer wins the championship. Midtown tech? Zero. That is correct. Midtown takes the championship! Whoo-hoo! - We won! You guys, i am so proud of you. Told you we didn\\'t need Peter. Flash, you didn\\'t answer one question. Taking it all in? Oh, yeah, I just... Um, I don\\'t want to celebrate something that was built by slaves. I\\'m sure the Washington monument wasn\\'t built by... Okay. Enjoy your book. Thanks. Oh, ned, you\\'re alive! Peter, are you okay? Where\\'s the glowy thing? The glowy thing? Don\\'t worry, it\\'s safe. It\\'s in my backpack. Ned, listen! The glowy thing is dangerous! You missed the decathlon. I covered for you. Ned, listen to me! We\\'re at the Washington mon... Peter, is that you? Hey, Liz. Is that Liz? Put ned on the phone. Tell her how you feel. You flake! You are so lucky we won. I want to be mad, but I\\'m more worried. Like, what is going on with you? I have to talk to ned. It\\'s important! Miss, all items on the belt, please. There\\'s something in ned\\'s backpack! It\\'s dangerous. Don\\'t let it go through an X-ray. Liz? Liz! Damn it. Mr. Harrison, can I be the one to tell Peter he\\'s expelled? The Washington monument is 555 feet, five and one-eighth inches tall. Notice how the marble and granite are cut around the stone. Did you hear that? No, no, no. Karen, what\\'s going on up there? The chitauri core has detonated and caused severe structural damage to the elevator. Oh, no. My friends are up there. What? Don\\'t worry, ma\\'am, everything\\'s gonna be okay. Excuse me, excuse me. Oh, my god, that\\'s tall. Oh, my god. Look at the ceiling. Just stay calm, everyone. Oh, we are all going to die here. Estimating 10 minutes before catastrophic failure. We\\'re freakin\\' screwed. Okay, I know that was scary, but our safety systems are working. The safety systems are completely failing. We\\'re very safe in here. The occupants are in imminent mortal danger. I\\'m going as fast as I can! Let\\'s go. Give me your hand. You now have 125 seconds until catastrophic failure. What? Why? Unexpected motion has caused the deterioration to escalate. How do I get in there? Activating reconnaissance drone. Whoa. Has that been there this whole time? That\\'s awesome. Locating optimal entry point. Proceed to southwest window. Karen, I\\'m on my way. There\\'s a lot of glass here. You got this. Keep coming, keep coming. Ah! Okay. Oh, my god. Okay. What\\'s wrong? You\\'ve reached the southwest window. Why are you hesitating? It\\'s fine. I\\'ve just never been this high before. You have also not reinstalled your parachute, so a fall from this height would most likely be lethal. Perfect. Oh, my god. Why is it not breaking? It\\'s four-inch ballistic glass. You\\'ll have to create more momentum. This is D.C. Metro police. Identify yourself. My friends are in there! Stop! Return to the ground immediately. Okay, who\\'s next? Me, it\\'s my turn! - Flash, seriously? - What are you doing? Come on. Don\\'t worry about the trophy. Ahh! Stand down! Return to the ground immediately! Return to the ground or we will open fire! Go up, go up. I got this. Take my trophy! This is your last chance! Oh, I\\'m gonna die. Look out! Ahh! I did it! Whoa! Ahem. Hey, how you doing? Don\\'t worry about it. I got you. Yes! Yes! Hey, hey, hey. Big guy, quit moving around. I\\'m sorry, sir. So sorry. Let\\'s go, let\\'s go! Okay, okay. Mr. harrington, go. Ned, come on. This is your stop. Come on, Liz. Go, go, go. Everybody out! Move it, people. Move it, move it! - Are you sure it\\'s safe? - Liz! You\\'re okay. You\\'re okay. Okay. Oh, my god. Good, good. Come on up. Come on, you guys, stay back. Come on in. You guys good? So is everyone okay? This is your chance, Peter. Kiss her. Oh! Thank you. Are you really friends with Peter Parker? I can finish the next order, but without any new materials from that truck... Yeah, damn it. We still have enough to do the gargan deal though, right? Yeah, but then that\\'s it. Oh, maybe it is time that i built the high-altitude seal. Would you shut up about that? It\\'s only one job. No. Eight years, not a word from the feds, nothing from those Halloween-costume-wearing bozos up there in stark tower. And then all of a sudden, this little bastard in red tights shows up and he thinks he can tear down everything I\\'ve built. Really? I\\'m gonna kill him. I\\'m gonna find him... I found him. Spider-man swooped in, heroically saving an academic decathlon team from queens. The identity of the masked hero is still unknown. Mom. Okay. All right. Peter? Come here, come here. Oh, my god. This past weekend, midtown\\'s academic decathlon team defeated the country\\'s best to win the national championship. Later that day, they also defeated death. Explosion. Sally scream. Flash scream. All scream. There were purple lasers and smoke everywhere. It was tight, like a bon jovi concert. As you know, we made it out alive, and that\\'s the important thing. I couldn\\'t bear to lose a student on a school trip. Not again. Thankfully, no one was seriously injured, thanks to the spider-man. Thank you, spider-man. Thank you, spider-man. Up next: The spider-man mania is sweeping the school. How can you show your spider spirit? Dude, dude, dude, dude, dude. What is it like being famous when nobody knows it\\'s you? Crazy, dude. It\\'s crazy. Should we tell everyone? No. Should I tell everyone? No, dude. That\\'s not a good idea. Okay, come on, we\\'ll be late to class. I\\'m not going to class. You\\'re already in trouble for ditching the decathlon. Dude, listen, I figured it out. The wingsuit guy is stealing from damage control. What he takes from damage control, that\\'s how he builds the weapons. So all I gotta do is catch him. But we have a Spanish quiz. Ned, I\\'m probably never gonna come back here. Mr. stark is moving the avengers upstate so when I bring this guy in... Dude. You want to be a high school dropout? I am so far beyond high school right now. Parker, my office. So... You got detention. You screwed up. You know what you did was wrong. The question is, how are you gonna make things right? Maybe you were trying to be cool. But take it from a guy who\\'s been frozen for 65 years, the only way to really be cool is to follow the rules. We all know what\\'s right. We all know what\\'s wrong. Next time those turkeys try to convince you of something you know is wrong... Where you going? Get back here. Just think to yourself, what would captain America do? Why are you here? You don\\'t even have detention. Oh, I know. I just like coming here to sketch people in crisis. Heh. It\\'s you. So your body\\'s changing. Believe me, I know how that feels. May? Hey, Karen. What\\'s up? - Hey, Peter. - How was your Spanish quiz? I was wondering if you could help me. I\\'m trying to figure out who the guys under the bridge were that night, but I can only remember part of a license plate. I can run facial recognition on the footage of that encounter. Footage? Yes, Peter. I record everything you see. Everything? Like, all the time? Everything. It\\'s called the baby-monitor protocol. Yeah, of course it is. Um, yeah, just roll it back to last Friday. With pleasure. Hey, everyone. Yeah, kick-ass party. What\\'s up, Liz? Peter\\'s told me a lot about you. No, no, no. This is just me messing around. Go later in the day, later in the day. It is I, Thor, son of Odin! No, no, no. That\\'s definitely... That\\'s not what we wanted to watch. Your impressions are very funny. Fast-forward to the arms deal. Okay. The two on the right, who are they? Searching law enforcement databases. No records found for two of the individuals. Nothing? One individual identified. Aaron Davis, age 33. He has a criminal record and an address here in queens. Let\\'s pay him a visit. Would you like me to activate the enhanced interrogation protocol? Uh, yeah. Remember me? Hey... I need information. You\\'ll give it to me now. All right, chill. Come on! What happened to your voice? What do you mean? I heard you by the bridge. I know what a girl sound like. I\\'m not a girl! I\\'m a boy. I mean, I\\'m a... I\\'m a man. I don\\'t care what you are, a boy, a girl... I\\'m not a girl! I\\'m a man. Come on, man. Look, who is selling these weapons? I need to know. Give me names or else. You ain\\'t ever done this before, huh? Deactivate interrogation mode. Look, man, these guys are selling weapons that are crazy dangerous. They can\\'t be out on the streets. If one of them can cut delmar\\'s bodega in half... You know delmar\\'s? Yeah, best sandwich in queens. Sub haven\\'s pretty good. It\\'s too much bread. I like bread. Come on, man, please. Stupid interrogation mode. Karen, don\\'t ever do that again. The other night, you told that dude, \"if you shoot somebody, shoot me.\" It\\'s pretty ballsy. I don\\'t want those weapons in this neighborhood. I got a nephew who live here. Who are these guys? What can you tell me about the guy with the wings? Other than he\\'s a psychopath dressed like a demon, nothing. I don\\'t know who he is or where he is. I do know where he\\'s gonna be. Really? Yeah, this crazy dude i used to work with, he\\'s supposed to be doing a deal with him. Yes! Heh. Yes. Thank... Hey. Hey. Hey. I didn\\'t tell you where. You don\\'t have a location. Right, of course. Yeah, my bad. Silly. Just... Yeah. Where is it? Can I give you some advice? Hm? You got to get better at this part of the job. I don\\'t understand. I\\'m intimidating. Staten island ferry, 11. Oh, that\\'s soon. Hey, that\\'s gonna dissolve in two hours. No, no, no, no. Come fix this. Two hours. You deserve that. I got ice cream in here. You deserve that. You\\'re a criminal. Bye, Mr. criminal. Nice. Okay, Karen, activate enhanced reconnaissance mode. Sure thing. He\\'s up front, main deck. I hate this guy. It\\'s the guy from the bridge, right? Who\\'s that other guy? Just keep me posted. There\\'s no record of him in my criminal database. Incoming call from may Parker. Should I reroute to your heads-up display? I can\\'t talk right now. I\\'ll call her back. Hey, dronie, keep an eye on that guy. We can\\'t let anybody get away this time. - Who\\'s the guy on the left? - Mac gargan. Extensive criminal record, including homicide. Would you like me to activate instant kill? No, Karen, stop it with the instant kill already. White pickup truck. Dronie, scan the ship for a white pickup truck. Oh, this is too perfect. They got the weapons, buyers and sellers in one place. Incoming call from Tony stark. No, no, no. Don\\'t answer. Mr. Parker. Got a sec? - Uh, I\\'m actually at school. - No, you\\'re not. Nice work in D.C. okay. My dad never really gave me a lot of support and I\\'m trying to break the cycle of shame. I\\'m kind of in the middle of something. Don\\'t cut me off when I\\'m complimenting you. Anyway, great things are about to... what is that? I\\'m at band practice. That\\'s odd. Happy told me you quit band six weeks ago. What\\'s up? I gotta go! End call. Hey. I\\'ll take those! Yoink! Hey, guys. The illegal weapons-deal ferry was at 10:30. You missed it! Whoo! Spider guy\\'s here. Whoa, whoa, whoa! Not so fast. Ah! Are you guys okay? My bad. That was a little hard. I got to say, the other guy was way better with that thing. I\\'m honestly... I\\'m... I\\'m shocked. Freeze! FBI! Don\\'t move! Get on the ground! FBI! What do you mean, FBI? The federal bureau of invest... I know what \"FBI\" means. But what are they doing here? What the...? Get out of the way! Get out of the way! Go, go, go, go! Get out of there! Whoa! Look out! Look out! Move! Move! Move! - Move! - Get to the top deck. We\\'re getting out of here. Ah! Ah! Activate taser web! You\\'re messing with things you don\\'t understand. Oh, my god. What do I do? Karen, give me an X-ray of the boat and target all the strongest points. Web grenade. Web grenade. Splitter web, go. - Great job, Peter. - You are 98 percent successful. Ninety-eight? Yeah, spider-man! No, no, no. No! No! Oh, my god! No! Ah! What the hell? What the hell? Hi, spider-man. Band practice, was it? Look! Look! Yeah, iron man! Uh, Mr. stark. Hey, Mr. stark, could I do anything? What do you want me to do? Whoa! I think you\\'ve done enough. - So that\\'s it? - You\\'re just gonna run? Feds were waiting for us. Now we\\'re on iron man\\'s radar? Yeah, I\\'m running. You should too. You know i can\\'t do that. So now what? Mason, can you get that high-altitude seal thing up and running in time? Seriously? Yes. You will not regret this. You in? Previously on Peter screws the pooch, I tell you to stay away from this. Instead, you hacked a multimillion-dollar suit so you could sneak around behind my back doing the one thing I told you not to do. Is everyone okay? No thanks to you. No thanks to me? Those weapons were out there and I tried to tell you about it, but you didn\\'t listen. None of this would\\'ve happened if you had just listened to me. If you even cared, you\\'d actually be here. I did listen, kid. Who do you think called the FBI, huh? Do you know I was the only one who believed in you? Everyone else said I was crazy to recruit a 14-year-old kid. I\\'m 15. No. This is where you zip it, all right? The adult is talking. What if somebody had died tonight? Different story, right? \\'Cause that\\'s on you. And if you died, I feel like that\\'s on me. I don\\'t need that on my conscience. Yes, sir, I\\'m sorry. Yes. I understand. Sorry doesn\\'t cut it. I just wanted to be like you. And I wanted you to be better. Okay, it\\'s not working out. I\\'m gonna need the suit back. For how long? Forever. Yeah, that\\'s how it works. No, no. Please. Please. Let\\'s have it. You don\\'t understand. This is all I have. I\\'m nothing without this suit. If you\\'re nothing without this suit, then you shouldn\\'t have it, okay? God, I sound like my dad. I don\\'t have any other clothes. Okay, we\\'ll sort that out. Hey. I\\'ve been calling you all day. You didn\\'t answer your phone. You can\\'t do that. Then this ferry thing happens. I\\'ve called five police stations. Five. I called five of your friends. I called ned\\'s mother. I\\'m fine. May, I\\'m okay. Honestly, just relax. I\\'m fine. Cut the bullshit. I know you left detention. I know you left the hotel room in Washington. I know you sneak out of this house every night. That\\'s not fine. Peter, you have to tell me what\\'s going on. Just lay it out. It\\'s just me and you. I lost the stark internship. What? Yeah. What happened? I just thought that i could work really hard and he could... He would... you know. But... I screwed it up. Oh, it\\'s okay, it\\'s okay. It\\'s okay. I\\'m sorry i made you worry. You know I\\'m not trying to ruin your life. Yeah, I know. Just... I used to sneak out too. Yeah. And take a shower. You smell. You smell like... You smell like garbage. I know. Peter, you\\'re a good kid and you\\'re a smart kid, so just try to keep your head straight, okay? Okay. All right, get out of here. Are you expelled? Do you have to go to that school on 46th where their principal has a crossbow? Pretty sure that\\'s an urban myth, and, no, I\\'m not expelled. You\\'re so lucky. Muy bueno, se�or Parker. Hey. Hey. I thought you had calculus fifth period. Yeah, I was just doing some homecoming stuff. Hey, look, i... I just wanted to apologize about the whole decathlon thing. It\\'s fine. Last week, decathlon was the most important thing, but then i almost died. No, I just... I\\'m... I just mean that it was not cool, especially... Because... I like you. I know. You do? You\\'re terrible at keeping secrets. Yeah, you\\'d be surprised. I got to get to class, but... I\\'d say we should hang out, but I\\'m gonna be in detention for... Uh-huh. Ever, but... I guess you already have a date to homecoming. Actually, I was so busy planning it, I never really got around to that part, so... Uh, you want to go with me? Yeah. Sure. Really? I mean, great. Cool. Cool. I\\'m actually going that way. May, I need your help. Right? - It\\'s game day. - So what\\'s the plan? Open the door for her. Mm-hm. Tell her she looks nice, but not too much because that\\'s creepy. Don\\'t be creepy. No. And when I dance with her, I\\'m putting my hands on her hips. I got this. - Love you. - Bye. You must be Peter. Yeah. I\\'m Liz\\'s dad. Put \\'er there. Hell of a grip. Come on in here. Come on. Hi, Peter. You look very handsome. Thank you. You got his name right? Freddie? Peter. Peter. Peter. I\\'m gonna go get Liz. Okay. You all right, Pete? Yeah. Because you look pale. You want something to drink? Like a bourbon or a scotch, or something like that? I\\'m not old enough to drink. That\\'s the right answer. Wow! Wow, wow, wow, do you look beautiful. Please don\\'t embarrass me, dad. Doesn\\'t she, Pete? Yeah, you look really good. Once again, that\\'s the right answer. Is that a corsage? Thanks. Well, hey, I\\'m your chauffeur, so let\\'s get this show on the road. No, no, no, we have to take some pictures, babe. All right. Oh, right here. Perfect. Mom. Okay. Come on, you guys. Peter, closer. Smile. There you go. Oh. Sir, you don\\'t have to drive us. Nah, nah, it\\'s not a big deal. I\\'m going out of town. It\\'s right on my way. He\\'s always coming and going. Last time. Have fun. Thank you. Promise. He\\'s cute. Shh. See you in a couple of days. Bye, baby. All right. Come on, Pedro. Bye, Peter. Have fun. Yeah, I will. What are you gonna do, Pete? What? When you graduate, what do you think you\\'ll do? Oh, I don\\'t know. Don\\'t grill him, dad. Just saying, you know. All you guys who go to that school you pretty much have your life planned out, right? Yeah, no, I\\'m just a sophomore. Peter has an internship with Tony stark. So I think he doesn\\'t have to worry. Really? Mm-hm. - Stark? - So cool. Oh. What do you do? Actually, I don\\'t intern for him anymore. Seriously? Yeah, it got... Boring. It was boring? You got to hang out with spider-man. Really? Spider-man? Wow. What\\'s he like? Yeah, he\\'s nice. Nice man. Solid dude. Hm. Look. So cute. Oh. I\\'ve seen you around, right? I mean, somewhere. We\\'ve... have we ever...? Because even the voice... He does academic decathlon with me. Oh. And he was at my party. - Ah. - It was a great party. Really great, yeah. Beautiful house, a lot of windows. You were there for, like, two seconds. That was... I was there longer than two seconds. You disappeared. No. No, I did not disappear. Yes, you did. You disappeared like you always do. Like you did in D.C. too. That\\'s terrible what happened down there in D.C. though. Were you scared? I\\'ll bet you were glad when your old pal spider-man showed up in the elevator though, huh? Yeah, well, I actually didn\\'t go up. I saw it all from the ground. Yeah. Very lucky that he was there that day. Good old spider-man. Dad, the light. Here we are. End of the line. Thanks, dad. You head in there, gumdrop. I\\'m gonna give Peter the \"dad\" talk. Don\\'t let him intimidate you. Love you. Love you, gumdrop. Have a safe flight. Hi. You guys look so pretty. Does she know? Know what? So she doesn\\'t. Good. Close to the vest. I admire that. I\\'ve got a few secrets of my own. Of all the reasons I didn\\'t want my daughter to date... Peter, nothing is more important than family. You saved my daughter\\'s life. I could never forget something like that. So I\\'m gonna give you one chance. Are you ready? You walk through those doors, you forget any of this happened and don\\'t you ever, ever interfere with my business again. \\'Cause if you do, I\\'ll kill you and everybody you love. I\\'ll kill you dead. That\\'s what I\\'ll do to protect my family, Pete. Do you understand? Hey. I just saved your life. Now what do you say? Thank you. You\\'re welcome. Now, you go on in there, you show my daughter a good time, okay? Just not too good. Hey. What did he say to you? I\\'ve got to go. I\\'m... I\\'m sorry. You don\\'t deserve this. Ah! He gave you a choice. You chose wrong. What the hell? What\\'s with the crappy costume? My web-shooters. Whoa! I wasn\\'t sure about this thing at first, but... Damn. Oh, gross. Why did he send you here? Guess you\\'ll never know. Huh? Nice shot! Yes! Ned, the guy with the wings is Liz\\'s dad. What? I know. I gotta tell Mr. stark. Call happy hogan. He\\'s Mr. stark\\'s head of security. Get a computer and track my phone for me. Are you gonna be okay? Hurry, we gotta catch him before he leaves town. I\\'m sorry about dinner, but I know when branzino\\'s fresh, and that was not fresh, okay? So... ah! Flash, I need your car and your phone. Sir, technically, this is my dad\\'s car, sir, so I can\\'t... Ah! Hello, ned? Hey, hey, can you hear me? Go for ned. Ned, I need you to track my phone for me. Yeah, but where is it? Genius move. Okay, he just passed the gamestop on Jackson Avenue. Hey, where are the headlights on this thing? I\\'m in flash\\'s car. I\\'ll pull the specs. Okay, you\\'re on speakerphone. You stole flash\\'s car? Awesome. Yeah, it\\'s awesome! It\\'s awe... Oh! Get out of the way! Get out of the way! Move! Move! Peter, are you okay? I\\'ve never driven before. Only with may in parking lots. This is a huge step up. Whoa! Hey, have you gotten through to happy yet? Uh, yeah. I\\'m working on it. I just gotta backdoor the phone system. Guy in the chair. Takeoff in nine minutes. Hello? Hello? Who is this? Mr. happy, it\\'s ned. Who? I\\'m an associate of Peter Parker. Got something important to tell you... You gotta be shitting me. Damn. Hey, ned, how we coming with those headlights? Uh... Round knob to the left of the steering wheel, turn clockwise. Left, okay. Okay, perfect. So where\\'s my phone now? Um... He stopped in an old industrial park in Brooklyn. What? That makes no sense! I thought he said he was going out of town! Weird. Oh, I reached Mr. happy. Don\\'t think he likes you, by the way. Sounded like he was catching a flight. Something about taking off in nine minutes. What? He was surrounded by boxes. Boxes? It\\'s moving day. It\\'s moving day. He\\'s gonna rob that plane. I gotta stop him! All right, wheels up in eight minutes. We just got to load Tony\\'s old hulkbuster armor, prototype for cap\\'s new shield, and the meging... The Meg... the... Thor\\'s magic belt. Okay, slow down. You\\'re getting close. It\\'s on your right. What? Turn right! Turn right! Peter, are you okay? Yeah. Just keep trying to get through to happy. It\\'s been an honor, spider-man. What are you doing here? There\\'s a dance. Uh... I\\'m looking at porn. Hey! Surprised? Oh, hey, Pete. I didn\\'t hear you come in. It\\'s over. I\\'ve got you. You know, i gotta tell you, Pete, I really, really admire your grit. I see why Liz likes you. I do. When you first came to the house, I wasn\\'t sure. I thought, \"really?\" But I get it now. How could you do this to her? To her? I\\'m not doing anything to her, Pete. I\\'m doing this for her. Huh, yeah. Peter, you\\'re young. You don\\'t understand how the world works. Yeah, but I understand that selling weapons to criminals is wrong. How do you think your buddy stark paid for that tower? Or any of his little toys? Those people, Pete, those people up there, the rich and the powerful, they do whatever they want. Guys like us, like you and me, they don\\'t care about us. We build their roads and we fight all their wars and everything, but they don\\'t care about us. We have to pick up after \\'em. We have to eat their table scraps. That\\'s how it is. I know you know what I\\'m talking about, Peter. Why are you telling me this? Because I want you to understand. And... I needed a little time to get her airborne. I\\'m sorry, Peter. What are you talking about? That thing hasn\\'t even touched me yet. True. Then again, wasn\\'t really trying to. Chief, they\\'re powering up engines. Okay. Yeah, yeah. Come on, come on, come on. Oh, god. Okay, ready? Hello! Hello! Please. Hey. Hey, please. I\\'m down here. I\\'m down here. I\\'m stuck. I\\'m stuck. I can\\'t move. I can\\'t... If you\\'re nothing without this suit, then you shouldn\\'t have it. Come on, Peter. Come on, spider-man. Come on, spider-man. Come on, spider-man. Come on, spider-man! Launch for intercept. Green light. Green light. Oh, yeah. Retroreflective panels engaged. Got a visual on the plane, but I\\'m feeling a little resistance. It\\'s probably just drag on the new turbines. Ah! Whoa! Look out for the cloaking cameras. Stay in the blind spots. Oh, my god! Oh, my god! Deploy high-altitude vacuum seal. This better work, Mason. Trust me, boss, even one of those boxes and we are set for life. Yeah. Hey! Ah! Whew. You have 30 seconds to get to the cockpit and override their security. Cloning transponder signal. Launching decoy drone. Whoa. Entering new coordinates. Good, so it\\'s on its way? Yes, sir, right on course. Okay, thank you. All right. Hot dog. Just a typical homecoming on the outside of an invisible jet... ah! Fighting my girlfriend\\'s dad. Oh! Oh! Ah! Oh, god! Whew. I can\\'t believe that worked. Chief, they\\'re losing altitude. Get out of there. I\\'m not going home empty-handed. Oh, my god. - Get out of there. - What are you doing? Please turn! Please turn! Hey, Pedro. Bingo. Your wingsuit. Your wingsuit\\'s gonna explode! Time to go home, Pete. I\\'m trying to save you! No! No. No! Ah! Ah! It looked so insane. That whole... Like, it was just crazy. He was just, like... And you were like, \"ah!\" And then I just hit him with the \"fffew.\" It was so... Oh, my god. You saved me. It was awesome. Hey, Liz. I\\'m gonna miss you. Bye. Liz. Liz, look, I\\'m so sorry. You say that a lot. What are you sorry for this time? The dance? That was a pretty crappy thing to do. Well, yeah, but i... I mean, your dad... I can\\'t imagine what you\\'re going through. If there\\'s anything i can do to help... I guess we\\'re moving to Oregon. Mom says it\\'s nice there, so that\\'s cool. Anyways, dad doesn\\'t want us here during the trial, so... Liz, i... i... Bye, Peter. Whatever\\'s going on with you, I hope you figure it out. Congratulations, decathlon national champions. Yeah! I\\'m gonna have to put this back in the trophy case soon, but just for motivation right now at this practice. I\\'m a little ahead of the game, but we will need a new team captain next year. So I am appointing Michelle. Yeah! Uh, thank you. My... my friends call me mj. I thought you didn\\'t have any friends. I didn\\'t. I gotta go. Hey, where you going? What are you hiding, Peter? I\\'m just kidding. I don\\'t care. Bye. All right, so we should run some drills. Yeah. Hey, happy. What... What are you doing here? I really owe you one. I don\\'t know what I would do without this job. I mean, before I met Tony... So how long you been here? Long enough to be awkward. Boss wants to see you. Is he here too? In the toilet? No, he\\'s upstate. Upstate? Like, upstate-upstate? Yeah, let\\'s go. Take a look. It\\'s pretty impressive, huh? They just finished remodeling the whole thing. You don\\'t see that every day. Oh, there they are. How was the ride up? Good. Give me a minute with the kid. Seriously? Yeah. I got to talk to the kid. I\\'ll be close behind. How about a loose follow? All right? Boundaries are good. Sorry I took your suit. I mean, you had it coming. Actually, it turns out it was the perfect tough-love moment that you needed, right? To urge you on? Wouldn\\'t you think? Don\\'t you think? I guess. Let\\'s just say it was. Mr. stark, I really... You screwed the pooch hard, bigtime. But then you did the right thing. Took the dog to the free clinic, you raised the hybrid puppies. All right, not my best analogy. I was wrong about you. I think, with a little more mentoring, you could be a real asset to the team. To the... to the team? Yeah. Anyway, there\\'s about 50 reporters behind that door. Real ones, not bloggers. When you\\'re ready, why don\\'t you try that on? And I\\'ll introduce the world to the newest official member of the avengers: Spider-man. I... heh. Yeah, give that a look. So after the press conference, happy will show you to your room, your new quarters. Where\\'s he between? He\\'s next to vision? Yeah, vision\\'s not big on doors. It\\'s fun. Or walls. You\\'ll fit right in. Thank you, Mr. stark, but I\\'m... I\\'m good. You\\'re good? How are you good? Well, I mean, I\\'d rather just stay on the ground for a little while. Friendly neighborhood spider-man. Somebody\\'s got to look out for the little guy, right? You\\'re turning me down? You better think about this. Look at that. Look at me. Last chance. Yes or no? No. Okay. It\\'s kind of a Springsteen-y, working-class hero vibe that I dig. Ah, happy will take you home. Yeah? Yeah. Mind waiting in the car? I need a minute. Thank you, Mr. stark. Yes, Mr. Parker, very well. See you around. Okay. That was a test, right? There\\'s nobody back there? Yes, you passed. All right, skedaddle there, young buck. Thank you, Mr. stark. Thank you. Yeah, thank you. Told you he was a good kid. Pepper! Pepper! Where\\'s the kid? He left. Everybody\\'s waiting. He actually made a really mature choice. It just surprised the heck out of us. Did you guys screw this up? He told the kid to wait in the car. Are you kidding me? I have a room full of people waiting for some big announcement. What am I gonna tell them? Think of something. How about, um, hap, you still got that ring? Do i... i... The engagement ring. Are you kidding? I\\'ve been carrying this since 2008. Okay. I think I can think of something better than that. Well, it would buy us a little time. Like we need time. I can\\'t believe you have that thing in your pocket. Let me to get the door for you, hon? I got it. Aunt may, did you do dinner already? May? What the f...?! Look who it is. What are the odds you and I\\'d end up at the same summer camp? Relax. This? It\\'s not on you. It\\'s on our little spider friend. I\\'ve got some boys on the outside who would love to meet him. You know, take a picture, slice his throat, put his head in a dryer. And I heard a rumor... You know who he is. If I knew who he was, he\\'d already be dead. Toomes, your family\\'s here! Hi, I\\'m captain America, here to talk to you about one of the most valuable traits a soldier or student can have. Patience. Sometimes Patience is the key to victory. Sometimes it leads to very little and it seems like it\\'s not worth it. And you wonder why you waited so long for something so disappointing. How many more of these? (BUCKY SCREAMING) (CONTINUES SCREAMING) - (KARPOV SPEAKING RUSSIAN) - (PANTING) Longing Rusted Seventeen Daybreak Furnace Nine Benign Homecoming One Freight car Good morning, Soldier. Ready to comply. I have a mission for you. Sanction and extract. No witnesses. Well done Soldier. (INDISTINCT CHATTER) STEVE: (ON RADIO) All right, what do you see? Standard beat cops. Small station. Quiet street. It\\'s a good target. There\\'s an ATM on the south corner, which means? Cameras. Both cross streets are one-way. So, compromised escape routes. STEVE: Means our guy doesn\\'t care about being seen. He isn\\'t afraid to make a mess on the way out. You see that Range Rover halfway up the block? Yeah, the red one? It\\'s cute. NATASHA: (ON RADIO) It\\'s also bulletproof, which means private security... which means more guns... which means more headaches for somebody. Probably us. You guys know I can move things with my mind, right? Looking over your shoulder needs to become second nature. Anybody ever tell you you\\'re a little paranoid? NATASHA: Not to my face. Why? Did you hear something? STEVE: Eyes on target, folks. This is the best lead we\\'ve had on Rumlow in six months. I don\\'t want to lose him. (SCOFFS) If he sees us coming, that won\\'t be a problem. He kind of hates us. - (INDISTINCT SHOUTING) - (HORNS HONKING) Sam... see that garbage truck? Tag it. Give me X-ray. That truck\\'s loaded for max weight. And the driver\\'s armed. It\\'s a battering ram. - STEVE: Go now. - What? He\\'s not hitting the police. (PEOPLE COUGHING) (WHOOSHING) (GRUNTING) (GROANS) Body Armour, AR-15s. I make seven hostiles. (GUNFIRE) (GROANS) I make five. - (GROANS) - Sam. (MERC YELPING) Four. Rumlow\\'s on the third floor. Wanda, just like we practiced. WANDA: What about the gas? Get it out. - (GASPING) - (GRUNTS) (GRUNTS) (TECHNICIAN YELPS) CROSSBONES: Pack it up. (GUNFIRE) (GROANING) CROSSBONES: He\\'s here. Rumlow has a biological weapon. NATASHA: (ON RADIO) I\\'m on it. (TYRES SCREECHING) (GRUNTS) (MERC GROANS) - (NATASHA GRUNTS) - (GROWLS) I don\\'t work like that no more. Fire in the hole. (TICKING) MERC: No! (COUGHS) (PANTING) (GROANING) Sam. He\\'s in an AFV heading north. Take this to the airstrip. We\\'re not gonna outrun them. Lose the truck. (PEOPLE SCREAMING) Where are you going to meet us? I\\'m not. (GRUNTS) I\\'ve got four, they\\'re splitting up. I got the two on the left. (PANICKED CHATTER) They ditched their gear. It\\'s a shell game now. One of them has the payload. (BEEPING) - (PEOPLE SCREAMING) - (STEVE GRUNTS) (CROSSBONES GRUNTS) There you are, you son of a bitch. I\\'ve been waiting for this. (GROANS) He doesn\\'t have it. I\\'m empty! Out of the way! (PANICKED SHOUTING) (PANTING) (BOTH GRUNTING) Drop it. Or I\\'ll drop this. (PANTING) - Drop it! - He\\'ll do it! (BOTH GROAN) (GRUNTS) Payload secure. Thanks, Sam. Don\\'t thank me. I\\'m not thanking that thing. His name is Redwing. I\\'m still not thanking it. He\\'s cute. Go ahead, pet him. (BOTH GRUNTING) Come on! This is for dropping a building on my face. (PANTING) Ahh! I think I look pretty good, all things considered. Who\\'s your buyer? You know, he knew you. Your pal, your buddy, your BUCKY. What did you say? He remembered you. I was there. He got all weepy about it. Till they put his brain back in a blender. He wanted you to know something. He said to me... \"Please tell Rogers. \"When you gotta go... \"you gotta go.\" And you\\'re coming with me. (SCREAMING) (WANDA GRUNTING) (GASPS) Oh, my... Sam... we need Fire and Rescue on the south side of the building. We gotta get up there. (SOFT PIANO PLAYING) (SINGING) Try to remember the kind of September When grass was green Wake up, dear, and say goodbye to your father. Who\\'s the homeless person on the couch? (YOUNG TONY CHUCKLES) This is why I love coming home for Christmas... right before you leave town. Be nice, dear, he\\'s been studying abroad. Really? Which broad? What\\'s her name? Candice. Do me a favour? Try not to burn the house down before Monday. Okay, so it\\'s Monday. That is good to know, I will plan my toga party accordingly. Where you going? Your father\\'s flying us to the Bahamas for a little getaway. We might have to make a quick stop. At the Pentagon. Right? Don\\'t worry, you\\'re gonna love the holiday menu at the commissary. They say sarcasm is a metric for potential. If that\\'s true, you\\'ll be a great man someday. I\\'ll get the bags. He does miss you when you\\'re not here. And frankly, you\\'re going to miss us. Because this is the last time we\\'re all going to be together. You know what\\'s about to happen. Say something. If you don\\'t, you\\'ll regret it. I love you, Dad. And I know you did the best you could. That\\'s how I wish it happened. Binarily Augmented Retro-Framing... or BARF. God, I gotta work on that acronym. An extremely costly method of hijacking the hippocampus... to (SIGHS) clear traumatic memories. (BLOWING) Huh. It doesn\\'t change the fact that they never made it to the airport... or all the things I did to avoid processing my grief, but... Plus, $611 million for my little therapeutic experiment? No one in their right mind would\\'ve ever funded it. Help me out, what\\'s the MIT mission statement? \"To generate, disseminate... (STUDENTS RECITING) \"and preserve knowledge. \"And work with others... \"to bring it to bear on the world\\'s great challenges.\" Well, you are the others. And, quiet as it\\'s kept... the challenges facing you are the greatest mankind\\'s ever known. - Plus, most of you are broke. - (ALL LAUGHING) Oh, I\\'m sorry. Rather, you were. As of this moment... every student has been made an equal recipient... of the inaugural September Foundation Grant. - (STUDENTS GASPING) - As in... all of your projects have just been approved and funded. (ALL CHEERING) No strings, no taxes... just reframe the future! Starting now. Go break some eggs. (ALL CHEERING) Wow. Wow. That took my breath away. Oh, Tony! So generous. So much money! Wow! (LAUGHS AWKWARDLY) Out of curiosity... will any portion of that grant be made available to faculty? I know, \"Ooh, gross,\" but hear me out. I have got this killer idea for a self-cooking hotdog. Basically, chemical detonator embedded... Restroom\\'s this way, yeah? Yeah. Embedded in the meat shaft. Mr Stark, I am so sorry about the teleprompter. I didn\\'t know Miss Potts had cancelled. They didn\\'t have time to fix it. It\\'s fine. I\\'ll be right back. We\\'ll catch up later. That was nice, what you did for those young people. Ah, they deserve it. Plus, it helps ease my conscience. They say there\\'s a correlation between generosity and guilt. But if you\\'ve got the money... break as many eggs as you like. Right? Are you going up? I\\'m right where I want to be. Okay. Hey. Sorry, it\\'s an occupational hazard. I work for the State Department. Human Resources. I know it\\'s boring... but it enabled me to raise a son. I\\'m very proud of what he grew up to be. His name was Charlie Spencer. You murdered him. In Sokovia. Not that that matters in the least to you. You think you fight for us? You just fight for yourself. Who\\'s going to avenge my son, Stark? He\\'s dead... and I blame you. FEMALE NEWS ANCHOR: 11 Wakandans were among those killed during a confrontation... between the Avengers and a group of mercenaries... in Lagos, Nigeria last month. The traditionally reclusive Wakandans were on an outreach mission... in Lagos, when the attack occurred. Our people\\'s blood is spilled on foreign soil... not only because of the actions of criminals... but by the indifference of those pledged to stop them. Victory at the expense of the innocent... is no victory at all. FEMALE NEWS ANCHOR: The Wakandan king went on to... MALE PUNDIT: (ON TV) They are operating outside and above the international law. Because that\\'s the reality, if we don\\'t respond to acts like these. What legal authority does an enhanced individual like Wanda Maximoff have... to operate in Nigeri...? It\\'s my fault. That\\'s not true. Turn the TV back on. They\\'re being very specific. I should\\'ve clocked that bomb vest long before you had to deal with it. Rumlow said \"BUCKY\"... and all of a sudden I was a 16-year-old kid again, in Brooklyn. And people died. It\\'s on me. It\\'s on both of us. This job... We try to save as many people as we can. Sometimes that doesn\\'t mean everybody. But if we can\\'t find a way to live with that... then next time... maybe nobody gets saved. Vis! We talked about this. Yes, but the door was open so I assumed that... Captain Rogers wished to know when Mr Stark was arriving. Thank you. We\\'ll be right down. I\\'ll use the door. Oh, and apparently, he\\'s brought a guest. STEVE: We know who it is? The Secretary of State. SECRETARY ROSS: (SIGHS) Five years ago... I had a heart attack... and dropped right in the middle of my backswing. Turned out it was the best round of my life... because after 13 hours of surgery and a triple bypass... I found something 40 years in the Army had never taught me. Perspective. The world owes the Avengers an unpayable debt. You have fought for us... protected us, risked your lives... but while a great many people see you as heroes... there are some... who would prefer the word \"vigilantes.\" What word would you use, Mr Secretary? How about \"dangerous\"? What would you call a group of US-based, enhanced individuals... who routinely ignore sovereign borders... and inflict their will wherever they choose... and who, frankly, seem unconcerned about what they leave behind? New York. (PEOPLE SCREAMING) Washington, D.C. (PEOPLE SCREAMING) Sokovia. Lagos. (SIREN WAILING) Okay. That\\'s enough. For the past four years, you\\'ve operated with unlimited power... and no supervision. That\\'s an arrangement the governments of the world can no longer tolerate. But I think we have a solution. The Sokovia Accords. Approved by 117 countries... it states that the Avengers shall no longer be a private organization. Instead... they\\'ll operate under the supervision of a United Nations panel... only when and if that panel deems it necessary. The Avengers were formed to make the world a safer place. I feel we\\'ve done that. Tell me, Captain, do you know where Thor and Banner are right now? If I misplaced a couple of 30 megaton nukes... you can bet there\\'d be consequences. Compromise. Reassurance. That\\'s how the world works. Believe me, this is the middle ground. So, there are contingencies. Three days from now, the UN meets in Vienna... to ratify the Accords. Talk it over. And if we come to a decision you don\\'t like? Then you retire. (VEHICLE CRASHING) MAN: Hello? Is this your car out front? I jumped the kerb. Maybe we could... take care of it ourselves. If you wanna call the cops, that\\'s okay, too... - I guess. - No. No cops. Thank you. (CLATTERS) (KARPOV STRAINING) You have kept your looks, Colonel. Congratulations. \"Mission report. December 16, 1991.\" Who are you? My name is Zemo. I will repeat my question. Mission report, December 16, 1991. How did you find me? When S.H.I.E.L.D. fell... Black Widow released HYDRA files to the public. Millions of pages. Much of it encrypted. Not easy to decipher. But, I have experience. And patience. A man can do anything if he has those. What do you want? Mission report. December 16. 1991. Go... to... hell! (BREATHING HEAVILY) HYDRA deserves its place on the ash heap. So your death would not bother me. But I\\'d have to use this book... and other bloodier methods to find what I need. I don\\'t look forward to that. You\\'d only be dying for... your pride. Hail HYDRA. (CHOKING) Secretary Ross has a Congressional Medal of Honour... which is one more than you have. SAM: So let\\'s say we agree to this thing. How long is it gonna be before they LoJack us like a bunch of common criminals? 117 countries want to sign this. 117, Sam, and you\\'re just like, \"No, that\\'s cool. We got it.\" How long are you going to play both sides? I have an equation. Oh, this will clear it up. In the eight years since Mr Stark announced himself as Iron Man... the number of known enhanced persons has grown exponentially. During the same period... the number of potentially world-ending events has risen at a commensurate rate. Are you saying it\\'s our fault? I\\'m saying there may be a causality. Our very strength invites challenge. Challenge incites conflict. And conflict... breeds catastrophe. Oversight... Oversight is not an idea that can be dismissed out of hand. Boom. NATASHA: Tony. You are being uncharacteristically non-hyperverbal. It\\'s because he\\'s already made up his mind. Boy, you know me so well. Actually, I\\'m nursing an electromagnetic headache. That\\'s what\\'s going on, Cap. It\\'s just pain. It\\'s discomfort. Who\\'s putting coffee grounds in the disposal? Am I running a bed and breakfast for a biker gang? (SIGHS) Oh, that\\'s Charles Spencer, by the way. He\\'s a great kid. Computer engineering degree, 3.6 GPA... had a floor-level gig at Intel planned for the fall. But first, he wanted to put a few miles on his soul... before he parked it behind a desk. See the world. Maybe be of service. Charlie didn\\'t want to go to Vegas or Fort Lauderdale, which is what I would do. He didn\\'t go to Paris or Amsterdam, which sounds fun. He decided to spend his summer building sustainable housing for the poor. Guess where. Sokovia. He wanted to make a difference, I suppose. We won\\'t know because we dropped a building on him while we were kicking ass. There\\'s no decision-making process here. We need to be put in check! Whatever form that takes, I\\'m game. If we can\\'t accept limitations, if we\\'re boundary-less... we\\'re no better than the bad guys. Tony, someone dies on your watch, you don\\'t give up. Who said we\\'re giving up? We are if we\\'re not taking responsibility for our actions. This document just shifts the blame. I\\'m sorry, Steve. That is dangerously arrogant. This is the United Nations we\\'re talking about. It\\'s not the World Security Council, it\\'s not S.H.I.E.L.D., it\\'s not HYDRA. No, but it\\'s run by people with agendas, and agendas change. That\\'s good. That\\'s why I\\'m here. When I realised what my weapons were capable of in the wrong hands... I shut it down and stopped manufacturing. Tony, you chose to do that. If we sign this, we surrender our right to choose. What if this panel sends us somewhere we don\\'t think we should go? What if there is somewhere we need to go and they don\\'t let us? We may not be perfect, but the safest hands are still our own. If we don\\'t do this now, it\\'s gonna be done to us later. That\\'s the fact. That won\\'t be pretty. You\\'re saying they\\'ll come for me. We would protect you. NATASHA: Maybe Tony\\'s right. If we have one hand on the wheel, we can still steer. If we take it off... Aren\\'t you the same woman who told the government to kiss her ass a few years ago? I\\'m just reading the terrain. We have made some very public mistakes. We need to win their trust back. Focus up. I\\'m sorry. Did I just mishear you... - or did you agree with me? - I want to take it back now. No, you can\\'t retract it. Thank you. Unprecedented. (MOBILE BUZZING) Okay. Case closed. I win. I have to go. (CHOIR SINGING HYMN) And now, I would like to invite Sharon Carter to come up and say a few words. (EXHALES SHAKILY) Margaret Carter was known to most as a founder of S.H.I.E.L.D... but I just knew her as Aunt Peggy. She had a photograph in her office. Aunt Peggy standing next to JFK. As a kid, that was pretty cool. But it was a lot to live up to. Which is why I never told anyone we were related. I asked her once how she managed to master diplomacy and espionage... in a time when no one wanted to see a woman succeed at either. She said, compromise where you can. But where you can\\'t, don\\'t. Even if everyone is telling you that something wrong is something right. Even if the whole world is telling you to move... it is your duty to plant yourself like a tree... look them in the eye and say \"No, you move.\" When I came out of the ice, I thought everyone I had known was gone. Then I found out she was alive. I was just lucky to have her. She had you back, too. Who else signed? Tony, Rhodey, Vision. Clint? Says he\\'s retired. - Wanda? - TBD. I\\'m off to Vienna for the signing of the Accords. There\\'s plenty of room on the jet. (SIGHS) Just because it\\'s the path of least resistance... doesn\\'t mean it\\'s the wrong path. Staying together is more important than how we stay together. What are we giving up to do it? (SIGHS) I\\'m sorry, Nat. I can\\'t sign it. I know. Then what are you doing here? I didn\\'t want you to be alone. Come here. MALE NEWS ANCHOR: At a special United Nations conference... 117 countries have come together to ratify the Sokovia Accords. UN STAFFER: Excuse me, Ms Romanoff? - NATASHA: Yes? - These need your signature. - Thank you. - Thanks. T\\'CHALLA: I suppose neither of us is used to the spotlight. Oh, well, it\\'s not always so flattering. You seem to be doing all right so far. Considering your last trip to Capitol Hill... I wouldn\\'t think you\\'d be particularly comfortable in this company. Well, I\\'m not. And that alone makes me glad you are here, Ms Romanoff. Why? You don\\'t approve of all this? The Accords, yes. The politics, not really. Two people in a room can get more done than a hundred. Unless you need to move a piano. (BOTH SPEAKING NATIVE LANGUAGE) Ms Romanoff. King T\\'Chaka. Please, allow me to apologise for what happened in Nigeria. Thank you. Thank you for agreeing to all of this. I\\'m sad to hear that Captain Rogers will not be joining us today. Yes, so am I. MAN: (ON SPEAKERS) If everyone could please be seated. This assembly is now in session. That is the future calling. Such a pleasure. Thank you. (BOTH SPEAKING NATIVE LANGUAGE) For a man who disapproves of diplomacy, you\\'re getting quite good at it. I\\'m happy, Father. Thank you. Thank you. KING T\\'CHAKA: When stolen Wakandan vibranium was used to make a terrible weapon... we in Wakanda were forced to question our legacy. Those men and women killed in Nigeria... were part of a goodwill mission from a country too long in the shadows. We will not, however, let misfortune drive us back. We will fight to improve the world we wish to join. I am grateful to the Avengers for supporting this initiative. Wakanda is proud - to extend its hand in peace. - (DOG BARKING) Everybody get down! (PEOPLE SCREAMING) (INAUDIBLE) (SOBBING) SHARON: My mom tried to talk me out of enlisting... but, um, not Aunt Peggy. She bought me my first thigh holster. Very practical. And stylish. CIA has you stationed over here now? Berlin. Joint Terrorism Task Force. Right. Right. Sounds fun. I know, right? I\\'ve been meaning to ask you. When you were spying on me from across the hall... You mean when I was doing my job. Did Peggy know? She kept so many secrets. I didn\\'t want her to have one from you. (ELEVATOR BELL DINGS) Thanks for walking me back. Sure. SAM: Steve. There\\'s something you gotta see. MALE NEWS ANCHOR: A bomb hidden in a news van... SHARON: Who\\'s coordinating? Ripped through the UN building in Vienna. Good. They\\'re solid. Forensics? More than 70 people have been injured. At least 12 are dead, including Wakanda\\'s King T\\'Chaka. Officials have released a video of a suspect... who they have identified as James Buchanan Barnes... the Winter Soldier. The infamous HYDRA agent... linked to numerous acts of terrorism and political assassinations. I have to go to work. (INDISTINCT CHATTER) Call MI6, see if we can get Micro Forensics to hurry this up. We need the whole team here in two hours or it\\'s not worth it. I\\'m very sorry. T\\'CHALLA: In my culture... death is not the end. It\\'s more of a stepping-off point. You reach out with both hands... and Bast and Sekhmet, they lead you into the green veldt... where you can run forever. That sounds very peaceful. My father thought so. I am not my father. T\\'CHALLA... Task Force will decide who brings in Barnes. Don\\'t bother, Ms Romanoff. I\\'ll kill him myself. (SIGHS) (MOBILE RINGING) Yeah? You all right? Uh, yeah, thanks. I got lucky. I know how much Barnes means to you. I really do. Stay home. You\\'ll only make this worse. For all of us. Please. Are you saying you\\'ll arrest me? No. Someone will. If you interfere. That\\'s how it works now. If he\\'s this far gone, Nat, I should be the one to bring him in. Why? Because I\\'m the one least likely to die trying. Shit. She tell you to stay out of it? Might have a point. He\\'d do it for me. 1945, maybe. I just want to make sure we consider all our options. The people that shoot at you usually wind up shooting at me. Tips have been pouring in since that footage went public. Everybody thinks the Winter Soldier goes to their gym. Most of it\\'s noise. Except for this. My boss expects a briefing, pretty much now... so that\\'s all the head start you\\'re gonna get. Thank you. SHARON: You\\'re gonna have to hurry. We have orders to shoot on sight. (HELMUT ZEMO PRACTICING RUSSIAN) Homecoming One One Freight car (KNOCKING ON DOOR) (WOMAN SPEAKING GERMAN) I have your breakfast. (SIGHS) I could smell it before I opened the door. Side of bacon and black coffee. Again. I can make you something different, if you like. This is wonderful... I will just put this on your... It\\'s okay, I can manage! (SPEAKING ROMANIAN) (SIREN WAILING) SAM: (ON RADIO) Heads up, Cap. German Special Forces, approaching from the south. Understood. Do you know me? You\\'re Steve. I read about you in a museum. SAM: They\\'ve set the perimeter. I know you\\'re nervous, and you have plenty of reason to be. But you\\'re lying. I wasn\\'t in Vienna. I don\\'t do that any more. They\\'re entering the building. Well, the people who think you did are coming here now. And they\\'re not planning on taking you alive. That\\'s smart. Good strategy. (FOOTSTEPS APPROACHING) They\\'re on the roof. I\\'m compromised. This doesn\\'t have to end in a fight, Buck. - It always ends in a fight. - Five seconds. You pulled me from the river. Why? - I don\\'t know. - Three seconds. Yes, you do. Breach! Breach! Breach! (SHOUTING IN GERMAN) Buck, stop! You\\'re gonna kill someone. I\\'m not gonna kill anyone. (SOLDIER SHOUTING IN GERMAN) Suspect has broken containment! He\\'s headed down the east stairwell! Come on, man. (YELPS) Ahhh! (GRUNTS) (BOTH GRUNTING) Sam, southwest rooftop. SAM: Who the hell\\'s the other guy? About to find out. - Sam. - Got him. (GRUNTS) (SIREN WAILING) DRIVER: (ON SPEAKER) Stand down! Stand down! Sam, I can\\'t shake this guy. Right behind you. (SIRENS WAILING) (BLACK PANTHER GRUNTING) (TYRES SCREECHING) (SIRENS CONTINUE WAILING) Stand down, now. Congratulations, Cap. You\\'re a criminal. (ALL SHOUTING INDISTINCTLY) Your Highness. \"A pinch of paprika.\" A pinch. (SOFT MUSIC PLAYING ON STEREO) Is that paprikash? I thought it might lift your spirits. (WANDA CHUCKLES) Spirits lifted. In my defense, I haven\\'t actually ever eaten anything before, so... May I? Please. - Wanda? - Hmm. No one dislikes you, Wanda. Thanks. Oh, you\\'re welcome. No, it\\'s a involuntary response in their amygdala. They can\\'t help but be afraid of you. Are you? My amygdala is synthetic, so... (LAUGHS) I used to think of myself one way. But after this... I am something else. I\\'m still me, I think, but... that\\'s not what everyone else sees. Do you know, I don\\'t know what this is? Not really. I know it\\'s not of this world... that it powered Loki\\'s staff, gave you your abilities, but... its true nature is a mystery. And yet, it is part of me. Are you afraid of it? I wish to understand it. The more I do, the less it controls me. One day... who knows? I may even control it. I don\\'t know what\\'s in this but it is not paprika. I\\'m gonna go to the store. I\\'ll be back in 20 minutes. Alternatively, we could order a pizza? Vision, are you not letting me leave? It is a question of safety. I can protect myself. Not yours. Mr Stark would like to avoid the possibility of another public incident. Until the Accords are on a more secure foundation. And what do you want? For people to see you... as I do. (SIRENS WAILING) So, you like cats? - Sam. - SAM: What? Dude shows up dressed like a cat, you don\\'t wanna know more? Your suit... it\\'s vibranium? The Black Panther has been the protector of Wakanda for generations. A mantle, passed from warrior to warrior. And now, because your friend murdered my father... I also wear the mantle of king. So, I ask you... as both warrior and king... how long do you think you can keep your friend safe from me? (MAN SPEAKING GERMAN ON PA) What\\'s gonna happen to him? Same thing that ought to happen to you. Psychological evaluation and extradition. This is Everett Ross, Deputy Task Force Commander. What about a lawyer? Lawyer. That\\'s funny. See their weapons are placed in lockup. We\\'ll write you a receipt. I better not look out the window and see anybody flying around in that. (MAN ON PA CONTINUES IN GERMAN) EVERETT: You\\'ll be provided with an office instead of a cell. Now, do me a favour, stay in it? I don\\'t intend on going anywhere. For the record, this is what making things worse looks like. He\\'s alive. TONY: No. Romania was not Accords-sanctioned. Colonel Rhodes is supervising cleanup. Try not to break anything while we fix this. Consequences? You bet there\\'ll be consequences. Obviously you can quote me on that, because I just said it. Anything else? Thank you, sir. \"Consequences\"? Secretary Ross wants you both prosecuted. Had to give him something. I\\'m not getting that shield back, am I? Technically, it\\'s the government\\'s property. Wings, too. That\\'s cold. Warmer than jail. (SPEAKING GERMAN) TONY: Hey, you wanna see something cool? I pulled something from Dad\\'s archives. Felt timely. FDR signed the Lend-Lease bill with these in 1941. Provided support to the Allies when they needed it most. Some would say it brought our country closer to war. See? If not for these, you wouldn\\'t be here. I\\'m trying to... What do you call it? That\\'s an olive branch. Is that what you call it? Is Pepper here? I didn\\'t see her. We\\'re kinda... - Well, not kinda... - Pregnant? No. Definitely not. We\\'re taking a break. It\\'s nobody\\'s fault. I\\'m so sorry, Tony. I didn\\'t know. A few years ago, I almost lost her, so I trashed all my suits. Then, we had to mop up HYDRA... and then Ultron. My fault. And then, and then, and then, I never stopped. Because the truth is I don\\'t wanna stop. I don\\'t wanna lose her. I thought maybe the Accords could split the difference. In her defense, I\\'m a handful. Yet, Dad was a pain in the ass, but he and Mom always made it work. STEVE: I\\'m glad Howard got married. I only knew him when he was young and single. Oh, really? You two knew each other? He never mentioned that. Maybe only a thousand times. God, I hated you. I don\\'t mean to make things difficult. I know, because you\\'re a very polite person. If I see a situation pointed south... I can\\'t ignore it. Sometimes I wish I could. No, you don\\'t. No, I don\\'t. Sometimes... Sometimes I wanna punch you in your perfect teeth. But I don\\'t wanna see you gone. We need you, Cap. So far, nothing\\'s happened that can\\'t be undone, if you sign. We can make the last 24 hours legit. Barnes gets transferred to an American psych-centre... instead of a Wakandan prison. I\\'m not saying it\\'s impossible... but there would have to be safeguards. Sure. Once we put out the PR fire, those documents can be amended. I\\'d file a motion to have you and Wanda reinstated... Wanda? What about Wanda? She\\'s fine. She\\'s confined to the compound, currently. Vision\\'s keeping her company. Oh, God, Tony. Every time I think you see things the right way... It\\'s 100 acres with a lap pool. It\\'s got a screening room. There\\'s worse ways to protect people. Protection? Is that how you see this? This is protection? It\\'s internment, Tony. - She\\'s not a US citizen. - Oh, come on, Tony. And they don\\'t grant visas to weapons of mass destruction. She\\'s a kid! Give me a break! I\\'m doing what has to be done. To stave off something worse. You keep telling yourself that. Hate to break up the set. HELMUT ZEMO: Hello, Mr Barnes. I\\'ve been sent by the United Nations to evaluate you. Do you mind if I sit? Your first name is James? The receipt for your gear. \"Bird costume\"? Come on. I didn\\'t write it. HELMUT ZEMO: I\\'m not here to judge you. I just want to ask you a few questions. Do you know where you are, James? I can\\'t help you if you don\\'t talk to me, James. My name is BUCKY. (HONKING) Hello? Hey! (BOTH SPEAKING GERMAN) Why would the Task Force release this photo to begin with? Get the word out, involve as many eyes as we can? Right. It\\'s a good way to flush a guy out of hiding. Set off a bomb, get your picture taken. Get seven billion people looking for the Winter Soldier. You\\'re saying someone framed him to find him? Steve, we looked for the guy for two years and found nothing. We didn\\'t bomb the UN. That turns a lot of heads. SHARON: Yeah, but that doesn\\'t guarantee that whoever framed him would get him. It guarantees that we would. Yeah. HELMUT ZEMO: Tell me, BUCKY. You\\'ve seen a great deal, haven\\'t you? I don\\'t wanna talk about it. You fear that if you open your mouth, the horrors might never stop. Don\\'t worry. We only have to talk about one. (BEEPING) (SPEAKING GERMAN) Come on, guys, get me eyes on Barnes. Friday, get me a source on that outage. Sub-level five, East Wing. What the hell is this? Why don\\'t we discuss your home? Not Romania. Certainly not Brooklyn, no. I mean your real home. (SPEAKING RUSSIAN) Longing No. Rusted Stop. Seventeen Stop. Daybreak (SCREAMING) (GRUNTS) Furnace Nine Benign Homecoming One Freight car Soldier? Ready to comply. Mission report. December 16, 1991. HELMUT ZEMO: Help me. Help. (GROANING) Get up. Who are you? What do you want? To see an empire fall. (BOTH GRUNTING) (GROANS) - (ALARM BLARING) - (GROANING SOFTLY) (MAN SPEAKING GERMAN ON PA) Hey. EVERETT: Evac all civilians. Get me a perimeter around the building, and gunships in the air. Please tell me you brought a suit. Sure did. It\\'s a lovely Tom Ford, three-piece, two-button. I\\'m an active-duty non-combatant. Follow me. (ALARM CONTINUES BLARING) (GRUNTS) NATASHA: (ON RADIO) We\\'re in position. (GUNSHOT) You could at least recognise me. (GASPING) (BOTH GRUNTING) (PEOPLE SCREAMING) Damn it. (HELICOPTER POWERING UP) (STRAINING) (GRUNTS) (GROWLS) (PANTING) WOMAN: He asked me again if you were going to be there. I said I wasn\\'t sure. You should have seen his little face. Just try, okay? I\\'m going to bed. I love you. (MALE NEWS ANCHOR SPEAKING GERMAN ON TV) James Barnes the suspect in the UN Vienna bombing... escaped custody today. Also missing Avenger Captain Steve Rogers... and Sam Wilson. (GROANING) SAM: Hey, Cap! (BUCKY CONTINUES GROANING) Steve. Which BUCKY am I talking to? Your mom\\'s name was Sarah. You used to wear newspapers in your shoes. (CHUCKLES) Can\\'t read that in a museum. Just like that, we\\'re supposed to be cool? What did I do? Enough. Oh, God, I knew this would happen. Everything HYDRA put inside me is still there. All he had to do was say the goddamn words. - Who was he? - I don\\'t know. People are dead. The bombing, the setup... the doctor did all that just to get 10 minutes with you. I need you to do better than \"I don\\'t know.\" He wanted to know about Siberia. Where I was kept. He wanted to know exactly where. Why would he need to know that? Because I\\'m not the only Winter Soldier. (GROANING) (SPEAKING RUSSIAN) It hurts! (GROANING CONTINUES) (BOTH GRUNTING) (SPEAKING RUSSIAN) Good work. (PANTING) (SCREAMING) (COCKS GUN) Get me out of here. Who were they? BUCKY: Their most elite death squad. More kills than anyone in HYDRA history. And that was before the serum. They all turn out like you? Worse. The doctor, could he control them? Enough. Said he wanted to see an empire fall. BUCKY: With these guys, he could do it. They speak 30 languages, can hide in plain sight... infiltrate, assassinate, destabilize. They can take a whole country down in one night, you\\'d never see them coming. This would have been a lot easier a week ago. - If we call Tony... - No, he won\\'t believe us. Even if he did... Who knows if the Accords would let him help. We\\'re on our own. Maybe not. I know a guy. I don\\'t suppose you have any idea where they are? TONY: We will. GSG 9\\'s got the borders covered. Recon\\'s flying 24/7. They\\'ll get a hit. We\\'ll handle it. You don\\'t get it, Stark. It\\'s not yours to handle. It\\'s clear you can\\'t be objective. I\\'m putting Special Ops on this. What happens when the shooting starts? What, do you kill Steve Rogers? SECRETARY ROSS: If we\\'re provoked. Barnes would\\'ve been eliminated in Romania if it wasn\\'t for Rogers. There are dead people who would be alive now. Feel free to check my math. All due respect, you\\'re not gonna solve this with boys and bullets, Ross. You gotta let us bring them in. How would that end any differently than last time? Because this time, I won\\'t be wearing loafers and a silk shirt. 72 hours, guaranteed. 36 hours. Barnes. Rogers. Wilson. Thank you, sir. (EXHALES) My left arm is numb. Is that normal? You all right? Always. 36 hours. Jeez. We\\'re seriously understaffed. Oh, yeah. It\\'d be great if we had a Hulk right about now. Any shot? You really think he\\'d be on our side? No. I have an idea. Me, too. Where\\'s yours? Downstairs. Where\\'s yours? (ROCK MUSIC PLAYING) (ELEVATOR BELL DINGS) Hey, May. (GRUNTS) MAY: Mmm. Hey. How was school today? PETER: It was okay. This crazy car parked outside. - Oh, Mr Parker. - Um... (STAMMERING) What are you doing... Hey! Uh, I\\'m Peter. Tony. What are you doing here? It\\'s about time we met. You\\'ve been getting my emails, right? - Yeah. Yeah. - Right? Regarding the... You didn\\'t even tell me about the grant. - About the grant. - The September Foundation. - Right. - Yeah. Remember when you applied? Yeah. I approved, so now we\\'re in business. But you didn\\'t tell me anything. What\\'s up with that? You keeping secrets from me now? I just know how much you love surprises so I thought I would let you know... Anyway, what did I apply for? That\\'s what I\\'m here to hash out. Okay. Hash it out, okay. It\\'s so hard for me to believe that she\\'s someone\\'s aunt. Yeah, well, we come in all shapes and sizes, you know? This walnut date loaf is exceptional. - Let me just stop you there. - Yeah. Is this grant got money involved or whatever? No? TONY: Yeah, it\\'s pretty well funded. Yeah? Wow. Look who you\\'re talking to. - Can I have five minutes with him? - Sure. As walnut date loaves go, that wasn\\'t bad. Whoa, what have we here? Retro tech, huh? Thrift store? Salvation Army? - Uh, the garbage, actually. - You\\'re a dumpster diver? Yeah, I was... Anyway, look, um, I definitely did not apply for your grant... - Ah-ah! Me first. - Okay. Quick question of the rhetorical variety. That\\'s you, right? Um, no. - (STAMMERS) What do you mean? - Yeah. Look at you go. Wow! Nice catch. 3,000 pounds, 40 miles an hour. That\\'s not easy. You got mad skills. That\\'s all on YouTube, though, right? That\\'s where you found that? Because you know that\\'s all fake. It\\'s all done on the computer. Mmm-hmm. It\\'s like that video. What is it? Yeah. Oh, you mean like those UFOs over Phoenix? Exactly. Oh, what have we here? - Uh... - (CLATTERS) (EXHALES) You\\'re the Spider-ling. Crime-fighting spider. You\\'re Spider-Boy? Spider-Man. Not in that onesie, you\\'re not. It\\'s not a onesie. I don\\'t believe this. I was actually having a really good day today, Mr Stark. Didn\\'t miss my train, this perfectly good DVD player was just sitting there... and Algebra test, nailed it. Who else knows? Anybody? Nobody. Not even your unusually attractive aunt? No. No. No! If she knew, she would freak out. And when she freaks out, I freak out. You know what I think is really cool? This webbing. That tensile strength is off the charts. Who manufactured that? I did. Climbing walls, how you doing that? Adhesive gloves? It\\'s a long story. I was... Lordy! Can you even see in these? Yes, I can. I\\'m blind! I can see in those. Okay? It\\'s just that when whatever happened, happened... it\\'s like my senses have been dialled to 11. There\\'s way too much input, so they just kinda help me focus. You\\'re in dire need of an upgrade. Systemic, top to bottom, hundred-point restoration. That\\'s why I\\'m here. Why you doing this? I gotta know, what\\'s your MO? What gets you outta that twin bed in the morning? Because... (STAMMERS) Because I\\'ve been me my whole life, and I\\'ve had these powers for six months. Mmm-hmm. I read books, I build computers. Yeah, I would love to play football, but I couldn\\'t then, so I shouldn\\'t now. Sure, because you\\'re different. Exactly. But I can\\'t tell anybody that, so I\\'m not. When you can do the things that I can, but you don\\'t... and then the bad things happen... they happen because of you. So you wanna look out for the little guy, you wanna do your part? Make the world a better place, all that, right? Yeah, just looking out for the little guy. That\\'s what it is. I\\'m gonna sit here, so you move the leg. (TONY EXHALES) You got a passport? No, I don\\'t even have a driver\\'s license. - You ever been to Germany? - No. Oh, you\\'ll love it. - I can\\'t go to Germany. - Why? I got homework. I\\'m gonna pretend you didn\\'t say that. No, I\\'m being serious. I can\\'t just drop out of school. Might be a little dangerous. Better tell Aunt Hottie I\\'m taking you on a field trip. Don\\'t tell Aunt May. All right, Spider-Man. Get me out of this. Sorry. I\\'ll get the... (EXPLOSION) What is it? Stay here, please. (GASPS) Guess I shoulda knocked. Oh, my God! What are you doing here? Disappointing my kids. I\\'m supposed to go waterskiing. Cap needs our help. Come on. Clint! You should not be here. Really? I retire for, what, like five minutes, and it all goes to shit. Please consider the consequences of your actions. Okay, they\\'re considered. (GROANS) Okay, we gotta go. It\\'s this way. I\\'ve caused enough problems. (SIGHS) You gotta help me, Wanda. Look, you wanna mope, you can go to high school. You wanna make amends, you get off your ass. Shit. (GROANS) I knew I should\\'ve stretched. (BOTH GRUNTING) VISION: Clint, you can\\'t overpower me. I know I can\\'t. But she can. Vision, that\\'s enough. Let him go. I\\'m leaving. I can\\'t let you. I\\'m sorry. If you do this... they will never stop being afraid of you. I can\\'t control their fear, only my own. CLINT: Oh... Come on. We got one more stop. ATTACHE: It\\'s just a matter of time. Our satellites are running facial, biometric, and behavioural pattern scans. Move or you will be moved. As entertaining as that would be... You really think you can find him? My resources are considerable. Yeah, it took the world 70 years to find Barnes... so you could probably do that in about half the time. You know where they are. I know someone who does. Not sure you understand the concept of a getaway car. It\\'s low profile. Good, because this stuff tends to draw a crowd. Can you move your seat up? No. I owe you again. Keeping a list. You know, he kinda tried to kill me. Sorry. I\\'ll put it on the list, too. They\\'re going to come looking for you. I know. Thank you, Sharon. That was... Late. Damn right. I should go. Okay. Cap. You know I wouldn\\'t have called if I had any other choice. Hey, man, you\\'re doing me a favour. Besides, I owe a debt. Thanks for having my back. It was time to get off my ass. How about our other recruit? He\\'s rarin\\' to go. Had to put a little coffee in him... (CAR DOOR SLAMS) but he should be good. What time zone is this? Come on. Come on. - Captain America! - Mr Lang. It\\'s an honour. I\\'m shaking your hand too long. Wow! This is awesome! Captain America. I know you, too. You\\'re great! Jeez. Ah, look, I wanna say, I know you know a lot of super people, so... thinks for thanking of me. - Hey, man! - What\\'s up, Tic Tac? Uh, good to see you. Look, what happened last time when I... It was a great audition, but it\\'ll never happen again. They tell you what we\\'re up against? Something about some psycho-assassins? We\\'re outside the law on this one. So if you come with us, you\\'re a wanted man. Yeah, well, what else is new? We should get moving. We got a chopper lined up. (MAN SPEAKING GERMAN ON PA) They\\'re evacuating the airport. Stark. Stark? Suit up. IRON MAN: Wow, it\\'s so weird how you run into people at the airport. - Don\\'t you think that\\'s weird? - Definitely weird. CAPTAIN AMERICA: Hear me out, Tony. That doctor, the psychiatrist, he\\'s behind all of this. Captain. Your Highness. IRON MAN: Anyway... Ross gave me 36 hours to bring you in. That was 24 hours ago. Can you help a brother out? You\\'re after the wrong guy. Your judgement is askew. Your old war buddy killed innocent people yesterday. And there are five more super soldiers just like him. I can\\'t let the doctor find them first, Tony. I can\\'t. BLACK WIDOW: Steve... you know what\\'s about to happen. Do you really wanna punch your way out of this one? All right, I\\'ve run out of patience. Underoos! - Nice job, kid. - Thanks. I could have stuck the landing a little better, it\\'s just... New suit. It\\'s nothing, Mr Stark. It\\'s perfect. Thank you. Yeah, we don\\'t really need to start a conversation. Okay. Cap. Captain. Big fan. I\\'m Spider-Man. Yeah, we\\'ll talk about it later. - (EXHALES) Hey, everyone. - Good job. You\\'ve been busy. And you\\'ve been a complete idiot. Dragging in Clint... \"Rescuing\" Wanda from a place she doesn\\'t even want to leave, a safe place. I\\'m trying to keep... (SIGHS) I\\'m trying to keep you from tearing the Avengers apart. You did that when you signed. All right, we\\'re done. You\\'re gonna turn Barnes over, you\\'re gonna come with us, now, because it\\'s us... or a squad of J-SOC guys... with no compunction about being impolite. Come on. FALCON: We found it. Their Quinjet\\'s in hangar five, north runway. All right, Lang. Hey, guys, something... (GRUNTS) Whoa. (STAMMERS) What the hell was that? I believe this is yours, Captain America. Oh, great. All right, there\\'s two on the parking deck. One of them\\'s Maximoff, I\\'m gonna grab her. Rhodey, you wanna take Cap? Got two in the terminal, Wilson and Barnes. Barnes is mine. - (GRUNTS) - (GROANS) Hey, Mr Stark, what should I do? What we discussed. Keep your distance, web them up. Okay, copy that. Move, Captain. I won\\'t ask a second time. Look, I really don\\'t want to hurt you. I wouldn\\'t stress about it. (GROANS) (BLACK WIDOW STRAINING) (GROANS) What the hell is that? Everyone\\'s got a gimmick now. (FALCON GROANS) You have a metal arm? That is awesome, dude. You have the right to remain silent! Sorry, Cap, this won\\'t kill you... but it ain\\'t gonna tickle either. Wanda, I think you hurt Vision\\'s feelings. You locked me in my room. Okay, first, that\\'s an exaggeration. Second, I did it to protect you. - Hey, Clint. - Hey, man. Clearly, retirement doesn\\'t suit you. You got tired of shooting golf? Well, I played 18, shot 18. Just can\\'t seem to miss. First time for everything. Made you look. FRIDAY: Multiple contusions detected. Yeah, I detected that, too. Oh, God! Hey, buddy, I think you lost this! (YELPS) Ahh! Those wings carbon fibre? Is this stuff coming out of you? That would explain the rigidity-flexibility ratio, which, gotta say, that\\'s awesome, man. I don\\'t know if you\\'ve been in a fight before... but there\\'s usually not this much talking. All right, sorry. My bad. Guys, look, I\\'d love to keep this up, but I\\'ve only got one job here today... and I gotta impress Mr Stark, so, I\\'m really sorry. (YELPS) (SCREAMING) You couldn\\'t have done that earlier? I hate you. Great. Hey, Cap, heads-up! Throw it at this. Now! Oh, come on! Oh, man, I thought it was a water truck. Uh, sorry. All right, now I\\'m pissed. Is this part of the plan? Well, my plan was go easy on them. You wanna switch it up? There\\'s our ride. Come on! Captain Rogers... I know you believe what you\\'re doing is right. But for the collective good... you must surrender now. (SPIDER-MAN GRUNTS) FALCON: What do we do, Cap? We fight. This is gonna end well. They\\'re not stopping. Neither are we. (ALL GRUNTING) We\\'re still friends, right? Depends on how hard you hit me. (GROANS) You were pulling your punches. I didn\\'t kill your father. Then why did you run? That thing does not obey the laws of physics at all. Look, kid, there\\'s a lot going on here that you don\\'t understand. Mr Stark said you\\'d say that. Wow. He also said to go for your legs. (BOTH STRAINING) Ahhh! Clint, can you get him off me? Buckled in? ANT-MAN: Yeah. No, I\\'m good. I\\'m good, Arrow Guy. Let\\'s go! (ANT-MAN YELLING) Stark tell you anything else? That you\\'re wrong. You think you\\'re right. That makes you dangerous. Guess he had a point. You got heart, kid. Where you from? Queens. Brooklyn. (STRAINING) (POWERING DOWN) Friday? FRIDAY: We have some weapon systems offline. What? Oh, you\\'re gonna have to take this into the shop. Who\\'s speaking? It\\'s your conscience. We don\\'t talk a lot these days. Friday? FRIDAY: Deploying fire suppression system. Uh-oh. Oh, boy! Whoa! (ANT-MAN SCREAMING) We gotta go. That guy\\'s probably in Siberia by now. We gotta draw out the flyers. I\\'ll take Vision, you get to the jet. No, you get to the jet! Both of you! The rest of us aren\\'t getting out of here. As much as I hate to admit it... if we\\'re gonna win this one, some of us might have to lose it. FALCON: This isn\\'t the real fight, Steve. All right, Sam. What\\'s the play? We need a diversion. Something big. ANT-MAN: I got something kinda big. But I can\\'t hold it very long. On my signal, run like hell. And if I tear myself in half... don\\'t come back for me. He\\'s gonna tear himself in half? You sure about this, Scott? ANT-MAN: I do it all the time. I mean, once. In a lab. Then I passed out. I\\'m the boss, I\\'m the boss, I\\'m the boss. (ANT-MAN GRUNTING) Holy shit! (LAUGHING) Okay, tiny dude is big now. He\\'s big now. I guess that\\'s the signal. Way to go, Tic Tac! Give me back my Rhodey. I got him. (GRUNTING) Okay, anybody on our side hiding any shocking and fantastic abilities they\\'d like to disclose... I\\'m open to suggestions. (GROANS) ANT-MAN: You wanna get to them... you gotta go through me. (GROANS) Uh-huh. (GROANS) We haven\\'t met yet. - I\\'m Clint. - I don\\'t care. (YELLING) Whoa! Ahhh! Get off! Something just flew in me! (SCREAMING) You\\'re not gonna stop. You know I can\\'t. I\\'m gonna regret this. (GROANS) Go. Hey, guys, you ever see that really old movie, Empire Strikes Back? WAR MACHINE: Jesus, Tony, how old is this guy? I don\\'t know, I didn\\'t carbon-date him. He\\'s on the young side. You know that part where they\\'re on the snow planet... with the walking thingies? Maybe the kid\\'s onto something. High now, Tony. Go high. SPIDER-MAN: Yes! (LAUGHS) That was awesome! (GROANING) Does anyone have any orange slices? - Kid, you all right? - (GASPS) Whoa! Same side. Guess who. Hi. It\\'s me. - (SIGHS) Hey, man. - Yeah. - That was scary. - Yeah. You\\'re done, all right? What? I\\'m good, I\\'m fine. You did a good job. Stay down. No, it\\'s good. I gotta get him back. You\\'re going home or I\\'ll call Aunt May! - Dude. - You\\'re done! Wait. Mr Stark, wait. (GROANS) I\\'m not done. I\\'m not... (GROANS) Okay, I\\'m done. I\\'m done. BLACK WIDOW: I said I\\'d help you find him, not catch him. There\\'s a difference. (PANTING) I\\'m sorry. Me, too. It\\'s as I said. Catastrophe. Vision, I got a bandit on my six. Vision! You copy? Target his thruster, turn him into a glider. (GROANS) Rhodey! Tony, I\\'m flying dead stick. (GRUNTING) Rhodes! Read vitals. FRIDAY: Heartbeat detected. Emergency medical is on its way. I\\'m sorry. (WOMAN SPEAKING GERMAN ON PHONE) (HELMUT ZEMO SPEAKING GERMAN) - this is room 201... Bacon and black coffee again today? (CHUCKLES) You know me so well... - (KNOCKING ON DOOR) - (SPEAKING GERMAN) Hello? Your breakfast is here. May I let myself in? (GASPS) What\\'s gonna happen to your friends? (SIGHS) Whatever it is... I\\'ll deal with it. I don\\'t know if I\\'m worth all this, Steve. What you did all those years... It wasn\\'t you. You didn\\'t have a choice. I know. But I did it. (WHISPERS) How did this happen? I became distracted. (SCOFFS) I didn\\'t think that was possible. Neither did I. TONY: The doctors say he shattered L4 through S1. Extreme laceration to the spinal cord. Probably looking at some form of paralysis. NATASHA: Steve\\'s not gonna stop. If you don\\'t either, Rhodey\\'s gonna be the best case scenario. You let them go, Nat. We played this wrong. \"We\"? Boy, it must be hard to shake the whole double agent thing, huh? It sticks in the DNA. Are you incapable of letting go of your ego... for one goddamn second? T\\'CHALLA told Ross what you did, so... they\\'re coming for you. I\\'m not the one that needs to watch their back. (WATCH BEEPING) What am I looking at, Friday? FRIDAY: Priority upload from Berlin police. Fire up the chopper. FRIDAY: The Task Force called for a psychiatrist as soon as Barnes was captured. The UN dispatched Doctor Theo Broussard from Geneva within the hour. He was met by this man. TONY: Did you run facial recognition yet? FRIDAY: What do I look like? Uh, I don\\'t know. I\\'ve been picturing a redhead. You must be thinking of someone else. Must be. The fake doctor is actually Colonel Helmut Zemo. Sokovian Intelligence. Zemo ran Echo Scorpion... a Sokovian covert kill squad. What happened to the real Broussard? He was found dead in a Berlin hotel room. Where police also found a wig and facial prosthesis... approximating the appearance of one James Buchanan Barnes. Son of a bitch. - Get this to Ross. - Yes, boss. (ICE PICK CHIPPING) (DOOR RUMBLING) (GRUNTS) GUARD: (ON RADIO) This is Raft Prison Control. You\\'re cleared for landing, Mr Stark. So? You got the files? Let\\'s reroute the satellites, start facial scanning for this Zemo guy. You seriously think I\\'m gonna listen to you after that fiasco in Leipzig? You\\'re lucky you\\'re not in one of these cells. (CLAPPING) CLINT: The Futurist, gentlemen! The Futurist is here! He sees all! He knows what\\'s best for you, whether you like it or not. Give me a break, Barton. I had no idea they\\'d put you here. Come on. (SPITS) Yeah, well, you knew they\\'d put us somewhere, Tony. Yeah, but not some super-max floating ocean pokey. This place is for maniacs. This is a place for... CLINT: Criminals? Criminals, Tony. Think that\\'s the word you\\'re looking for. Right? That didn\\'t used to mean me. Or Sam, or Wanda. But here we are. - Because you broke the law. - Yeah. I didn\\'t make you. - La, la, la, la, la... - You read it, you broke it. You\\'re all grown up, you got a wife and kids. I don\\'t understand, why didn\\'t you think about them before you chose the wrong side? You gotta watch your back with this guy. There\\'s a chance he\\'s gonna break it. Hank Pym always said you never can trust a Stark. Who are you? Come on, man. SAM: How\\'s Rhodes? They\\'re flying him to Columbia Medical tomorrow... so fingers crossed. What do you need? They feed you yet? You\\'re the good cop, now? I\\'m just the guy who needs to know where Steve went. Well, you better go get a bad cop... because you\\'re gonna have to go Mark Fuhrman on my ass... to get information out of me. Well, I just knocked the A out of their AV. We got about 30 seconds before they realise it\\'s not their equipment. SECRETARY ROSS: What\\'d you do? Get it back up! Just look. Because that... is the fellow who was supposed to interrogate Barnes. Clearly, I made a mistake. Sam, I was wrong. That\\'s a first. Cap is definitely off the reservation... but he\\'s about to need all the help he can get. We don\\'t know each other very well. You don\\'t have to... Hey, it\\'s all right. (SIGHS) Look, I\\'ll tell you... but you have to go alone and as a friend. Easy. SECRETARY ROSS: Stark? Did he give you anything on Rogers? Nope. Told me to go to hell. I\\'m going back to the compound instead, but you can call me anytime. I\\'ll put you on hold. I like to watch the line blink. You remember that time we had to ride back from Rockaway Beach in the back of that freezer truck? Was that the time we used our train money to buy hot dogs? You blew three bucks trying to win that stuffed bear for a redhead. What was her name, again? Dolores. You called her Dot. She\\'s gotta be a hundred years old right now. So are we, pal. (WIND HOWLING) STEVE: He can\\'t have been here more than a few hours. BUCKY: Long enough to wake them up. (LOUD THUD) (DOOR CREAKING) You ready? Yeah. You seem a little defensive. It\\'s been a long day. At ease, Soldier. I\\'m not currently after you. Then why are you here? Could be your story\\'s not so crazy. Maybe. Ross has no idea I\\'m here. I\\'d like to keep it that way. Otherwise, I gotta arrest myself. Well, that sounds like a lot of paperwork. (SCOFFS) It\\'s good to see you, Tony. You too, Cap. Hey, Manchurian Candidate, you\\'re killing me. There\\'s a truce here. You can drop... IRON MAN: I got heat signatures. CAPTAIN AMERICA: How many? Uh, one. HELMUT ZEMO: (ON SPEAKER) If it\\'s any comfort, they died in their sleep. Did you really think I wanted more of you? What the hell? I\\'m grateful to them, though. They brought you here. Please, Captain. The Soviets built this chamber to withstand the launch blast of UR-100 rockets. IRON MAN: I\\'m betting I could beat that. HELMUT ZEMO: Oh, I\\'m sure you could, Mr Stark. Given time. But then you\\'d never know why you came. You killed innocent people in Vienna just to bring us here? I\\'ve thought about nothing else for over a year. I studied you. I followed you. But now that you\\'re standing here... I just realised... there\\'s a bit of green in the blue of your eyes. (HELMUT ZEMO CHUCKLES) How nice to find a flaw. You\\'re Sokovian. Is that what this is about? Sokovia was a failed state long before you blew it to hell. No. I\\'m here because I made a promise. You lost someone? (CLICKS TONGUE) I lost everyone. And so will you. An empire toppled by its enemies can rise again. But one which crumbles from within? That\\'s dead. Forever. I know that road. What is this? Help my wife. Please. Help. (GASPS) Sergeant Barnes? MARIA: Howard! Howard! (MARIA GASPING) (WHIMPERS) (CHOKING) No, Tony. Did you know? I didn\\'t know it was him. Don\\'t bullshit me, Rogers. Did you know? Yes. (GRUNTS) (GRUNTS) Get out of here! It wasn\\'t him, Tony. HYDRA had control of his mind! Move! It wasn\\'t him! (BOTH GRUNTING) FRIDAY: Left bootjet failing. Flight systems compromised. Ah, crap. (PANTING) (GROANS) He\\'s not gonna stop. Go. (GROANS) Come on, come on. FRIDAY: Targeting system\\'s knackered, boss. I\\'m eyeballing it. (GASPS) (GROWLS) (WHISPERS) Do you even remember them? I remember all of them. (GROANS) (GROANS) (PANTING) This isn\\'t gonna change what happened. I don\\'t care. He killed my mom. (BOTH GRUNTING) (YELLING) (ALL GRUNTING) (IRON MAN GROANS) (YELLING) WOMAN: You should have seen his little face. Just try, okay? I\\'m going to bed. I love you. T\\'CHALLA: I almost killed the wrong man. Hardly an innocent one. T\\'CHALLA: This is all you wanted? To see them rip each other apart. My father lived outside the city. I thought we would be safe there. My son was excited. He could see the Iron Man from the car window. I told my wife, \"Don\\'t worry. \"They\\'re fighting in the city. We\\'re miles from harm.\" When the dust cleared... and the screaming stopped... it took me two days until I found their bodies. My father... still holding my wife and son in his arms. And the Avengers? They went home. I knew I couldn\\'t kill them. More powerful men than me have tried. But, if I could get them to kill each other... I\\'m sorry about your father. He seemed a good man. With a dutiful son. Vengeance has consumed you. It\\'s consuming them. I am done letting it consume me. Justice will come soon enough. Tell that to the dead. (GUNSHOT) (GRUNTS) The living are not done with you, yet. (GRUNTING) FRIDAY: You can\\'t beat him hand-to-hand. Analyze his fight pattern. Scanning. Countermeasures ready. Let\\'s kick his ass. (CAPTAIN AMERICA GROANS) (PANTING) He\\'s my friend. So was I. (COUGHING) Stay down. Final warning. I could do this all day. (GRUNTS) (CAPTAIN AMERICA GRUNTS) (GROANS) (GRUNTING) (GASPS) (PANTING) (GRUNTS) (GROANING) That shield doesn\\'t belong to you. You don\\'t deserve it. My father made that shield! (SPITS) Meals at 8 and 5. Toilet privileges twice a day. Raise your voice, zap. Touch the glass, zap. You step out of line, you deal with me. Please, step out of line, hmm? So how does it feel? To spend all that time, all that effort... to see it fail so spectacularly? Did it? TONY: It\\'s just the first pass. JAMES RHODES: Yeah. TONY: Give me some feedback, anything you think of. Shock absorption, lateral movement. Cup holder? You may wanna think about some AC down in... - (TONY GASPS) - Ow. Let\\'s go. I\\'ll give you a hand. No. Don\\'t help me. (PANTING) Ah. (CHUCKLES) 138. 138 combat missions. That\\'s how many I\\'ve flown, Tony. Every one of them could\\'ve been my last, but I flew them. Because the fight needed to be fought. It\\'s the same with these Accords. I signed because it was the right thing to do. And yeah, this sucks. This is, uh... This is a bad beat. But it hasn\\'t changed my mind. I don\\'t think. (GRUNTS) - You okay? - Oh, yeah. (KNOCKING ON WINDOW) Are you Tony Stank? Yes, this is Tony Stank. You\\'re in the right place. Thank you for that! Never dropping that, by the way. \"Table for one, Mr Stank. - \"Please, by the bathroom.\" - (LAUGHING) STEVE: Tony... I\\'m glad you\\'re back at the compound. I don\\'t like the idea of you rattling around a mansion by yourself. We all need family. The Avengers are yours. Maybe more so than mine. I\\'ve been on my own since I was 18. I never really fit in anywhere, even in the Army. My faith\\'s in people, I guess. Individuals. And I\\'m happy to say that, for the most part... they haven\\'t let me down. Which is why I can\\'t let them down either. Locks can be replaced, but maybe they shouldn\\'t. I know I hurt you, Tony. I guess I thought by not telling you about your parents... I was sparing you... but I can see now that I was really sparing myself. And I\\'m sorry. Hopefully one day you can understand. I wish we agreed on the Accords. I really do. I know you\\'re doing what you believe in, and that\\'s all any of us can do. That\\'s all any of us should. FRIDAY: Priority call from Secretary Ross. There\\'s been a breach at the Raft prison. Yeah, put him through. SECRETARY ROSS: Tony, we have a problem. - Uh, please hold. - No, don\\'t. STEVE: So no matter what... I promise you... if you need us... if you need me... I\\'ll be there. (DRAMATIC MUSIC PLAYING) You sure about this? I can\\'t trust my own mind. So, until they figure out how to get this stuff out of my head... I think going back under is the best thing. For everybody. (MECHANICAL WHIRRING) (AIR HISSING) Thank you for this. Your friend and my father... they were both victims. If I can help one of them find peace... You know, if they find out he\\'s here... they\\'ll come for him. Let them try. (DRAMATIC MUSIC PLAYING) (ROCK MUSIC PLAYING) Hey, shady baby I\\'m hot like the prodigal son Pick a petal Eenie, meenie, miney, Moe And flower You\\'re the chosen one Well, your left hand\\'s free And your right\\'s in a grip With another left hand Watch his right hand slip Towards his gun Oh, no I tackle, we tussle Oh, my days, we\\'re rolling My right hand\\'s gripped on his Colt Single Action Army Oh, no Well, your left hand\\'s free And your right\\'s in a grip With another left hand Watch his right hand slip Towards his gun Oh, no N-E-O, O-M-G Gee whiz Girl, you\\'re the one for me Though your man\\'s bigger than I am Oh, my days He disagrees Oh, no Speak easy Well, my left hand\\'s free Oh Well, my left hand\\'s free Oh Well, my left hand\\'s free Oh Oh, no Hey, shady baby I\\'m hot like the prodigal son Pick a petal Eenie, meenie, miney, Moe And flower You\\'re the chosen one Well, your left hand\\'s free Oh Well, my left hand\\'s free Oh Well, my left hand\\'s free Oh Well, my left hand\\'s free Oh Well, my left hand\\'s free Oh Oh, no MAY: Who was it? Who hit you? PETER: Some guy. So itchy, man, God. MAY: What\\'s \"some guy\\'s\" name? Uh, Steve. Steve? From 12-C? - With the overbite? - No, no, no. You don\\'t know him. He\\'s from Brooklyn. Ouch. Well... I hope you got a few good licks in. Yeah, I got quite a few in, actually. His friend was huge. Like huge. That\\'s way better. Thank you. Okay, tough guy. Love you, May. Hey, can you shut the door? (CHUCKLES)'"
            ]
          },
          "metadata": {},
          "execution_count": 7
        }
      ]
    },
    {
      "cell_type": "code",
      "metadata": {
        "id": "_KlsYd7_uOez",
        "colab": {
          "base_uri": "https://localhost:8080/"
        },
        "outputId": "61e9023f-21db-4f77-f027-5746bdf32aba"
      },
      "source": [
        "# Transformar el corpus a tokens\n",
        "tokens=text_to_word_sequence(corpus)\n",
        "# Vistazo general de los primeros tokens\n",
        "tokens[:20]"
      ],
      "execution_count": null,
      "outputs": [
        {
          "output_type": "execute_result",
          "data": {
            "text/plain": [
              "['nick',\n",
              " 'this',\n",
              " 'was',\n",
              " 'a',\n",
              " 'tragedy',\n",
              " 'but',\n",
              " \"it's\",\n",
              " 'not',\n",
              " 'why',\n",
              " \"we're\",\n",
              " 'here',\n",
              " 'what',\n",
              " 'are',\n",
              " 'we',\n",
              " 'fighting',\n",
              " 'the',\n",
              " 'weather',\n",
              " 'now',\n",
              " 'locals',\n",
              " 'say']"
            ]
          },
          "metadata": {},
          "execution_count": 8
        }
      ]
    },
    {
      "cell_type": "code",
      "metadata": {
        "id": "GlqpZSJOJ1xQ",
        "colab": {
          "base_uri": "https://localhost:8080/"
        },
        "outputId": "bd3a0da3-ab1b-4a5c-ad1c-9419256b74be"
      },
      "source": [
        "print(\"Cantidad de tokens en el corpus:\", len(tokens))"
      ],
      "execution_count": null,
      "outputs": [
        {
          "output_type": "stream",
          "name": "stdout",
          "text": [
            "Cantidad de tokens en el corpus: 43335\n"
          ]
        }
      ]
    },
    {
      "cell_type": "code",
      "metadata": {
        "id": "RhQevOynuYk2"
      },
      "source": [
        "# Código para hacer el desfazaje de las palabras\n",
        "# según el train_len\n",
        "text_sequences = []\n",
        "for i in range(train_len, len(tokens)):\n",
        "  seq = tokens[i-train_len:i]\n",
        "  text_sequences.append(seq)"
      ],
      "execution_count": null,
      "outputs": []
    },
    {
      "cell_type": "code",
      "metadata": {
        "id": "FU3FuqHSuhzq",
        "colab": {
          "base_uri": "https://localhost:8080/"
        },
        "outputId": "08795ccf-7df5-4569-ade3-edbadb29feac"
      },
      "source": [
        "# Demos un vistazo a nuestros vectores para entrenar el modelo\n",
        "text_sequences[:20]"
      ],
      "execution_count": null,
      "outputs": [
        {
          "output_type": "execute_result",
          "data": {
            "text/plain": [
              "[['nick', 'this', 'was', 'a'],\n",
              " ['this', 'was', 'a', 'tragedy'],\n",
              " ['was', 'a', 'tragedy', 'but'],\n",
              " ['a', 'tragedy', 'but', \"it's\"],\n",
              " ['tragedy', 'but', \"it's\", 'not'],\n",
              " ['but', \"it's\", 'not', 'why'],\n",
              " [\"it's\", 'not', 'why', \"we're\"],\n",
              " ['not', 'why', \"we're\", 'here'],\n",
              " ['why', \"we're\", 'here', 'what'],\n",
              " [\"we're\", 'here', 'what', 'are'],\n",
              " ['here', 'what', 'are', 'we'],\n",
              " ['what', 'are', 'we', 'fighting'],\n",
              " ['are', 'we', 'fighting', 'the'],\n",
              " ['we', 'fighting', 'the', 'weather'],\n",
              " ['fighting', 'the', 'weather', 'now'],\n",
              " ['the', 'weather', 'now', 'locals'],\n",
              " ['weather', 'now', 'locals', 'say'],\n",
              " ['now', 'locals', 'say', 'the'],\n",
              " ['locals', 'say', 'the', 'cyclone'],\n",
              " ['say', 'the', 'cyclone', 'had']]"
            ]
          },
          "metadata": {},
          "execution_count": 11
        }
      ]
    },
    {
      "cell_type": "code",
      "metadata": {
        "id": "064N2jtLvHRg",
        "colab": {
          "base_uri": "https://localhost:8080/"
        },
        "outputId": "ebfb82f8-eb9a-4e43-f0bd-c5b7e25de645"
      },
      "source": [
        "# Proceso de tokenizacion\n",
        "tok = Tokenizer() \n",
        "tok.fit_on_texts(text_sequences) \n",
        "\n",
        "# Convertimos las palabras a números\n",
        "# entran palabras -> salen números\n",
        "sequences = tok.texts_to_sequences(text_sequences)\n",
        "\n",
        "# Damos un vistazo\n",
        "sequences[:20]"
      ],
      "execution_count": null,
      "outputs": [
        {
          "output_type": "execute_result",
          "data": {
            "text/plain": [
              "[[543, 13, 22, 5],\n",
              " [13, 22, 5, 1591],\n",
              " [22, 5, 1591, 40],\n",
              " [5, 1591, 40, 19],\n",
              " [1591, 40, 19, 20],\n",
              " [40, 19, 20, 77],\n",
              " [19, 20, 77, 78],\n",
              " [20, 77, 78, 44],\n",
              " [77, 78, 44, 11],\n",
              " [78, 44, 11, 24],\n",
              " [44, 11, 24, 23],\n",
              " [11, 24, 23, 724],\n",
              " [24, 23, 724, 3],\n",
              " [23, 724, 3, 2311],\n",
              " [724, 3, 2311, 58],\n",
              " [3, 2311, 58, 2312],\n",
              " [2311, 58, 2312, 114],\n",
              " [58, 2312, 114, 3],\n",
              " [2312, 114, 3, 1198],\n",
              " [114, 3, 1198, 115]]"
            ]
          },
          "metadata": {},
          "execution_count": 12
        }
      ]
    },
    {
      "cell_type": "code",
      "metadata": {
        "id": "vwsvmvDKKXSP",
        "colab": {
          "base_uri": "https://localhost:8080/"
        },
        "outputId": "3c22bf7c-e66b-4ed3-d763-3cd08a5788a8"
      },
      "source": [
        "print(\"Cantidad de rows del dataset:\", len(sequences))"
      ],
      "execution_count": null,
      "outputs": [
        {
          "output_type": "stream",
          "name": "stdout",
          "text": [
            "Cantidad de rows del dataset: 43331\n"
          ]
        }
      ]
    },
    {
      "cell_type": "markdown",
      "metadata": {
        "id": "QMVP4bj0vL2e"
      },
      "source": [
        "### 3 - Input y target"
      ]
    },
    {
      "cell_type": "code",
      "metadata": {
        "id": "mx2xwdz3KloJ",
        "colab": {
          "base_uri": "https://localhost:8080/"
        },
        "outputId": "af721c43-d8db-4e18-9f68-aac6797be975"
      },
      "source": [
        "# Con numpy es muy fácil realizar el slicing de vectores\n",
        "ex = np.array([[1,2,3,4],[5,6,7,8]])\n",
        "ex"
      ],
      "execution_count": null,
      "outputs": [
        {
          "output_type": "execute_result",
          "data": {
            "text/plain": [
              "array([[1, 2, 3, 4],\n",
              "       [5, 6, 7, 8]])"
            ]
          },
          "metadata": {},
          "execution_count": 14
        }
      ]
    },
    {
      "cell_type": "code",
      "metadata": {
        "id": "BEod7qghvTVt",
        "colab": {
          "base_uri": "https://localhost:8080/"
        },
        "outputId": "aca5102a-9ffb-43c1-d3e4-5877d7068fc3"
      },
      "source": [
        "# Con numpy es muy fácil realizar el slicing de vectores\n",
        "print(\"Dimension:\", ex.shape)\n",
        "print(\"Todos los elementos:\", ex)\n",
        "print(\"Todos los elementos menos el último:\", ex[:, :-1])"
      ],
      "execution_count": null,
      "outputs": [
        {
          "output_type": "stream",
          "name": "stdout",
          "text": [
            "Dimension: (2, 4)\n",
            "Todos los elementos: [[1 2 3 4]\n",
            " [5 6 7 8]]\n",
            "Todos los elementos menos el último: [[1 2 3]\n",
            " [5 6 7]]\n"
          ]
        }
      ]
    },
    {
      "cell_type": "code",
      "metadata": {
        "id": "i95xWqtCvp8T",
        "colab": {
          "base_uri": "https://localhost:8080/"
        },
        "outputId": "277bfa75-02fb-45f6-ccc6-8f3eec194be9"
      },
      "source": [
        "input = ex[:,:-1] # todos los rows, menos la ultima col\n",
        "target = ex[:, -1] # última col de cada row\n",
        "\n",
        "print(\"Input:\", input)\n",
        "print(\"Target:\", target)"
      ],
      "execution_count": null,
      "outputs": [
        {
          "output_type": "stream",
          "name": "stdout",
          "text": [
            "Input: [[1 2 3]\n",
            " [5 6 7]]\n",
            "Target: [4 8]\n"
          ]
        }
      ]
    },
    {
      "cell_type": "code",
      "metadata": {
        "id": "e1vJTG65v4Qn",
        "colab": {
          "base_uri": "https://localhost:8080/"
        },
        "outputId": "0bb3876c-c64d-4309-bbec-a8221704455a"
      },
      "source": [
        "arr_sequences = np.array(sequences)\n",
        "x_data = arr_sequences[:,:-1]\n",
        "y_data_int = arr_sequences[:,-1] # aún falta el oneHotEncoder\n",
        "\n",
        "print(x_data.shape)\n",
        "print(y_data_int.shape)"
      ],
      "execution_count": null,
      "outputs": [
        {
          "output_type": "stream",
          "name": "stdout",
          "text": [
            "(43331, 3)\n",
            "(43331,)\n"
          ]
        }
      ]
    },
    {
      "cell_type": "code",
      "metadata": {
        "id": "ln6kVWVlwBBs",
        "colab": {
          "base_uri": "https://localhost:8080/"
        },
        "outputId": "6a7b825d-1ec4-4bde-c8d7-ece4f1bf2127"
      },
      "source": [
        "# Palabras del vocabulario\n",
        "tok.index_word"
      ],
      "execution_count": null,
      "outputs": [
        {
          "output_type": "execute_result",
          "data": {
            "text/plain": [
              "{1: 'you',\n",
              " 2: 'i',\n",
              " 3: 'the',\n",
              " 4: 'to',\n",
              " 5: 'a',\n",
              " 6: 'it',\n",
              " 7: 'that',\n",
              " 8: 'and',\n",
              " 9: 'of',\n",
              " 10: 'is',\n",
              " 11: 'what',\n",
              " 12: 'me',\n",
              " 13: 'this',\n",
              " 14: \"i'm\",\n",
              " 15: 'in',\n",
              " 16: 'on',\n",
              " 17: 'no',\n",
              " 18: 'my',\n",
              " 19: \"it's\",\n",
              " 20: 'not',\n",
              " 21: 'yeah',\n",
              " 22: 'was',\n",
              " 23: 'we',\n",
              " 24: 'are',\n",
              " 25: 'your',\n",
              " 26: 'have',\n",
              " 27: 'know',\n",
              " 28: \"don't\",\n",
              " 29: 'all',\n",
              " 30: 'be',\n",
              " 31: 'do',\n",
              " 32: 'for',\n",
              " 33: 'so',\n",
              " 34: 'okay',\n",
              " 35: 'he',\n",
              " 36: 'just',\n",
              " 37: \"you're\",\n",
              " 38: 'right',\n",
              " 39: 'oh',\n",
              " 40: 'but',\n",
              " 41: 'hey',\n",
              " 42: 'like',\n",
              " 43: 'with',\n",
              " 44: 'here',\n",
              " 45: 'up',\n",
              " 46: \"that's\",\n",
              " 47: 'go',\n",
              " 48: 'out',\n",
              " 49: 'man',\n",
              " 50: 'if',\n",
              " 51: 'gonna',\n",
              " 52: 'can',\n",
              " 53: 'get',\n",
              " 54: 'about',\n",
              " 55: 'one',\n",
              " 56: 'got',\n",
              " 57: 'come',\n",
              " 58: 'now',\n",
              " 59: 'him',\n",
              " 60: 'peter',\n",
              " 61: 'how',\n",
              " 62: 'they',\n",
              " 63: 'who',\n",
              " 64: 'there',\n",
              " 65: 'us',\n",
              " 66: 'good',\n",
              " 67: \"he's\",\n",
              " 68: 'look',\n",
              " 69: 'did',\n",
              " 70: 'really',\n",
              " 71: 'would',\n",
              " 72: 'from',\n",
              " 73: 'see',\n",
              " 74: 'because',\n",
              " 75: 'need',\n",
              " 76: 'at',\n",
              " 77: 'why',\n",
              " 78: \"we're\",\n",
              " 79: 'them',\n",
              " 80: 'will',\n",
              " 81: 'spider',\n",
              " 82: 'an',\n",
              " 83: 'well',\n",
              " 84: 'back',\n",
              " 85: 'think',\n",
              " 86: 'thing',\n",
              " 87: 'tell',\n",
              " 88: 'as',\n",
              " 89: 'time',\n",
              " 90: 'want',\n",
              " 91: \"what's\",\n",
              " 92: \"can't\",\n",
              " 93: 'sorry',\n",
              " 94: 'stark',\n",
              " 95: 'could',\n",
              " 96: 'when',\n",
              " 97: \"didn't\",\n",
              " 98: 'were',\n",
              " 99: 'thank',\n",
              " 100: 'where',\n",
              " 101: 'mr',\n",
              " 102: 'something',\n",
              " 103: 'her',\n",
              " 104: 'yes',\n",
              " 105: \"there's\",\n",
              " 106: 'doing',\n",
              " 107: 'our',\n",
              " 108: 'gotta',\n",
              " 109: 'tony',\n",
              " 110: 'going',\n",
              " 111: 'take',\n",
              " 112: 'people',\n",
              " 113: 'his',\n",
              " 114: 'say',\n",
              " 115: 'had',\n",
              " 116: 'some',\n",
              " 117: 'guy',\n",
              " 118: 'or',\n",
              " 119: 'never',\n",
              " 120: 'then',\n",
              " 121: 'way',\n",
              " 122: 'by',\n",
              " 123: 'guys',\n",
              " 124: 'been',\n",
              " 125: 'kill',\n",
              " 126: 'am',\n",
              " 127: 'down',\n",
              " 128: 'too',\n",
              " 129: 'more',\n",
              " 130: 'she',\n",
              " 131: 'love',\n",
              " 132: 'little',\n",
              " 133: \"i'll\",\n",
              " 134: 'god',\n",
              " 135: 'help',\n",
              " 136: \"i've\",\n",
              " 137: 'please',\n",
              " 138: \"let's\",\n",
              " 139: 'mean',\n",
              " 140: 'give',\n",
              " 141: 'should',\n",
              " 142: 'thought',\n",
              " 143: 'those',\n",
              " 144: 'off',\n",
              " 145: 'these',\n",
              " 146: 'put',\n",
              " 147: 'ned',\n",
              " 148: 'call',\n",
              " 149: 'captain',\n",
              " 150: 'make',\n",
              " 151: 'over',\n",
              " 152: 'suit',\n",
              " 153: 'only',\n",
              " 154: 'whoa',\n",
              " 155: 'any',\n",
              " 156: 'again',\n",
              " 157: 'has',\n",
              " 158: 'sure',\n",
              " 159: 'happy',\n",
              " 160: \"they're\",\n",
              " 161: 'even',\n",
              " 162: 'said',\n",
              " 163: 'kid',\n",
              " 164: 'told',\n",
              " 165: 'great',\n",
              " 166: 'parker',\n",
              " 167: 'stop',\n",
              " 168: 'other',\n",
              " 169: 'next',\n",
              " 170: 'wait',\n",
              " 171: 'still',\n",
              " 172: 'uh',\n",
              " 173: 'thanks',\n",
              " 174: 'may',\n",
              " 175: 'much',\n",
              " 176: 'wanna',\n",
              " 177: 'everyone',\n",
              " 178: 'after',\n",
              " 179: 'left',\n",
              " 180: 'let',\n",
              " 181: 'their',\n",
              " 182: 'very',\n",
              " 183: 'before',\n",
              " 184: 'ah',\n",
              " 185: 'world',\n",
              " 186: 'new',\n",
              " 187: 'dude',\n",
              " 188: 'wanted',\n",
              " 189: 'than',\n",
              " 190: 'cool',\n",
              " 191: 'nice',\n",
              " 192: 'maybe',\n",
              " 193: 'coming',\n",
              " 194: 'real',\n",
              " 195: 'hell',\n",
              " 196: 'keep',\n",
              " 197: 'made',\n",
              " 198: \"doesn't\",\n",
              " 199: 'work',\n",
              " 200: 'nothing',\n",
              " 201: 'awesome',\n",
              " 202: 'fine',\n",
              " 203: 'ever',\n",
              " 204: 'trying',\n",
              " 205: 'friends',\n",
              " 206: 'wrong',\n",
              " 207: 'big',\n",
              " 208: 'day',\n",
              " 209: 'through',\n",
              " 210: 'first',\n",
              " 211: 'place',\n",
              " 212: 'find',\n",
              " 213: 'life',\n",
              " 214: 'whole',\n",
              " 215: 'long',\n",
              " 216: 'move',\n",
              " 217: 'talking',\n",
              " 218: 'old',\n",
              " 219: 'actually',\n",
              " 220: 'name',\n",
              " 221: 'done',\n",
              " 222: 'groot',\n",
              " 223: 'years',\n",
              " 224: 'kind',\n",
              " 225: 'believe',\n",
              " 226: 'talk',\n",
              " 227: 'both',\n",
              " 228: 'stay',\n",
              " 229: 'into',\n",
              " 230: 'beck',\n",
              " 231: 'pretty',\n",
              " 232: 'father',\n",
              " 233: 'groans',\n",
              " 234: 'away',\n",
              " 235: 'feel',\n",
              " 236: \"she's\",\n",
              " 237: 'anything',\n",
              " 238: 'hear',\n",
              " 239: \"we'll\",\n",
              " 240: 'better',\n",
              " 241: 'night',\n",
              " 242: 'edith',\n",
              " 243: 'five',\n",
              " 244: 'mj',\n",
              " 245: 'else',\n",
              " 246: 'fury',\n",
              " 247: 'head',\n",
              " 248: 'two',\n",
              " 249: \"you'll\",\n",
              " 250: 'hello',\n",
              " 251: 'guess',\n",
              " 252: 'yondu',\n",
              " 253: 'grunts',\n",
              " 254: 'things',\n",
              " 255: 'high',\n",
              " 256: 'someone',\n",
              " 257: 'most',\n",
              " 258: 'everything',\n",
              " 259: 'around',\n",
              " 260: 'try',\n",
              " 261: 'sam',\n",
              " 262: 'liz',\n",
              " 263: 'does',\n",
              " 264: 'school',\n",
              " 265: 'avengers',\n",
              " 266: \"wasn't\",\n",
              " 267: 'happened',\n",
              " 268: 'saying',\n",
              " 269: 'enough',\n",
              " 270: 'planet',\n",
              " 271: 'quill',\n",
              " 272: 'steve',\n",
              " 273: 'last',\n",
              " 274: 'plan',\n",
              " 275: 'girl',\n",
              " 276: 'lot',\n",
              " 277: 'called',\n",
              " 278: 'being',\n",
              " 279: 'best',\n",
              " 280: 'iron',\n",
              " 281: 'which',\n",
              " 282: 'bad',\n",
              " 283: 'weapons',\n",
              " 284: 'hand',\n",
              " 285: 'found',\n",
              " 286: 'huh',\n",
              " 287: 'damn',\n",
              " 288: 'car',\n",
              " 289: 'part',\n",
              " 290: 'hi',\n",
              " 291: 'speaking',\n",
              " 292: 'minutes',\n",
              " 293: 'boy',\n",
              " 294: 'control',\n",
              " 295: 'understand',\n",
              " 296: 'son',\n",
              " 297: 'dad',\n",
              " 298: 'phone',\n",
              " 299: 'probably',\n",
              " 300: 'seriously',\n",
              " 301: 'dead',\n",
              " 302: 'hours',\n",
              " 303: 'sir',\n",
              " 304: 'yourself',\n",
              " 305: 'earth',\n",
              " 306: 'room',\n",
              " 307: 'many',\n",
              " 308: 'ready',\n",
              " 309: 'run',\n",
              " 310: 'always',\n",
              " 311: \"i'd\",\n",
              " 312: 'knew',\n",
              " 313: 'drax',\n",
              " 314: 'grunting',\n",
              " 315: 'own',\n",
              " 316: 'watch',\n",
              " 317: 'break',\n",
              " 318: 'whatever',\n",
              " 319: 'flash',\n",
              " 320: 'care',\n",
              " 321: 'bye',\n",
              " 322: 'mysterio',\n",
              " 323: 'use',\n",
              " 324: \"who's\",\n",
              " 325: 'wow',\n",
              " 326: 'home',\n",
              " 327: \"where's\",\n",
              " 328: 'listen',\n",
              " 329: 'turn',\n",
              " 330: 'fight',\n",
              " 331: 'every',\n",
              " 332: 'remember',\n",
              " 333: 'friend',\n",
              " 334: 'rocket',\n",
              " 335: 'anyone',\n",
              " 336: 'stuff',\n",
              " 337: 'looking',\n",
              " 338: 'trip',\n",
              " 339: 'weird',\n",
              " 340: 'everybody',\n",
              " 341: 'idea',\n",
              " 342: 'without',\n",
              " 343: 'fire',\n",
              " 344: 'gave',\n",
              " 345: 'free',\n",
              " 346: 'monkey',\n",
              " 347: 'america',\n",
              " 348: 'barnes',\n",
              " 349: 'course',\n",
              " 350: 'used',\n",
              " 351: 'worry',\n",
              " 352: 'woman',\n",
              " 353: 'must',\n",
              " 354: \"you've\",\n",
              " 355: 'german',\n",
              " 356: 'news',\n",
              " 357: 'die',\n",
              " 358: 'web',\n",
              " 359: 'stupid',\n",
              " 360: 'drones',\n",
              " 361: 'cap',\n",
              " 362: 'mother',\n",
              " 363: 'batteries',\n",
              " 364: 'friday',\n",
              " 365: 'door',\n",
              " 366: 'crazy',\n",
              " 367: 'came',\n",
              " 368: 'same',\n",
              " 369: 'already',\n",
              " 370: 'black',\n",
              " 371: 'family',\n",
              " 372: 'ass',\n",
              " 373: 'glad',\n",
              " 374: 'aunt',\n",
              " 375: 'trust',\n",
              " 376: 'exactly',\n",
              " 377: 'leave',\n",
              " 378: 'point',\n",
              " 379: 'boss',\n",
              " 380: 'behind',\n",
              " 381: 'screaming',\n",
              " 382: 'wanda',\n",
              " 383: 'second',\n",
              " 384: 'three',\n",
              " 385: 'case',\n",
              " 386: 'took',\n",
              " 387: 'kids',\n",
              " 388: 'lady',\n",
              " 389: 'fun',\n",
              " 390: 'perfect',\n",
              " 391: 'person',\n",
              " 392: 'needs',\n",
              " 393: 'another',\n",
              " 394: 'seen',\n",
              " 395: \"you'd\",\n",
              " 396: 'beautiful',\n",
              " 397: 'shoot',\n",
              " 398: 'show',\n",
              " 399: 'few',\n",
              " 400: 'knows',\n",
              " 401: 'party',\n",
              " 402: 'yet',\n",
              " 403: 'killed',\n",
              " 404: 'easy',\n",
              " 405: 'until',\n",
              " 406: 'death',\n",
              " 407: 'set',\n",
              " 408: 'ego',\n",
              " 409: 'deal',\n",
              " 410: 'light',\n",
              " 411: 'job',\n",
              " 412: 'karen',\n",
              " 413: 'ross',\n",
              " 414: 'shut',\n",
              " 415: 'face',\n",
              " 416: 'ago',\n",
              " 417: 'half',\n",
              " 418: 'though',\n",
              " 419: 'important',\n",
              " 420: 'brad',\n",
              " 421: 'together',\n",
              " 422: 'hold',\n",
              " 423: 'safe',\n",
              " 424: 'working',\n",
              " 425: 'hard',\n",
              " 426: 'mind',\n",
              " 427: 'tried',\n",
              " 428: 'bring',\n",
              " 429: 'today',\n",
              " 430: 'class',\n",
              " 431: 'mission',\n",
              " 432: 'anybody',\n",
              " 433: \"won't\",\n",
              " 434: 'win',\n",
              " 435: 'might',\n",
              " 436: 'end',\n",
              " 437: 'open',\n",
              " 438: 'myself',\n",
              " 439: \"ain't\",\n",
              " 440: 'tape',\n",
              " 441: 'panting',\n",
              " 442: 'zemo',\n",
              " 443: 'gone',\n",
              " 444: 'video',\n",
              " 445: 'universe',\n",
              " 446: 'close',\n",
              " 447: 'true',\n",
              " 448: 'miss',\n",
              " 449: 'alone',\n",
              " 450: 'anyway',\n",
              " 451: 'babe',\n",
              " 452: 'looks',\n",
              " 453: 'getting',\n",
              " 454: 'wants',\n",
              " 455: 'later',\n",
              " 456: \"wouldn't\",\n",
              " 457: 'happen',\n",
              " 458: 'target',\n",
              " 459: \"we've\",\n",
              " 460: 'save',\n",
              " 461: 'welcome',\n",
              " 462: 'soon',\n",
              " 463: 'times',\n",
              " 464: 'hurt',\n",
              " 465: 'chance',\n",
              " 466: 'soldier',\n",
              " 467: 'saved',\n",
              " 468: 'tech',\n",
              " 469: 'outside',\n",
              " 470: 'telling',\n",
              " 471: 'supposed',\n",
              " 472: 'um',\n",
              " 473: 'accords',\n",
              " 474: 'sighs',\n",
              " 475: 'under',\n",
              " 476: 'making',\n",
              " 477: 'tower',\n",
              " 478: 'while',\n",
              " 479: 'wife',\n",
              " 480: 'change',\n",
              " 481: 'hands',\n",
              " 482: 'question',\n",
              " 483: 'stand',\n",
              " 484: 'excuse',\n",
              " 485: 'read',\n",
              " 486: 'also',\n",
              " 487: 'days',\n",
              " 488: 'dangerous',\n",
              " 489: 'matter',\n",
              " 490: 'buddy',\n",
              " 491: '10',\n",
              " 492: 'tonight',\n",
              " 493: 'boring',\n",
              " 494: 'lucky',\n",
              " 495: 'choice',\n",
              " 496: 'live',\n",
              " 497: 'almost',\n",
              " 498: 'building',\n",
              " 499: 'playing',\n",
              " 500: 'ship',\n",
              " 501: 'decathlon',\n",
              " 502: \"hand's\",\n",
              " 503: 'brought',\n",
              " 504: 'top',\n",
              " 505: 'sometimes',\n",
              " 506: 'went',\n",
              " 507: 'having',\n",
              " 508: 'late',\n",
              " 509: 'calling',\n",
              " 510: 'met',\n",
              " 511: 'word',\n",
              " 512: 'taking',\n",
              " 513: 'team',\n",
              " 514: 'yours',\n",
              " 515: 'each',\n",
              " 516: 'washington',\n",
              " 517: 'truth',\n",
              " 518: 'copy',\n",
              " 519: 'city',\n",
              " 520: 'thinking',\n",
              " 521: \"isn't\",\n",
              " 522: 'hit',\n",
              " 523: 'illusion',\n",
              " 524: 'died',\n",
              " 525: 'ground',\n",
              " 526: 'hot',\n",
              " 527: 'its',\n",
              " 528: 'alive',\n",
              " 529: 'once',\n",
              " 530: 'date',\n",
              " 531: 'kept',\n",
              " 532: 'side',\n",
              " 533: 'bomb',\n",
              " 534: 'pete',\n",
              " 535: 'internship',\n",
              " 536: 'moving',\n",
              " 537: 'bucky',\n",
              " 538: 'groaning',\n",
              " 539: 'rogers',\n",
              " 540: 'secretary',\n",
              " 541: 'clint',\n",
              " 542: 'helmut',\n",
              " 543: 'nick',\n",
              " 544: 'start',\n",
              " 545: 'year',\n",
              " 546: 'blip',\n",
              " 547: 'four',\n",
              " 548: 'six',\n",
              " 549: 'step',\n",
              " 550: 'catch',\n",
              " 551: \"couldn't\",\n",
              " 552: 'answer',\n",
              " 553: 'queens',\n",
              " 554: 'deserve',\n",
              " 555: 'instead',\n",
              " 556: 'makes',\n",
              " 557: 'harrington',\n",
              " 558: 'doctor',\n",
              " 559: \"how's\",\n",
              " 560: 'finally',\n",
              " 561: 'saw',\n",
              " 562: \"would've\",\n",
              " 563: 'system',\n",
              " 564: 'baby',\n",
              " 565: 'security',\n",
              " 566: 'minute',\n",
              " 567: 'bus',\n",
              " 568: 'glasses',\n",
              " 569: 'hope',\n",
              " 570: 'such',\n",
              " 571: 'inside',\n",
              " 572: 'somebody',\n",
              " 573: 'house',\n",
              " 574: 'cute',\n",
              " 575: 'berlin',\n",
              " 576: 'pick',\n",
              " 577: 'damage',\n",
              " 578: 'flying',\n",
              " 579: 'greatest',\n",
              " 580: 'lost',\n",
              " 581: 'nobody',\n",
              " 582: 'worth',\n",
              " 583: 'relax',\n",
              " 584: 'follow',\n",
              " 585: 'works',\n",
              " 586: 'broke',\n",
              " 587: 'mmm',\n",
              " 588: 'hmm',\n",
              " 589: 'between',\n",
              " 590: 'far',\n",
              " 591: 'glowy',\n",
              " 592: 'd',\n",
              " 593: 'enhanced',\n",
              " 594: 'natasha',\n",
              " 595: 'hydra',\n",
              " 596: 'insane',\n",
              " 597: 'sit',\n",
              " 598: 'buy',\n",
              " 599: 'europe',\n",
              " 600: \"peter's\",\n",
              " 601: 'reason',\n",
              " 602: 'promise',\n",
              " 603: 'tingle',\n",
              " 604: 'either',\n",
              " 605: 'play',\n",
              " 606: 'eyes',\n",
              " 607: 'water',\n",
              " 608: 'game',\n",
              " 609: 'fake',\n",
              " 610: 'powerful',\n",
              " 611: 'drop',\n",
              " 612: 'lead',\n",
              " 613: 'thor',\n",
              " 614: 'sounds',\n",
              " 615: 'lose',\n",
              " 616: 'across',\n",
              " 617: 'c',\n",
              " 618: 'cannot',\n",
              " 619: 'heard',\n",
              " 620: 'hurry',\n",
              " 621: 'drone',\n",
              " 622: 'serious',\n",
              " 623: 'radio',\n",
              " 624: \"it'll\",\n",
              " 625: \"they'll\",\n",
              " 626: 'opera',\n",
              " 627: 'known',\n",
              " 628: 'stopped',\n",
              " 629: 'william',\n",
              " 630: 'cut',\n",
              " 631: 'london',\n",
              " 632: 'shit',\n",
              " 633: \"shouldn't\",\n",
              " 634: 'music',\n",
              " 635: 'needed',\n",
              " 636: 'protect',\n",
              " 637: 'eye',\n",
              " 638: 'sovereign',\n",
              " 639: 'priestess',\n",
              " 640: 'gamora',\n",
              " 641: 'hate',\n",
              " 642: 'stole',\n",
              " 643: 'worse',\n",
              " 644: 'ask',\n",
              " 645: 'criminal',\n",
              " 646: 'young',\n",
              " 647: 'green',\n",
              " 648: 'homecoming',\n",
              " 649: 'hm',\n",
              " 650: 'sokovia',\n",
              " 651: 'truck',\n",
              " 652: 'vision',\n",
              " 653: 'gasps',\n",
              " 654: 'including',\n",
              " 655: 'eight',\n",
              " 656: 'murder',\n",
              " 657: 'forget',\n",
              " 658: 'funny',\n",
              " 659: 'felt',\n",
              " 660: \"he'd\",\n",
              " 661: 'avenger',\n",
              " 662: 'gets',\n",
              " 663: '16',\n",
              " 664: 'wearing',\n",
              " 665: 'betty',\n",
              " 666: 'entire',\n",
              " 667: 'meet',\n",
              " 668: 'created',\n",
              " 669: 'check',\n",
              " 670: 'definitely',\n",
              " 671: 'running',\n",
              " 672: 'tomorrow',\n",
              " 673: 'built',\n",
              " 674: 'army',\n",
              " 675: 'star',\n",
              " 676: 'quentin',\n",
              " 677: 'within',\n",
              " 678: 'elementals',\n",
              " 679: 'huge',\n",
              " 680: 'figure',\n",
              " 681: 'rest',\n",
              " 682: 'power',\n",
              " 683: 'danger',\n",
              " 684: 'bet',\n",
              " 685: 'waiting',\n",
              " 686: 'costume',\n",
              " 687: 'toast',\n",
              " 688: 'king',\n",
              " 689: 'build',\n",
              " 690: 'guterman',\n",
              " 691: 'story',\n",
              " 692: 'child',\n",
              " 693: 'window',\n",
              " 694: 'morning',\n",
              " 695: 'thinks',\n",
              " 696: 'webs',\n",
              " 697: 'figured',\n",
              " 698: 'fast',\n",
              " 699: 'level',\n",
              " 700: 'kree',\n",
              " 701: 'since',\n",
              " 702: 'report',\n",
              " 703: 'men',\n",
              " 704: \"aren't\",\n",
              " 705: 'afraid',\n",
              " 706: 'steal',\n",
              " 707: 'kraglin',\n",
              " 708: 'chain',\n",
              " 709: 'purpose',\n",
              " 710: 'least',\n",
              " 711: 'penis',\n",
              " 712: 'taserface',\n",
              " 713: 'state',\n",
              " 714: 'whoo',\n",
              " 715: 'button',\n",
              " 716: 'mom',\n",
              " 717: 'shield',\n",
              " 718: 'mode',\n",
              " 719: 'seconds',\n",
              " 720: 'means',\n",
              " 721: 'grant',\n",
              " 722: 'james',\n",
              " 723: 'ant',\n",
              " 724: 'fighting',\n",
              " 725: 'band',\n",
              " 726: 'lives',\n",
              " 727: 'happens',\n",
              " 728: 'flight',\n",
              " 729: 'paris',\n",
              " 730: 'seven',\n",
              " 731: 'super',\n",
              " 732: 'science',\n",
              " 733: 'mess',\n",
              " 734: \"he'll\",\n",
              " 735: 'office',\n",
              " 736: 'hero',\n",
              " 737: 'neighborhood',\n",
              " 738: 'sense',\n",
              " 739: 'mine',\n",
              " 740: 'yo',\n",
              " 741: 'except',\n",
              " 742: \"ma'am\",\n",
              " 743: 'front',\n",
              " 744: 'plane',\n",
              " 745: 'watching',\n",
              " 746: 'monster',\n",
              " 747: 'passed',\n",
              " 748: 'lies',\n",
              " 749: 'fought',\n",
              " 750: 'battle',\n",
              " 751: 'satellites',\n",
              " 752: 'prague',\n",
              " 753: 'sick',\n",
              " 754: 'ride',\n",
              " 755: 'summer',\n",
              " 756: 'defense',\n",
              " 757: 'access',\n",
              " 758: 'loved',\n",
              " 759: 'toilet',\n",
              " 760: 'bathroom',\n",
              " 761: 'speak',\n",
              " 762: 'seem',\n",
              " 763: 'chair',\n",
              " 764: 'core',\n",
              " 765: 'putting',\n",
              " 766: 'clear',\n",
              " 767: 'asked',\n",
              " 768: 'kidding',\n",
              " 769: 'beat',\n",
              " 770: 'bigger',\n",
              " 771: 'worked',\n",
              " 772: 'bought',\n",
              " 773: 'attack',\n",
              " 774: 'janice',\n",
              " 775: 'bit',\n",
              " 776: 'execute',\n",
              " 777: 'bridge',\n",
              " 778: 'male',\n",
              " 779: 'fly',\n",
              " 780: 'happening',\n",
              " 781: 'fool',\n",
              " 782: 'protocol',\n",
              " 783: 'longer',\n",
              " 784: 'walk',\n",
              " 785: 'hang',\n",
              " 786: 'password',\n",
              " 787: 'secret',\n",
              " 788: 'order',\n",
              " 789: 'somewhere',\n",
              " 790: 'jet',\n",
              " 791: \"man's\",\n",
              " 792: 'couple',\n",
              " 793: 'town',\n",
              " 794: 'sea',\n",
              " 795: 'single',\n",
              " 796: 'line',\n",
              " 797: 'dance',\n",
              " 798: 'war',\n",
              " 799: 'voice',\n",
              " 800: 'clicks',\n",
              " 801: 'bed',\n",
              " 802: 'combat',\n",
              " 803: 'hundred',\n",
              " 804: 'wear',\n",
              " 805: 'crap',\n",
              " 806: \"ego's\",\n",
              " 807: 'sleep',\n",
              " 808: 'galaxy',\n",
              " 809: 'suppose',\n",
              " 810: 'task',\n",
              " 811: 'hat',\n",
              " 812: 'different',\n",
              " 813: 'unspoken',\n",
              " 814: 'push',\n",
              " 815: 'goes',\n",
              " 816: 'widow',\n",
              " 817: 'heh',\n",
              " 818: 'upstate',\n",
              " 819: 'smell',\n",
              " 820: '30',\n",
              " 821: 'wings',\n",
              " 822: 'sign',\n",
              " 823: 'brooklyn',\n",
              " 824: 'chuckles',\n",
              " 825: 'wailing',\n",
              " 826: 'un',\n",
              " 827: 'vienna',\n",
              " 828: 'sharon',\n",
              " 829: \"t'challa\",\n",
              " 830: 'brother',\n",
              " 831: 'totally',\n",
              " 832: 'draw',\n",
              " 833: 'venice',\n",
              " 834: 'glass',\n",
              " 835: 'tiny',\n",
              " 836: 'smart',\n",
              " 837: 'heads',\n",
              " 838: 'calls',\n",
              " 839: 'scared',\n",
              " 840: 'middle',\n",
              " 841: 'seat',\n",
              " 842: 'third',\n",
              " 843: 'lying',\n",
              " 844: 'nine',\n",
              " 845: 'beast',\n",
              " 846: 'american',\n",
              " 847: 'nope',\n",
              " 848: 'turns',\n",
              " 849: 'funeral',\n",
              " 850: 'laughing',\n",
              " 851: 'pizza',\n",
              " 852: 'million',\n",
              " 853: 'eat',\n",
              " 854: 'besides',\n",
              " 855: \"here's\",\n",
              " 856: 'week',\n",
              " 857: 'hill',\n",
              " 858: 'seems',\n",
              " 859: 'drink',\n",
              " 860: 'tour',\n",
              " 861: 'company',\n",
              " 862: 'private',\n",
              " 863: 'clothes',\n",
              " 864: 'davis',\n",
              " 865: 'strike',\n",
              " 866: 'pay',\n",
              " 867: 'none',\n",
              " 868: 'idiots',\n",
              " 869: 'keeping',\n",
              " 870: 'worried',\n",
              " 871: 'feeling',\n",
              " 872: 'sound',\n",
              " 873: 'position',\n",
              " 874: 'careful',\n",
              " 875: 'thousand',\n",
              " 876: 'energy',\n",
              " 877: 'message',\n",
              " 878: 'mistake',\n",
              " 879: 'technology',\n",
              " 880: 'cape',\n",
              " 881: 'shooting',\n",
              " 882: 'parents',\n",
              " 883: 'leaving',\n",
              " 884: 'projector',\n",
              " 885: '100',\n",
              " 886: 'zap',\n",
              " 887: 'quick',\n",
              " 888: 'full',\n",
              " 889: 'blood',\n",
              " 890: 'using',\n",
              " 891: 'ease',\n",
              " 892: 'sort',\n",
              " 893: 'hurts',\n",
              " 894: 'kick',\n",
              " 895: 'field',\n",
              " 896: 'taser',\n",
              " 897: 'complete',\n",
              " 898: 'explain',\n",
              " 899: 'apart',\n",
              " 900: 'vault',\n",
              " 901: 'walls',\n",
              " 902: 'thick',\n",
              " 903: 'broken',\n",
              " 904: 'earlier',\n",
              " 905: 'responsible',\n",
              " 906: 'quite',\n",
              " 907: 'won',\n",
              " 908: 'heart',\n",
              " 909: 'guns',\n",
              " 910: 'disgusting',\n",
              " 911: 'guardians',\n",
              " 912: 'academic',\n",
              " 913: 'sister',\n",
              " 914: 'song',\n",
              " 915: 'killing',\n",
              " 916: 'ow',\n",
              " 917: 'jump',\n",
              " 918: 'business',\n",
              " 919: 'soft',\n",
              " 920: 'mantis',\n",
              " 921: 'hasselhoff',\n",
              " 922: 'fox',\n",
              " 923: 'otherwise',\n",
              " 924: 'celestial',\n",
              " 925: 'meaning',\n",
              " 926: 'winter',\n",
              " 927: 'training',\n",
              " 928: 'piece',\n",
              " 929: 'dog',\n",
              " 930: 'brain',\n",
              " 931: 'return',\n",
              " 932: 'innocent',\n",
              " 933: 'fit',\n",
              " 934: 'red',\n",
              " 935: \"haven't\",\n",
              " 936: 'arm',\n",
              " 937: 'forever',\n",
              " 938: 'possible',\n",
              " 939: 'fault',\n",
              " 940: 'alien',\n",
              " 941: 'shh',\n",
              " 942: 'atm',\n",
              " 943: 'letting',\n",
              " 944: 'public',\n",
              " 945: 'dropped',\n",
              " 946: 'tracker',\n",
              " 947: 'altitude',\n",
              " 948: 'money',\n",
              " 949: 'weapon',\n",
              " 950: 'lair',\n",
              " 951: 'focus',\n",
              " 952: 'law',\n",
              " 953: 'wheels',\n",
              " 954: 'systems',\n",
              " 955: 'police',\n",
              " 956: 'facial',\n",
              " 957: 'record',\n",
              " 958: 'fbi',\n",
              " 959: 'criminals',\n",
              " 960: 'continues',\n",
              " 961: 'russian',\n",
              " 962: 'shouting',\n",
              " 963: 'wish',\n",
              " 964: 'anchor',\n",
              " 965: 'consequences',\n",
              " 966: 'straining',\n",
              " 967: 'exhales',\n",
              " 968: 'force',\n",
              " 969: 'kinda',\n",
              " 970: 'la',\n",
              " 971: 'stress',\n",
              " 972: 'midtown',\n",
              " 973: 'existence',\n",
              " 974: 'blipped',\n",
              " 975: 'anymore',\n",
              " 976: 'hopefully',\n",
              " 977: 'feels',\n",
              " 978: 'women',\n",
              " 979: 'countries',\n",
              " 980: 'track',\n",
              " 981: 'living',\n",
              " 982: 'videos',\n",
              " 983: 'amazing',\n",
              " 984: 'nervous',\n",
              " 985: 'grew',\n",
              " 986: 'pepper',\n",
              " 987: 'shake',\n",
              " 988: \"fury's\",\n",
              " 989: 'superhero',\n",
              " 990: 'send',\n",
              " 991: 'aliens',\n",
              " 992: 'girls',\n",
              " 993: 'hour',\n",
              " 994: 'perfume',\n",
              " 995: 'switch',\n",
              " 996: 'seats',\n",
              " 997: 'experience',\n",
              " 998: 'breaking',\n",
              " 999: 'safety',\n",
              " 1000: 'responsibility',\n",
              " ...}"
            ]
          },
          "metadata": {},
          "execution_count": 18
        }
      ]
    },
    {
      "cell_type": "code",
      "metadata": {
        "id": "gJgVhq1zwEpf",
        "colab": {
          "base_uri": "https://localhost:8080/"
        },
        "outputId": "14f414fa-3b5c-4cd0-cb37-02d80f17a0aa"
      },
      "source": [
        "# Cantidad de palabras en el vocabulario\n",
        "vocab_size = len(tok.word_counts)\n",
        "vocab_size"
      ],
      "execution_count": null,
      "outputs": [
        {
          "output_type": "execute_result",
          "data": {
            "text/plain": [
              "4595"
            ]
          },
          "metadata": {},
          "execution_count": 19
        }
      ]
    },
    {
      "cell_type": "code",
      "metadata": {
        "id": "wKV85M2uwKJ9",
        "colab": {
          "base_uri": "https://localhost:8080/",
          "height": 317
        },
        "outputId": "5581b93a-8c3b-4230-b7ce-3efcab93b9e2"
      },
      "source": [
        "# Transformar los datos a oneHotEncoding\n",
        "y_data = to_categorical(y_data_int, num_classes=vocab_size)"
      ],
      "execution_count": null,
      "outputs": [
        {
          "output_type": "error",
          "ename": "IndexError",
          "evalue": "ignored",
          "traceback": [
            "\u001b[0;31m---------------------------------------------------------------------------\u001b[0m",
            "\u001b[0;31mIndexError\u001b[0m                                Traceback (most recent call last)",
            "\u001b[0;32m<ipython-input-20-51c0d3e0c52c>\u001b[0m in \u001b[0;36m<module>\u001b[0;34m()\u001b[0m\n\u001b[1;32m      1\u001b[0m \u001b[0;31m# Transformar los datos a oneHotEncoding\u001b[0m\u001b[0;34m\u001b[0m\u001b[0;34m\u001b[0m\u001b[0;34m\u001b[0m\u001b[0m\n\u001b[0;32m----> 2\u001b[0;31m \u001b[0my_data\u001b[0m \u001b[0;34m=\u001b[0m \u001b[0mto_categorical\u001b[0m\u001b[0;34m(\u001b[0m\u001b[0my_data_int\u001b[0m\u001b[0;34m,\u001b[0m \u001b[0mnum_classes\u001b[0m\u001b[0;34m=\u001b[0m\u001b[0mvocab_size\u001b[0m\u001b[0;34m)\u001b[0m\u001b[0;34m\u001b[0m\u001b[0;34m\u001b[0m\u001b[0m\n\u001b[0m",
            "\u001b[0;32m/usr/local/lib/python3.7/dist-packages/keras/utils/np_utils.py\u001b[0m in \u001b[0;36mto_categorical\u001b[0;34m(y, num_classes, dtype)\u001b[0m\n\u001b[1;32m     73\u001b[0m   \u001b[0mn\u001b[0m \u001b[0;34m=\u001b[0m \u001b[0my\u001b[0m\u001b[0;34m.\u001b[0m\u001b[0mshape\u001b[0m\u001b[0;34m[\u001b[0m\u001b[0;36m0\u001b[0m\u001b[0;34m]\u001b[0m\u001b[0;34m\u001b[0m\u001b[0;34m\u001b[0m\u001b[0m\n\u001b[1;32m     74\u001b[0m   \u001b[0mcategorical\u001b[0m \u001b[0;34m=\u001b[0m \u001b[0mnp\u001b[0m\u001b[0;34m.\u001b[0m\u001b[0mzeros\u001b[0m\u001b[0;34m(\u001b[0m\u001b[0;34m(\u001b[0m\u001b[0mn\u001b[0m\u001b[0;34m,\u001b[0m \u001b[0mnum_classes\u001b[0m\u001b[0;34m)\u001b[0m\u001b[0;34m,\u001b[0m \u001b[0mdtype\u001b[0m\u001b[0;34m=\u001b[0m\u001b[0mdtype\u001b[0m\u001b[0;34m)\u001b[0m\u001b[0;34m\u001b[0m\u001b[0;34m\u001b[0m\u001b[0m\n\u001b[0;32m---> 75\u001b[0;31m   \u001b[0mcategorical\u001b[0m\u001b[0;34m[\u001b[0m\u001b[0mnp\u001b[0m\u001b[0;34m.\u001b[0m\u001b[0marange\u001b[0m\u001b[0;34m(\u001b[0m\u001b[0mn\u001b[0m\u001b[0;34m)\u001b[0m\u001b[0;34m,\u001b[0m \u001b[0my\u001b[0m\u001b[0;34m]\u001b[0m \u001b[0;34m=\u001b[0m \u001b[0;36m1\u001b[0m\u001b[0;34m\u001b[0m\u001b[0;34m\u001b[0m\u001b[0m\n\u001b[0m\u001b[1;32m     76\u001b[0m   \u001b[0moutput_shape\u001b[0m \u001b[0;34m=\u001b[0m \u001b[0minput_shape\u001b[0m \u001b[0;34m+\u001b[0m \u001b[0;34m(\u001b[0m\u001b[0mnum_classes\u001b[0m\u001b[0;34m,\u001b[0m\u001b[0;34m)\u001b[0m\u001b[0;34m\u001b[0m\u001b[0;34m\u001b[0m\u001b[0m\n\u001b[1;32m     77\u001b[0m   \u001b[0mcategorical\u001b[0m \u001b[0;34m=\u001b[0m \u001b[0mnp\u001b[0m\u001b[0;34m.\u001b[0m\u001b[0mreshape\u001b[0m\u001b[0;34m(\u001b[0m\u001b[0mcategorical\u001b[0m\u001b[0;34m,\u001b[0m \u001b[0moutput_shape\u001b[0m\u001b[0;34m)\u001b[0m\u001b[0;34m\u001b[0m\u001b[0;34m\u001b[0m\u001b[0m\n",
            "\u001b[0;31mIndexError\u001b[0m: index 4595 is out of bounds for axis 1 with size 4595"
          ]
        }
      ]
    },
    {
      "cell_type": "code",
      "metadata": {
        "id": "qWjNrNx9wM1b",
        "colab": {
          "base_uri": "https://localhost:8080/"
        },
        "outputId": "598c8611-39c4-4094-c838-812d7edd5bea"
      },
      "source": [
        "# En el caso anterior explota porque y_data_int comienza en \"1\" en vez de \"0\"\n",
        "# valor minimo:\n",
        "min(y_data_int)"
      ],
      "execution_count": null,
      "outputs": [
        {
          "output_type": "execute_result",
          "data": {
            "text/plain": [
              "1"
            ]
          },
          "metadata": {},
          "execution_count": 21
        }
      ]
    },
    {
      "cell_type": "code",
      "metadata": {
        "id": "gIg2e2WCwXbG",
        "colab": {
          "base_uri": "https://localhost:8080/"
        },
        "outputId": "03a0904c-5c6e-44b3-a8c6-d382345fd05f"
      },
      "source": [
        "y_data_int_offset = y_data_int - 1\n",
        "y_data = to_categorical(y_data_int_offset, num_classes=vocab_size) \n",
        "y_data.shape"
      ],
      "execution_count": null,
      "outputs": [
        {
          "output_type": "execute_result",
          "data": {
            "text/plain": [
              "(43331, 4595)"
            ]
          },
          "metadata": {},
          "execution_count": 22
        }
      ]
    },
    {
      "cell_type": "markdown",
      "metadata": {
        "id": "GmJWNyxQwfCE"
      },
      "source": [
        "### 4 - Entrenar el modelo"
      ]
    },
    {
      "cell_type": "code",
      "metadata": {
        "id": "0cOmNZT_weK2",
        "colab": {
          "base_uri": "https://localhost:8080/"
        },
        "outputId": "110f97f0-9873-4701-ad16-b84a24238405"
      },
      "source": [
        "# largo de la secuencia de entrada\n",
        "input_seq_len = x_data.shape[1] \n",
        "input_seq_len"
      ],
      "execution_count": null,
      "outputs": [
        {
          "output_type": "execute_result",
          "data": {
            "text/plain": [
              "3"
            ]
          },
          "metadata": {},
          "execution_count": 23
        }
      ]
    },
    {
      "cell_type": "code",
      "metadata": {
        "id": "qtwITjgnwlgp",
        "colab": {
          "base_uri": "https://localhost:8080/"
        },
        "outputId": "7cbe9d5b-10f8-44d3-bbda-81ff1af500a5"
      },
      "source": [
        "# Largo del vector de salida --> vocab_size\n",
        "output_size = vocab_size\n",
        "output_size"
      ],
      "execution_count": null,
      "outputs": [
        {
          "output_type": "execute_result",
          "data": {
            "text/plain": [
              "4595"
            ]
          },
          "metadata": {},
          "execution_count": 24
        }
      ]
    },
    {
      "cell_type": "code",
      "metadata": {
        "id": "jzTZRXrrwrvi",
        "colab": {
          "base_uri": "https://localhost:8080/"
        },
        "outputId": "617d2296-b366-465a-d81b-ee5ff5bca824"
      },
      "source": [
        "model = Sequential()\n",
        "\n",
        "# Embedding:\n",
        "# input_seq_len = 3 --> ingreso 3 palabras\n",
        "# input_dim = vocab_size --> 1628 palabras distintas\n",
        "# output_dim = 5 --> crear embeddings de tamaño 3 (tamaño variable y ajustable)\n",
        "model.add(Embedding(input_dim=vocab_size+1, output_dim=10, input_length=input_seq_len))\n",
        "\n",
        "model.add(CuDNNLSTM(64, return_sequences=True))\n",
        "model.add(Dropout(0.2))\n",
        "# model.add(CuDNNLSTM(64, return_sequences=True))\n",
        "# model.add(Dropout(0.2))\n",
        "model.add(CuDNNLSTM(64)) # La última capa LSTM no lleva return_sequences\n",
        "model.add(Dense(32, activation='leaky_relu'))\n",
        "\n",
        "# Predicción de clasificación con softmax\n",
        "# La salida vuelve al espacio de 1628 palabras posibles\n",
        "model.add(Dense(vocab_size, activation='softmax'))\n",
        "\n",
        "# Clasificación multiple categórica --> loss = categorical_crossentropy\n",
        "opt = keras.optimizers.Adam(learning_rate=0.01)\n",
        "model.compile(loss='categorical_crossentropy', optimizer=opt, metrics=['accuracy'])\n",
        "\n",
        "model.summary()"
      ],
      "execution_count": null,
      "outputs": [
        {
          "output_type": "stream",
          "name": "stdout",
          "text": [
            "Model: \"sequential\"\n",
            "_________________________________________________________________\n",
            "Layer (type)                 Output Shape              Param #   \n",
            "=================================================================\n",
            "embedding (Embedding)        (None, 3, 10)             45960     \n",
            "_________________________________________________________________\n",
            "cu_dnnlstm (CuDNNLSTM)       (None, 3, 64)             19456     \n",
            "_________________________________________________________________\n",
            "dropout (Dropout)            (None, 3, 64)             0         \n",
            "_________________________________________________________________\n",
            "cu_dnnlstm_1 (CuDNNLSTM)     (None, 64)                33280     \n",
            "_________________________________________________________________\n",
            "dense (Dense)                (None, 32)                2080      \n",
            "_________________________________________________________________\n",
            "dense_1 (Dense)              (None, 4595)              151635    \n",
            "=================================================================\n",
            "Total params: 252,411\n",
            "Trainable params: 252,411\n",
            "Non-trainable params: 0\n",
            "_________________________________________________________________\n"
          ]
        }
      ]
    },
    {
      "cell_type": "code",
      "metadata": {
        "id": "oQq1PHDkxDvN",
        "colab": {
          "base_uri": "https://localhost:8080/"
        },
        "outputId": "1e1a4ca8-bd2a-4e71-b533-a7c0fcb66817"
      },
      "source": [
        "hist = model.fit(x_data, y_data, epochs=50, validation_split=0.2)"
      ],
      "execution_count": null,
      "outputs": [
        {
          "output_type": "stream",
          "name": "stdout",
          "text": [
            "Epoch 1/50\n",
            "1890/1890 [==============================] - 32s 16ms/step - loss: 6.4761 - accuracy: 0.0439 - val_loss: 6.6214 - val_accuracy: 0.0529\n",
            "Epoch 2/50\n",
            "1890/1890 [==============================] - 25s 13ms/step - loss: 5.9249 - accuracy: 0.0720 - val_loss: 6.5444 - val_accuracy: 0.0781\n",
            "Epoch 3/50\n",
            "1890/1890 [==============================] - 24s 13ms/step - loss: 5.6805 - accuracy: 0.0889 - val_loss: 6.6000 - val_accuracy: 0.0840\n",
            "Epoch 4/50\n",
            "1890/1890 [==============================] - 25s 13ms/step - loss: 5.5198 - accuracy: 0.0981 - val_loss: 6.6180 - val_accuracy: 0.0934\n",
            "Epoch 5/50\n",
            "1890/1890 [==============================] - 24s 13ms/step - loss: 5.3959 - accuracy: 0.1054 - val_loss: 6.6924 - val_accuracy: 0.0982\n",
            "Epoch 6/50\n",
            "1890/1890 [==============================] - 24s 13ms/step - loss: 5.2881 - accuracy: 0.1113 - val_loss: 6.7423 - val_accuracy: 0.0994\n",
            "Epoch 7/50\n",
            "1890/1890 [==============================] - 23s 12ms/step - loss: 5.2049 - accuracy: 0.1145 - val_loss: 6.8185 - val_accuracy: 0.0981\n",
            "Epoch 8/50\n",
            "1890/1890 [==============================] - 24s 13ms/step - loss: 5.1251 - accuracy: 0.1183 - val_loss: 6.8908 - val_accuracy: 0.0987\n",
            "Epoch 9/50\n",
            "1890/1890 [==============================] - 24s 13ms/step - loss: 5.0631 - accuracy: 0.1205 - val_loss: 6.9320 - val_accuracy: 0.1004\n",
            "Epoch 10/50\n",
            "1890/1890 [==============================] - 25s 13ms/step - loss: 5.0052 - accuracy: 0.1238 - val_loss: 7.0013 - val_accuracy: 0.1013\n",
            "Epoch 11/50\n",
            "1890/1890 [==============================] - 24s 13ms/step - loss: 4.9540 - accuracy: 0.1256 - val_loss: 6.9976 - val_accuracy: 0.1056\n",
            "Epoch 12/50\n",
            "1890/1890 [==============================] - 24s 13ms/step - loss: 4.9142 - accuracy: 0.1269 - val_loss: 7.0661 - val_accuracy: 0.1007\n",
            "Epoch 13/50\n",
            "1890/1890 [==============================] - 23s 12ms/step - loss: 4.8759 - accuracy: 0.1281 - val_loss: 7.1183 - val_accuracy: 0.1010\n",
            "Epoch 14/50\n",
            "1890/1890 [==============================] - 23s 12ms/step - loss: 4.8426 - accuracy: 0.1307 - val_loss: 7.0964 - val_accuracy: 0.1041\n",
            "Epoch 15/50\n",
            "1890/1890 [==============================] - 24s 13ms/step - loss: 4.8141 - accuracy: 0.1320 - val_loss: 7.1699 - val_accuracy: 0.0996\n",
            "Epoch 16/50\n",
            "1890/1890 [==============================] - 24s 13ms/step - loss: 4.7795 - accuracy: 0.1322 - val_loss: 7.1641 - val_accuracy: 0.1026\n",
            "Epoch 17/50\n",
            "1890/1890 [==============================] - 23s 12ms/step - loss: 4.7532 - accuracy: 0.1345 - val_loss: 7.2152 - val_accuracy: 0.0994\n",
            "Epoch 18/50\n",
            "1890/1890 [==============================] - 24s 13ms/step - loss: 4.7309 - accuracy: 0.1344 - val_loss: 7.2028 - val_accuracy: 0.0943\n",
            "Epoch 19/50\n",
            "1890/1890 [==============================] - 24s 13ms/step - loss: 4.7062 - accuracy: 0.1359 - val_loss: 7.2465 - val_accuracy: 0.1002\n",
            "Epoch 20/50\n",
            "1890/1890 [==============================] - 25s 13ms/step - loss: 4.6894 - accuracy: 0.1364 - val_loss: 7.3063 - val_accuracy: 0.1014\n",
            "Epoch 21/50\n",
            "1890/1890 [==============================] - 24s 13ms/step - loss: 4.6689 - accuracy: 0.1371 - val_loss: 7.2621 - val_accuracy: 0.1021\n",
            "Epoch 22/50\n",
            "1890/1890 [==============================] - 24s 12ms/step - loss: 4.6588 - accuracy: 0.1388 - val_loss: 7.2951 - val_accuracy: 0.1009\n",
            "Epoch 23/50\n",
            "1890/1890 [==============================] - 23s 12ms/step - loss: 4.6398 - accuracy: 0.1409 - val_loss: 7.3210 - val_accuracy: 0.1016\n",
            "Epoch 24/50\n",
            "1890/1890 [==============================] - 24s 13ms/step - loss: 4.6248 - accuracy: 0.1411 - val_loss: 7.3888 - val_accuracy: 0.1019\n",
            "Epoch 25/50\n",
            "1890/1890 [==============================] - 24s 12ms/step - loss: 4.6128 - accuracy: 0.1413 - val_loss: 7.4488 - val_accuracy: 0.1004\n",
            "Epoch 26/50\n",
            "1890/1890 [==============================] - 24s 13ms/step - loss: 4.6008 - accuracy: 0.1410 - val_loss: 7.3731 - val_accuracy: 0.1044\n",
            "Epoch 27/50\n",
            "1890/1890 [==============================] - 26s 14ms/step - loss: 4.5900 - accuracy: 0.1417 - val_loss: 7.3867 - val_accuracy: 0.0967\n",
            "Epoch 28/50\n",
            "1890/1890 [==============================] - 26s 14ms/step - loss: 4.5823 - accuracy: 0.1413 - val_loss: 7.4708 - val_accuracy: 0.0967\n",
            "Epoch 29/50\n",
            " 516/1890 [=======>......................] - ETA: 16s - loss: 4.4455 - accuracy: 0.1491"
          ]
        }
      ]
    },
    {
      "cell_type": "code",
      "metadata": {
        "id": "q_orBXOrCsNn",
        "colab": {
          "base_uri": "https://localhost:8080/",
          "height": 265
        },
        "outputId": "4f93f674-a82d-4949-b321-e8196ef7ad96"
      },
      "source": [
        "import matplotlib.pyplot as plt\n",
        "import seaborn as sns\n",
        "\n",
        "# Entrenamiento\n",
        "epoch_count = range(1, len(hist.history['accuracy']) + 1)\n",
        "sns.lineplot(x=epoch_count,  y=hist.history['accuracy'], label='train')\n",
        "sns.lineplot(x=epoch_count,  y=hist.history['val_accuracy'], label='valid')\n",
        "plt.show()"
      ],
      "execution_count": null,
      "outputs": [
        {
          "output_type": "display_data",
          "data": {
            "image/png": "[encoded data removed]",
            "text/plain": [
              "<Figure size 432x288 with 1 Axes>"
            ]
          },
          "metadata": {
            "needs_background": "light"
          }
        }
      ]
    },
    {
      "cell_type": "markdown",
      "metadata": {
        "id": "KN6Fg_BsxJe6"
      },
      "source": [
        "### 5 - Predicción de próxima palabra"
      ]
    },
    {
      "cell_type": "code",
      "metadata": {
        "id": "iy_AXWQWzeeE"
      },
      "source": [
        "# Keras pad_sequences\n",
        "# https://www.tensorflow.org/api_docs/python/tf/keras/preprocessing/sequence/pad_sequences\n",
        "# Si la secuencia de entrada supera al input_seq_len (3) se trunca\n",
        "# Si la secuencia es más corta se agregna ceros al comienzo"
      ],
      "execution_count": null,
      "outputs": []
    },
    {
      "cell_type": "code",
      "metadata": {
        "id": "IBvKHFPmzpy2"
      },
      "source": [
        "# Se utilizará gradio para ensayar el modelo\n",
        "# Herramienta poderosa para crear interfaces rápidas para ensayar modelos\n",
        "# https://gradio.app/\n",
        "import sys\n",
        "!{sys.executable} -m pip install gradio --quiet"
      ],
      "execution_count": null,
      "outputs": []
    },
    {
      "cell_type": "code",
      "metadata": {
        "id": "HNyBykvhzs7-",
        "colab": {
          "base_uri": "https://localhost:8080/",
          "height": 931
        },
        "outputId": "433e3ae5-5d72-413c-efea-77e5c0da3277"
      },
      "source": [
        "import gradio as gr\n",
        "\n",
        "def model_response(human_text):\n",
        "\n",
        "    # Encodeamos\n",
        "    encoded = tok.texts_to_sequences([human_text])[0]\n",
        "    # Si tienen distinto largo\n",
        "    encoded = pad_sequences([encoded], maxlen=3, padding='pre')\n",
        "    \n",
        "    # Predicción softmax\n",
        "    y_hat = model.predict(encoded).argmax(axis=-1)\n",
        "\n",
        "    # Debemos buscar en el vocabulario la palabra\n",
        "    # que corresopnde al indice (y_hat) predicho por le modelo\n",
        "    out_word = ''\n",
        "    for word, index in tok.word_index.items():\n",
        "        if index == y_hat:\n",
        "            out_word = word\n",
        "            break\n",
        "\n",
        "    # Agrego la palabra a la frase predicha\n",
        "    return human_text + ' ' + out_word\n",
        "\n",
        "iface = gr.Interface(\n",
        "    fn=model_response,\n",
        "    inputs=[\"textbox\"],\n",
        "    outputs=\"text\",\n",
        "    layout=\"vertical\")\n",
        "\n",
        "iface.launch(debug=True)"
      ],
      "execution_count": null,
      "outputs": [
        {
          "output_type": "stream",
          "name": "stdout",
          "text": [
            "Colab notebook detected. This cell will run indefinitely so that you can see errors and logs. To turn off, set debug=False in launch().\n",
            "This share link will expire in 72 hours. If you need a permanent link, visit: https://gradio.app/introducing-hosted\n",
            "Running on External URL: https://56955.gradio.app\n",
            "Interface loading below...\n"
          ]
        },
        {
          "output_type": "display_data",
          "data": {
            "text/html": [
              "\n",
              "        <iframe\n",
              "            width=\"900\"\n",
              "            height=\"500\"\n",
              "            src=\"https://56955.gradio.app\"\n",
              "            frameborder=\"0\"\n",
              "            allowfullscreen\n",
              "        ></iframe>\n",
              "        "
            ],
            "text/plain": [
              "<IPython.lib.display.IFrame at 0x7f66e6a6ac90>"
            ]
          },
          "metadata": {}
        },
        {
          "output_type": "error",
          "ename": "KeyboardInterrupt",
          "evalue": "ignored",
          "traceback": [
            "\u001b[0;31m---------------------------------------------------------------------------\u001b[0m",
            "\u001b[0;31mKeyboardInterrupt\u001b[0m                         Traceback (most recent call last)",
            "\u001b[0;32m<ipython-input-28-2a8fe09160a6>\u001b[0m in \u001b[0;36m<module>\u001b[0;34m()\u001b[0m\n\u001b[1;32m     28\u001b[0m     layout=\"vertical\")\n\u001b[1;32m     29\u001b[0m \u001b[0;34m\u001b[0m\u001b[0m\n\u001b[0;32m---> 30\u001b[0;31m \u001b[0miface\u001b[0m\u001b[0;34m.\u001b[0m\u001b[0mlaunch\u001b[0m\u001b[0;34m(\u001b[0m\u001b[0mdebug\u001b[0m\u001b[0;34m=\u001b[0m\u001b[0;32mTrue\u001b[0m\u001b[0;34m)\u001b[0m\u001b[0;34m\u001b[0m\u001b[0;34m\u001b[0m\u001b[0m\n\u001b[0m",
            "\u001b[0;32m/usr/local/lib/python3.7/dist-packages/gradio/interface.py\u001b[0m in \u001b[0;36mlaunch\u001b[0;34m(self, inline, inbrowser, share, debug, auth, auth_message, private_endpoint, prevent_thread_lock)\u001b[0m\n\u001b[1;32m    588\u001b[0m             \u001b[0;32mwhile\u001b[0m \u001b[0;32mTrue\u001b[0m\u001b[0;34m:\u001b[0m\u001b[0;34m\u001b[0m\u001b[0;34m\u001b[0m\u001b[0m\n\u001b[1;32m    589\u001b[0m                 \u001b[0msys\u001b[0m\u001b[0;34m.\u001b[0m\u001b[0mstdout\u001b[0m\u001b[0;34m.\u001b[0m\u001b[0mflush\u001b[0m\u001b[0;34m(\u001b[0m\u001b[0;34m)\u001b[0m\u001b[0;34m\u001b[0m\u001b[0;34m\u001b[0m\u001b[0m\n\u001b[0;32m--> 590\u001b[0;31m                 \u001b[0mtime\u001b[0m\u001b[0;34m.\u001b[0m\u001b[0msleep\u001b[0m\u001b[0;34m(\u001b[0m\u001b[0;36m0.1\u001b[0m\u001b[0;34m)\u001b[0m\u001b[0;34m\u001b[0m\u001b[0;34m\u001b[0m\u001b[0m\n\u001b[0m\u001b[1;32m    591\u001b[0m         \u001b[0mis_in_interactive_mode\u001b[0m \u001b[0;34m=\u001b[0m \u001b[0mbool\u001b[0m\u001b[0;34m(\u001b[0m\u001b[0mgetattr\u001b[0m\u001b[0;34m(\u001b[0m\u001b[0msys\u001b[0m\u001b[0;34m,\u001b[0m \u001b[0;34m'ps1'\u001b[0m\u001b[0;34m,\u001b[0m \u001b[0msys\u001b[0m\u001b[0;34m.\u001b[0m\u001b[0mflags\u001b[0m\u001b[0;34m.\u001b[0m\u001b[0minteractive\u001b[0m\u001b[0;34m)\u001b[0m\u001b[0;34m)\u001b[0m\u001b[0;34m\u001b[0m\u001b[0;34m\u001b[0m\u001b[0m\n\u001b[1;32m    592\u001b[0m         \u001b[0;32mif\u001b[0m \u001b[0;32mnot\u001b[0m \u001b[0mprevent_thread_lock\u001b[0m \u001b[0;32mand\u001b[0m \u001b[0;32mnot\u001b[0m \u001b[0mis_in_interactive_mode\u001b[0m\u001b[0;34m:\u001b[0m\u001b[0;34m\u001b[0m\u001b[0;34m\u001b[0m\u001b[0m\n",
            "\u001b[0;31mKeyboardInterrupt\u001b[0m: "
          ]
        }
      ]
    },
    {
      "cell_type": "markdown",
      "metadata": {
        "id": "mCeMWWupxN1-"
      },
      "source": [
        "### 6 - Generación de secuencias nuevas"
      ]
    },
    {
      "cell_type": "code",
      "metadata": {
        "id": "bwbS_pfhxvB3"
      },
      "source": [
        "def generate_seq(model, tokenizer, seed_text, max_length, n_words):\n",
        "    \"\"\"\n",
        "        Exec model sequence prediction\n",
        "\n",
        "        Args:\n",
        "            model (keras): modelo entrenado\n",
        "            tokenizer (keras tokenizer): tonenizer utilizado en el preprocesamiento\n",
        "            seed_text (string): texto de entrada (input_seq)\n",
        "            max_length (int): máxima longitud de la sequencia de entrada\n",
        "            n_words (int): números de palabras a agregar a la sequencia de entrada\n",
        "        returns:\n",
        "            output_text (string): sentencia con las \"n_words\" agregadas\n",
        "    \"\"\"\n",
        "    output_text = seed_text\n",
        "\t# generate a fixed number of words\n",
        "    for _ in range(n_words):\n",
        "\t\t# Encodeamos\n",
        "        encoded = tokenizer.texts_to_sequences([output_text])[0]\n",
        "\t\t# Si tienen distinto largo\n",
        "        encoded = pad_sequences([encoded], maxlen=max_length, padding='pre')\n",
        "\t\t\n",
        "\t\t# Predicción softmax\n",
        "        y_hat = model.predict(encoded).argmax(axis=-1)\n",
        "\t\t# Vamos concatenando las predicciones\n",
        "        out_word = ''\n",
        "\n",
        "        # Debemos buscar en el vocabulario la palabra\n",
        "        # que corresopnde al indice (y_hat) predicho por le modelo\n",
        "        for word, index in tokenizer.word_index.items():\n",
        "            if index == y_hat:\n",
        "                out_word = word\n",
        "                break\n",
        "\n",
        "\t\t# Agrego las palabras a la frase predicha\n",
        "        output_text += ' ' + out_word\n",
        "    return output_text"
      ],
      "execution_count": null,
      "outputs": []
    },
    {
      "cell_type": "code",
      "metadata": {
        "id": "JoFqRC5pxzqS",
        "colab": {
          "base_uri": "https://localhost:8080/",
          "height": 35
        },
        "outputId": "11e36e38-2250-4970-f19d-1ea0cef8f828"
      },
      "source": [
        "input_text='hey'\n",
        "\n",
        "generate_seq(model, tok, input_text, max_length=3, n_words=5)"
      ],
      "execution_count": null,
      "outputs": [
        {
          "output_type": "execute_result",
          "data": {
            "application/vnd.google.colaboratory.intrinsic+json": {
              "type": "string"
            },
            "text/plain": [
              "'hey but you have to be'"
            ]
          },
          "metadata": {},
          "execution_count": 89
        }
      ]
    },
    {
      "cell_type": "code",
      "metadata": {
        "id": "BMcAN0vTMiA5",
        "colab": {
          "base_uri": "https://localhost:8080/",
          "height": 35
        },
        "outputId": "e1acc822-04ee-4b5a-99e8-9f12da0a78af"
      },
      "source": [
        "input_text=\"we didn't\"\n",
        "\n",
        "generate_seq(model, tok, input_text, max_length=3, n_words=1)"
      ],
      "execution_count": null,
      "outputs": [
        {
          "output_type": "execute_result",
          "data": {
            "application/vnd.google.colaboratory.intrinsic+json": {
              "type": "string"
            },
            "text/plain": [
              "\"we didn't because\""
            ]
          },
          "metadata": {},
          "execution_count": 88
        }
      ]
    },
    {
      "cell_type": "markdown",
      "metadata": {
        "id": "T2SHmXbgxQH9"
      },
      "source": [
        "### 7 - Conclusiones\n",
        "El modelo entrenado tuvo un muy mail desempeño en el entrenamiento además de overfitting. Cuestiones que podrían mejorarse:\n",
        "- Agregar más capas o neuronaes\n",
        "- Incrementar la cantidad de épocas\n",
        "- Agregar BRNN\n",
        "\n",
        "Es importante destacar que en este ejemplo estamos entrenando nuestro propios Embeddings, y para ello se requiere mucha data. En los ejemplos que realizaremos de aquí en más utilizaremos más datos, embeddings pre-enternados o modelos pre-entrenados."
      ]
    }
  ]
}